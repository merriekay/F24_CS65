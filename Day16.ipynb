{
 "cells": [
  {
   "cell_type": "markdown",
   "id": "169f970d-160e-4e60-8d48-6e5b74f54a55",
   "metadata": {
    "editable": true,
    "slideshow": {
     "slide_type": "skip"
    },
    "tags": []
   },
   "source": [
    "<a href=\"https://github.com/merriekay/F24_CS65/blob/main/Day16.ipynb\" target=\"_parent\"><img src=\"https://colab.research.google.com/assets/colab-badge.svg\" alt=\"Open In Colab\"/></a>"
   ]
  },
  {
   "cell_type": "markdown",
   "id": "34812af8-5b51-4205-ac0e-d8cd5c178cc6",
   "metadata": {
    "editable": true,
    "slideshow": {
     "slide_type": ""
    },
    "tags": []
   },
   "source": [
    "# CS65: Day 16\n",
    "\n",
    "## Nested Lists and Nested Loops\n",
    "### CS65: Introduction to Computer Science I | Fall 2024\n",
    "\n",
    "*Monday, October 28th, 2024*\n",
    "\n",
    "### Helpful Resources:\n",
    "[📜 Syllabus](https://docs.google.com/document/d/1nqjmD0yhOOh2gaPwxfjV4EY_dBUIQUur1fvqQ4YPJLA/edit?usp=sharing) | [📬 CodePost Login](https://codepost.io/login) | [📆 Schedule](https://docs.google.com/spreadsheets/d/1Q5-ArPnXwjejKjXSI8WKgF7A2HRAam6Ny3eNA7EHn18/edit?usp=sharing) | [🙋‍♂️ PollEverywhere](https://pollev.com/moore) | [🪴 Office Hour Sign-Up](https://calendly.com/meredith-moore/office-hours)\n",
    "\n",
    "> **Note to self:** Make sure you're recording, silly goose!"
   ]
  },
  {
   "cell_type": "markdown",
   "id": "bf9f4502-4f41-4644-9549-66e70f0982d7",
   "metadata": {
    "editable": true,
    "slideshow": {
     "slide_type": "slide"
    },
    "tags": []
   },
   "source": [
    "# Announcements"
   ]
  },
  {
   "cell_type": "markdown",
   "id": "71ec5698-bd28-4498-bda1-b2495f86c69d",
   "metadata": {
    "editable": true,
    "slideshow": {
     "slide_type": "fragment"
    },
    "tags": []
   },
   "source": [
    "### Registration: \n",
    "\n",
    "Enjoying this class? Consider adding:\n",
    "- [Computer Science major/minor](https://catalog.drake.edu/undergraduate/collegeofartsandsciences/areas/cs/)\n",
    "- [Artificial Intelligence major/minor](https://www.drake.edu/artificial-intelligence/)\n",
    "- [Data Analytics major/minor](https://www.drake.edu/analytics/majorandminor/)\n",
    "- __Bonus__: here's my [CS Advising Checklist](https://docs.google.com/spreadsheets/d/1hJwifa2sSStyz6gKWryZDlGrIkfJQXqcD0bZNQeAobg/edit?usp=sharing)"
   ]
  },
  {
   "cell_type": "markdown",
   "id": "8fed50c8-cc0c-44b4-be3a-275b29bd8e9c",
   "metadata": {
    "editable": true,
    "slideshow": {
     "slide_type": "fragment"
    },
    "tags": []
   },
   "source": [
    "These classes are up next:\n",
    "- __CS66__: Intro to Computer Science II\n",
    "    - Monday / Wednesday 9:30 - 10:45, or 11:00 - 12:15\n",
    "- __CS120__: Human-Computer Interaction\n",
    "    - Monday / Wednesday 2:00 - 3:15"
   ]
  },
  {
   "cell_type": "markdown",
   "id": "150c41ef-8f6f-48c1-a1fa-10bcf1feee07",
   "metadata": {
    "editable": true,
    "slideshow": {
     "slide_type": "fragment"
    },
    "tags": []
   },
   "source": [
    "### Assignments:\n",
    "- no new assignments today, but we'll release a lab on Wednesday."
   ]
  },
  {
   "cell_type": "markdown",
   "id": "5350bdc2-b033-4680-8917-62b00ef5132b",
   "metadata": {
    "editable": true,
    "jp-MarkdownHeadingCollapsed": true,
    "slideshow": {
     "slide_type": "slide"
    },
    "tags": []
   },
   "source": [
    "# Midterm Evaluations:\n",
    "\n",
    "I value your feedback and often make changes to the course based on the results of this survey, so please take a few minutes to fill this out:\n",
    "[https://forms.gle/bQ5EGncr1HG8xM1k8](https://forms.gle/bQ5EGncr1HG8xM1k8)"
   ]
  },
  {
   "cell_type": "markdown",
   "id": "c46be772-becf-4fdf-86ac-de3cfcc2302c",
   "metadata": {
    "editable": true,
    "id": "jTRrZEvXsoYX",
    "slideshow": {
     "slide_type": "slide"
    },
    "tags": []
   },
   "source": [
    "# ⏪ Quick Review:"
   ]
  },
  {
   "cell_type": "markdown",
   "id": "5e57951d-348c-4161-89b7-bd485603d235",
   "metadata": {
    "editable": true,
    "id": "Ml71lDoQsoYZ",
    "slideshow": {
     "slide_type": "slide"
    },
    "tags": []
   },
   "source": [
    "# 🥤Containers\n",
    "\n",
    "Some types in Python are used for storing a collection of values. These types are called __containers__.\n",
    "\n",
    "__List:__ a container type that stores values in a ordered _sequence_"
   ]
  },
  {
   "cell_type": "markdown",
   "id": "b3d7b850-3769-4efb-97fb-c09a349fb5de",
   "metadata": {
    "editable": true,
    "id": "gkflCWoSsoYZ",
    "slideshow": {
     "slide_type": ""
    },
    "tags": []
   },
   "source": [
    "values in a list are called __items__ or __elements__, e.g., `\"Capaldi\"`, `0.3`\n",
    "\n",
    "__Syntax__: start with `[`, end with `]`, separate with `,`\n",
    "\n",
    "Lists can store different types of data in the same list. See `dates` below."
   ]
  },
  {
   "cell_type": "code",
   "execution_count": null,
   "id": "97e82e9f-9983-4a5b-a173-232952c58e85",
   "metadata": {
    "editable": true,
    "id": "lMLkSGFIsoYZ",
    "slideshow": {
     "slide_type": "fragment"
    },
    "tags": []
   },
   "outputs": [],
   "source": [
    "doctor_who_actors = [\"Tennant\", \"Smith\",\"Capaldi\",\"Whittaker\", \"Gatwa\"]\n",
    "rainfall_amounts = [0.0, 0.3, 0.71, 0.0, 0.32, 1.1, 0.4]\n",
    "dates = [\"March 14, 2020\", 2021, \"4/1\"]\n",
    "empty_list = []"
   ]
  },
  {
   "cell_type": "markdown",
   "id": "f14ca8cb-dde0-430d-abfd-09efc493f656",
   "metadata": {
    "editable": true,
    "id": "bb_f47NosoYZ",
    "slideshow": {
     "slide_type": "slide"
    },
    "tags": []
   },
   "source": [
    "## Accessing items in a list\n",
    "\n",
    "You can access individual items in a list using their __index__, which is their position in the list:\n",
    "- indices _start at 0_\n",
    "- Use `[ ]` at the end of the list to access the index\n",
    "- Between the brackets, you can put a number or a variable (of type int)\n"
   ]
  },
  {
   "cell_type": "code",
   "execution_count": null,
   "id": "10f0e37d-098a-4454-9df0-8ae2d7855752",
   "metadata": {
    "editable": true,
    "id": "fEEfCIbIsoYZ",
    "slideshow": {
     "slide_type": ""
    },
    "tags": []
   },
   "outputs": [],
   "source": [
    "#           index:       0      1          2        3          4 (notice it doens't go to 5, since we start at 0)\n",
    "doctor_who_actors = [\"Tennant\",\"Smith\",\"Capaldi\",\"Whittaker\", \"Gatwa\"]\n",
    "print(doctor_who_actors[4])"
   ]
  },
  {
   "cell_type": "code",
   "execution_count": null,
   "id": "11f3856f-e592-43c7-bfb3-3c2e684ef5ad",
   "metadata": {
    "id": "sjh5ey9jsoYZ"
   },
   "outputs": [],
   "source": [
    "i = 3\n",
    "rainfall_amounts = [0.0, 0.3, 0.71, 0.0, 0.32, 1.1, 0.4]\n",
    "print(rainfall_amounts[5])"
   ]
  },
  {
   "cell_type": "markdown",
   "id": "9bcb3503-84d5-40d1-8230-a3011b3c5451",
   "metadata": {
    "editable": true,
    "id": "fY1wv2CZsoYa",
    "slideshow": {
     "slide_type": "slide"
    },
    "tags": []
   },
   "source": [
    "Using index notation, you can treat an item in a list like any other variable:\n",
    "- you can use it in an expression\n",
    "- you can print it out\n",
    "- or... do whatever else you want with it"
   ]
  },
  {
   "cell_type": "code",
   "execution_count": null,
   "id": "a69407bd-ebb6-4f06-b600-62430147b080",
   "metadata": {
    "id": "hJnmczzcsoYa",
    "outputId": "41f1bc94-b872-4336-ad29-e3155f78df2a"
   },
   "outputs": [
    {
     "data": {
      "text/plain": [
       "1.5"
      ]
     },
     "execution_count": 82,
     "metadata": {},
     "output_type": "execute_result"
    }
   ],
   "source": [
    "rainfall_amounts = [0.0, 0.3, 0.71, 0.0, 0.32, 1.1, 0.4]\n",
    "total_weekend_rainfall = rainfall_amounts[5] + rainfall_amounts[6]\n",
    "print(total_weekend_rainfall)"
   ]
  },
  {
   "cell_type": "markdown",
   "id": "bfdea73a-284c-43c1-aba7-ce6c81e2c0e5",
   "metadata": {
    "editable": true,
    "id": "Rlj6GMG6soYa",
    "slideshow": {
     "slide_type": "slide"
    },
    "tags": []
   },
   "source": [
    "## Updating items in a list\n",
    "\n",
    "You can also use list notation to change values in a list:\n",
    "- use the index to the position in the list you'd like to change (`rainfall_amounts[2]`) on the right hand side of the assignment operator `=` and the value on the left\n",
    "- `rainfall_amounts[2] = 0.65`"
   ]
  },
  {
   "cell_type": "code",
   "execution_count": null,
   "id": "d8d6c4c2-3b65-44f3-a806-b5df768a0f5f",
   "metadata": {
    "id": "uxg_sywXsoYa",
    "outputId": "a9d1ceb0-42c0-42c7-8c34-6ce1da9c0bbb"
   },
   "outputs": [
    {
     "name": "stdout",
     "output_type": "stream",
     "text": [
      "[0.0, 0.3, 0.65, 0.0, 0.32, 1.1, 0.4]\n"
     ]
    }
   ],
   "source": [
    "rainfall_amounts = [0.0, 0.3, 0.71, 0.0, 0.32, 1.1, 0.4]\n",
    "\n",
    "# change 0.71 to 0.65\n",
    "rainfall_amounts[2] = 0.65\n",
    "print(rainfall_amounts)"
   ]
  },
  {
   "cell_type": "markdown",
   "id": "ac08fcb3-67d0-4637-b6ad-8a71f89979b6",
   "metadata": {
    "editable": true,
    "slideshow": {
     "slide_type": "slide"
    },
    "tags": []
   },
   "source": [
    "# Looping through lists:\n",
    "\n",
    "You will often have a program that will process all of the elements in a list. \n",
    "\n",
    "Examples: \n",
    "- add up all of the elements\n",
    "- Search for the existense of some feature from all elements\n",
    "- print out all of the elements\n",
    "- do a mathematical operation over all elements.\n"
   ]
  },
  {
   "cell_type": "markdown",
   "id": "f92b6421-19c1-4e73-9670-daf8e6c202dd",
   "metadata": {
    "editable": true,
    "slideshow": {
     "slide_type": "slide"
    },
    "tags": []
   },
   "source": [
    "## Ways to Loop\n",
    "\n",
    "There are 2 ways to loop:\n",
    "1. __Element-based Looping__ or \"For-Each\" Looping \n",
    "2. __Index-based Looping__: Using `range(len(my_list))`"
   ]
  },
  {
   "cell_type": "markdown",
   "id": "041e801e-5d2c-4aa6-8008-c27af298c9cc",
   "metadata": {
    "editable": true,
    "slideshow": {
     "slide_type": "slide"
    },
    "tags": []
   },
   "source": [
    "## Ways to Loop #1: \"For- Each\" Looping\n",
    "\n",
    "This approach involves looping directly over the elements of the list.\n",
    "\n",
    "Things to notice:\n",
    "- for loop with target variable\n",
    "- it automatically grabs each item in the list and assigns the target variable each value in turn."
   ]
  },
  {
   "cell_type": "code",
   "execution_count": 2,
   "id": "4c637524-3e7c-4d5f-872f-074a9b93cebc",
   "metadata": {
    "editable": true,
    "slideshow": {
     "slide_type": ""
    },
    "tags": []
   },
   "outputs": [
    {
     "name": "stdout",
     "output_type": "stream",
     "text": [
      "1\n",
      "2\n",
      "3\n",
      "4\n",
      "5\n"
     ]
    }
   ],
   "source": [
    "my_list = [1,2,3,4,5]\n",
    "for element in my_list:\n",
    "    print(element)"
   ]
  },
  {
   "cell_type": "markdown",
   "id": "6206b1dd-2c15-46dd-a8f0-80f307a505d3",
   "metadata": {
    "editable": true,
    "slideshow": {
     "slide_type": "slide"
    },
    "tags": []
   },
   "source": [
    "## Ways to Loop #2: Index-based Looping\n",
    "This approach invovles looping over the indices of the list and then using those indices to access the elements. \n",
    "\n",
    "Example:"
   ]
  },
  {
   "cell_type": "code",
   "execution_count": 4,
   "id": "a1217c3f-3f9e-4c34-8983-c85d10ec7551",
   "metadata": {
    "editable": true,
    "scrolled": true,
    "slideshow": {
     "slide_type": ""
    },
    "tags": []
   },
   "outputs": [
    {
     "name": "stdout",
     "output_type": "stream",
     "text": [
      "index:  0 element:  1\n",
      "index:  1 element:  2\n",
      "index:  2 element:  3\n",
      "index:  3 element:  4\n",
      "index:  4 element:  5\n"
     ]
    }
   ],
   "source": [
    "my_list = [1,2,3,4,5]\n",
    "for ndx in range(len(my_list)):\n",
    "    print(\"index: \", ndx, \"element: \",my_list[ndx])"
   ]
  },
  {
   "cell_type": "markdown",
   "id": "39f66eb0-b2b2-4c73-b68f-7ac40660987d",
   "metadata": {
    "editable": true,
    "id": "kea7gIkwsoYp",
    "jp-MarkdownHeadingCollapsed": true,
    "slideshow": {
     "slide_type": "slide"
    },
    "tags": []
   },
   "source": [
    "## List Operation Summary:\n",
    "Last class we talked about **lists**\n",
    "\n",
    "| **Code**                     | **Operation**                                           |\n",
    "|:------------------------------|:---------------------------------------------------------|\n",
    "| `list_sum = sum(my_list)`    | Returns the sum of the elements in the list             |\n",
    "| `num_elements= len(my_list)` | returns number of elements in list                      |\n",
    "| `my_list[1] = 3`             | changes element of the list at index 1                  |\n",
    "| `del my_list[3]`             | deletes element of list at index 3                      |\n",
    "| `my_list.append(7)`          | adds the element 7 to the ened of the list              |\n",
    "| `my_list.pop(2)`             | removes the element at index 2 (also returns the value) |\n",
    "| `my_list.sort()`             | Sorts the list in ascending order                       |\n",
    "| `my_list.sort(reverse=True)` | Sorts the list in descending order                      |\n",
    "| `my_list.reverse()`          | reverses the list                                       |"
   ]
  },
  {
   "cell_type": "markdown",
   "id": "7121fc41-3edd-4d7c-b867-2f940fd56b75",
   "metadata": {
    "editable": true,
    "id": "JW2Otr2bsoYZ",
    "slideshow": {
     "slide_type": "slide"
    },
    "tags": []
   },
   "source": [
    "# ✨ New Material"
   ]
  },
  {
   "cell_type": "markdown",
   "id": "5108c831-dbcb-45ad-80cb-3e8b497b41e9",
   "metadata": {
    "editable": true,
    "slideshow": {
     "slide_type": "slide"
    },
    "tags": []
   },
   "source": [
    "## Loop review:\n",
    "What will the following code output?"
   ]
  },
  {
   "cell_type": "code",
   "execution_count": null,
   "id": "dc93903c-6651-48b2-9541-0a4595c785f7",
   "metadata": {
    "editable": true,
    "slideshow": {
     "slide_type": ""
    },
    "tags": []
   },
   "outputs": [],
   "source": [
    "for col in range(5):\n",
    "    print(col, end=\"\")"
   ]
  },
  {
   "cell_type": "markdown",
   "id": "52216ef4-2120-427d-8689-86f0c4977627",
   "metadata": {
    "editable": true,
    "jp-MarkdownHeadingCollapsed": true,
    "slideshow": {
     "slide_type": "slide"
    },
    "tags": []
   },
   "source": [
    "## Fill in the blank\n",
    "\n",
    "In the past, when putting an if statement _inside_ of another if statement, we called this a _________ if statement."
   ]
  },
  {
   "cell_type": "code",
   "execution_count": 4,
   "id": "a1bfa99e-1528-414f-88cc-5df8ea58baa2",
   "metadata": {
    "editable": true,
    "slideshow": {
     "slide_type": ""
    },
    "tags": []
   },
   "outputs": [
    {
     "name": "stdin",
     "output_type": "stream",
     "text": [
      "username:  user123\n",
      "password:  Spring2023!\n"
     ]
    },
    {
     "name": "stdout",
     "output_type": "stream",
     "text": [
      "access granted\n"
     ]
    }
   ],
   "source": [
    "username = input(\"username: \")\n",
    "if username == \"user123\":\n",
    "    password = input(\"password: \")\n",
    "    if password == \"Spring2023!\":\n",
    "        print(\"access granted\")\n",
    "    else:\n",
    "        print(\"wrong password\")\n",
    "else:\n",
    "    print(\"wrong username\")"
   ]
  },
  {
   "cell_type": "markdown",
   "id": "41d3c8cb-200c-43a8-b687-e96d7127e478",
   "metadata": {
    "editable": true,
    "slideshow": {
     "slide_type": "slide"
    },
    "tags": []
   },
   "source": [
    "## Fill in the blank\n",
    "\n",
    "In the past, when putting an if statement _inside_ of another if statement, we called this a __NESTED__ if statement."
   ]
  },
  {
   "cell_type": "code",
   "execution_count": 4,
   "id": "a85089d2-837f-4986-8353-8a4867f0f95c",
   "metadata": {
    "editable": true,
    "slideshow": {
     "slide_type": ""
    },
    "tags": []
   },
   "outputs": [
    {
     "name": "stdin",
     "output_type": "stream",
     "text": [
      "username:  user123\n",
      "password:  Spring2023!\n"
     ]
    },
    {
     "name": "stdout",
     "output_type": "stream",
     "text": [
      "access granted\n"
     ]
    }
   ],
   "source": [
    "username = input(\"username: \")\n",
    "if username == \"user123\":\n",
    "    password = input(\"password: \")\n",
    "    if password == \"Spring2023!\":\n",
    "        print(\"access granted\")\n",
    "    else:\n",
    "        print(\"wrong password\")\n",
    "else:\n",
    "    print(\"wrong username\")"
   ]
  },
  {
   "cell_type": "markdown",
   "id": "79a5d6a6-d142-415c-a093-7d9edf3b20ec",
   "metadata": {
    "editable": true,
    "slideshow": {
     "slide_type": ""
    },
    "tags": []
   },
   "source": [
    "# Nested Loops:\n",
    "\n",
    "A __nested loop__ is a loop that is contained _inside_ another loop."
   ]
  },
  {
   "cell_type": "markdown",
   "id": "d819a538-4b9b-43c2-81ae-374487d2758c",
   "metadata": {
    "editable": true,
    "slideshow": {
     "slide_type": "slide"
    },
    "tags": []
   },
   "source": [
    "What will the following code output?"
   ]
  },
  {
   "cell_type": "code",
   "execution_count": null,
   "id": "77e3d262-4f2d-41b2-9dfe-75c693386ddb",
   "metadata": {
    "editable": true,
    "slideshow": {
     "slide_type": ""
    },
    "tags": []
   },
   "outputs": [],
   "source": [
    "for col in range(5):\n",
    "    print(col, end=\"\")"
   ]
  },
  {
   "cell_type": "markdown",
   "id": "11ad9c0f-8701-45d1-9e9d-15ae0827b2df",
   "metadata": {
    "editable": true,
    "slideshow": {
     "slide_type": "slide"
    },
    "tags": []
   },
   "source": [
    "Now... what if we put a loop... inside of a loop?"
   ]
  },
  {
   "cell_type": "code",
   "execution_count": null,
   "id": "f5fab469-f114-4665-aba2-2caf7bca6ce8",
   "metadata": {
    "editable": true,
    "slideshow": {
     "slide_type": ""
    },
    "tags": []
   },
   "outputs": [],
   "source": [
    "for row in range(3):\n",
    "    for col in range(5):\n",
    "        print(col, end=\"\")\n",
    "    print()"
   ]
  },
  {
   "cell_type": "markdown",
   "id": "f156935a-ca89-44aa-9e30-591468009f46",
   "metadata": {
    "editable": true,
    "slideshow": {
     "slide_type": "fragment"
    },
    "tags": []
   },
   "source": [
    "First iteration: `row = 0`\n",
    "```\n",
    "01234\n",
    "```"
   ]
  },
  {
   "cell_type": "markdown",
   "id": "b2b5d2ea-6699-4cea-81fc-96b1bf1a818a",
   "metadata": {
    "editable": true,
    "slideshow": {
     "slide_type": "fragment"
    },
    "tags": []
   },
   "source": [
    "Second iteration: `row =1`\n",
    "```\n",
    "01234\n",
    "01234\n",
    "```"
   ]
  },
  {
   "cell_type": "markdown",
   "id": "8cb8f66a-6dda-4b52-a9a9-98bbcabc83d9",
   "metadata": {
    "editable": true,
    "slideshow": {
     "slide_type": "fragment"
    },
    "tags": []
   },
   "source": [
    "Third iteration: `row =2`\n",
    "```\n",
    "01234\n",
    "01234\n",
    "01234\n",
    "```"
   ]
  },
  {
   "cell_type": "markdown",
   "id": "176193ef-60fb-457e-a4b4-549ccefd02c1",
   "metadata": {
    "editable": true,
    "slideshow": {
     "slide_type": "slide"
    },
    "tags": []
   },
   "source": [
    "## What will be output?"
   ]
  },
  {
   "cell_type": "code",
   "execution_count": null,
   "id": "b8836341-d4bb-4236-ba22-e12e1b82023d",
   "metadata": {
    "editable": true,
    "slideshow": {
     "slide_type": ""
    },
    "tags": []
   },
   "outputs": [],
   "source": [
    "num_rows = int(input(\"enter a number of rows: \"))\n",
    "num_cols = int(input(\"enter a number of cols: \"))\n",
    "\n",
    "for row in range(num_rows):\n",
    "    for col in range(num_cols):\n",
    "        print(\"X\", end =\"\")\n",
    "    print()"
   ]
  },
  {
   "cell_type": "markdown",
   "id": "04194260-ca2a-465c-a1bc-7a4d4175cfa2",
   "metadata": {
    "editable": true,
    "slideshow": {
     "slide_type": "slide"
    },
    "tags": []
   },
   "source": [
    "## Challenge #1 (starter)\n",
    "What will happen when I run this code?"
   ]
  },
  {
   "cell_type": "code",
   "execution_count": null,
   "id": "b4d39ab2-67fb-4f3a-bb87-bd28aebf714a",
   "metadata": {
    "editable": true,
    "slideshow": {
     "slide_type": ""
    },
    "tags": []
   },
   "outputs": [],
   "source": [
    "for row in range(5):\n",
    "    for col in range(5):\n",
    "        if row == 0 or col == 4:\n",
    "            print(\"x\", end=\"\")\n",
    "        else:\n",
    "            print(\".\", end =\"\")\n",
    "    print()"
   ]
  },
  {
   "cell_type": "markdown",
   "id": "d361d4fc-d23a-4902-b484-c86689ceb775",
   "metadata": {
    "editable": true,
    "slideshow": {
     "slide_type": "slide"
    },
    "tags": []
   },
   "source": [
    "## Challenge #1 (starter -- part 2)\n",
    "What will happen when I run this code?"
   ]
  },
  {
   "cell_type": "code",
   "execution_count": 6,
   "id": "082ccee6-c303-4dfd-88e2-7a23f316bef2",
   "metadata": {
    "editable": true,
    "slideshow": {
     "slide_type": ""
    },
    "tags": []
   },
   "outputs": [
    {
     "name": "stdout",
     "output_type": "stream",
     "text": [
      "x...x\n",
      ".x.x.\n",
      "..x..\n",
      ".x.x.\n",
      "x...x\n"
     ]
    }
   ],
   "source": [
    "for row in range(5):\n",
    "    for col in range(5):\n",
    "        if row == col:\n",
    "            print(\"x\", end=\"\")\n",
    "        else:\n",
    "            print(\".\", end =\"\")\n",
    "    print()"
   ]
  },
  {
   "cell_type": "markdown",
   "id": "c5c86613-6f64-49bf-a450-3c55d3f5340f",
   "metadata": {
    "editable": true,
    "slideshow": {
     "slide_type": "slide"
    },
    "tags": []
   },
   "source": [
    "# Challenge #1:\n",
    "\n",
    "Can you get the above code to print out:\n",
    "```\n",
    "x...x\n",
    ".x.x.\n",
    "..x..\n",
    ".x.x.\n",
    "x...x\n",
    "```"
   ]
  },
  {
   "cell_type": "markdown",
   "id": "7aa14280-7434-4d3b-abac-02455bbcc6f2",
   "metadata": {
    "editable": true,
    "slideshow": {
     "slide_type": "slide"
    },
    "tags": []
   },
   "source": [
    "# Challenge #2:\n",
    "\n",
    "Use a nested loop to print out all possible combinations of rock-paper-scissors:\n",
    "\n",
    "```\n",
    "rock vs. rock\n",
    "rock vs. paper\n",
    "rock vs. scissors\n",
    "paper vs. rock\n",
    "paper vs. paper\n",
    "paper vs. scissors\n",
    "scissors vs. rock\n",
    "scissors vs. paper\n",
    "scissors vs. scissors\n",
    "```"
   ]
  },
  {
   "cell_type": "code",
   "execution_count": 8,
   "id": "1394af20-d95f-4a08-b632-34bd5c9997f9",
   "metadata": {
    "editable": true,
    "slideshow": {
     "slide_type": ""
    },
    "tags": []
   },
   "outputs": [],
   "source": [
    "# your code here:"
   ]
  },
  {
   "cell_type": "code",
   "execution_count": null,
   "id": "64db6a2b-f22b-40bc-bed3-bd4c3ac71a29",
   "metadata": {
    "editable": true,
    "slideshow": {
     "slide_type": ""
    },
    "tags": []
   },
   "outputs": [],
   "source": [
    "# Hint\n",
    "for player1 in ['rock', 'paper', 'scissors']:\n",
    "    # what's next?"
   ]
  },
  {
   "cell_type": "markdown",
   "id": "fedb47c5-7bbe-42a6-b2b5-851fbe5efa0b",
   "metadata": {
    "editable": true,
    "slideshow": {
     "slide_type": "slide"
    },
    "tags": []
   },
   "source": [
    "## Fill in the blank:\n",
    "\n",
    "An if statement inside of another if statement is called a __NESTED__ if statement\n",
    "\n",
    "A loop inside of another loop is called a __NESTED__ loop\n",
    "\n",
    "\n",
    "A list in which one or more elements is another list (a list inside of a list ) is called a _________ list\n",
    "\n"
   ]
  },
  {
   "cell_type": "markdown",
   "id": "55e119bb-6eaa-49cd-805b-f7596ff7b374",
   "metadata": {
    "editable": true,
    "slideshow": {
     "slide_type": "slide"
    },
    "tags": []
   },
   "source": [
    "## Fill in the blank:\n",
    "\n",
    "An if statement inside of another if statement is called a __NESTED__ if statement\n",
    "\n",
    "A loop inside of another loop is called a __NESTED__ loop\n",
    "\n",
    "\n",
    "A list in which one or more elements is another list (a list inside of a list ) is called a __NESTED__ list\n",
    "- also known as a 2-dimensional list (or 2d list)\n",
    "\n"
   ]
  },
  {
   "cell_type": "markdown",
   "id": "fa2302fa-519a-4a71-9cf2-212cf90111cf",
   "metadata": {
    "editable": true,
    "slideshow": {
     "slide_type": "slide"
    },
    "tags": []
   },
   "source": [
    "# Nested Lists:\n",
    "\n",
    "A nested-list is a \"list of lists\":\n",
    "- one or more list instide of a list\n",
    "- can be thought of as a matrix"
   ]
  },
  {
   "cell_type": "code",
   "execution_count": null,
   "id": "e0bcdf1a-b026-4312-9643-bf85819b4705",
   "metadata": {
    "editable": true,
    "slideshow": {
     "slide_type": ""
    },
    "tags": []
   },
   "outputs": [],
   "source": [
    "my_matrix = [ [1,2,3,4], [5,6,7,8],[9,10,11,12] ]\n",
    "\n",
    "# can also be written as\n",
    "my_matrix = [[1,2,3,4], \n",
    "             [5,6,7,8],\n",
    "             [9,10,11,12]]"
   ]
  },
  {
   "cell_type": "markdown",
   "id": "e7137cbd-c7ca-466d-aea0-5ab38a7ed821",
   "metadata": {
    "editable": true,
    "slideshow": {
     "slide_type": "slide"
    },
    "tags": []
   },
   "source": [
    "# Two-Dimensional Lists:\n",
    "Accessing an element in a two-dimensional list requires two sets of brackets\n",
    "\n",
    "The first one is the index into the __row__\n",
    "The second one is the index into the __columns__.\n",
    "\n",
    "```python\n",
    "value = my_matrix[1][0] # what eleement would this access?\n",
    "```\n",
    "\n"
   ]
  },
  {
   "cell_type": "code",
   "execution_count": null,
   "id": "d23dd2da-9f55-4374-be51-eb155012b1cd",
   "metadata": {
    "editable": true,
    "slideshow": {
     "slide_type": ""
    },
    "tags": []
   },
   "outputs": [],
   "source": [
    "my_matrix = [[1,2,3,4], \n",
    "             [5,6,7,8],\n",
    "             [9,10,11,12]]"
   ]
  },
  {
   "cell_type": "markdown",
   "id": "6aabb031-af27-4cd8-963f-209fd61d305e",
   "metadata": {
    "editable": true,
    "slideshow": {
     "slide_type": "slide"
    },
    "tags": []
   },
   "source": [
    "# Two-Dimensional Lists:\n",
    "Accessing an element in a two-dimensional list requires two sets of brackets\n",
    "\n",
    "The first one is the index into the __row__\n",
    "The second one is the index into the __columns__.\n",
    "\n",
    "```python\n",
    "value = my_matrix[1][0] # what eleement would this access?\n",
    "```\n",
    "\n"
   ]
  },
  {
   "cell_type": "code",
   "execution_count": 9,
   "id": "3a3988b4-a8c5-4fcb-9c77-41047e612d11",
   "metadata": {
    "editable": true,
    "slideshow": {
     "slide_type": ""
    },
    "tags": []
   },
   "outputs": [
    {
     "name": "stdout",
     "output_type": "stream",
     "text": [
      "5\n"
     ]
    }
   ],
   "source": [
    "my_matrix = [[1,2,3,4], \n",
    "             [5,6,7,8],\n",
    "             [9,10,11,12]]\n",
    "print(my_matrix[1][0])"
   ]
  },
  {
   "cell_type": "markdown",
   "id": "c3ae2e50-b882-46c7-9719-f134019f2708",
   "metadata": {
    "editable": true,
    "slideshow": {
     "slide_type": "slide"
    },
    "tags": []
   },
   "source": [
    "## Accessing Nested List Elements:\n",
    "\n",
    "Imagine we are working with a new variable called `scores` which holds some scores on an exam.\n",
    "```python\n",
    "scores = [[91,92,93,94],[95,96,97,98],[99,100,101,102]]\n",
    "```\n",
    "\n",
    "Here's how you would access each element in the matrix:\n",
    "\n",
    "|           | Column 0     | Column 1     | Column 2     | Column 3     |\n",
    "|-----------|--------------|--------------|--------------|--------------|\n",
    "| Row 0     | scores[0][0] | scores[0][1] | scores[0][2] | scores[0][3] |\n",
    "| Row 1     | scores[1][0] | scores[1][1] | scores[1][2] | scores[1][3] |\n",
    "| Row 2     | scores[2][0] | scores[2][1] | scores[2][2] | scores[2][3] |\n"
   ]
  },
  {
   "cell_type": "markdown",
   "id": "ca8bd4fa-722e-471a-a5a8-8a506f4e466b",
   "metadata": {
    "editable": true,
    "slideshow": {
     "slide_type": "fragment"
    },
    "tags": []
   },
   "source": [
    "__Practice Questions__:\n",
    "- What value would `scores[1][1]` access?\n",
    "- What value would `scores[2][3]` access?\n"
   ]
  },
  {
   "cell_type": "markdown",
   "id": "2ca2404a-3adc-48b7-ab68-b6652892b2ba",
   "metadata": {
    "editable": true,
    "slideshow": {
     "slide_type": "slide"
    },
    "tags": []
   },
   "source": [
    "## Length of 2D lists:\n",
    "\n",
    "Recall that the `len` function give you the length (number of elements in a list). "
   ]
  },
  {
   "cell_type": "code",
   "execution_count": 11,
   "id": "a2d1bd8d-b06d-40d0-a768-09fc77a6f1cc",
   "metadata": {
    "editable": true,
    "slideshow": {
     "slide_type": ""
    },
    "tags": []
   },
   "outputs": [
    {
     "name": "stdout",
     "output_type": "stream",
     "text": [
      "4\n"
     ]
    }
   ],
   "source": [
    "my_list = [1,2,3,4]\n",
    "print(len(my_list))"
   ]
  },
  {
   "cell_type": "markdown",
   "id": "82292dfe-75e6-43ba-a3b1-c12c52df24e6",
   "metadata": {
    "editable": true,
    "slideshow": {
     "slide_type": "fragment"
    },
    "tags": []
   },
   "source": [
    "What do you think will be output here?"
   ]
  },
  {
   "cell_type": "code",
   "execution_count": null,
   "id": "26cd615b-5e30-46ce-88b4-f8fdc4f2a6ee",
   "metadata": {
    "editable": true,
    "slideshow": {
     "slide_type": ""
    },
    "tags": []
   },
   "outputs": [],
   "source": [
    "my_matrix = [[1,2,3,4], \n",
    "             [5,6,7,8],\n",
    "             [9,10,11,12]]\n",
    "print(len(my_matrix))\n",
    "print(len(my_matrix[0]))"
   ]
  },
  {
   "cell_type": "code",
   "execution_count": 12,
   "id": "5f6cf269-e56f-4d0e-8f29-783acae15f8c",
   "metadata": {
    "editable": true,
    "slideshow": {
     "slide_type": "fragment"
    },
    "tags": []
   },
   "outputs": [
    {
     "name": "stdout",
     "output_type": "stream",
     "text": [
      "3\n",
      "4\n"
     ]
    }
   ],
   "source": [
    "my_matrix = [[1,2,3,4], \n",
    "             [5,6,7,8],\n",
    "             [9,10,11,12]]\n",
    "print(len(my_matrix)) # number of elements in the outer list\n",
    "print(len(my_matrix[0])) # num elements in inner list"
   ]
  },
  {
   "cell_type": "markdown",
   "id": "f7a6025a-9c85-4d9c-a33e-92b008295424",
   "metadata": {
    "editable": true,
    "slideshow": {
     "slide_type": "slide"
    },
    "tags": []
   },
   "source": [
    "## Example -- process all elements in a 1D list:\n",
    "\n",
    "What is the total?\n",
    "```python\n",
    "stock_earnings = [24.5, 19.0,-22.25, -19.75]\n",
    "```\n",
    "Can you do it using a loop?"
   ]
  },
  {
   "cell_type": "code",
   "execution_count": 13,
   "id": "818923d2-5a1b-4f7f-b9b6-6c11feda8ec7",
   "metadata": {
    "editable": true,
    "slideshow": {
     "slide_type": "fragment"
    },
    "tags": []
   },
   "outputs": [
    {
     "name": "stdout",
     "output_type": "stream",
     "text": [
      "total is:  1.5\n"
     ]
    }
   ],
   "source": [
    "# start with a 1D list:\n",
    "stock_earnings = [24.5, 19.0,-22.25, -19.75]\n",
    "total = 0\n",
    "for row in range(len(stock_earnings)):\n",
    "    total += stock_earnings[row]\n",
    "print(\"total is: \", total)"
   ]
  },
  {
   "cell_type": "markdown",
   "id": "8ca8d286-dfea-4f42-807a-3bfbc496d73f",
   "metadata": {
    "editable": true,
    "slideshow": {
     "slide_type": "slide"
    },
    "tags": []
   },
   "source": [
    "## Example -- process all elements in a 1D list:\n",
    "\n",
    "What is the total?\n",
    "```python\n",
    "stock_earnings = [[24.5, 19.0,-22.25, -19.75],\n",
    "                 [1.25,-11.5, 102.75, -100.75],\n",
    "                 [44.5,41.0, -122.5,-9.25]]\n",
    "```\n",
    "Can you do it using a loop?"
   ]
  },
  {
   "cell_type": "code",
   "execution_count": 15,
   "id": "082327f1-d05a-4e53-866f-03e5ea85c7d3",
   "metadata": {
    "editable": true,
    "slideshow": {
     "slide_type": "fragment"
    },
    "tags": []
   },
   "outputs": [
    {
     "name": "stdout",
     "output_type": "stream",
     "text": [
      "total is:  -53.0\n"
     ]
    }
   ],
   "source": [
    "# now do it with a 2D list:\n",
    "stock_earnings = [[24.5, 19.0,-22.25, -19.75],\n",
    "                 [1.25,-11.5, 102.75, -100.75],\n",
    "                 [44.5,41.0, -122.5,-9.25]]\n",
    "total = 0\n",
    "for row in range(len(stock_earnings)): # the number of rows\n",
    "    for col in range(len(stock_earnings[0])): # the number of cols\n",
    "        total += stock_earnings[row][col]\n",
    "print(\"total is: \", total)"
   ]
  },
  {
   "cell_type": "markdown",
   "id": "1aff95c4-95fd-4765-81d0-0acd8c0c08e5",
   "metadata": {
    "editable": true,
    "slideshow": {
     "slide_type": "slide"
    },
    "tags": []
   },
   "source": [
    "## Exercise #3:\n",
    "\n",
    "Given a 2D list, print out the number of elements that are < 0:"
   ]
  },
  {
   "cell_type": "code",
   "execution_count": null,
   "id": "39f3086d-295f-41f4-b469-2295160eaeb3",
   "metadata": {
    "editable": true,
    "slideshow": {
     "slide_type": ""
    },
    "tags": []
   },
   "outputs": [],
   "source": [
    "stock_earnings = [[24.5, 19.0,-22.25, -19.75],\n",
    "                 [1.25,-11.5, 102.75, -100.75],\n",
    "                 [44.5,41.0, -122.5,-9.25]]"
   ]
  },
  {
   "cell_type": "markdown",
   "id": "4cdab590-d4e3-4a88-8c7d-b9c19359e957",
   "metadata": {
    "editable": true,
    "slideshow": {
     "slide_type": "slide"
    },
    "tags": []
   },
   "source": [
    "# Up Next:\n",
    "\n",
    "How/why would I use this?\n",
    "\n",
    "Next class, we'll have an in-class lab that does image analysis. It'll be a fun, hands-on way to practice nested lists, nested loops, and functions!"
   ]
  },
  {
   "cell_type": "code",
   "execution_count": null,
   "id": "1d5ce057-7670-4c9f-a2a0-03e02646f59e",
   "metadata": {
    "editable": true,
    "slideshow": {
     "slide_type": ""
    },
    "tags": []
   },
   "outputs": [],
   "source": []
  }
 ],
 "metadata": {
  "kernelspec": {
   "display_name": "Python 3 (ipykernel)",
   "language": "python",
   "name": "python3"
  },
  "language_info": {
   "codemirror_mode": {
    "name": "ipython",
    "version": 3
   },
   "file_extension": ".py",
   "mimetype": "text/x-python",
   "name": "python",
   "nbconvert_exporter": "python",
   "pygments_lexer": "ipython3",
   "version": "3.12.4"
  }
 },
 "nbformat": 4,
 "nbformat_minor": 5
}

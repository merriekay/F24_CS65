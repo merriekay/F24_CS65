{
  "cells": [
    {
      "cell_type": "markdown",
      "metadata": {
        "id": "view-in-github",
        "colab_type": "text"
      },
      "source": [
        "<a href=\"https://colab.research.google.com/github/merriekay/F24_CS65/blob/main/Day02_input_type.ipynb\" target=\"_parent\"><img src=\"https://colab.research.google.com/assets/colab-badge.svg\" alt=\"Open In Colab\"/></a>"
      ]
    },
    {
      "cell_type": "markdown",
      "id": "47f10411-f9ea-479c-8397-26ed83d3d7bd",
      "metadata": {
        "id": "47f10411-f9ea-479c-8397-26ed83d3d7bd"
      },
      "source": [
        "# CS65: Day02\n",
        "\n",
        "## User Input and Type Conversion\n",
        "\n",
        "### CS65: Introduction to Computer Science I | Fall 2024\n",
        "\n",
        "*Wednesday, September 4th, 2024*\n",
        "\n",
        "### Helpful Resources:\n",
        "[📜 Syllabus](https://docs.google.com/document/d/1nqjmD0yhOOh2gaPwxfjV4EY_dBUIQUur1fvqQ4YPJLA/edit?usp=sharing) | [📬 CodePost Login](https://codepost.io/login) | [📆 Schedule](https://docs.google.com/spreadsheets/d/1Q5-ArPnXwjejKjXSI8WKgF7A2HRAam6Ny3eNA7EHn18/edit?usp=sharing) | [🙋‍♂️ PollEverywhere](https://pollev.com/moore) | [🪴 Office Hour Sign-Up](https://calendly.com/meredith-moore/office-hours)\n",
        "\n",
        "> **Note to self:** Make sure you're recording, silly goose!"
      ]
    },
    {
      "cell_type": "markdown",
      "id": "797d576f-17ed-4424-b13a-03d44f30f7af",
      "metadata": {
        "editable": true,
        "tags": [],
        "id": "797d576f-17ed-4424-b13a-03d44f30f7af"
      },
      "source": [
        "# Announcements\n",
        "\n",
        "You should be working on:\n",
        "- [Lab #1](https://analytics.drake.edu/~moore/CS65-F24/Lab01.html), Due Monday 9/9 by 11:59pm"
      ]
    },
    {
      "cell_type": "markdown",
      "id": "4c21f73e-7dbb-442f-a30e-f7d01ac898fc",
      "metadata": {
        "editable": true,
        "tags": [],
        "id": "4c21f73e-7dbb-442f-a30e-f7d01ac898fc"
      },
      "source": [
        "# Quick Review:\n",
        "- variables\n",
        "- assignment statements"
      ]
    },
    {
      "cell_type": "markdown",
      "id": "2deb308d-5c64-4832-a440-82152f751ed8",
      "metadata": {
        "editable": true,
        "id": "2deb308d-5c64-4832-a440-82152f751ed8",
        "tags": []
      },
      "source": [
        "# Comments:\n",
        "\n",
        "__Comments__ are notes of explanation that document lines of code or sections of a program.\n",
        "\n",
        "Comments are part of the program, but the Python _interpreter_ ignores them.\n",
        "\n",
        "They are intended for people who may be reading the source code:\n",
        "- like your professor\n",
        "- or your teammates\n",
        "\n",
        "Python comments are denoted with a `#`."
      ]
    },
    {
      "cell_type": "code",
      "execution_count": null,
      "id": "0c5867c6-ab8a-4e9e-a5bc-04fa2dd7278f",
      "metadata": {
        "editable": true,
        "id": "0c5867c6-ab8a-4e9e-a5bc-04fa2dd7278f",
        "outputId": "f8cc65b8-0733-42c7-b1b2-7470fb93f4ae",
        "tags": []
      },
      "outputs": [
        {
          "name": "stdout",
          "output_type": "stream",
          "text": [
            "this is a string\n",
            "this, too, is a string\n"
          ]
        }
      ],
      "source": [
        "# this is a comment\n",
        "\n",
        "print('this is a string') #comments can go after lines of code too\n",
        "print(\"this, too, is a string\")"
      ]
    },
    {
      "cell_type": "code",
      "execution_count": null,
      "id": "0ab75fb7-b753-4825-9b4f-59e1bfecfe13",
      "metadata": {
        "editable": true,
        "tags": [],
        "id": "0ab75fb7-b753-4825-9b4f-59e1bfecfe13"
      },
      "outputs": [],
      "source": []
    },
    {
      "cell_type": "markdown",
      "id": "3006b8a8-c823-45fe-94f9-dabe0785a83f",
      "metadata": {
        "editable": true,
        "id": "3006b8a8-c823-45fe-94f9-dabe0785a83f",
        "tags": []
      },
      "source": [
        "## Multi-line comments\n",
        "\n",
        "Text that is surrounded by triple quotes (either `'`, or `\"`) are also comments:"
      ]
    },
    {
      "cell_type": "code",
      "execution_count": null,
      "id": "98a2c1e8-b462-4cb8-8049-e99ab9f506ed",
      "metadata": {
        "editable": true,
        "id": "98a2c1e8-b462-4cb8-8049-e99ab9f506ed",
        "tags": []
      },
      "outputs": [],
      "source": [
        "# This is a comment\n",
        "\n",
        "'''This is also a comment\n",
        "This comment is on multiple lines\n",
        "'''\n",
        "\n",
        "\"\"\"\n",
        "Yes\n",
        "This\n",
        "is\n",
        "A\n",
        "Comment\n",
        "\"\"\""
      ]
    },
    {
      "cell_type": "markdown",
      "id": "c4bf382e-1756-4b7c-9810-ecf4ec5ca1d8",
      "metadata": {
        "editable": true,
        "id": "c4bf382e-1756-4b7c-9810-ecf4ec5ca1d8",
        "tags": []
      },
      "source": [
        "# Variables:\n",
        "\n",
        "A __variable__ is a _name_ that represents a value stored in the computer's memory.\n",
        "\n",
        "Programmers use variables to hold values that might change.\n",
        "\n",
        "They're kind of like cells in a spreadsheet.\n",
        "\n",
        "> cell with name B4 has the value of 42, and we can use that value in other computations by reerringto its name.\n",
        "\n",
        "<div>\n",
        "<img src=\"https://github.com/merriekay/CS65-F23/blob/main/images/day01_cell.png?raw=1\"/ width=400>\n",
        "</div>\n"
      ]
    },
    {
      "cell_type": "markdown",
      "id": "52ca8330-4b26-4349-b37a-805c954153ea",
      "metadata": {
        "editable": true,
        "tags": [],
        "id": "52ca8330-4b26-4349-b37a-805c954153ea"
      },
      "source": [
        "## Review Question (Polleverywhere)\n",
        "\n",
        "What will the following code output?"
      ]
    },
    {
      "cell_type": "code",
      "execution_count": null,
      "id": "3cb9eb43-5b03-4ca1-b574-2c78cc376d5d",
      "metadata": {
        "editable": true,
        "tags": [],
        "id": "3cb9eb43-5b03-4ca1-b574-2c78cc376d5d"
      },
      "outputs": [],
      "source": [
        "B4 = 42\n",
        "B5 = B4 + 10\n",
        "print(B4)\n",
        "print(B5)"
      ]
    },
    {
      "cell_type": "markdown",
      "id": "fcf0c1f3-63c8-47ed-8fb0-6ab85c302a82",
      "metadata": {
        "editable": true,
        "tags": [],
        "id": "fcf0c1f3-63c8-47ed-8fb0-6ab85c302a82"
      },
      "source": [
        "What will be the output when this code is run?\n",
        "\n",
        "a. `42 52`\n",
        "\n",
        "b. `B4 B5`\n",
        "\n",
        "c. `B4 B4 + 10`\n",
        "\n",
        "d. None of these\n"
      ]
    },
    {
      "cell_type": "markdown",
      "id": "4a38f398-1ca6-4b5f-8c39-a594662d1535",
      "metadata": {
        "editable": true,
        "id": "4a38f398-1ca6-4b5f-8c39-a594662d1535",
        "tags": []
      },
      "source": [
        "## Review Question (PollEverywhere)\n",
        "\n",
        "Go to pollev.com/moore to submit your answer to this question:\n",
        "\n",
        "What is wrong with the following code:"
      ]
    },
    {
      "cell_type": "code",
      "execution_count": null,
      "id": "71db3672-c2d0-48ba-8284-13c850eae35b",
      "metadata": {
        "editable": true,
        "id": "71db3672-c2d0-48ba-8284-13c850eae35b",
        "tags": []
      },
      "outputs": [],
      "source": [
        "# what's wrong with this code?\n",
        "cs65_s0 = 31\n",
        "20 = cs65_s1\n",
        "totalCs65 = cs65_s0 + cs65_s1\n",
        "print(\"Total CS65 students:\", \"totalCs65\")"
      ]
    },
    {
      "cell_type": "markdown",
      "id": "21959bf5-ea58-4f69-b097-d1e0c579ce8c",
      "metadata": {
        "editable": true,
        "id": "21959bf5-ea58-4f69-b097-d1e0c579ce8c",
        "tags": []
      },
      "source": [
        "# Outputting a variable's value\n",
        "\n",
        "Don't miss that the print statement will output a _variable's value_ if the variable is between the parentheses."
      ]
    },
    {
      "cell_type": "code",
      "execution_count": null,
      "id": "4d06e221-6642-4939-bb7c-07cf54c90b27",
      "metadata": {
        "editable": true,
        "id": "4d06e221-6642-4939-bb7c-07cf54c90b27",
        "outputId": "4ff5605b-89ca-430e-eccf-9b028196a46b",
        "tags": []
      },
      "outputs": [
        {
          "name": "stdout",
          "output_type": "stream",
          "text": [
            "34\n"
          ]
        }
      ],
      "source": [
        "value = 34\n",
        "print(value)"
      ]
    },
    {
      "cell_type": "markdown",
      "id": "0e4040ca-cd19-44eb-8338-6417afd04314",
      "metadata": {
        "editable": true,
        "id": "0e4040ca-cd19-44eb-8338-6417afd04314",
        "tags": []
      },
      "source": [
        "# PollEverywhere: A tricky question\n",
        "\n",
        "What will be the output when the following code is executed?"
      ]
    },
    {
      "cell_type": "code",
      "execution_count": null,
      "id": "a456a48d-ab6b-4ec1-bf41-8260fcdbfeee",
      "metadata": {
        "editable": true,
        "id": "a456a48d-ab6b-4ec1-bf41-8260fcdbfeee",
        "tags": []
      },
      "outputs": [],
      "source": [
        "my_val = 27.5\n",
        "print(\"my_val\")"
      ]
    },
    {
      "cell_type": "markdown",
      "id": "9e8478ac-6426-45ee-93d8-e3fc296d1026",
      "metadata": {
        "editable": true,
        "id": "9e8478ac-6426-45ee-93d8-e3fc296d1026",
        "tags": []
      },
      "source": [
        "# Printing text and variables together\n",
        "We've seen printing out text by itself and variables by themselves... What if I want both in the same print statmeent?\n",
        "\n",
        "You can pass multiple things to `print()` using _commas_ between them."
      ]
    },
    {
      "cell_type": "code",
      "execution_count": null,
      "id": "0cdeb9fd-279b-41cc-a918-7e34adfc1e3b",
      "metadata": {
        "editable": true,
        "id": "0cdeb9fd-279b-41cc-a918-7e34adfc1e3b",
        "outputId": "6073d679-f67f-4f7d-de8e-b8a20d3fc066",
        "tags": []
      },
      "outputs": [
        {
          "name": "stdout",
          "output_type": "stream",
          "text": [
            "The number is\n",
            "5\n",
            "The number is 5 5 the number is 5\n"
          ]
        }
      ],
      "source": [
        "num = 5\n",
        "print(\"The number is\")\n",
        "print(num)\n",
        "\n",
        "#all together now:\n",
        "print(\"The number is\", num)"
      ]
    },
    {
      "cell_type": "markdown",
      "id": "47953f79-8b62-4bd6-abe6-837ceb1c82e8",
      "metadata": {
        "editable": true,
        "id": "47953f79-8b62-4bd6-abe6-837ceb1c82e8",
        "tags": []
      },
      "source": [
        "## Another example:"
      ]
    },
    {
      "cell_type": "code",
      "execution_count": null,
      "id": "f0245830-f0cf-4856-a2a0-94fc45d4741a",
      "metadata": {
        "editable": true,
        "id": "f0245830-f0cf-4856-a2a0-94fc45d4741a",
        "outputId": "7c2abf9b-f148-4572-97af-686c456831c6",
        "scrolled": true,
        "tags": []
      },
      "outputs": [
        {
          "name": "stdout",
          "output_type": "stream",
          "text": [
            "There are 42 students who need to eat lunch.\n"
          ]
        }
      ],
      "source": [
        "students = 42\n",
        "print(\"There are\", students, \"students who need to eat lunch.\")"
      ]
    },
    {
      "cell_type": "markdown",
      "id": "25d3dacc-c0ca-4ee3-81eb-c90c7f96e3df",
      "metadata": {
        "editable": true,
        "id": "25d3dacc-c0ca-4ee3-81eb-c90c7f96e3df",
        "tags": []
      },
      "source": [
        "## 💪🏻 Exercise:\n",
        "\n",
        "Which of the following are bad variable names? Why?\n",
        "\n",
        "- `if`\n",
        "- `Taxable income`\n",
        "- `1st_place_award`\n",
        "- `#cash_prize`\n",
        "- `seven`\n",
        "- `X`\n",
        "- `cupsOfSugar`"
      ]
    },
    {
      "cell_type": "markdown",
      "id": "9e9ab475-3380-4afe-bd90-fe3c41c54f26",
      "metadata": {
        "editable": true,
        "id": "9e9ab475-3380-4afe-bd90-fe3c41c54f26",
        "tags": []
      },
      "source": [
        "## Bad Variable Name Examples:"
      ]
    },
    {
      "cell_type": "code",
      "execution_count": null,
      "id": "c6f22a22-3aa5-4829-bbc2-f3314f6509d6",
      "metadata": {
        "editable": true,
        "id": "c6f22a22-3aa5-4829-bbc2-f3314f6509d6",
        "outputId": "aa1cc336-01cb-47e0-fcd3-810c4dd1b036",
        "tags": []
      },
      "outputs": [
        {
          "ename": "SyntaxError",
          "evalue": "invalid syntax (<ipython-input-18-7a2c26bbaa19>, line 1)",
          "output_type": "error",
          "traceback": [
            "\u001b[0;36m  File \u001b[0;32m\"<ipython-input-18-7a2c26bbaa19>\"\u001b[0;36m, line \u001b[0;32m1\u001b[0m\n\u001b[0;31m    cash prize = 34\u001b[0m\n\u001b[0m         ^\u001b[0m\n\u001b[0;31mSyntaxError\u001b[0m\u001b[0;31m:\u001b[0m invalid syntax\n"
          ]
        }
      ],
      "source": [
        "cash prize = 34"
      ]
    },
    {
      "cell_type": "code",
      "execution_count": null,
      "id": "6b5d7b2c-02b3-4867-a50f-3a11ca60caf1",
      "metadata": {
        "editable": true,
        "id": "6b5d7b2c-02b3-4867-a50f-3a11ca60caf1",
        "outputId": "811e84fc-d27e-454d-b920-eeb61f5a9a44",
        "scrolled": true,
        "tags": []
      },
      "outputs": [
        {
          "ename": "NameError",
          "evalue": "name 'studnts' is not defined",
          "output_type": "error",
          "traceback": [
            "\u001b[0;31m---------------------------------------------------------------------------\u001b[0m",
            "\u001b[0;31mNameError\u001b[0m                                 Traceback (most recent call last)",
            "\u001b[0;32m<ipython-input-24-787e3b2eab30>\u001b[0m in \u001b[0;36m<module>\u001b[0;34m\u001b[0m\n\u001b[1;32m      1\u001b[0m \u001b[0mstudents\u001b[0m \u001b[0;34m=\u001b[0m \u001b[0;36m42\u001b[0m\u001b[0;34m\u001b[0m\u001b[0;34m\u001b[0m\u001b[0m\n\u001b[0;32m----> 2\u001b[0;31m \u001b[0mprint\u001b[0m\u001b[0;34m(\u001b[0m\u001b[0mstudnts\u001b[0m\u001b[0;34m)\u001b[0m\u001b[0;34m\u001b[0m\u001b[0;34m\u001b[0m\u001b[0m\n\u001b[0m",
            "\u001b[0;31mNameError\u001b[0m: name 'studnts' is not defined"
          ]
        }
      ],
      "source": [
        "students = 42\n",
        "print(studnts)"
      ]
    },
    {
      "cell_type": "markdown",
      "id": "aa02e095-046b-458a-b332-85b1d11ad4f9",
      "metadata": {
        "editable": true,
        "id": "aa02e095-046b-458a-b332-85b1d11ad4f9",
        "tags": []
      },
      "source": [
        "# Assignment Statements\n",
        "\n",
        "Code with a `=` is called an __assignment statement__.\n",
        "\n",
        "You can use an __assignment statement__ to create a variable and make it reference a piece of data (a value).\n",
        "\n",
        "Examples:"
      ]
    },
    {
      "cell_type": "code",
      "execution_count": null,
      "id": "26bee9c4-083b-4ac8-af1a-35d8c898be56",
      "metadata": {
        "id": "26bee9c4-083b-4ac8-af1a-35d8c898be56"
      },
      "outputs": [],
      "source": [
        "age = 25\n",
        "hourly_rate = 15.5\n",
        "greeting = \"hello everyone\""
      ]
    },
    {
      "cell_type": "markdown",
      "id": "b2f5f4ba-0ef0-4f37-8503-a8880ac7ba5a",
      "metadata": {
        "editable": true,
        "id": "b2f5f4ba-0ef0-4f37-8503-a8880ac7ba5a",
        "tags": []
      },
      "source": [
        "## Assignment Statements have an order\n",
        "\n",
        "Whatever is on the right side of the `=` will be evaluated and saved to the variable named on the left side."
      ]
    },
    {
      "cell_type": "code",
      "execution_count": null,
      "id": "66b33f32-34d1-4eda-b5dc-370e5bdd2d75",
      "metadata": {
        "id": "66b33f32-34d1-4eda-b5dc-370e5bdd2d75"
      },
      "outputs": [],
      "source": [
        "students = 42"
      ]
    },
    {
      "cell_type": "markdown",
      "id": "edbb570c-0c12-49e3-bcad-b20d6adb68d8",
      "metadata": {
        "id": "edbb570c-0c12-49e3-bcad-b20d6adb68d8"
      },
      "source": [
        "You can't write it the other way around."
      ]
    },
    {
      "cell_type": "code",
      "execution_count": null,
      "id": "251506fe-fc1d-4a16-b110-edb448c153d5",
      "metadata": {
        "editable": true,
        "id": "251506fe-fc1d-4a16-b110-edb448c153d5",
        "outputId": "36715ccd-40ab-460f-a27e-8e8fdde0d421",
        "tags": []
      },
      "outputs": [
        {
          "ename": "SyntaxError",
          "evalue": "cannot assign to literal (<ipython-input-27-e94c5307290e>, line 1)",
          "output_type": "error",
          "traceback": [
            "\u001b[0;36m  File \u001b[0;32m\"<ipython-input-27-e94c5307290e>\"\u001b[0;36m, line \u001b[0;32m1\u001b[0m\n\u001b[0;31m    42 = students\u001b[0m\n\u001b[0m    ^\u001b[0m\n\u001b[0;31mSyntaxError\u001b[0m\u001b[0;31m:\u001b[0m cannot assign to literal\n"
          ]
        }
      ],
      "source": [
        "42 = students"
      ]
    },
    {
      "cell_type": "markdown",
      "id": "227d3535-f08c-4931-b03b-f345496b93da",
      "metadata": {
        "editable": true,
        "id": "227d3535-f08c-4931-b03b-f345496b93da",
        "tags": []
      },
      "source": [
        "# Expressions\n",
        "\n",
        "An _expression_ is something evaluated by the Python interpreter:"
      ]
    },
    {
      "cell_type": "code",
      "execution_count": null,
      "id": "35adeb9e-d63b-4543-bcd3-f272f501a442",
      "metadata": {
        "id": "35adeb9e-d63b-4543-bcd3-f272f501a442",
        "outputId": "d895c48a-3682-476b-e4b9-48361637be25"
      },
      "outputs": [
        {
          "name": "stdout",
          "output_type": "stream",
          "text": [
            "Total field trip lunches: 52\n"
          ]
        }
      ],
      "source": [
        "num_students = 42\n",
        "num_adults = 10\n",
        "total_field_trip_lunches = num_students + num_adults\n",
        "print(\"Total field trip lunches:\", total_field_trip_lunches)"
      ]
    },
    {
      "cell_type": "markdown",
      "id": "c79c8244-e883-4701-8af0-2499e32b474f",
      "metadata": {
        "editable": true,
        "id": "c79c8244-e883-4701-8af0-2499e32b474f",
        "tags": []
      },
      "source": [
        "When `num_students + num_adults` is _evaluated,_ it results in an answer, so it is an __expression__."
      ]
    },
    {
      "cell_type": "markdown",
      "id": "e838eb2a-598d-4c2d-83ab-444d735b400a",
      "metadata": {
        "id": "e838eb2a-598d-4c2d-83ab-444d735b400a"
      },
      "source": [
        "Expressions include __operators__ like `+`, and __operands__ like `num_students` and `num_adults`."
      ]
    },
    {
      "cell_type": "markdown",
      "id": "7fe7ddba-426e-4600-98d9-5191b6ee4ad4",
      "metadata": {
        "editable": true,
        "id": "7fe7ddba-426e-4600-98d9-5191b6ee4ad4",
        "tags": []
      },
      "source": [
        "<div>\n",
        "<img src=\"https://github.com/merriekay/CS65-F23/blob/main/images/day01_operator.png?raw=1\"/ width=400>\n",
        "</div>"
      ]
    },
    {
      "cell_type": "markdown",
      "id": "920c5e21-9a44-41c1-9d06-21e9188f7c19",
      "metadata": {
        "editable": true,
        "id": "920c5e21-9a44-41c1-9d06-21e9188f7c19",
        "tags": []
      },
      "source": [
        "## Arithmetic Operators\n",
        "\n",
        "Python supports all of the arithmetic operators you know and love:\n",
        "- `( )` parentheses\n",
        "- `**` exponents\n",
        "- `*` multiplcation\n",
        "- `/` division\n",
        "- `-` subtraction\n",
        "- `+` addition\n",
        "\n",
        "PEMDAS order of operations"
      ]
    },
    {
      "cell_type": "code",
      "execution_count": null,
      "id": "7c1a1e00-6aef-4f54-bfb1-571c80212eab",
      "metadata": {
        "editable": true,
        "id": "7c1a1e00-6aef-4f54-bfb1-571c80212eab",
        "tags": []
      },
      "outputs": [],
      "source": [
        "val = 6/2*(1+2)\n",
        "print(val)"
      ]
    },
    {
      "cell_type": "code",
      "execution_count": null,
      "id": "1e2e0b70-4b54-4bfc-b6cc-8bd3f865a2a0",
      "metadata": {
        "id": "1e2e0b70-4b54-4bfc-b6cc-8bd3f865a2a0"
      },
      "outputs": [],
      "source": [
        "val = 2**6\n",
        "print(val)"
      ]
    },
    {
      "cell_type": "markdown",
      "id": "1006b994-570f-4702-80aa-6331b8fc16cd",
      "metadata": {
        "editable": true,
        "id": "1006b994-570f-4702-80aa-6331b8fc16cd",
        "tags": []
      },
      "source": [
        "# Exercise: Let's give it a try\n",
        "\n",
        "1. Open Thonny\n",
        "2. Create a new File\n",
        "3. Save it as `Day02Exercise.py`\n",
        "\n",
        "> You may want to consider putting this inside your CS65 folder."
      ]
    },
    {
      "cell_type": "markdown",
      "id": "243795e4-fbae-415b-aa79-a541c977678e",
      "metadata": {
        "editable": true,
        "id": "243795e4-fbae-415b-aa79-a541c977678e",
        "tags": []
      },
      "source": [
        "Create a program that uses a variable and outputs a computation of your choice. Some ideas:\n",
        "- amount of sugar, flour, butter for cookies\n",
        "- BMI calculator\n",
        "- English to metric conversion\n",
        "- Yield on investments\n",
        "- Weight on moon formula\n",
        "\n",
        "Feel free to work with others! I'll leave a few breakout rooms open, if you want to work on your own, say here.\n",
        "\n",
        "Goals:\n",
        "- Get comfortable with Thonny\n",
        "- Make mistakes (and fix them)\n",
        "- Experiment\n",
        "- Have fun!"
      ]
    },
    {
      "cell_type": "markdown",
      "id": "fae0492c-8c7d-4bc8-9afa-da099d661741",
      "metadata": {
        "editable": true,
        "id": "fae0492c-8c7d-4bc8-9afa-da099d661741",
        "tags": []
      },
      "source": [
        "# User Input\n",
        "\n",
        "Python provides a function called `input` that gets input from the keyboard.\n",
        "\n",
        "When this function is called, the program _stops and waits_ for the user to type someting.\n",
        "\n",
        "When the user presses `Return` or `Enter`, the program resumes and `input` returns what the user typed as a string."
      ]
    },
    {
      "cell_type": "code",
      "execution_count": null,
      "id": "54dd27c4-d7db-4b9c-9f52-3d3424c8f5ea",
      "metadata": {
        "id": "54dd27c4-d7db-4b9c-9f52-3d3424c8f5ea",
        "outputId": "51bc1717-9cc7-47f9-ba68-def8a41ff61c"
      },
      "outputs": [
        {
          "name": "stdout",
          "output_type": "stream",
          "text": [
            "Please enter your first name: Meredith\n",
            "Please enter your last name: Moore\n",
            "Ahoy,  Meredith Moore\n"
          ]
        }
      ],
      "source": [
        "first_name = input(\"Please enter your first name: \")\n",
        "last_name = input(\"Please enter your last name: \")\n",
        "print(\"Ahoy, \", first_name, last_name)"
      ]
    },
    {
      "cell_type": "markdown",
      "id": "6a2ebbf1-99ec-4fc5-8671-4637b406ccd1",
      "metadata": {
        "editable": true,
        "id": "6a2ebbf1-99ec-4fc5-8671-4637b406ccd1",
        "tags": []
      },
      "source": [
        "## User Input -- Strings\n",
        "\n",
        "By default, the value of the variable that results from an input statment is a `String`.\n",
        "\n",
        "Strings are very useful, but they are limited in that they only hold a sequence of characters.\n",
        "- As such, you __cannot perform mathematical operations on strings__ or string variables.\n",
        "- if I want the result of the input function to give me a value that I can use in a calculation, I need to convert the string to a numeric format."
      ]
    },
    {
      "cell_type": "markdown",
      "id": "dcdafa58-8321-491b-961e-24eb830e9bac",
      "metadata": {
        "editable": true,
        "id": "dcdafa58-8321-491b-961e-24eb830e9bac",
        "tags": []
      },
      "source": [
        "# Numerical Formats:\n",
        "\n",
        "Python has two main forms of numbers:\n",
        "- `int` -- short for integer. these are whole nubmers that are not a fraction.\n",
        "    - examples are 0, 4, 24, -12\n",
        "- `float` -- floats are numbers with a decimal point. Float is short for 'floating-point' numbers.\n",
        "    - examples are 1.3, -34.5, 5.0, 0.0\n"
      ]
    },
    {
      "cell_type": "markdown",
      "id": "ef1194cb-944d-4b1a-95d8-6f7f6e2d8118",
      "metadata": {
        "editable": true,
        "id": "ef1194cb-944d-4b1a-95d8-6f7f6e2d8118",
        "tags": []
      },
      "source": [
        "# This will cause an error... Why?"
      ]
    },
    {
      "cell_type": "code",
      "execution_count": null,
      "id": "1e34e813-f4a6-4a67-b357-219516a81706",
      "metadata": {
        "editable": true,
        "id": "1e34e813-f4a6-4a67-b357-219516a81706",
        "tags": []
      },
      "outputs": [],
      "source": [
        "num_cookies = input(\"How many cookies would you like to make?\")\n",
        "ratio = num_cookies/48"
      ]
    },
    {
      "cell_type": "markdown",
      "id": "ca9ba274-2b9c-4269-80b9-2f2c20fb3c60",
      "metadata": {
        "editable": true,
        "id": "ca9ba274-2b9c-4269-80b9-2f2c20fb3c60",
        "tags": []
      },
      "source": [
        "# `int()` and `float()` for calculations\n",
        "\n",
        "If you expect the user to type an `integer` or `float`, you can try to convert the return value to int using the `int()` or `float()` function:"
      ]
    },
    {
      "cell_type": "code",
      "execution_count": null,
      "id": "8db9f001-98a6-4371-98e7-a987f59b3791",
      "metadata": {
        "editable": true,
        "id": "8db9f001-98a6-4371-98e7-a987f59b3791",
        "outputId": "66394b7f-4599-4568-afe8-1ad774e0a910",
        "scrolled": true,
        "tags": []
      },
      "outputs": [
        {
          "name": "stdout",
          "output_type": "stream",
          "text": [
            "how many cookies would you like to make? 38\n",
            "you will need 1.1875 cups of sugar.\n"
          ]
        }
      ],
      "source": [
        "num_cookies = int(input(\"how many cookies would you like to make? \"))\n",
        "ratio = num_cookies/48\n",
        "sugar = ratio*1.5\n",
        "print(\"you will need\", sugar, \"cups of sugar.\")"
      ]
    },
    {
      "cell_type": "markdown",
      "id": "efb5e3b1-6bb8-4952-9e9d-9a850ae60a76",
      "metadata": {
        "editable": true,
        "id": "efb5e3b1-6bb8-4952-9e9d-9a850ae60a76",
        "tags": []
      },
      "source": [
        "# 💪🏻 Exercise:\n",
        "\n",
        "Update your code from earlier to allow a user to enter a value into your calculation:"
      ]
    },
    {
      "cell_type": "code",
      "execution_count": null,
      "id": "87068bde-a392-46d0-a9db-cad161172cba",
      "metadata": {
        "editable": true,
        "id": "87068bde-a392-46d0-a9db-cad161172cba",
        "tags": []
      },
      "outputs": [],
      "source": []
    },
    {
      "cell_type": "markdown",
      "id": "a75aae61-39a3-4d6e-a42f-69de98d75c01",
      "metadata": {
        "editable": true,
        "id": "a75aae61-39a3-4d6e-a42f-69de98d75c01",
        "tags": []
      },
      "source": [
        "# Type\n",
        "\n",
        "All __data__ has a __type__ which defines what kind of thing it is and what you can do with it."
      ]
    },
    {
      "cell_type": "code",
      "execution_count": null,
      "id": "e9d830c8-3251-4f6c-bd80-862f042559e3",
      "metadata": {
        "id": "e9d830c8-3251-4f6c-bd80-862f042559e3"
      },
      "outputs": [],
      "source": [
        "num_students = 42 # whole numbers\n",
        "avg_gas_estimate = 2.7 # numbers with decimal point\n",
        "print(\"Hello world!\") # text data (strings)"
      ]
    },
    {
      "cell_type": "markdown",
      "id": "207b42b1-cef0-4b78-b784-00873a377098",
      "metadata": {
        "editable": true,
        "id": "207b42b1-cef0-4b78-b784-00873a377098",
        "tags": []
      },
      "source": [
        "## Type Examples:\n",
        "\n",
        "`integer`: whole numbers\n",
        "- 4, 144, -235"
      ]
    },
    {
      "cell_type": "markdown",
      "id": "a5be51cd-16ff-4fea-982d-a6c6807af00a",
      "metadata": {
        "id": "a5be51cd-16ff-4fea-982d-a6c6807af00a"
      },
      "source": [
        "`floating point`: numbers with decimal points\n",
        "- 2.56, -2.4, 5.0"
      ]
    },
    {
      "cell_type": "markdown",
      "id": "92ddcdce-f1a4-4497-9727-29f2d89e0404",
      "metadata": {
        "id": "92ddcdce-f1a4-4497-9727-29f2d89e0404"
      },
      "source": [
        "`string`: text data\n",
        "- \"Hello wolrd\", \"Nice to meet you\", \"She ate 20 apples\""
      ]
    },
    {
      "cell_type": "markdown",
      "id": "4e9462b4-11b9-481e-912a-48c06e565eaa",
      "metadata": {
        "editable": true,
        "id": "4e9462b4-11b9-481e-912a-48c06e565eaa",
        "tags": []
      },
      "source": [
        "## The `type()` function\n",
        "\n",
        "Not sure what the type of a variable is? Python provides an easy way to check the type of any variable or expression, it's called `type()`"
      ]
    },
    {
      "cell_type": "code",
      "execution_count": null,
      "id": "7ffa8dcc-c230-4e9a-a166-e046d0b10b9e",
      "metadata": {
        "editable": true,
        "id": "7ffa8dcc-c230-4e9a-a166-e046d0b10b9e",
        "outputId": "6f395c18-504f-49c0-f67d-97080d8a6718",
        "scrolled": true,
        "tags": []
      },
      "outputs": [
        {
          "name": "stdout",
          "output_type": "stream",
          "text": [
            "<class 'int'>\n",
            "<class 'float'>\n",
            "<class 'str'>\n"
          ]
        }
      ],
      "source": [
        "num_dogs = 2\n",
        "miles_walked_per_day = 1.5\n",
        "dogs_name = \"Zoey\"\n",
        "\n",
        "print(type(num_dogs))\n",
        "print(type(miles_walked_per_day))\n",
        "print(type(dogs_name))"
      ]
    },
    {
      "cell_type": "markdown",
      "id": "0044eeb5-b757-4457-a572-041c8eded306",
      "metadata": {
        "editable": true,
        "id": "0044eeb5-b757-4457-a572-041c8eded306",
        "tags": []
      },
      "source": [
        "## What will be output?"
      ]
    },
    {
      "cell_type": "code",
      "execution_count": null,
      "id": "3f0ff15c-1f27-407c-9159-6f66ee7207e9",
      "metadata": {
        "editable": true,
        "id": "3f0ff15c-1f27-407c-9159-6f66ee7207e9",
        "tags": []
      },
      "outputs": [],
      "source": [
        "num_students = 42\n",
        "avg_gas_estimate = 3.70\n",
        "print(\"Hello world!\")\n",
        "\n",
        "print(type(2.70))\n",
        "print(type(avg_gas_estimate))\n",
        "print(type(num_students))"
      ]
    },
    {
      "cell_type": "markdown",
      "id": "30d5b148-a00b-4255-a7e1-a2cbbb895655",
      "metadata": {
        "editable": true,
        "id": "30d5b148-a00b-4255-a7e1-a2cbbb895655",
        "tags": []
      },
      "source": [
        "# Expressions on Strings:\n",
        "\n",
        "We've seen how arithmetic operators work on numerical types like ints and floats.\n",
        "\n",
        "__Strings__ have their own operators too - and some look like arithmetic operators!"
      ]
    },
    {
      "cell_type": "code",
      "execution_count": null,
      "id": "0e2e5161-460c-45f2-bfcc-73f0abd6ca10",
      "metadata": {
        "id": "0e2e5161-460c-45f2-bfcc-73f0abd6ca10"
      },
      "outputs": [],
      "source": [
        "greeting = \"Hello\"\n",
        "name = \"Professor Moore\"\n",
        "print(greeting + name)\n",
        "\n",
        "# what do you think will happen?"
      ]
    },
    {
      "cell_type": "markdown",
      "id": "69a5b643-af62-4d03-914f-96d34fc8d50c",
      "metadata": {
        "editable": true,
        "id": "69a5b643-af62-4d03-914f-96d34fc8d50c",
        "tags": []
      },
      "source": [
        "## How about this one?"
      ]
    },
    {
      "cell_type": "code",
      "execution_count": null,
      "id": "070e421a-3515-42bc-accc-d9e11e40fd88",
      "metadata": {
        "id": "070e421a-3515-42bc-accc-d9e11e40fd88"
      },
      "outputs": [],
      "source": [
        "greeting = \"Hello\"\n",
        "name = \"Professor Moore\"\n",
        "print(greeting + name)\n",
        "\n",
        "print(greeting - name)"
      ]
    },
    {
      "cell_type": "markdown",
      "id": "425ad681-57cf-4b56-b9a4-40113b1b7629",
      "metadata": {
        "editable": true,
        "id": "425ad681-57cf-4b56-b9a4-40113b1b7629",
        "tags": []
      },
      "source": [
        "## Other Operations:\n",
        "\n",
        "The `len` function will output the number of characters that a string has:"
      ]
    },
    {
      "cell_type": "code",
      "execution_count": null,
      "id": "fe66b05a-3089-4927-8567-b137a5415313",
      "metadata": {
        "id": "fe66b05a-3089-4927-8567-b137a5415313",
        "outputId": "99ffb591-04c3-425b-bd26-feb8177944b3"
      },
      "outputs": [
        {
          "data": {
            "text/plain": [
              "5"
            ]
          },
          "execution_count": 4,
          "metadata": {},
          "output_type": "execute_result"
        }
      ],
      "source": [
        "len(\"Hello\")"
      ]
    },
    {
      "cell_type": "code",
      "execution_count": null,
      "id": "f215776f-9918-4ae5-b25a-3014d3c337d0",
      "metadata": {
        "id": "f215776f-9918-4ae5-b25a-3014d3c337d0",
        "outputId": "fb2b1e07-fab8-40b4-fc53-1cc85f3fc62e"
      },
      "outputs": [
        {
          "data": {
            "text/plain": [
              "3"
            ]
          },
          "execution_count": 5,
          "metadata": {},
          "output_type": "execute_result"
        }
      ],
      "source": [
        "len(\"123\")"
      ]
    },
    {
      "cell_type": "code",
      "execution_count": null,
      "id": "9f133d42-b2b2-4f0c-8df2-0ec4e1a719bd",
      "metadata": {
        "id": "9f133d42-b2b2-4f0c-8df2-0ec4e1a719bd",
        "outputId": "63230665-9fd9-4a42-ea10-84fdcde78a84"
      },
      "outputs": [
        {
          "data": {
            "text/plain": [
              "44"
            ]
          },
          "execution_count": 6,
          "metadata": {},
          "output_type": "execute_result"
        }
      ],
      "source": [
        "len(\"The quick brown fox jumped over the lazy dog\")"
      ]
    },
    {
      "cell_type": "markdown",
      "id": "429f2d95-d4e6-4779-8ca4-36fad3cb964e",
      "metadata": {
        "editable": true,
        "id": "429f2d95-d4e6-4779-8ca4-36fad3cb964e",
        "tags": []
      },
      "source": [
        "## What do you think will happen here?"
      ]
    },
    {
      "cell_type": "code",
      "execution_count": null,
      "id": "dafeb0fc-9803-4e02-8e90-6587666b682f",
      "metadata": {
        "id": "dafeb0fc-9803-4e02-8e90-6587666b682f"
      },
      "outputs": [],
      "source": [
        "val = \"32\"\n",
        "print( type(val) )\n",
        "print( type(len(val)) )"
      ]
    },
    {
      "cell_type": "markdown",
      "id": "9bc12a07-a596-4262-b041-0054d6675c1a",
      "metadata": {
        "editable": true,
        "id": "9bc12a07-a596-4262-b041-0054d6675c1a",
        "tags": []
      },
      "source": [
        "# Other Types\n",
        "\n",
        "There are several other built-in types that we'll hear morea bout later like:\n",
        "- `Boolean`: can have one of two values-- `True` or `False`\n",
        "- `List`: for keeping track of a sequence of values"
      ]
    },
    {
      "cell_type": "markdown",
      "id": "c9e5aab7-7b72-47c1-84e0-2b1835653a1f",
      "metadata": {
        "editable": true,
        "id": "c9e5aab7-7b72-47c1-84e0-2b1835653a1f",
        "tags": []
      },
      "source": [
        "# Let's build a temperature converter!\n",
        "\n",
        "The formula for converting Fahrenheit temperatures to Celsius is:\n",
        "\n",
        "$ C = (F - 32) * \\frac{5}{9} $"
      ]
    },
    {
      "cell_type": "markdown",
      "id": "39cf1d7a-1cf6-41b4-91ab-d417a615db66",
      "metadata": {
        "editable": true,
        "id": "39cf1d7a-1cf6-41b4-91ab-d417a615db66",
        "tags": []
      },
      "source": [
        "# Exercise #1:\n",
        "\n",
        "Create a file called `Temperature.py`\n",
        "\n",
        "Type in the following code:"
      ]
    },
    {
      "cell_type": "code",
      "execution_count": null,
      "id": "a0f37471-db5b-4abd-896f-60e19162a33b",
      "metadata": {
        "id": "a0f37471-db5b-4abd-896f-60e19162a33b"
      },
      "outputs": [],
      "source": [
        "fahrenheit_temp = input(\"Enter the temperature in Fahrenheit \")\n",
        "celsius_temp = (fahrenheit_temp - 32) * (5/9)\n",
        "print(\"That's\", celcius_temp, \"in Celsius\")"
      ]
    },
    {
      "cell_type": "markdown",
      "id": "ebd6a52b-9305-423e-a468-6697179de022",
      "metadata": {
        "id": "ebd6a52b-9305-423e-a468-6697179de022"
      },
      "source": [
        "Will it work? Why or why not?"
      ]
    },
    {
      "cell_type": "markdown",
      "id": "cf2768de-9216-4d8a-89d9-64c7dfc3fbc4",
      "metadata": {
        "editable": true,
        "id": "cf2768de-9216-4d8a-89d9-64c7dfc3fbc4",
        "tags": []
      },
      "source": [
        "# Converting a string to an integer\n",
        "\n",
        "Forunately, there's a built-in function we can use to convert something to an integer:\n",
        "- `int()`"
      ]
    },
    {
      "cell_type": "markdown",
      "id": "9dc92f38-83f8-4d8a-8b16-988d4fb0bdb0",
      "metadata": {
        "editable": true,
        "id": "9dc92f38-83f8-4d8a-8b16-988d4fb0bdb0",
        "tags": []
      },
      "source": [
        "## TemperatureConverterTry2.py"
      ]
    },
    {
      "cell_type": "code",
      "execution_count": null,
      "id": "6cd12a71-99f3-49e8-a2cd-88f84cd00e8f",
      "metadata": {
        "id": "6cd12a71-99f3-49e8-a2cd-88f84cd00e8f",
        "outputId": "441baaf7-2608-4eb6-e467-ba2b74b7cf3f"
      },
      "outputs": [
        {
          "name": "stdout",
          "output_type": "stream",
          "text": [
            "Enter the temperature in Fahrenheit 75\n",
            "That's 23.88888888888889 in Celsius\n"
          ]
        }
      ],
      "source": [
        "fahrenheit_temp_str = input(\"Enter the temperature in Fahrenheit \")\n",
        "fahrenheit_temp_int = int(fahrenheit_temp_str)\n",
        "\n",
        "celsius_temp = (fahrenheit_temp_int - 32) * (5/9)\n",
        "print(\"That's\", celsius_temp, \"in Celsius\")"
      ]
    },
    {
      "cell_type": "markdown",
      "id": "5852b37e-fb26-48ba-8db0-8a52e37d75ad",
      "metadata": {
        "id": "5852b37e-fb26-48ba-8db0-8a52e37d75ad"
      },
      "source": [
        "or... you can do it in one step:"
      ]
    },
    {
      "cell_type": "code",
      "execution_count": null,
      "id": "da365451-f866-4845-a832-377f6622659d",
      "metadata": {
        "id": "da365451-f866-4845-a832-377f6622659d",
        "outputId": "be9c5663-a3e9-4cc0-8da5-10585666c943"
      },
      "outputs": [
        {
          "name": "stdout",
          "output_type": "stream",
          "text": [
            "Enter the temperature in Fahrenheit 75\n",
            "That's 23.88888888888889 in Celsius\n"
          ]
        }
      ],
      "source": [
        "fahrenheit_temp = int(input(\"Enter the temperature in Fahrenheit \"))\n",
        "celsius_temp = (fahrenheit_temp - 32) * (5/9)\n",
        "print(\"That's\", celsius_temp, \"in Celsius\")"
      ]
    },
    {
      "cell_type": "markdown",
      "id": "905609e7-9513-4009-af87-3e1f1b263158",
      "metadata": {
        "editable": true,
        "id": "905609e7-9513-4009-af87-3e1f1b263158",
        "tags": []
      },
      "source": [
        "## A Tricky Question:\n",
        "\n",
        "What would happen if the user typed a floating-point value like 72.5?"
      ]
    },
    {
      "cell_type": "code",
      "execution_count": null,
      "id": "8ee2b8e1-339e-4242-80e5-09c0611a42d9",
      "metadata": {
        "id": "8ee2b8e1-339e-4242-80e5-09c0611a42d9"
      },
      "outputs": [],
      "source": [
        "fahrenheit_temp_str = int(input(\"Enter the temperature in Fahrenheit \"))\n",
        "fahrenheit_temp_int = int(fahrenheit_temp_str)\n",
        "celsius_temp = (fahrenheit_temp_int - 32) * (5/9)\n",
        "print(\"That's\", celsius_temp, \"in Celsius\")"
      ]
    },
    {
      "cell_type": "markdown",
      "id": "38698ac8-f7d7-4589-8ef5-428cf6fe1bbf",
      "metadata": {
        "editable": true,
        "id": "38698ac8-f7d7-4589-8ef5-428cf6fe1bbf",
        "tags": []
      },
      "source": [
        "## Other Type Conversion Functions\n",
        "\n",
        "Convert to a floating-point types with `float()`\n",
        "\n",
        "Convert to a string with `str()`"
      ]
    },
    {
      "cell_type": "code",
      "execution_count": null,
      "id": "32dfe48d-084c-47a0-a6ad-bf04f0c4913c",
      "metadata": {
        "id": "32dfe48d-084c-47a0-a6ad-bf04f0c4913c",
        "outputId": "20ee4e55-2eb2-47b1-f4f8-468c5f8bf080"
      },
      "outputs": [
        {
          "name": "stdout",
          "output_type": "stream",
          "text": [
            "Enter the temperature in Fahrenheit 72.5\n",
            "That's 22.22222222222222 in Celsius\n"
          ]
        }
      ],
      "source": [
        "fahrenheit_temp_str = float(input(\"Enter the temperature in Fahrenheit \"))\n",
        "fahrenheit_temp_int = int(fahrenheit_temp_str)\n",
        "celsius_temp = (fahrenheit_temp_int - 32) * (5/9)\n",
        "print(\"That's\", celsius_temp, \"in Celsius\")"
      ]
    },
    {
      "cell_type": "markdown",
      "id": "beff143c-b647-470c-ac2d-da8824a56ef4",
      "metadata": {
        "editable": true,
        "id": "beff143c-b647-470c-ac2d-da8824a56ef4",
        "tags": []
      },
      "source": [
        "<div>\n",
        "<img src=\"https://github.com/merriekay/CS65-F23/blob/main/images/day02_type_conversion.png?raw=1\"/ width=800>\n",
        "</div>"
      ]
    },
    {
      "cell_type": "markdown",
      "id": "8b6d7520-ef11-4e58-a821-6ec6fa93f22e",
      "metadata": {
        "editable": true,
        "id": "8b6d7520-ef11-4e58-a821-6ec6fa93f22e",
        "tags": []
      },
      "source": [
        "## Let's try something else:"
      ]
    },
    {
      "cell_type": "code",
      "execution_count": null,
      "id": "e557fac8-f389-495d-93c2-9137cefadbad",
      "metadata": {
        "id": "e557fac8-f389-495d-93c2-9137cefadbad"
      },
      "outputs": [],
      "source": [
        "target_number = 42\n",
        "# the code below will break, any ideas why?\n",
        "user_input = int(input(\"please enter a number larger than\", target_number))"
      ]
    },
    {
      "cell_type": "code",
      "execution_count": null,
      "id": "441525e1-d045-4558-bf39-aa91cef035bd",
      "metadata": {
        "editable": true,
        "id": "441525e1-d045-4558-bf39-aa91cef035bd",
        "outputId": "3bc3646f-44f2-49e5-e621-981761d9144d",
        "tags": []
      },
      "outputs": [
        {
          "name": "stdout",
          "output_type": "stream",
          "text": [
            "Enter a number greater than 4249\n"
          ]
        }
      ],
      "source": [
        "target_number - 42\n",
        "\n",
        "user_input = int(input(\"Enter a number greater than \" + str(target_number)))"
      ]
    },
    {
      "cell_type": "code",
      "execution_count": null,
      "id": "b75d7b9d-132b-4f40-ad85-bb03d6add40a",
      "metadata": {
        "editable": true,
        "id": "b75d7b9d-132b-4f40-ad85-bb03d6add40a",
        "outputId": "4ababf9e-2c0e-4462-fc30-ccabc26bb7b5",
        "scrolled": true,
        "tags": []
      },
      "outputs": [
        {
          "name": "stdout",
          "output_type": "stream",
          "text": [
            "<class 'bool'>\n",
            "<class 'list'>\n"
          ]
        }
      ],
      "source": [
        "print( type(False) )\n",
        "print( type([1,2,3]) )"
      ]
    },
    {
      "cell_type": "markdown",
      "id": "2f4f53fe-21e6-4310-8f38-c27781e63d79",
      "metadata": {
        "editable": true,
        "id": "2f4f53fe-21e6-4310-8f38-c27781e63d79",
        "tags": []
      },
      "source": [
        "# Lab #1:\n",
        "\n",
        "[Lab01 Description](https://analytics.drake.edu/~moore/CS65-F24/Lab01.html)\n",
        "\n",
        "Due Monday 9/9 by 11:59 pm\n",
        "\n",
        "Four 'exercises' (and 'reflections') that are there to provide a hands-on walkthrough of additional content and experimentation with Python and Thonny.\n",
        "\n",
        "__Challenge Exercise__ -- this is what you 'hand-in' via CodePost.\n",
        "- For Lab #1, this is just a simple program that prints out \"Hello world!\" (note that the capitalization is important)."
      ]
    }
  ],
  "metadata": {
    "kernelspec": {
      "display_name": "Python 3 (ipykernel)",
      "language": "python",
      "name": "python3"
    },
    "language_info": {
      "codemirror_mode": {
        "name": "ipython",
        "version": 3
      },
      "file_extension": ".py",
      "mimetype": "text/x-python",
      "name": "python",
      "nbconvert_exporter": "python",
      "pygments_lexer": "ipython3",
      "version": "3.12.4"
    },
    "colab": {
      "provenance": [],
      "include_colab_link": true
    }
  },
  "nbformat": 4,
  "nbformat_minor": 5
}
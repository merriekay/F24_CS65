{
 "cells": [
  {
   "cell_type": "markdown",
   "id": "eac0c7e5-2d89-4a33-9ee4-f6ba51915527",
   "metadata": {
    "editable": true,
    "slideshow": {
     "slide_type": "skip"
    },
    "tags": []
   },
   "source": [
    "<a href=\"https://github.com/merriekay/F24_CS65/blob/main/Day15_practice.ipynb\" target=\"_parent\"><img src=\"https://colab.research.google.com/assets/colab-badge.svg\" alt=\"Open In Colab\"/></a>"
   ]
  },
  {
   "cell_type": "markdown",
   "id": "b4403fdf-b40c-4181-b486-34e3ecd18fba",
   "metadata": {
    "editable": true,
    "slideshow": {
     "slide_type": ""
    },
    "tags": []
   },
   "source": [
    "# CS65: Day 14\n",
    "\n",
    "## Practice Problems: Lists, Loops, Functions and Files\n",
    "### CS65: Introduction to Computer Science I | Fall 2024\n",
    "\n",
    "*Wednesday, October 23rd,2024*\n",
    "\n",
    "### Helpful Resources:\n",
    "[📜 Syllabus](https://docs.google.com/document/d/1nqjmD0yhOOh2gaPwxfjV4EY_dBUIQUur1fvqQ4YPJLA/edit?usp=sharing) | [📬 CodePost Login](https://codepost.io/login) | [📆 Schedule](https://docs.google.com/spreadsheets/d/1Q5-ArPnXwjejKjXSI8WKgF7A2HRAam6Ny3eNA7EHn18/edit?usp=sharing) | [🙋‍♂️ PollEverywhere](https://pollev.com/moore) | [🪴 Office Hour Sign-Up](https://calendly.com/meredith-moore/office-hours)\n",
    "\n",
    "> **Note to self:** Make sure you're recording, silly goose!"
   ]
  },
  {
   "cell_type": "markdown",
   "id": "699f2866-17fa-47ec-8854-1d890dcac61f",
   "metadata": {
    "editable": true,
    "slideshow": {
     "slide_type": "slide"
    },
    "tags": []
   },
   "source": [
    "# Announcements"
   ]
  },
  {
   "cell_type": "markdown",
   "id": "8c61c924-5785-4e21-9d9f-5d0e02a73195",
   "metadata": {
    "editable": true,
    "slideshow": {
     "slide_type": "fragment"
    },
    "tags": []
   },
   "source": [
    "### Registration: \n",
    "\n",
    "Enjoying this class? Consider adding:\n",
    "- [Computer Science major/minor](https://catalog.drake.edu/undergraduate/collegeofartsandsciences/areas/cs/)\n",
    "- [Artificial Intelligence major/minor](https://www.drake.edu/artificial-intelligence/)\n",
    "- [Data Analytics major/minor](https://www.drake.edu/analytics/majorandminor/)\n",
    "- __Bonus__: here's my [CS Advising Checklist](https://docs.google.com/spreadsheets/d/1hJwifa2sSStyz6gKWryZDlGrIkfJQXqcD0bZNQeAobg/edit?usp=sharing)"
   ]
  },
  {
   "cell_type": "markdown",
   "id": "45950ff8-a0f9-45b5-a1b2-8bd9e524e382",
   "metadata": {
    "editable": true,
    "slideshow": {
     "slide_type": ""
    },
    "tags": []
   },
   "source": [
    "These classes are up next:\n",
    "- __CS66__: Intro to Computer Science II\n",
    "    - Monday / Wednesday 9:30 - 10:45, or 11:00 - 12:15\n",
    "- __CS120__: Human-Computer Interaction\n",
    "    - Monday / Wednesday 2:00 - 3:15"
   ]
  },
  {
   "cell_type": "markdown",
   "id": "e09dbd8e-e679-4ca9-aa18-47d752406216",
   "metadata": {
    "editable": true,
    "slideshow": {
     "slide_type": "fragment"
    },
    "tags": []
   },
   "source": [
    "### Assignments:\n",
    "- __Extension__! [Lab #8](https://analytics.drake.edu/~moore/CS65-F24/Lab8.html) due Friday October 25th by 11:59pm to codePost"
   ]
  },
  {
   "cell_type": "markdown",
   "id": "aca48562-2c3d-490c-b243-3baddf04f77f",
   "metadata": {
    "editable": true,
    "slideshow": {
     "slide_type": ""
    },
    "tags": []
   },
   "source": [
    "# Midterm Evaluations:\n",
    "\n",
    "I value your feedback and often make changes to the course based on the results of this survey, so please take a few minutes to fill this out:\n",
    "[https://forms.gle/bQ5EGncr1HG8xM1k8](https://forms.gle/bQ5EGncr1HG8xM1k8)"
   ]
  },
  {
   "cell_type": "markdown",
   "id": "66612218-6019-402d-a8a0-c9292973ce27",
   "metadata": {
    "editable": true,
    "id": "jTRrZEvXsoYX",
    "slideshow": {
     "slide_type": "slide"
    },
    "tags": []
   },
   "source": [
    "# ⏪ Quick Review:"
   ]
  },
  {
   "cell_type": "markdown",
   "id": "35fe4a55-7204-4047-a6ce-c601599372dc",
   "metadata": {
    "editable": true,
    "id": "kea7gIkwsoYp",
    "jp-MarkdownHeadingCollapsed": true,
    "slideshow": {
     "slide_type": "slide"
    },
    "tags": []
   },
   "source": [
    "## List Operation Summary:\n",
    "Last class we talked about **lists**\n",
    "\n",
    "| **Code**                     | **Operation**                                           |\n",
    "|:------------------------------|:---------------------------------------------------------|\n",
    "| `list_sum = sum(my_list)`    | Returns the sum of the elements in the list             |\n",
    "| `num_elements= len(my_list)` | returns number of elements in list                      |\n",
    "| `my_list[1] = 3`             | changes element of the list at index 1                  |\n",
    "| `del my_list[3]`             | deletes element of list at index 3                      |\n",
    "| `my_list.append(7)`          | adds the element 7 to the ened of the list              |\n",
    "| `my_list.pop(2)`             | removes the element at index 2 (also returns the value) |\n",
    "| `my_list.sort()`             | Sorts the list in ascending order                       |\n",
    "| `my_list.sort(reverse=True)` | Sorts the list in descending order                      |\n",
    "| `my_list.reverse()`          | reverses the list                                       |"
   ]
  },
  {
   "cell_type": "markdown",
   "id": "b647c606-1169-42d6-9844-08ed088be029",
   "metadata": {
    "editable": true,
    "id": "CED8eg3ysoYo",
    "slideshow": {
     "slide_type": "slide"
    },
    "tags": []
   },
   "source": [
    "# 🍕 List Slicing:\n",
    "Sometimes you want to work with not just one element, but multiple elements from a list. To do this, we use what is called __list slicing__.\n",
    "\n",
    "A __slice__ of a list is a span of items that are taken from a sequence.\n",
    "- list slicing syntax: `list[ start : end ] `\n",
    "- Span is a list containing copies of elements from `start` up to, but __not including__ `end`\n",
    "- if `start` is not specified, 0 is used for start index\n",
    "- if `end` is not specified, `len(list)` is used for the end index."
   ]
  },
  {
   "cell_type": "markdown",
   "id": "2858c54f-341b-4896-b353-7e8675dcdb99",
   "metadata": {
    "editable": true,
    "slideshow": {
     "slide_type": "slide"
    },
    "tags": []
   },
   "source": [
    "# Let's talk about memory\n",
    "\n",
    "When your program executes, the memory it uses is __Random Access Memory (RAM)__. \n",
    "- __RAM__ is volatile, which means that it requires power to maintain stored values."
   ]
  },
  {
   "cell_type": "markdown",
   "id": "0ce5ddd5-f8ac-4cc0-b5cd-916523b6487c",
   "metadata": {
    "editable": true,
    "slideshow": {
     "slide_type": "fragment"
    },
    "tags": []
   },
   "source": [
    "For a program to retain data between the times it is run, you must __save the data__.\n",
    "- Data is saved to a __file__, typically on a computer disk (hard drive)\n",
    "    - Hard drives are __*not*__ volatile.\n",
    "- __Saved Data__ can be retrieved and used at a later time."
   ]
  },
  {
   "cell_type": "markdown",
   "id": "2f018748-bbfc-4ba1-9d98-09e5ae6d9bb7",
   "metadata": {
    "editable": true,
    "slideshow": {
     "slide_type": "slide"
    },
    "tags": []
   },
   "source": [
    "# File Access\n",
    "\n",
    "Two ways to access data stored in a file:\n",
    "1. __Direct (Random) Access__: can jump directly to any piece of data in the file. Main memory uses random access.\n",
    "2. __Sequential Access__: file read sequentially from beginning to end, can't skip ahead. Files use sequential access."
   ]
  },
  {
   "cell_type": "markdown",
   "id": "296021b4-114c-4344-b738-32cbf83d53bb",
   "metadata": {
    "editable": true,
    "slideshow": {
     "slide_type": "slide"
    },
    "tags": []
   },
   "source": [
    "## `with` statements\n",
    "\n",
    "A `with` statement can be used to open a file, execute a block of statements and automatically close the file when complete."
   ]
  },
  {
   "cell_type": "code",
   "execution_count": 48,
   "id": "7c0e5f17-b235-402c-814e-d2a1bfffd69e",
   "metadata": {
    "editable": true,
    "scrolled": true,
    "slideshow": {
     "slide_type": ""
    },
    "tags": []
   },
   "outputs": [
    {
     "name": "stdout",
     "output_type": "stream",
     "text": [
      "Socrates\n",
      "Plato\n",
      "Aristotle\n"
     ]
    }
   ],
   "source": [
    "def main():\n",
    "    # open a file named `address.txt` for reading using with clause\n",
    "    with open(\"philosophers.txt\") as infile:\n",
    "        #read lines from file\n",
    "        line1 = infile.readline().rstrip(\"\\n\")\n",
    "        line2 = infile.readline().rstrip(\"\\n\")\n",
    "        line3 = infile.readline().rstrip(\"\\n\")\n",
    "        \n",
    "    # no need to close the file when using with\n",
    "\n",
    "    # print out the lines\n",
    "    print(line1)\n",
    "    print(line2)\n",
    "    print(line3)\n",
    "\n",
    "main()"
   ]
  },
  {
   "cell_type": "markdown",
   "id": "885cb7da-3208-4323-a6a1-ed08d938009c",
   "metadata": {
    "editable": true,
    "slideshow": {
     "slide_type": "slide"
    },
    "tags": []
   },
   "source": [
    "## Reading a List from a File\n",
    "\n",
    "`read()` returns the _entire file contents_ as a string\n",
    "\n",
    "`readlines()` returns a _list of strings_ where the first element is the contents of the first line, the second element is the contents of the second line, and so on."
   ]
  },
  {
   "cell_type": "code",
   "execution_count": 50,
   "id": "a5c02942-2a8b-4aaf-a9db-7e250e9d72f2",
   "metadata": {
    "editable": true,
    "scrolled": true,
    "slideshow": {
     "slide_type": ""
    },
    "tags": []
   },
   "outputs": [
    {
     "name": "stdout",
     "output_type": "stream",
     "text": [
      "1474\n",
      "Four score and seven years ago our fathers brought forth on this continent, a new nation, conceived in Liberty, and dedicated to the proposition that all men are created equal.\n",
      "Now we are engaged in a great civil war, testing whether that nation, or any nation so conceived and so dedicated, can long endure. We are met on a great battle-field of that war. We have come to dedicate a portion of that field, as a final resting place for those who here gave their lives that that nation might live. It is altogether fitting and proper that we should do this.\n",
      "But, in a larger sense, we can not dedicate -- we can not consecrate -- we can not hallow -- this ground. The brave men, living and dead, who struggled here, have consecrated it, far above our poor power to add or detract. The world will little note, nor long remember what we say here, but it can never forget what they did here. It is for us the living, rather, to be dedicated here to the unfinished work which they who fought here have thus far so nobly advanced. It is rather for us to be here dedicated to the great task remaining before us -- that from these honored dead we take increased devotion to that cause for which they gave the last full measure of devotion -- that we here highly resolve that these dead shall not have died in vain -- that this nation, under God, shall have a new birth of freedom -- and that government of the people, by the people, for the people, shall not perish from the earth.\n",
      "\n"
     ]
    }
   ],
   "source": [
    "def main():\n",
    "    # opening the file named \"gettysburg.txt\" for reading usng with clause\n",
    "    with open(\"gettysburg.txt\", \"r\") as infile:\n",
    "        # using .read() which returns the contents of the file in a big string\n",
    "        content = infile.read()\n",
    "        \n",
    "    print(len(content))\n",
    "    print(content)\n",
    "    \n",
    "main()"
   ]
  },
  {
   "cell_type": "markdown",
   "id": "9a118d7e-bbbf-4f71-aa80-16099712533b",
   "metadata": {
    "editable": true,
    "slideshow": {
     "slide_type": "slide"
    },
    "tags": []
   },
   "source": [
    "## Splitlines\n",
    "\n",
    "An alternative to using `readlines()` to process the elements of a file is to use `read().splitlines()`\n",
    "\n",
    "What's the difference?"
   ]
  },
  {
   "cell_type": "code",
   "execution_count": 51,
   "id": "ce0a099b-0597-4ef9-91bc-e1e74b0bc358",
   "metadata": {
    "editable": true,
    "slideshow": {
     "slide_type": ""
    },
    "tags": []
   },
   "outputs": [
    {
     "name": "stdout",
     "output_type": "stream",
     "text": [
      "['This is one line', ' and this is another, ', \" here's one more\"]\n"
     ]
    }
   ],
   "source": [
    "text = \"This is one line\\n and this is another, \\n here's one more\"\n",
    "split = text.splitlines()\n",
    "print(split)"
   ]
  },
  {
   "cell_type": "markdown",
   "id": "edebf66b-89b5-43f0-aee0-5b754a5af9a1",
   "metadata": {
    "editable": true,
    "id": "JW2Otr2bsoYZ",
    "jp-MarkdownHeadingCollapsed": true,
    "slideshow": {
     "slide_type": "slide"
    },
    "tags": []
   },
   "source": [
    "# ✨ New Material"
   ]
  },
  {
   "cell_type": "markdown",
   "id": "00cd2663-d73a-4e56-a080-6e57baa26f78",
   "metadata": {
    "editable": true,
    "slideshow": {
     "slide_type": "slide"
    },
    "tags": []
   },
   "source": [
    "# Practice Exercises:"
   ]
  },
  {
   "cell_type": "markdown",
   "id": "b7cb135b-d1c9-40a2-a1d2-5ff218cf52aa",
   "metadata": {
    "editable": true,
    "slideshow": {
     "slide_type": "slide"
    },
    "tags": []
   },
   "source": [
    "## Analyzing Baby Names Example\n",
    "\n",
    "Let's say we want to analyze baby name popularity and we ahve a file with data from [this list](https://www.ssa.gov/oact/babynames/decades/names2010s.html)\n",
    "> you can find `top_male_baby_names_2010s.txt` on Blackboard"
   ]
  },
  {
   "cell_type": "code",
   "execution_count": 27,
   "id": "ad527cbc-0276-4021-a228-c82bd3f5cf1a",
   "metadata": {
    "editable": true,
    "slideshow": {
     "slide_type": ""
    },
    "tags": []
   },
   "outputs": [
    {
     "name": "stdout",
     "output_type": "stream",
     "text": [
      "['Noah\\n', 'Liam\\n', 'Jacob\\n', 'William\\n', 'Mason\\n', 'Ethan\\n', 'Michael\\n', 'Alexander\\n', 'James\\n', 'Elijah\\n', 'Benjamin\\n', 'Daniel\\n', 'Aiden\\n', 'Logan\\n', 'Jayden\\n', 'Matthew\\n', 'Lucas\\n', 'David\\n', 'Jackson\\n', 'Joseph\\n', 'Anthony\\n', 'Samuel\\n', 'Joshua\\n', 'Gabriel\\n', 'Andrew\\n', 'John\\n', 'Christopher\\n', 'Oliver\\n', 'Dylan\\n', 'Carter\\n', 'Isaac\\n', 'Luke\\n', 'Henry\\n', 'Owen\\n', 'Ryan\\n', 'Nathan\\n', 'Wyatt\\n', 'Caleb\\n', 'Sebastian\\n', 'Jack\\n', 'Christian\\n', 'Jonathan\\n', 'Julian\\n', 'Landon\\n', 'Levi\\n', 'Isaiah\\n', 'Hunter\\n', 'Aaron\\n', 'Charles\\n', 'Thomas\\n', 'Eli\\n', 'Jaxon\\n', 'Connor\\n', 'Nicholas\\n', 'Jeremiah\\n', 'Grayson\\n', 'Cameron\\n', 'Brayden\\n', 'Adrian\\n', 'Evan\\n', 'Jordan\\n', 'Josiah\\n', 'Angel\\n', 'Robert\\n', 'Gavin\\n', 'Tyler\\n', 'Austin\\n', 'Colton\\n', 'Jose\\n', 'Dominic\\n', 'Brandon\\n', 'Ian\\n', 'Lincoln\\n', 'Hudson\\n', 'Kevin\\n', 'Zachary\\n', 'Adam\\n', 'Mateo\\n', 'Jason\\n', 'Chase\\n', 'Nolan\\n', 'Ayden\\n', 'Cooper\\n', 'Parker\\n', 'Xavier\\n', 'Asher\\n', 'Carson\\n', 'Jace\\n', 'Easton\\n', 'Justin\\n', 'Leo\\n', 'Bentley\\n', 'Jaxson\\n', 'Nathaniel\\n', 'Blake\\n', 'Elias\\n', 'Theodore\\n', 'Kayden\\n', 'Luis\\n', 'Tristan\\n', 'Ezra\\n', 'Bryson\\n', 'Juan\\n', 'Brody\\n', 'Vincent\\n', 'Micah\\n', 'Miles\\n', 'Santiago\\n', 'Cole\\n', 'Ryder\\n', 'Carlos\\n', 'Damian\\n', 'Leonardo\\n', 'Roman\\n', 'Max\\n', 'Sawyer\\n', 'Jesus\\n', 'Diego\\n', 'Greyson\\n', 'Alex\\n', 'Maxwell\\n', 'Axel\\n', 'Eric\\n', 'Wesley\\n', 'Declan\\n', 'Giovanni\\n', 'Ezekiel\\n', 'Braxton\\n', 'Ashton\\n', 'Ivan\\n', 'Hayden\\n', 'Camden\\n', 'Silas\\n', 'Bryce\\n', 'Weston\\n', 'Harrison\\n', 'Jameson\\n', 'George\\n', 'Antonio\\n', 'Timothy\\n', 'Kaiden\\n', 'Jonah\\n', 'Everett\\n', 'Miguel\\n', 'Steven\\n', 'Richard\\n', 'Emmett\\n', 'Victor\\n', 'Kaleb\\n', 'Kai\\n', 'Maverick\\n', 'Joel\\n', 'Bryan\\n', 'Maddox\\n', 'Kingston\\n', 'Aidan\\n', 'Patrick\\n', 'Edward\\n', 'Emmanuel\\n', 'Jude\\n', 'Alejandro\\n', 'Preston\\n', 'Luca\\n', 'Bennett\\n', 'Jesse\\n', 'Colin\\n', 'Jaden\\n', 'Malachi\\n', 'Kaden\\n', 'Jayce\\n', 'Alan\\n', 'Kyle\\n', 'Marcus\\n', 'Brian\\n', 'Ryker\\n', 'Grant\\n', 'Jeremy\\n', 'Abel\\n', 'Riley\\n', 'Calvin\\n', 'Brantley\\n', 'Caden\\n', 'Oscar\\n', 'Abraham\\n', 'Brady\\n', 'Sean\\n', 'Jake\\n', 'Tucker\\n', 'Nicolas\\n', 'Mark\\n', 'Amir\\n', 'Avery\\n', 'King\\n', 'Gael\\n', 'Kenneth\\n', 'Bradley\\n', 'Cayden\\n', 'Xander\\n', 'Graham\\n', 'Rowan']\n"
     ]
    }
   ],
   "source": [
    "with open(\"top_male_baby_names_2010s.txt\") as male_names_file:\n",
    "    male_names = male_names_file.readlines()\n",
    "print(male_names)"
   ]
  },
  {
   "cell_type": "code",
   "execution_count": 28,
   "id": "bce53bec-5cf2-4fa5-b72d-d61e362586e5",
   "metadata": {
    "editable": true,
    "slideshow": {
     "slide_type": "slide"
    },
    "tags": []
   },
   "outputs": [
    {
     "name": "stdout",
     "output_type": "stream",
     "text": [
      "['Noah', 'Liam', 'Jacob', 'William', 'Mason', 'Ethan', 'Michael', 'Alexander', 'James', 'Elijah', 'Benjamin', 'Daniel', 'Aiden', 'Logan', 'Jayden', 'Matthew', 'Lucas', 'David', 'Jackson', 'Joseph', 'Anthony', 'Samuel', 'Joshua', 'Gabriel', 'Andrew', 'John', 'Christopher', 'Oliver', 'Dylan', 'Carter', 'Isaac', 'Luke', 'Henry', 'Owen', 'Ryan', 'Nathan', 'Wyatt', 'Caleb', 'Sebastian', 'Jack', 'Christian', 'Jonathan', 'Julian', 'Landon', 'Levi', 'Isaiah', 'Hunter', 'Aaron', 'Charles', 'Thomas', 'Eli', 'Jaxon', 'Connor', 'Nicholas', 'Jeremiah', 'Grayson', 'Cameron', 'Brayden', 'Adrian', 'Evan', 'Jordan', 'Josiah', 'Angel', 'Robert', 'Gavin', 'Tyler', 'Austin', 'Colton', 'Jose', 'Dominic', 'Brandon', 'Ian', 'Lincoln', 'Hudson', 'Kevin', 'Zachary', 'Adam', 'Mateo', 'Jason', 'Chase', 'Nolan', 'Ayden', 'Cooper', 'Parker', 'Xavier', 'Asher', 'Carson', 'Jace', 'Easton', 'Justin', 'Leo', 'Bentley', 'Jaxson', 'Nathaniel', 'Blake', 'Elias', 'Theodore', 'Kayden', 'Luis', 'Tristan', 'Ezra', 'Bryson', 'Juan', 'Brody', 'Vincent', 'Micah', 'Miles', 'Santiago', 'Cole', 'Ryder', 'Carlos', 'Damian', 'Leonardo', 'Roman', 'Max', 'Sawyer', 'Jesus', 'Diego', 'Greyson', 'Alex', 'Maxwell', 'Axel', 'Eric', 'Wesley', 'Declan', 'Giovanni', 'Ezekiel', 'Braxton', 'Ashton', 'Ivan', 'Hayden', 'Camden', 'Silas', 'Bryce', 'Weston', 'Harrison', 'Jameson', 'George', 'Antonio', 'Timothy', 'Kaiden', 'Jonah', 'Everett', 'Miguel', 'Steven', 'Richard', 'Emmett', 'Victor', 'Kaleb', 'Kai', 'Maverick', 'Joel', 'Bryan', 'Maddox', 'Kingston', 'Aidan', 'Patrick', 'Edward', 'Emmanuel', 'Jude', 'Alejandro', 'Preston', 'Luca', 'Bennett', 'Jesse', 'Colin', 'Jaden', 'Malachi', 'Kaden', 'Jayce', 'Alan', 'Kyle', 'Marcus', 'Brian', 'Ryker', 'Grant', 'Jeremy', 'Abel', 'Riley', 'Calvin', 'Brantley', 'Caden', 'Oscar', 'Abraham', 'Brady', 'Sean', 'Jake', 'Tucker', 'Nicolas', 'Mark', 'Amir', 'Avery', 'King', 'Gael', 'Kenneth', 'Bradley', 'Cayden', 'Xander', 'Graham', 'Rowan']\n"
     ]
    }
   ],
   "source": [
    "with open(\"top_male_baby_names_2010s.txt\") as male_names_file:\n",
    "    male_names = male_names_file.read().splitlines()\n",
    "print(male_names)"
   ]
  },
  {
   "cell_type": "markdown",
   "id": "56dab39a-249d-45f1-912f-3e130140b39c",
   "metadata": {
    "editable": true,
    "slideshow": {
     "slide_type": "slide"
    },
    "tags": []
   },
   "source": [
    "## Now we can use Python to ask interesting questions about our data\n",
    "\n",
    "But what is wrong with this?"
   ]
  },
  {
   "cell_type": "code",
   "execution_count": null,
   "id": "c618368d-8a5c-4e50-9350-abceca1edc5e",
   "metadata": {
    "editable": true,
    "slideshow": {
     "slide_type": ""
    },
    "tags": []
   },
   "outputs": [],
   "source": [
    "# something is wrong with the code below... can you fix it?\n",
    "\n",
    "with open(\"top_male_baby_names_2010s.txt\") as male_names_file:\n",
    "    male_names = male_names_file.read().splitlines()\n",
    "\n",
    "name_to_search = input(\"Enter a name: \")\n",
    "\n",
    "if name_to_search in male_names:\n",
    "    position = male_names.index(name_to_search)\n",
    "    print(name_to_search,\"was number\", position, \"most popular male name in the 2010s.\")\n",
    "else:\n",
    "    print(name_to_seach, \"was not a popular name in the 2010s\")"
   ]
  },
  {
   "cell_type": "markdown",
   "id": "d2397770-c8be-4402-af91-381bfd06f198",
   "metadata": {
    "editable": true,
    "slideshow": {
     "slide_type": "fragment"
    },
    "tags": []
   },
   "source": [
    "> Hint:\n",
    "``` \n",
    ">>> %Run exercise_day14.py\n",
    "Top 5 names: ['Noah', 'Liam', 'Jacob', 'William', 'Mason']\n",
    "Enter a name: Noah\n",
    "Noah was number 0 most popular male name in the 2010s.\n",
    "```"
   ]
  },
  {
   "cell_type": "markdown",
   "id": "7928db9c-9357-4312-95de-3e2a67e9d6c7",
   "metadata": {
    "editable": true,
    "slideshow": {
     "slide_type": "slide"
    },
    "tags": []
   },
   "source": [
    "## Reading a file into a list and looping through all elements\n",
    "\n",
    "Suppose we had a list of data stored in a file\n",
    "\n",
    "We wanted toa sk questions about this data..."
   ]
  },
  {
   "cell_type": "code",
   "execution_count": null,
   "id": "507c488b-9615-4df5-adaf-fcf435dc8e33",
   "metadata": {
    "editable": true,
    "slideshow": {
     "slide_type": ""
    },
    "tags": []
   },
   "outputs": [],
   "source": [
    "infile = open(\"Filename.txt\", 'r')\n",
    "list_of_things = infile.read().splitlines()\n",
    "\n",
    "for element in list_of_things:\n",
    "    if element == \"thing worth searching for\":\n",
    "        # found it"
   ]
  },
  {
   "cell_type": "markdown",
   "id": "6a123be7-146a-42aa-9c14-cfd525db6d4c",
   "metadata": {
    "editable": true,
    "slideshow": {
     "slide_type": "slide"
    },
    "tags": []
   },
   "source": [
    "## Exercise #4: `world_series_champs(name)`\n",
    "\n",
    "The file `WorldSeriesWinners.txt` is available on Blackboard.\n",
    "\n",
    "Copy it/Download it and put it on your computer where your .py files are located. \n",
    "\n",
    "Build a function called `world_series_champs` that will return the _number of times a given team has won the World Series_. \n",
    "\n",
    "The function shoudl take, as a parameter, the name of a team (a string), e.g. New York Mets\n",
    "\n",
    "The function should return thenumber of times the input team has won the world series."
   ]
  },
  {
   "cell_type": "code",
   "execution_count": null,
   "id": "b4034ad3-cbf3-41fe-87d6-5291c0a6ad84",
   "metadata": {
    "editable": true,
    "slideshow": {
     "slide_type": ""
    },
    "tags": []
   },
   "outputs": [],
   "source": [
    "# world_series_champs function testing code\n",
    "input_team = input(\"Enter a baseball team: \")\n",
    "num_championships = world_series_champs(input_team)\n",
    "print(\"The\", input_team, \"have won\", num_championships, \"championship(s).\")"
   ]
  },
  {
   "cell_type": "markdown",
   "id": "881e611e-1306-4688-98c4-85c7f8dc3e13",
   "metadata": {
    "editable": true,
    "slideshow": {
     "slide_type": "slide"
    },
    "tags": []
   },
   "source": [
    "## Exercise #5: `num_bad_passwords()`\n",
    "\n",
    "The files, `passwords1.txt` and `passwords2.txt` are available on Blackboard.\n",
    "\n",
    "Build a function, called `num_bad_passwords` that will return the _number of times the password \"Spring2023!\" in a given file.\n",
    "\n",
    "The functionshoudl take, as a parameter, the name ofa file (a string), e.g. `passwords1.txt`\n",
    "\n",
    "The function shoudl return the number of times the input file has the password \"Spring 2023!\"\n",
    "\n",
    "```python\n",
    "filename = input(\"Enter a filename: \")\n",
    "value = num_bad_passwords(filename)\n",
    "print(\"The file\", filename, \"contains\", value, \"passwrods that are 'Spring2023'\")\n",
    "```\n",
    "```\n",
    "Enter a filename: passwords1.txt\n",
    "The file passwords1.txt contains 2 passwords that are 'Spring2023!'\n",
    "```"
   ]
  },
  {
   "cell_type": "markdown",
   "id": "6aec7058-66cd-423f-8f3b-1d7c26f76e55",
   "metadata": {
    "editable": true,
    "slideshow": {
     "slide_type": "slide"
    },
    "tags": []
   },
   "source": [
    "## 🔮 Mystery Function\n",
    "\n",
    "Here's a myster function (with not great variable names to obscure the purpose):"
   ]
  },
  {
   "cell_type": "code",
   "execution_count": null,
   "id": "5ea47950-ca01-44e8-b1c7-75a40c1a50ce",
   "metadata": {
    "editable": true,
    "slideshow": {
     "slide_type": ""
    },
    "tags": []
   },
   "outputs": [],
   "source": [
    "def mystery_function(input_string):\n",
    "    for i in ragne(len(input_string)):\n",
    "        if input_string[i] != input_string[len(input_string)-i -1]:\n",
    "            return False\n",
    "    return True"
   ]
  },
  {
   "cell_type": "markdown",
   "id": "5c6049b1-0b2a-4f5b-bc94-0cd900f246bf",
   "metadata": {
    "editable": true,
    "slideshow": {
     "slide_type": ""
    },
    "tags": []
   },
   "source": [
    "> __Hint__: give these a try: `mystery_function(\"racecar\")`, `mystery_function(\"dog\")`, `mystery_function(\"civic\")`"
   ]
  },
  {
   "cell_type": "markdown",
   "id": "8ea6879d-1d12-41e4-9677-b627ef57a5c9",
   "metadata": {
    "editable": true,
    "slideshow": {
     "slide_type": "slide"
    },
    "tags": []
   },
   "source": [
    "## Exercise #6: `list_of_palindromes`\n",
    "\n",
    "The file `dictionary.txt` is available on Blackboard.\n",
    "\n",
    "Build a funciton, called `list_of_palindromes` that will return a _list of palindromes_ that is in a given input file.\n",
    "\n",
    "The function shoudl take, as a paramter, he name of a file (a string) e.g. `dictionary.txt` and return a list that contains all of the palindromes."
   ]
  },
  {
   "cell_type": "code",
   "execution_count": null,
   "id": "60aa3cb5-80eb-455d-a614-77df04674db9",
   "metadata": {
    "editable": true,
    "slideshow": {
     "slide_type": ""
    },
    "tags": []
   },
   "outputs": [],
   "source": [
    "# list_of_palindromes testing code\n",
    "palindromes = list_of_palindromes(\"dictionary.txt\")\n",
    "print(palindromes)"
   ]
  },
  {
   "cell_type": "markdown",
   "id": "c053635b-edfe-4ae0-bdab-ab6ac606aac7",
   "metadata": {
    "editable": true,
    "slideshow": {
     "slide_type": ""
    },
    "tags": []
   },
   "source": [
    "## Exercise #7: `baby_girl_names`\n",
    "\n",
    "The file `top_female_baby_names_2010s.txt` is available on Blackboard. \n",
    "\n",
    "Build a functino called `baby_girl_names` that will returna _list of names_ that is a specific number of characters.\n",
    "\n",
    "The function should take, as a parameter, a length of the desired names and returns a list that contains all of the appropriate female names.\n",
    "\n",
    "__Testing Code__:\n",
    "```python\n",
    "baby_names = baby_girl_names(3)\n",
    "print(baby_names)\n",
    "```\n",
    "```\n",
    "['Ava', 'Mia', 'zoe', 'Eva', 'Ivy', 'Mya', 'Amy']\n",
    "```"
   ]
  },
  {
   "cell_type": "markdown",
   "id": "7139cabb-8f85-4726-a269-7af8cfb014c1",
   "metadata": {
    "editable": true,
    "slideshow": {
     "slide_type": "slide"
    },
    "tags": []
   },
   "source": [
    "# List / Function Practice Exercises:\n",
    "\n",
    "1. Create a list called `my_favoirte_movies` and add a few movies to it. Write a loop to print out the contents of this list.\n",
    "2. Write a function called `find_largest_number()` that takes in a list as a parameter and returns the largest number in the list. Try to do this without using the `max()` function.\n",
    "```python\n",
    "numbers = [3, 42, 8, 15, 23, 7]\n",
    "print(find_largest(numbers))  # Output: 42\n",
    "```\n",
    "3. Write a function called `filter_even_numbers()` that takes in a list of numbers and returns a new list containing only the even numbers. Use a loop and the `append()` method to build a new list.\n",
    "```python\n",
    "numbers = [3, 42, 8, 15, 23, 7, 10, 20]\n",
    "print(filter_even_numbers(numbers))  # Output: [42, 8, 10, 20]\n",
    "```\n",
    "\n",
    "4. Write a function called `reverse_list` that takes a list and an optional keywrod argument `in_place` (defaulting to `False`). If `in_place` is `True`, the function should reverse the original list. If `in_place` is `False`, it should return a new reversed list.\n",
    "```python\n",
    "items = [1, 2, 3, 4, 5]\n",
    "reverse_list(items, in_place=True)\n",
    "print(items)  # Output: [5, 4, 3, 2, 1]\n",
    "```"
   ]
  },
  {
   "cell_type": "markdown",
   "id": "b357026e-511d-4cea-8e68-e2da51775b3d",
   "metadata": {
    "editable": true,
    "slideshow": {
     "slide_type": "slide"
    },
    "tags": []
   },
   "source": [
    "# More Practice: Combining it all\n",
    "\n",
    "1. __Movie List Manager__ (practice lists, functions, and loops)\n",
    "Write a program that allows a user to manage a list of their favorite movies. Your program should offer the following functionality:\n",
    "    - Load favorite movies from file\n",
    "    - Add a movie to the list\n",
    "    - remove a movie from the list\n",
    "    - display all moview in the list\n",
    "    - display the number of movies in the list\n",
    "    - save your favorite movies to a file\n",
    "\n",
    "Use a loop to repeatedly ask the user for their choice until they choose to quit. Structure your program with separate functions for each task (e.g. `add_movie()`, `remove_movie()`, `save_movies()`etc)\n",
    "\n",
    "__Sample output:__\n",
    "```\n",
    "1. Load your favorite movies from a file\n",
    "2. Add a movie\n",
    "3. Remove a movie\n",
    "4. View all movies\n",
    "5. View movie count\n",
    "6. Save movies to file\n",
    "7. Quit\n",
    "\n",
    "Choose an option:\n",
    "```"
   ]
  },
  {
   "cell_type": "markdown",
   "id": "a37dff40-bfb2-43aa-a394-5fed29d481d8",
   "metadata": {
    "editable": true,
    "slideshow": {
     "slide_type": "slide"
    },
    "tags": []
   },
   "source": [
    "2. __Word Frequency Counter__: (practice lists, loops, and files)\n",
    "\n",
    "Write a program that reads a text file and counts the frequency of each word in the file using parallel lists. The program should:\n",
    "\n",
    "- ask the user for the name of a text file to read.\n",
    "- read the file and count how many times each word appears (case-insensistive).\n",
    "- display each word and how many times it appeared in the file.\n",
    "\n",
    "Steps:\n",
    "- Use one list to store the unique words `words`\n",
    "- Use a second list (`freq`) to store the corresonding word counts.\n",
    "- I went ahead and gave you the code to remove punctuation, but make sure the words are lowercase using `.lower()`\n",
    "- write a loop to go through and print out the word followed by how many times it appeared in the file "
   ]
  },
  {
   "cell_type": "code",
   "execution_count": null,
   "id": "7adf0c14-968a-4aa0-9fd5-c9284e579cb2",
   "metadata": {
    "editable": true,
    "slideshow": {
     "slide_type": "skip"
    },
    "tags": []
   },
   "outputs": [],
   "source": [
    "# starter code:\n",
    "def count_words_in_file(filename):\n",
    "    words = []\n",
    "    freq = []\n",
    "\n",
    "    # open the file using a with statment\n",
    "\n",
    "    # Clean the text: remove punctuation\n",
    "    for punct in [\".\", \",\", \"!\", \"?\", \":\", \";\", '\"', \"'\", \"(\", \")\", \"[\", \"]\", \"-\", \"_\"]:\n",
    "        text = text.replace(punct, \"\")\n",
    "\n",
    "    # split the text into words \n",
    "    word_list = text.split()\n",
    "\n",
    "    # count word frequencies using parallel lists\n",
    "    # loop through each word\n",
    "\n",
    "        # if the word is in words, \n",
    "            # find the index\n",
    "            # update the frequency list at that index\n",
    "        # other wise, add the word to the list and update freq\n",
    "\n",
    "    "
   ]
  },
  {
   "cell_type": "markdown",
   "id": "9ac5baff-df63-481d-8b02-70798c3b164e",
   "metadata": {
    "editable": true,
    "slideshow": {
     "slide_type": "slide"
    },
    "tags": []
   },
   "source": [
    "3. __Student Gradebook__: (uses lists, loops, functions, and files)\n",
    "\n",
    "Create a program that manages a gradebook for a class of students. Your program should allow the user to:\n",
    "\n",
    "- Load student names and grades from a file.\n",
    "- Display all student names and their grades.\n",
    "- Add a new student and their grades to the list.\n",
    "- Save the updated gradebook back to the file.\n",
    "\n",
    "The file should be structured with each line containing a student’s name followed by their grades (separated by commas). You will need to write functions to handle loading, saving, adding, and displaying data.\n",
    "\n",
    "__Sample Gradebook file__:\n",
    "```\n",
    "Alice,85,90,78\n",
    "Bob,88,92,85\n",
    "```\n",
    "Helpful functions:"
   ]
  },
  {
   "cell_type": "code",
   "execution_count": 3,
   "id": "2d3c98a9-1000-4e5c-a904-11dfc97f5473",
   "metadata": {
    "editable": true,
    "slideshow": {
     "slide_type": ""
    },
    "tags": []
   },
   "outputs": [
    {
     "name": "stdout",
     "output_type": "stream",
     "text": [
      "name:  Alice\n",
      "grades:  ['85', '90', '78']\n"
     ]
    }
   ],
   "source": [
    "text = \"Alice,85,90,78\"\n",
    "text_list = text.split(',') # splits text by a delimiter \",\" returns a list\n",
    "print(\"name: \", text_list[0])\n",
    "print(\"grades: \", text_list[1:])"
   ]
  },
  {
   "cell_type": "markdown",
   "id": "d6f04a8d-8737-49de-badf-01b37d3b2a04",
   "metadata": {
    "editable": true,
    "id": "TKD6hPr2soYX",
    "slideshow": {
     "slide_type": "slide"
    },
    "tags": []
   },
   "source": [
    "# Admin Stuff"
   ]
  },
  {
   "cell_type": "markdown",
   "id": "cba8cf46-3733-4a74-a2f5-8a0cd400e948",
   "metadata": {
    "editable": true,
    "slideshow": {
     "slide_type": "fragment"
    },
    "tags": []
   },
   "source": [
    "### Registration: \n",
    "\n",
    "Like CS? Consider adding:\n",
    "- [Computer Science major/minor](https://catalog.drake.edu/undergraduate/collegeofartsandsciences/areas/cs/)\n",
    "- [Artificial Intelligence major/minor](https://www.drake.edu/artificial-intelligence/)\n",
    "- [Data Analytics major/minor](https://www.drake.edu/analytics/majorandminor/)\n",
    "- __Bonus__: here's my [CS Advising Checklist](https://docs.google.com/spreadsheets/d/1hJwifa2sSStyz6gKWryZDlGrIkfJQXqcD0bZNQeAobg/edit?usp=sharing)"
   ]
  },
  {
   "cell_type": "markdown",
   "id": "0aed5d84-df74-496f-a481-72356a952192",
   "metadata": {
    "editable": true,
    "slideshow": {
     "slide_type": ""
    },
    "tags": []
   },
   "source": [
    "These classes are up next:\n",
    "- __CS66__: Intro to Computer Science II\n",
    "    - Monday / Wednesday 9:30 - 10:45, or 11:00 - 12:15\n",
    "- __CS120__: Human-Computer Interaction\n",
    "    - Monday / Wednesday 2:00 - 3:15"
   ]
  },
  {
   "cell_type": "markdown",
   "id": "eb2e4c81-9a6c-4683-be29-3c6b6709a7cd",
   "metadata": {
    "editable": true,
    "slideshow": {
     "slide_type": "fragment"
    },
    "tags": []
   },
   "source": [
    "### Assignments:\n",
    "-  __Extension__! [Lab #8](https://analytics.drake.edu/~moore/CS65-F24/Lab8.html) due Friday October 25th by 11:59pm to codePost"
   ]
  }
 ],
 "metadata": {
  "kernelspec": {
   "display_name": "Python 3 (ipykernel)",
   "language": "python",
   "name": "python3"
  },
  "language_info": {
   "codemirror_mode": {
    "name": "ipython",
    "version": 3
   },
   "file_extension": ".py",
   "mimetype": "text/x-python",
   "name": "python",
   "nbconvert_exporter": "python",
   "pygments_lexer": "ipython3",
   "version": "3.12.4"
  }
 },
 "nbformat": 4,
 "nbformat_minor": 5
}

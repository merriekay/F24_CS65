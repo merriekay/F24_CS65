{
 "cells": [
  {
   "cell_type": "markdown",
   "id": "47f10411-f9ea-479c-8397-26ed83d3d7bd",
   "metadata": {
    "editable": true,
    "slideshow": {
     "slide_type": ""
    },
    "tags": []
   },
   "source": [
    "# CS65: Day 07\n",
    "\n",
    "## Iteration Part II: print formatting and `for` loops\n",
    "\n",
    "### CS65: Introduction to Computer Science I | Fall 2024\n",
    "\n",
    "*Monday, September 23rd ,2024*\n",
    "\n",
    "### Helpful Resources:\n",
    "[📜 Syllabus](https://docs.google.com/document/d/1nqjmD0yhOOh2gaPwxfjV4EY_dBUIQUur1fvqQ4YPJLA/edit?usp=sharing) | [📬 CodePost Login](https://codepost.io/login) | [📆 Schedule](https://docs.google.com/spreadsheets/d/1Q5-ArPnXwjejKjXSI8WKgF7A2HRAam6Ny3eNA7EHn18/edit?usp=sharing) | [🙋‍♂️ PollEverywhere](https://pollev.com/moore) | [🪴 Office Hour Sign-Up](https://calendly.com/meredith-moore/office-hours)\n",
    "\n",
    "> **Note to self:** Make sure you're recording, silly goose!"
   ]
  },
  {
   "cell_type": "markdown",
   "id": "2828d6ed-326b-456d-8328-42ced8300418",
   "metadata": {
    "editable": true,
    "id": "hy85VYM-p3yY",
    "slideshow": {
     "slide_type": "slide"
    },
    "tags": []
   },
   "source": [
    "# Admin Stuff"
   ]
  },
  {
   "cell_type": "markdown",
   "id": "62f4e793-32af-4307-8225-e14ef07d60ec",
   "metadata": {
    "editable": true,
    "id": "q3lMpIiap3yY",
    "slideshow": {
     "slide_type": ""
    },
    "tags": []
   },
   "source": [
    "You should be working on:\n",
    "- [Lab #4](https://analytics.drake.edu/~moore/CS65-F24/Lab4/Lab4.html) due Monday, September 23rd by 11:59 pm to CodePost\n",
    "\n",
    "Reading:\n",
    "- [While Loop Reading](https://analytics.drake.edu/~urness/CS65Text/Chapter4.html)\n",
    "- [for loop reading](https://python.swaroopch.com/control_flow.html)"
   ]
  },
  {
   "cell_type": "markdown",
   "id": "b232626c-c92e-469f-9dcb-e53cff75e865",
   "metadata": {
    "editable": true,
    "jp-MarkdownHeadingCollapsed": true,
    "slideshow": {
     "slide_type": "slide"
    },
    "tags": []
   },
   "source": [
    "## Quiz #1\n",
    "- will be released after class today, due on Wednesday 9/25 by 11:59pm.\n",
    "- Blackboard quiz\n",
    "- Open notes, open book, no AI assistant usage permitted."
   ]
  },
  {
   "cell_type": "markdown",
   "id": "854abea7-7957-435b-9d7c-268f438fb6d4",
   "metadata": {
    "editable": true,
    "id": "hlKaJEAkp3yY",
    "slideshow": {
     "slide_type": "slide"
    },
    "tags": []
   },
   "source": [
    "# ⏪ Quick Review:"
   ]
  },
  {
   "cell_type": "markdown",
   "id": "859b5245-1821-4849-9d91-afbdb16560b1",
   "metadata": {
    "editable": true,
    "slideshow": {
     "slide_type": "slide"
    },
    "tags": []
   },
   "source": [
    "## Repeating code\n",
    "\n",
    "\n",
    "Sometimes we want a section of our code to repeat multiple times. For this we use a __loop__. \n",
    "\n",
    "The first loop we're going to look at is a `while` loop. Its syntax is a lot like the `if` statement (but there's no else part):\n",
    "* keyword `while`\n",
    "* condition\n",
    "* colon `:`\n",
    "* indented block of code\n",
    "\n",
    "**Example**: remember this code we wrote for a simple guess-the-number game? What if we want the user to be able to keep guess until they get it right?"
   ]
  },
  {
   "cell_type": "code",
   "execution_count": 42,
   "id": "676f342c-28ec-4ac8-a4b0-3acae6b3a355",
   "metadata": {
    "editable": true,
    "scrolled": true,
    "slideshow": {
     "slide_type": "slide"
    },
    "tags": []
   },
   "outputs": [
    {
     "name": "stdout",
     "output_type": "stream",
     "text": [
      "Guess a number: 5\n",
      "Wrong!\n",
      "Guess a number: 7\n",
      "That was right, good guess!\n",
      "Thank you for playing!\n"
     ]
    }
   ],
   "source": [
    "secret_number = 7\n",
    "guess = 0\n",
    "\n",
    "while guess != secret_number:\n",
    "    guess = int(input(\"Guess a number: \"))\n",
    "\n",
    "    if guess == secret_number:\n",
    "        print(\"That was right, good guess!\")\n",
    "    else:\n",
    "        print(\"Wrong!\")\n",
    "\n",
    "print(\"Thank you for playing!\") "
   ]
  },
  {
   "cell_type": "markdown",
   "id": "0441ba73-6b70-455d-90e4-046892cae0b0",
   "metadata": {
    "editable": true,
    "slideshow": {
     "slide_type": "slide"
    },
    "tags": []
   },
   "source": [
    "## Count-controlled loops\n",
    "\n",
    "You can even use counter variables to control how many times the loop will run."
   ]
  },
  {
   "cell_type": "code",
   "execution_count": 49,
   "id": "a927acc4-3b16-470c-aa39-07d5ddb5e488",
   "metadata": {
    "editable": true,
    "scrolled": true,
    "slideshow": {
     "slide_type": ""
    },
    "tags": []
   },
   "outputs": [
    {
     "name": "stdout",
     "output_type": "stream",
     "text": [
      "0\n",
      "1\n",
      "2\n",
      "3\n",
      "4\n",
      "5\n",
      "6\n",
      "7\n",
      "8\n",
      "9\n",
      "all done\n"
     ]
    }
   ],
   "source": [
    "val = 0\n",
    "while val < 10:\n",
    "    print(val)\n",
    "    val += 1\n",
    "print(\"all done\")"
   ]
  },
  {
   "cell_type": "markdown",
   "id": "cf828c07-3dd7-4dc3-91de-8c3077c95bc2",
   "metadata": {
    "slideshow": {
     "slide_type": "slide"
    }
   },
   "source": [
    "## Tips for writing loops\n",
    "\n",
    "* Split it into 3 parts...Think about what needs to happen\n",
    "    - *before the loop*, set up loop control variables with initial values\n",
    "    - *during each loop __iteration__*, what do you need to update _inside_ the loop?\n",
    "    - and *after the loop*, what result do you want to show?"
   ]
  },
  {
   "cell_type": "markdown",
   "id": "a914a954-b4fc-42a8-a762-69726398b0d2",
   "metadata": {
    "slideshow": {
     "slide_type": "fragment"
    }
   },
   "source": [
    "* Think about what condition should make the loop end\n",
    "    - Make sure there is something that changes inside the loop that will eventually allow the loop's condition to be `False`\n"
   ]
  },
  {
   "cell_type": "markdown",
   "id": "ebb8c634-1e72-4a41-8d69-0051d237e844",
   "metadata": {
    "slideshow": {
     "slide_type": "slide"
    }
   },
   "source": [
    "## Day06 Exercise #3\n",
    "\n",
    "- write a loop that will execute 5 times\n",
    "- within the loop, get a float value from the user (the amount of rain that fell in a day)\n",
    "- use an accumulator to add up all of the rain that fell over the five days\n",
    "- outside of the loop, print out the sum of all of the rainfall"
   ]
  },
  {
   "cell_type": "code",
   "execution_count": null,
   "id": "e7f20b80-1b44-43e6-940d-2243b0702e35",
   "metadata": {},
   "outputs": [],
   "source": [
    "# before the loop, initialize variables\n",
    "count = 0 \n",
    "total_rainfall = 0\n",
    "\n",
    "# during the loop, update count, get user input, accumulate\n",
    "while count < 5:\n",
    "    day_rainfall = float(input(\"What is the rainfall? \"))\n",
    "    total_rainfall += day_rainfall\n",
    "    count +=1\n",
    "\n",
    "# display\n",
    "print(\"There was a total of\", total_rainfall, \"inches of rain\")"
   ]
  },
  {
   "cell_type": "markdown",
   "id": "a37e4472-c98e-41a6-99b4-3e8c51763895",
   "metadata": {
    "editable": true,
    "id": "LJ6TTtZZlJKi",
    "slideshow": {
     "slide_type": "slide"
    },
    "tags": []
   },
   "source": [
    "# ✨ New Material"
   ]
  },
  {
   "cell_type": "markdown",
   "id": "7b9fc52b-cad8-4303-8b6f-ee2d16aebe5c",
   "metadata": {
    "editable": true,
    "slideshow": {
     "slide_type": "slide"
    },
    "tags": []
   },
   "source": [
    "# Exercise #1\n",
    "\n",
    "Talk to your neighbors, and see if you can figure out what this code will do. "
   ]
  },
  {
   "cell_type": "code",
   "execution_count": null,
   "id": "61b3c684-07c6-47f9-a89b-94fef8f6d498",
   "metadata": {
    "editable": true,
    "slideshow": {
     "slide_type": ""
    },
    "tags": []
   },
   "outputs": [],
   "source": [
    "num = int(input(\"please enter a number: \"))\n",
    "while num < 10:\n",
    "    print(num, \"is a good number\")\n",
    "    num = int(input(\"please enter a number: \"))\n",
    "print(num, \"is too big.\")"
   ]
  },
  {
   "cell_type": "markdown",
   "id": "62ad9ceb-5cc9-4cd8-a3a5-e31aeb4cf55f",
   "metadata": {
    "editable": true,
    "slideshow": {
     "slide_type": "slide"
    },
    "tags": []
   },
   "source": [
    "# Exercise #1.5:\n",
    "\n",
    "What will happen if you run the following code? What do we need to change?"
   ]
  },
  {
   "cell_type": "code",
   "execution_count": null,
   "id": "2fae2f62-2ef8-4e32-ac28-df94c1fdd129",
   "metadata": {
    "editable": true,
    "slideshow": {
     "slide_type": ""
    },
    "tags": []
   },
   "outputs": [],
   "source": [
    "keep_looping = \"yes\"\n",
    "while keep_looping == \"yes\" or keep_looping == \"Yes\":\n",
    "    print(\"Hello\")\n",
    "    \n",
    "print(\"done\")"
   ]
  },
  {
   "cell_type": "markdown",
   "id": "a267b52c-6b38-421d-ba18-4058f313e6e5",
   "metadata": {
    "editable": true,
    "slideshow": {
     "slide_type": "slide"
    },
    "tags": []
   },
   "source": [
    "# Exercise #2:\n",
    "(Day06 Exercise #4)\n",
    "- 1+2+3+4+5 is 15\n",
    "- 1+2+3+4+5+6 is 21\n",
    "- Prompt the user for an integer. Output the sum of all of the integers up to and including the input number"
   ]
  },
  {
   "cell_type": "code",
   "execution_count": 79,
   "id": "b97be0dd-b112-422a-add4-f1db2cbbbf5e",
   "metadata": {
    "editable": true,
    "slideshow": {
     "slide_type": ""
    },
    "tags": []
   },
   "outputs": [
    {
     "name": "stdout",
     "output_type": "stream",
     "text": [
      "Please enter an integer: 5\n",
      "the sum of integers 1 through 5 is 15\n"
     ]
    }
   ],
   "source": [
    "# Example output\n"
   ]
  },
  {
   "cell_type": "code",
   "execution_count": 22,
   "id": "637a2f70-1cad-43d7-9b75-b2bb29524e34",
   "metadata": {},
   "outputs": [
    {
     "name": "stdout",
     "output_type": "stream",
     "text": [
      "Please enter an integer: 6\n",
      "The sum of integers 1 through 6 is 21\n"
     ]
    }
   ],
   "source": [
    "# example output"
   ]
  },
  {
   "cell_type": "code",
   "execution_count": 23,
   "id": "bcf9634a-c9bd-46cb-a71f-938ece3f1077",
   "metadata": {
    "editable": true,
    "slideshow": {
     "slide_type": ""
    },
    "tags": []
   },
   "outputs": [
    {
     "name": "stdout",
     "output_type": "stream",
     "text": [
      "Please enter an integer: 200\n",
      "The sum of integers 1 through 200 is 20100\n"
     ]
    }
   ],
   "source": [
    "# example output"
   ]
  },
  {
   "cell_type": "markdown",
   "id": "ecae7390-577a-46f8-a42a-cef2137e1cea",
   "metadata": {
    "editable": true,
    "slideshow": {
     "slide_type": "slide"
    },
    "tags": []
   },
   "source": [
    "# If statements within loops\n",
    "\n",
    "Let's _trace_ this code:\n",
    "> _Trace_ means to go through it line by line to deterine how it works\n",
    "\n",
    "Question: What is happening?"
   ]
  },
  {
   "cell_type": "code",
   "execution_count": null,
   "id": "6c344a14-6f32-4017-91e4-9142bac64d21",
   "metadata": {},
   "outputs": [],
   "source": [
    "a = 0\n",
    "x = 0\n",
    "\n",
    "while a < 5:\n",
    "    a+=1\n",
    "    b = int(input(\"Please enter an integer between 0 and 100: \"))\n",
    "    if b > x:\n",
    "        x = b\n",
    "print(\"The mysterious answer is\", x)"
   ]
  },
  {
   "cell_type": "markdown",
   "id": "43fcd0e9-509f-4ddd-9f57-60162196e92c",
   "metadata": {
    "editable": true,
    "slideshow": {
     "slide_type": "slide"
    },
    "tags": []
   },
   "source": [
    "# Exercise #3\n",
    "\n",
    "- Write the code that will loop 5 times\n",
    "- Prompt the user to enter 5 integers between 0 and 100\n",
    "- After the loop, print out the _minimum_ of the numbers entered\n",
    "- Use better variable names than the previous slide."
   ]
  },
  {
   "cell_type": "code",
   "execution_count": null,
   "id": "1fccad38-b2ba-4570-850a-1a95394eb0ec",
   "metadata": {
    "editable": true,
    "slideshow": {
     "slide_type": ""
    },
    "tags": []
   },
   "outputs": [],
   "source": []
  },
  {
   "cell_type": "markdown",
   "id": "77e77269-cbba-4891-8bc9-201e56d45049",
   "metadata": {
    "editable": true,
    "slideshow": {
     "slide_type": "slide"
    },
    "tags": []
   },
   "source": [
    "# Print Formatting\n",
    "If we didn’t want the next print statement to output on the next line, we can pass in a second __argument__ to the print function.\n",
    "\n",
    "Passing in `end=””` will no longer make the next print statement continue on the next line.  \n",
    "Thus,"
   ]
  },
  {
   "cell_type": "code",
   "execution_count": 2,
   "id": "dc53d404-ea0e-453a-bd35-5f22e0c5382d",
   "metadata": {},
   "outputs": [
    {
     "name": "stdout",
     "output_type": "stream",
     "text": [
      "onetwothree"
     ]
    }
   ],
   "source": [
    "print(\"one\", end=\"\")\n",
    "print(\"two\", end=\"\")\n",
    "print(\"three\", end=\"\")"
   ]
  },
  {
   "cell_type": "markdown",
   "id": "2ddb1717-654a-472f-97d9-e829aa6834b4",
   "metadata": {
    "editable": true,
    "slideshow": {
     "slide_type": "slide"
    },
    "tags": []
   },
   "source": [
    "## Print formatting: printing a blank line\n",
    "\n",
    "If you want the output to contain a blank line, then `print()` can be used without an __argument__:"
   ]
  },
  {
   "cell_type": "code",
   "execution_count": 3,
   "id": "cb1c1dfb-aff4-4954-9aad-2142740835d3",
   "metadata": {
    "editable": true,
    "slideshow": {
     "slide_type": ""
    },
    "tags": []
   },
   "outputs": [
    {
     "name": "stdout",
     "output_type": "stream",
     "text": [
      "hello\n",
      "\n",
      "\n",
      "now I'm here!\n"
     ]
    }
   ],
   "source": [
    "print(\"hello\")\n",
    "print()\n",
    "print()\n",
    "print(\"now I'm here!\")"
   ]
  },
  {
   "cell_type": "markdown",
   "id": "bd4df1f2-6cdc-4526-8dae-917f60812ef2",
   "metadata": {
    "editable": true,
    "slideshow": {
     "slide_type": "slide"
    },
    "tags": []
   },
   "source": [
    "# Exercise #4\n",
    "Prompt the user for an integer\n",
    "\n",
    "Print out a row of alternating `X`s and `O`s in which the number of characters equals the number input.\n",
    "\n",
    "For example:"
   ]
  },
  {
   "cell_type": "code",
   "execution_count": 5,
   "id": "6ad446e6-63bc-4ade-a8e7-bf7ae31adf73",
   "metadata": {
    "editable": true,
    "slideshow": {
     "slide_type": ""
    },
    "tags": []
   },
   "outputs": [
    {
     "name": "stdin",
     "output_type": "stream",
     "text": [
      "Please enter an integer:  5\n"
     ]
    },
    {
     "name": "stdout",
     "output_type": "stream",
     "text": [
      "XOXOX"
     ]
    }
   ],
   "source": []
  },
  {
   "cell_type": "code",
   "execution_count": 6,
   "id": "049924b7-0dcf-492e-a4cc-f6d7651f802f",
   "metadata": {},
   "outputs": [
    {
     "name": "stdin",
     "output_type": "stream",
     "text": [
      "Please enter an integer:  20\n"
     ]
    },
    {
     "name": "stdout",
     "output_type": "stream",
     "text": [
      "XOXOXOXOXOXOXOXOXOXO"
     ]
    }
   ],
   "source": []
  },
  {
   "cell_type": "markdown",
   "id": "6e8a4826-8d96-44d3-a639-fe995961f42c",
   "metadata": {
    "editable": true,
    "slideshow": {
     "slide_type": "slide"
    },
    "tags": []
   },
   "source": [
    "## Print Formatting: `sep`\n",
    "When multiple arguments are passed into the print function, they are by default separated by a space."
   ]
  },
  {
   "cell_type": "code",
   "execution_count": 10,
   "id": "c1809bac-f6e6-4c3d-b04e-124664d99003",
   "metadata": {
    "editable": true,
    "slideshow": {
     "slide_type": ""
    },
    "tags": []
   },
   "outputs": [
    {
     "name": "stdout",
     "output_type": "stream",
     "text": [
      "the cost of your item is $ 5.75\n"
     ]
    }
   ],
   "source": [
    "cost = 5.75\n",
    "print(\"the cost of your item is $\",cost)"
   ]
  },
  {
   "cell_type": "markdown",
   "id": "cb9de3eb-e13a-4141-a635-c3922d062efc",
   "metadata": {
    "editable": true,
    "slideshow": {
     "slide_type": ""
    },
    "tags": []
   },
   "source": [
    "^^ Note the pesky space between $ and 5.75"
   ]
  },
  {
   "cell_type": "markdown",
   "id": "4f4a4bf0-b510-433b-b4ae-46fcdebaae09",
   "metadata": {
    "editable": true,
    "slideshow": {
     "slide_type": "slide"
    },
    "tags": []
   },
   "source": [
    "If you do not want the default space between arguments in a print statement, you can put an additional argument that specifies exactly what should be placed between items in the print statement\n",
    "\n",
    "For example, nothing (the empty string) denoted `“”`\n",
    "Denoted `sep = “”`"
   ]
  },
  {
   "cell_type": "code",
   "execution_count": 11,
   "id": "ad12e020-a468-4d77-9089-aaea0be3642a",
   "metadata": {
    "editable": true,
    "slideshow": {
     "slide_type": ""
    },
    "tags": []
   },
   "outputs": [
    {
     "name": "stdout",
     "output_type": "stream",
     "text": [
      "the cost of your item is $5.75\n"
     ]
    }
   ],
   "source": [
    "cost = 5.75\n",
    "print(\"the cost of your item is $\",cost, sep=\"\")"
   ]
  },
  {
   "cell_type": "markdown",
   "id": "bbfe0795-7eeb-40dd-ab00-a5756db9aa2a",
   "metadata": {
    "editable": true,
    "slideshow": {
     "slide_type": "slide"
    },
    "tags": []
   },
   "source": [
    "## Print Formating: `round()`\n",
    "Python provides a `round()` function rounds a decimal number to the nearest whole number."
   ]
  },
  {
   "cell_type": "code",
   "execution_count": 12,
   "id": "4055d4c8-933a-4618-83cf-7de0ca8b46e0",
   "metadata": {
    "editable": true,
    "slideshow": {
     "slide_type": ""
    },
    "tags": []
   },
   "outputs": [
    {
     "data": {
      "text/plain": [
       "5"
      ]
     },
     "execution_count": 12,
     "metadata": {},
     "output_type": "execute_result"
    }
   ],
   "source": [
    "round(4.56)"
   ]
  },
  {
   "cell_type": "code",
   "execution_count": 13,
   "id": "071d5f3a-3a7d-460b-8931-1d90b3ab0cf5",
   "metadata": {
    "editable": true,
    "slideshow": {
     "slide_type": ""
    },
    "tags": []
   },
   "outputs": [
    {
     "data": {
      "text/plain": [
       "9"
      ]
     },
     "execution_count": 13,
     "metadata": {},
     "output_type": "execute_result"
    }
   ],
   "source": [
    "round(9.12)"
   ]
  },
  {
   "cell_type": "markdown",
   "id": "8ef2352f-a71d-4870-99f2-1f5a7a98c4d0",
   "metadata": {
    "editable": true,
    "slideshow": {
     "slide_type": "slide"
    },
    "tags": []
   },
   "source": [
    "# Exercise #5\n",
    "There is something peculiar (perhaps a bug?) with Python’s implementation of `round()`\n",
    "Take a minute, write some code with round, and see if you can figure out this issue…"
   ]
  },
  {
   "cell_type": "code",
   "execution_count": null,
   "id": "6524466b-5e22-4661-9237-b48861c92bf0",
   "metadata": {
    "editable": true,
    "slideshow": {
     "slide_type": ""
    },
    "tags": []
   },
   "outputs": [],
   "source": []
  },
  {
   "cell_type": "markdown",
   "id": "0cb62e5c-7866-49af-bc9a-55874411ad29",
   "metadata": {
    "editable": true,
    "slideshow": {
     "slide_type": "slide"
    },
    "tags": []
   },
   "source": [
    "There are actually many different types of rounding: \n",
    "- Convergent rounding, statistician’s rounding, Gaussian rounding, odd–even rounding, or bankers’ rounding.\n",
    "    - Numbers which are equidistant from the two nearest integers are rounded to the nearest even integer.\n",
    "    - Thus 0.5 rounds down to 0; 1.5 rounds up to 2. \n"
   ]
  },
  {
   "cell_type": "markdown",
   "id": "a12cfeca-a78d-4626-94ac-3e97258679e8",
   "metadata": {
    "editable": true,
    "slideshow": {
     "slide_type": "slide"
    },
    "tags": []
   },
   "source": [
    "## Print formatting: rounding to decimal places\n",
    "You can also use `round()` to round float numbers to a specific number of decimal places..."
   ]
  },
  {
   "cell_type": "code",
   "execution_count": 8,
   "id": "28beac74-047d-4a83-b838-b6119db08c33",
   "metadata": {
    "editable": true,
    "slideshow": {
     "slide_type": ""
    },
    "tags": []
   },
   "outputs": [
    {
     "name": "stdout",
     "output_type": "stream",
     "text": [
      "3.142\n"
     ]
    }
   ],
   "source": [
    "my_val = round(3.1415926,3)\n",
    "print(my_val)"
   ]
  },
  {
   "cell_type": "markdown",
   "id": "7e491387-1144-4aa0-9ab8-4f862c8079f3",
   "metadata": {
    "editable": true,
    "slideshow": {
     "slide_type": "slide"
    },
    "tags": []
   },
   "source": [
    "## Print Formatting: `lower()`"
   ]
  },
  {
   "cell_type": "code",
   "execution_count": null,
   "id": "0920f9dc-84cd-4484-b492-92e1ad4aa15c",
   "metadata": {
    "editable": true,
    "slideshow": {
     "slide_type": ""
    },
    "tags": []
   },
   "outputs": [],
   "source": [
    "answer = input(\"Is it cold outside?\")\n",
    "\n",
    "if answer.lower() == 'yes':\n",
    "    print(\"you bet it is\")\n",
    "else:\n",
    "    print(\"not yet\")"
   ]
  },
  {
   "cell_type": "markdown",
   "id": "a45dc64f-6a6b-40b9-a420-2a5057dd7c1e",
   "metadata": {
    "editable": true,
    "slideshow": {
     "slide_type": "slide"
    },
    "tags": []
   },
   "source": [
    "# Challenge #6:\n",
    "The user can play a game. Each time they type in the word `yes` or `yep` (capitalization doesn’t matter) then they earn $0.015. (1 and half cents)\n",
    "\n",
    "As soon as they type in something other than yes or yep, then their turn is over.\n",
    "\n",
    "Write the program that will implement this and also output how much they have earned (rounded to the nearest cent).\n",
    "\n",
    "Pay close attention to the formatting: \n",
    "\n",
    "![day07_challenge9.png](day07_challenge9.png)"
   ]
  },
  {
   "cell_type": "markdown",
   "id": "186de3e0-f535-4d1d-ad96-9d92acd4de25",
   "metadata": {
    "editable": true,
    "slideshow": {
     "slide_type": "slide"
    },
    "tags": []
   },
   "source": [
    "# The `for` loop: a count=controlled loop\n",
    "\n",
    "Count-Controlled Loop: iterates a specific number of times.\n",
    "\n",
    "Use a `for` statement (a `for loop`) to write count-controlled loops\n",
    "- Designed to work with a sequence of data items\n",
    "    - Iterates once for each item in the sequence.\n",
    "- General format:\n",
    "```python\n",
    "for variable in [val1, val2, … , valn]:\n",
    "    \tstatements\n",
    "```\n",
    "__Target variable__: the variable which is the target of the assignment at the beginning of each iteration. \n"
   ]
  },
  {
   "cell_type": "code",
   "execution_count": 14,
   "id": "870c09bd-e197-4a34-a005-b19de79c7b19",
   "metadata": {
    "editable": true,
    "slideshow": {
     "slide_type": ""
    },
    "tags": []
   },
   "outputs": [
    {
     "name": "stdout",
     "output_type": "stream",
     "text": [
      "1\n",
      "2\n",
      "3\n",
      "4\n",
      "5\n"
     ]
    }
   ],
   "source": [
    "for num in [1,2,3,4,5]:\n",
    "    print(num)"
   ]
  },
  {
   "cell_type": "markdown",
   "id": "cbd87c4e-696b-4614-8603-a51865c4c1ea",
   "metadata": {
    "editable": true,
    "slideshow": {
     "slide_type": "slide"
    },
    "tags": []
   },
   "source": [
    "![day07_forloop.png](day07_forloop.png)"
   ]
  },
  {
   "cell_type": "markdown",
   "id": "076dc743-d1b4-47b0-8031-2ef395014aed",
   "metadata": {
    "editable": true,
    "slideshow": {
     "slide_type": "slide"
    },
    "tags": []
   },
   "source": [
    "# For Loop Examples"
   ]
  },
  {
   "cell_type": "code",
   "execution_count": 15,
   "id": "9118565a-f5a2-43c4-ba4f-2979c42858f6",
   "metadata": {
    "editable": true,
    "slideshow": {
     "slide_type": "slide"
    },
    "tags": []
   },
   "outputs": [
    {
     "name": "stdout",
     "output_type": "stream",
     "text": [
      "1\n",
      "3\n",
      "5\n",
      "7\n",
      "9\n"
     ]
    }
   ],
   "source": [
    "# print odd numbers 1 thru 9\n",
    "for val in [1,3,5,7,9]:\n",
    "    print(val)"
   ]
  },
  {
   "cell_type": "code",
   "execution_count": 16,
   "id": "176a2c12-4a13-4cf9-990d-ad4789ee0489",
   "metadata": {
    "editable": true,
    "slideshow": {
     "slide_type": "slide"
    },
    "tags": []
   },
   "outputs": [
    {
     "name": "stdout",
     "output_type": "stream",
     "text": [
      "John\n",
      "Paul\n",
      "George\n",
      "Ringo\n"
     ]
    }
   ],
   "source": [
    "# print strings in a list\n",
    "for name in [\"John\", \"Paul\", \"George\", \"Ringo\"]:\n",
    "    print(name)"
   ]
  },
  {
   "cell_type": "code",
   "execution_count": 17,
   "id": "0b0cd045-5e61-4417-92a4-6c5970ff1d00",
   "metadata": {
    "editable": true,
    "slideshow": {
     "slide_type": "slide"
    },
    "tags": []
   },
   "outputs": [
    {
     "name": "stdin",
     "output_type": "stream",
     "text": [
      "enter a string:  tomato\n"
     ]
    },
    {
     "name": "stdout",
     "output_type": "stream",
     "text": [
      "t\n",
      "o\n",
      "m\n",
      "a\n",
      "t\n",
      "o\n"
     ]
    }
   ],
   "source": [
    " my_string = input(\"enter a string: \")\n",
    "for character in my_string:\n",
    "    print(character)"
   ]
  },
  {
   "cell_type": "markdown",
   "id": "a1f28270-fce1-432f-83a2-41b6fe07bf0f",
   "metadata": {
    "editable": true,
    "slideshow": {
     "slide_type": "slide"
    },
    "tags": []
   },
   "source": [
    "# Exercise #7\n",
    "Describe, in English, what this code will do:"
   ]
  },
  {
   "cell_type": "code",
   "execution_count": null,
   "id": "a5801613-3e16-4eb1-8da0-9fa96668abe2",
   "metadata": {
    "editable": true,
    "slideshow": {
     "slide_type": ""
    },
    "tags": []
   },
   "outputs": [],
   "source": [
    "import random\n",
    "number = random.randint(1,10)\n",
    "for try_number in [1,2,3,4,5]:\n",
    "    print(\"try\", try_number, \"--\", end=\"\")\n",
    "    guess = int(input(\" guess a number \"))\n",
    "    if guess == number:\n",
    "        print(\"You got it!\")\n",
    "    else:\n",
    "        print(\"nope.\")"
   ]
  },
  {
   "cell_type": "markdown",
   "id": "e343b1c8-d2dc-41e9-ab7c-553210e66bb9",
   "metadata": {
    "editable": true,
    "slideshow": {
     "slide_type": "slide"
    },
    "tags": []
   },
   "source": [
    "# The `range()` function:\n",
    "The range function simplifies the process of writing a for loop\n",
    "range returns an iterable object\n",
    "\n",
    "__Iterable__: contains a sequence of values that can be iterated (looped) over.\n",
    "`range(5)` yields the same thing as `[0,1,2,3,4]`\n"
   ]
  },
  {
   "cell_type": "code",
   "execution_count": 18,
   "id": "97824664-52ce-4200-a797-846eb1fc6d65",
   "metadata": {
    "editable": true,
    "slideshow": {
     "slide_type": ""
    },
    "tags": []
   },
   "outputs": [
    {
     "name": "stdout",
     "output_type": "stream",
     "text": [
      "0\n",
      "1\n",
      "2\n",
      "3\n",
      "4\n"
     ]
    }
   ],
   "source": [
    "for num in range(5):\n",
    "    print(num)"
   ]
  },
  {
   "cell_type": "code",
   "execution_count": 19,
   "id": "2628f087-cbfa-427c-8ac2-965d86e26878",
   "metadata": {
    "editable": true,
    "slideshow": {
     "slide_type": "slide"
    },
    "tags": []
   },
   "outputs": [
    {
     "name": "stdout",
     "output_type": "stream",
     "text": [
      "Hello world!\n",
      "Hello world!\n",
      "Hello world!\n",
      "Hello world!\n",
      "Hello world!\n"
     ]
    }
   ],
   "source": [
    "for i in range(5):\n",
    "    print(\"Hello world!\")"
   ]
  },
  {
   "cell_type": "markdown",
   "id": "da3d304f-18c9-4ef9-a160-20f27d6d68d1",
   "metadata": {
    "editable": true,
    "slideshow": {
     "slide_type": "slide"
    },
    "tags": []
   },
   "source": [
    "# `range()`\n",
    "Definition: An __argument__ is an input into a function.\n",
    "\n",
    "If you pass one argument to range, that argument is used as the _ending limit_ of the number.\n",
    "- Starting with 0\n",
    "`range(5)` yields the same thing as `[0,1,2,3,4]`"
   ]
  },
  {
   "cell_type": "markdown",
   "id": "b92e9de0-1694-42e3-972b-ef52c3179636",
   "metadata": {
    "editable": true,
    "slideshow": {
     "slide_type": "fragment"
    },
    "tags": []
   },
   "source": [
    "If you pass two arguments to range, the first number is a _starting value_, and the second value is the _ending limit_.\n",
    "- `range(1,5)` yields the same thing as `[1,2,3,4]`"
   ]
  },
  {
   "cell_type": "markdown",
   "id": "60c50cbc-f3f8-40c0-9e7e-b84b9d8091ce",
   "metadata": {
    "editable": true,
    "slideshow": {
     "slide_type": "slide"
    },
    "tags": []
   },
   "source": [
    "By default, the range function produces a sequence of numbers that increases by 1. \n",
    "\n",
    "If you pass three arguments to range:\n",
    "- the first number is the __starting value__\n",
    "- the second number is the __ending limit__ (not included)\n",
    "- the third number is the __step value__ (increment)\n",
    "`range(1,10,2)` yield sthe same thing as `[1,3,5,7,9]`"
   ]
  },
  {
   "cell_type": "markdown",
   "id": "a9ec897a-6b64-4a60-b00a-21eb389700c5",
   "metadata": {
    "editable": true,
    "slideshow": {
     "slide_type": "slide"
    },
    "tags": []
   },
   "source": [
    "# Exercise #8\n",
    "Do the following practice exercises:\n",
    "- Print out all integers between 1 and 200 (including 200)\n",
    "- Print out all even integers between 1 and 200 (including 200)\n",
    "- Print out all integers counting down from 50 to 1.\n",
    "- Do Lab #4 with a For loop (in 4 lines of code):\n",
    "- Print out all integers between 1 and 10, followed by the squares."
   ]
  },
  {
   "cell_type": "code",
   "execution_count": null,
   "id": "e25b05a3-d67f-4b56-a141-aa9b39b3fd86",
   "metadata": {
    "editable": true,
    "slideshow": {
     "slide_type": ""
    },
    "tags": []
   },
   "outputs": [],
   "source": []
  },
  {
   "cell_type": "markdown",
   "id": "b838e79d-c4c8-4c2c-aa23-5be2c1faa085",
   "metadata": {
    "editable": true,
    "id": "hy85VYM-p3yY",
    "slideshow": {
     "slide_type": "slide"
    },
    "tags": []
   },
   "source": [
    "# Admin Stuff"
   ]
  },
  {
   "cell_type": "markdown",
   "id": "3d8760c6-4fba-4eab-a2de-a1446c70e98b",
   "metadata": {
    "editable": true,
    "id": "q3lMpIiap3yY",
    "slideshow": {
     "slide_type": ""
    },
    "tags": []
   },
   "source": [
    "You should be working on:\n",
    "- [Lab #4](https://analytics.drake.edu/~moore/CS65-F24/Lab4/Lab4.html) due Monday, September 23rd by 11:59 pm to CodePost\n",
    "\n",
    "Reading:\n",
    "- [While Loop Reading](https://analytics.drake.edu/~urness/CS65Text/Chapter4.html)\n",
    "- [for loop reading](https://python.swaroopch.com/control_flow.html)"
   ]
  },
  {
   "cell_type": "markdown",
   "id": "2d5832ce-35ac-42ea-aeb1-6f77859f0035",
   "metadata": {
    "editable": true,
    "jp-MarkdownHeadingCollapsed": true,
    "slideshow": {
     "slide_type": "slide"
    },
    "tags": []
   },
   "source": [
    "## Quiz #1\n",
    "- will be released after class today, due on Wednesday 9/25 by 11:59pm.\n",
    "- Blackboard quiz\n",
    "- Open notes, open book, no AI assistant usage permitted."
   ]
  }
 ],
 "metadata": {
  "kernelspec": {
   "display_name": "Python 3 (ipykernel)",
   "language": "python",
   "name": "python3"
  },
  "language_info": {
   "codemirror_mode": {
    "name": "ipython",
    "version": 3
   },
   "file_extension": ".py",
   "mimetype": "text/x-python",
   "name": "python",
   "nbconvert_exporter": "python",
   "pygments_lexer": "ipython3",
   "version": "3.12.4"
  }
 },
 "nbformat": 4,
 "nbformat_minor": 5
}

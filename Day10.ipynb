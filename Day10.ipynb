{
  "cells": [
    {
      "cell_type": "markdown",
      "metadata": {
        "id": "view-in-github",
        "colab_type": "text"
      },
      "source": [
        "<a href=\"https://colab.research.google.com/github/merriekay/F24_CS65/blob/main/Day10.ipynb\" target=\"_parent\"><img src=\"https://colab.research.google.com/assets/colab-badge.svg\" alt=\"Open In Colab\"/></a>"
      ]
    },
    {
      "cell_type": "markdown",
      "id": "47f10411-f9ea-479c-8397-26ed83d3d7bd",
      "metadata": {
        "editable": true,
        "tags": [],
        "id": "47f10411-f9ea-479c-8397-26ed83d3d7bd"
      },
      "source": [
        "# CS65: Day 10\n",
        "\n",
        "## Introduction to Functions\n",
        "\n",
        "### CS65: Introduction to Computer Science I | Fall 2024\n",
        "\n",
        "*Wednesday, October 2nd,2024*\n",
        "\n",
        "### Helpful Resources:\n",
        "[📜 Syllabus](https://docs.google.com/document/d/1nqjmD0yhOOh2gaPwxfjV4EY_dBUIQUur1fvqQ4YPJLA/edit?usp=sharing) | [📬 CodePost Login](https://codepost.io/login) | [📆 Schedule](https://docs.google.com/spreadsheets/d/1Q5-ArPnXwjejKjXSI8WKgF7A2HRAam6Ny3eNA7EHn18/edit?usp=sharing) | [🙋‍♂️ PollEverywhere](https://pollev.com/moore) | [🪴 Office Hour Sign-Up](https://calendly.com/meredith-moore/office-hours)\n",
        "\n",
        "> **Note to self:** Make sure you're recording, silly goose!"
      ]
    },
    {
      "cell_type": "markdown",
      "id": "2828d6ed-326b-456d-8328-42ced8300418",
      "metadata": {
        "editable": true,
        "id": "2828d6ed-326b-456d-8328-42ced8300418",
        "tags": []
      },
      "source": [
        "# Admin Stuff"
      ]
    },
    {
      "cell_type": "markdown",
      "id": "62f4e793-32af-4307-8225-e14ef07d60ec",
      "metadata": {
        "editable": true,
        "id": "62f4e793-32af-4307-8225-e14ef07d60ec",
        "tags": []
      },
      "source": [
        "You should be working on:\n",
        "- [Lab #6](https://analytics.drake.edu/~moore/CS65-F24/Lab6/Lab6.html) is due tonight by 11:59 pm. Mondrian-like painting using Graphics\n",
        "- [Lab #7](https://analytics.drake.edu/~moore/CS65-F24//Lab7.html) is released today, due Monday October 7th, by 11:59 pm (to codePost)"
      ]
    },
    {
      "cell_type": "markdown",
      "id": "854abea7-7957-435b-9d7c-268f438fb6d4",
      "metadata": {
        "editable": true,
        "id": "854abea7-7957-435b-9d7c-268f438fb6d4",
        "tags": []
      },
      "source": [
        "# ⏪ Quick Review:"
      ]
    },
    {
      "cell_type": "markdown",
      "id": "8f692e57-c782-475a-903e-f0c104e42a17",
      "metadata": {
        "editable": true,
        "tags": [],
        "id": "8f692e57-c782-475a-903e-f0c104e42a17"
      },
      "source": [
        "# Challenge #1:\n",
        "\n",
        "Warm up exercise...\n",
        "\n",
        "What do you think this will do?"
      ]
    },
    {
      "cell_type": "code",
      "execution_count": null,
      "id": "de1fdbdb-97b8-497f-94b7-7bd1603ea957",
      "metadata": {
        "editable": true,
        "tags": [],
        "id": "de1fdbdb-97b8-497f-94b7-7bd1603ea957"
      },
      "outputs": [],
      "source": [
        "from graphics import *\n",
        "WIDTH = 600\n",
        "HEIGHT = 480\n",
        "\n",
        "speed = 2\n",
        "going_right = True\n",
        "\n",
        "win = GraphWin(\"Title\", WIDTH, HEIGHT)\n",
        "\n",
        "ball = Circle(Point(30,270), 10)\n",
        "ball.setFill(\"red\")\n",
        "ball.draw(win)\n",
        "\n",
        "while win.isOpen():\n",
        "    ball.move(speed,0)\n",
        "    update(60) # refresh for 60 frames per second"
      ]
    },
    {
      "cell_type": "markdown",
      "id": "2ada09a0-274e-4773-b92d-0c07ae6106c9",
      "metadata": {
        "editable": true,
        "tags": [],
        "id": "2ada09a0-274e-4773-b92d-0c07ae6106c9"
      },
      "source": [
        "## Warm up Exercise...\n",
        "\n",
        "- Can you make the ball bounce? Use the code above to give this a shot\n",
        "\n",
        "__Hint__:\n",
        "```python\n",
        "ball.getCenter().getX()\n",
        "```\n",
        "\n",
        "- Can you make it bounce off of all of the walls?"
      ]
    },
    {
      "cell_type": "markdown",
      "id": "a37e4472-c98e-41a6-99b4-3e8c51763895",
      "metadata": {
        "editable": true,
        "id": "a37e4472-c98e-41a6-99b4-3e8c51763895",
        "tags": []
      },
      "source": [
        "# ✨ New Material"
      ]
    },
    {
      "cell_type": "markdown",
      "id": "6e92eb3b-d27b-43c9-8a33-4d8206cada48",
      "metadata": {
        "editable": true,
        "tags": [],
        "id": "6e92eb3b-d27b-43c9-8a33-4d8206cada48"
      },
      "source": [
        "## Graphics - Capture a key press\n",
        "\n",
        "The graphics API gives information about how to use the various graphics systems:\n",
        "\n",
        "[https://mcsp.wartburg.edu/zelle/python/graphics/graphics/node3.html](https://mcsp.wartburg.edu/zelle/python/graphics/graphics/node3.html)\n",
        "\n",
        "Window operations that can be called include:\n",
        "- `win.checkKey()`: Will return which key has been pressed.\n"
      ]
    },
    {
      "cell_type": "markdown",
      "id": "818f9bd1-93ec-4179-8baa-dd1179b2412c",
      "metadata": {
        "editable": true,
        "tags": [],
        "id": "818f9bd1-93ec-4179-8baa-dd1179b2412c"
      },
      "source": [
        "# Challenge #2:\n",
        "\n",
        "What do you think this code will do?"
      ]
    },
    {
      "cell_type": "code",
      "execution_count": null,
      "id": "b3bafbcc-9c84-4c7c-9b24-273bc8d2a054",
      "metadata": {
        "editable": true,
        "tags": [],
        "id": "b3bafbcc-9c84-4c7c-9b24-273bc8d2a054"
      },
      "outputs": [],
      "source": [
        "from graphics import *\n",
        "\n",
        "WIDTH = 600\n",
        "HEIGHT = 480\n",
        "\n",
        "win = GraphWin(\"Title\", WIDTH, HEIGHT)\n",
        "\n",
        "paddle = Rectangle(Point(50, 450), Point(250, 475))\n",
        "paddle.setFill(\"cyan\")\n",
        "paddle.draw(win)\n",
        "\n",
        "while win.isOpen():\n",
        "    key = win.checkKey()\n",
        "    if key == 'Right':\n",
        "        paddle.move(20, 0)\n",
        "    elif key == 'Left':\n",
        "        paddle.move(-20, 0)\n",
        "    update(60) # refresh for 60 frames per second"
      ]
    },
    {
      "cell_type": "markdown",
      "id": "1ca5d4ca-c549-483e-8210-d5b51dfa8209",
      "metadata": {
        "editable": true,
        "tags": [],
        "id": "1ca5d4ca-c549-483e-8210-d5b51dfa8209"
      },
      "source": [
        "# Modules:\n",
        "One of the things that makes Python such a great language is that there are many functions you can use that aren't built in.\n",
        "- They're written by other programmers and made available to you.\n",
        "- In order to use them, you need an `import` statement.\n",
        "- Something you import this way is called a __module__.\n",
        "- A __module__ is some pre-defined code that can be available to a program through the keyword `import`\n",
        "\n",
        "__Modules__ we've used before:"
      ]
    },
    {
      "cell_type": "code",
      "execution_count": null,
      "id": "c10b4fc8-e607-4e11-aaad-ec0e73f583bc",
      "metadata": {
        "editable": true,
        "tags": [],
        "id": "c10b4fc8-e607-4e11-aaad-ec0e73f583bc"
      },
      "outputs": [],
      "source": [
        "import random\n",
        "from graphics import *"
      ]
    },
    {
      "cell_type": "markdown",
      "id": "a6239f69-9e8b-4a13-bbde-a55bda6a44d4",
      "metadata": {
        "editable": true,
        "tags": [],
        "id": "a6239f69-9e8b-4a13-bbde-a55bda6a44d4"
      },
      "source": [
        "## Module Examples:\n",
        "```python\n",
        "import random\n",
        "print( random.randint(1,100) )\n",
        "```\n",
        "\n",
        "In `random.randint(1,100)`:\n",
        "- `random` is the name of the __module__\n",
        "- `randint` is the name of the _function_ that we want to use from the module.\n",
        "- `1` and `100` are __*arguments*__ we pass to the function that tell it what range of numbers we want our random number to be in."
      ]
    },
    {
      "cell_type": "markdown",
      "id": "6dee3aca-71f5-44d9-9dd8-3114110c700e",
      "metadata": {
        "editable": true,
        "tags": [],
        "id": "6dee3aca-71f5-44d9-9dd8-3114110c700e"
      },
      "source": [
        "## Modules `from` and `*`\n",
        "```python\n",
        "from graphics import *\n",
        "```\n",
        "Notice the use of `*`. In computer science this is used as a _wildcard_ indicator which I often say as 'all'. It means we're going to import all of the functions from the graphics module.\n",
        "\n",
        "In this case, we don't need to prepend calls to the graphics library with the `graphics.function_name()`. We can just call the name of the function since we imported all of the functions in the module."
      ]
    },
    {
      "cell_type": "markdown",
      "id": "803dbca4-11e4-4c58-aa34-c0436b8ed08e",
      "metadata": {
        "editable": true,
        "tags": [],
        "id": "803dbca4-11e4-4c58-aa34-c0436b8ed08e"
      },
      "source": [
        "# Callling Functions\n",
        "\n",
        "Whether we've known it or not, we've called lots of functions so far in this class.\n",
        "\n",
        "Examples:\n",
        "```python\n",
        "print(\"Hello\")\n",
        "val = int(input(\"please enter a number: \"))\n",
        "```\n",
        "\n",
        "What are functions awesome?\n",
        "- we don't have to think about the code that makes these work in order to use them (_abstraction_)\n",
        "- the code these programmers wrote is _reusable_\n",
        "    - The same code they wrote gets used in many many programs by many different programmers."
      ]
    },
    {
      "cell_type": "markdown",
      "id": "333c499f-4798-4d75-adb8-6a613128761d",
      "metadata": {
        "editable": true,
        "tags": [],
        "id": "333c499f-4798-4d75-adb8-6a613128761d"
      },
      "source": [
        "# Advantages of functions:\n",
        "\n",
        "Why should we write our own functions?\n",
        "- __Easier problem-solving__: break big tasks into smaller ones\n",
        "- __Better organization__: easier to find/change the code you're looking for\n",
        "- __Easier testing/debugging__: you can test each function by itself before integrating into the bigger program.\n",
        "- __Reusable__: You can write code that will be useful many times in this program and possibly later ones."
      ]
    },
    {
      "cell_type": "markdown",
      "id": "62cece35-6edb-4f7b-a1fb-a659b7705d97",
      "metadata": {
        "editable": true,
        "tags": [],
        "id": "62cece35-6edb-4f7b-a1fb-a659b7705d97"
      },
      "source": [
        "# Defining your own functions:\n",
        "\n",
        "The syntax for defining your own function includes the following:\n",
        "- the keyword `def` (short for define)\n",
        "- a `function_name` that you pick (same rules as naming variables)\n",
        "- parenthese `()` (later we'll put things inside these parentheses)\n",
        "- an _indented block of code_\n",
        "\n",
        "All together, it looks something like this:\n",
        "```python\n",
        "def function_name():\n",
        "    # code goes here\n",
        "\n",
        "    # when 'called', the code inside will be executed\n",
        "```"
      ]
    },
    {
      "cell_type": "markdown",
      "id": "064dc532-ef20-42c1-835f-451095d19f7d",
      "metadata": {
        "editable": true,
        "tags": [],
        "id": "064dc532-ef20-42c1-835f-451095d19f7d"
      },
      "source": [
        "## Our first function:"
      ]
    },
    {
      "cell_type": "code",
      "execution_count": null,
      "id": "edbb8b86-b551-4e56-a36a-e020ea8210dd",
      "metadata": {
        "editable": true,
        "tags": [],
        "id": "edbb8b86-b551-4e56-a36a-e020ea8210dd",
        "outputId": "240667b8-ed1c-4f7a-c66f-ab38f030c91e"
      },
      "outputs": [
        {
          "name": "stdout",
          "output_type": "stream",
          "text": [
            "Hello CS65!\n",
            "I'm in a function!\n"
          ]
        }
      ],
      "source": [
        "def message():\n",
        "    print(\"Hello CS65!\")\n",
        "    print(\"I'm in a function!\")\n",
        "\n",
        "message() # you have to call the function"
      ]
    },
    {
      "cell_type": "markdown",
      "id": "fb219a39-9ab6-4354-a9bb-c15b65eb8f00",
      "metadata": {
        "editable": true,
        "tags": [],
        "id": "fb219a39-9ab6-4354-a9bb-c15b65eb8f00"
      },
      "source": [
        "# Transfer of Control\n",
        "\n",
        "When a function gets called, the executio nof the code is transferred to the statements within the function definition.\n",
        "\n",
        "After, the execution returns to th eline below where the function was called."
      ]
    },
    {
      "cell_type": "code",
      "execution_count": null,
      "id": "be7921fd-0f85-41e7-9239-89bd65a07a14",
      "metadata": {
        "editable": true,
        "tags": [],
        "id": "be7921fd-0f85-41e7-9239-89bd65a07a14",
        "outputId": "f7079d4e-a662-4884-852d-c088ef278ea7"
      },
      "outputs": [
        {
          "name": "stdout",
          "output_type": "stream",
          "text": [
            "Here\n",
            "Hello CS65!\n",
            "I'm in a function!\n",
            "Thank you, come again!\n"
          ]
        }
      ],
      "source": [
        "def message():\n",
        "    print(\"Hello CS65!\")\n",
        "    print(\"I'm in a function!\")\n",
        "\n",
        "print(\"Here\")\n",
        "message() # you have to call the function\n",
        "print(\"Thank you, come again!\")"
      ]
    },
    {
      "cell_type": "markdown",
      "id": "a5ef85b8-35ab-4e05-9260-d6648813932d",
      "metadata": {
        "editable": true,
        "tags": [],
        "id": "a5ef85b8-35ab-4e05-9260-d6648813932d"
      },
      "source": [
        "## Functions calling Functions:\n",
        "\n",
        "A function must be defined before it can be called.\n",
        "- use `def` to define the function\n",
        "\n",
        "Nothing prevents a function from being called from within another function:"
      ]
    },
    {
      "cell_type": "code",
      "execution_count": null,
      "id": "6bbe98f2-8295-4354-a37a-dd57a87f5c7a",
      "metadata": {
        "editable": true,
        "tags": [],
        "id": "6bbe98f2-8295-4354-a37a-dd57a87f5c7a",
        "outputId": "81a75422-45e5-4d88-8848-4a00310741fb"
      },
      "outputs": [
        {
          "name": "stdout",
          "output_type": "stream",
          "text": [
            "I'm starting in the main function\n",
            "Hello CS65!\n",
            "I'm in a function!\n",
            "Goodbye\n"
          ]
        }
      ],
      "source": [
        "def message():\n",
        "    print(\"Hello CS65!\")\n",
        "    print(\"I'm in a function!\")\n",
        "\n",
        "def main():\n",
        "    print(\"I'm starting in the main function\")\n",
        "    message()\n",
        "    print(\"Goodbye\")\n",
        "\n",
        "main() # call the main function"
      ]
    },
    {
      "cell_type": "markdown",
      "id": "566b58d0-2880-4294-964c-e18dd3ab87ba",
      "metadata": {
        "editable": true,
        "tags": [],
        "id": "566b58d0-2880-4294-964c-e18dd3ab87ba"
      },
      "source": [
        "# Challenge #3:\n",
        "In Thonny, open a new file.\n",
        "\n",
        "Create a function named `my_function`\n",
        "\n",
        "When `my_function` is called, it should print out `“THIS IS AWESOME!!”`\n",
        "\n",
        "Use a loop; call the function so it prints out `“THIS IS AWESOME!!”` 10 times\n",
        "\n",
        "What is the minimum number of lines of code you can write this program?\n"
      ]
    },
    {
      "cell_type": "code",
      "execution_count": null,
      "id": "55047d76-98f0-47a0-b8bb-328e1eb8ff27",
      "metadata": {
        "editable": true,
        "tags": [],
        "id": "55047d76-98f0-47a0-b8bb-328e1eb8ff27"
      },
      "outputs": [],
      "source": [
        "# code goes here"
      ]
    },
    {
      "cell_type": "markdown",
      "id": "90587842-8d7a-4fda-816e-661897078d7b",
      "metadata": {
        "editable": true,
        "tags": [],
        "id": "90587842-8d7a-4fda-816e-661897078d7b"
      },
      "source": [
        "## Arguments\n",
        "\n",
        "In most of the functions we've called we've passed in information for them to use. The pieces of information that we pass in to a function are called __arguments__.\n",
        "\n",
        "Examples of arguments:\n",
        "```python\n",
        "print(\"Hello world\")\n",
        "num_cookies = int(input(\"how many cookies do you want to bake?\"))\n",
        "range(10)\n",
        "name = input(\"what is your name? \")\n",
        "```"
      ]
    },
    {
      "cell_type": "markdown",
      "id": "18400c22-acc0-4556-bb6c-ed85e27a7227",
      "metadata": {
        "editable": true,
        "tags": [],
        "id": "18400c22-acc0-4556-bb6c-ed85e27a7227"
      },
      "source": [
        "## Arguments and Parameters\n",
        "\n",
        "Functions can be made to be more useful by having the ability to pass information into a function.\n",
        "\n",
        "- a __parameter__ is a variable that receives an argument that is passed into a function\n",
        "\n",
        "- an __argument__ is any piece of data that is passed into a function when the function is called"
      ]
    },
    {
      "cell_type": "code",
      "execution_count": null,
      "id": "09666db1-38c2-46bf-ae4e-5e94e6fc833f",
      "metadata": {
        "editable": true,
        "tags": [],
        "id": "09666db1-38c2-46bf-ae4e-5e94e6fc833f",
        "outputId": "232b05cf-aba8-4d86-c81d-dd4008a3d04e"
      },
      "outputs": [
        {
          "name": "stdin",
          "output_type": "stream",
          "text": [
            "How old are you?  30\n"
          ]
        },
        {
          "name": "stdout",
          "output_type": "stream",
          "text": [
            "You can vote!\n"
          ]
        }
      ],
      "source": [
        "def vote_verification(age): # age is a parametr\n",
        "    if age > 18:\n",
        "        print(\"You can vote!\")\n",
        "    else:\n",
        "        print(\"You are not old enough to vote\")\n",
        "\n",
        "val = int(input(\"How old are you? \"))\n",
        "\n",
        "vote_verification(val) # val is an argument"
      ]
    },
    {
      "cell_type": "code",
      "execution_count": null,
      "id": "1609d71d-a765-424c-8f29-70ee395b980a",
      "metadata": {
        "editable": true,
        "tags": [],
        "id": "1609d71d-a765-424c-8f29-70ee395b980a",
        "outputId": "72ef0275-dde2-4d1e-f79d-eebf0ca5925b"
      },
      "outputs": [
        {
          "data": {
            "text/html": [
              "<img src=\"https://typealias.com/img/social/guide-parameters-arguments.png\"/>"
            ],
            "text/plain": [
              "<IPython.core.display.Image object>"
            ]
          },
          "execution_count": 8,
          "metadata": {},
          "output_type": "execute_result"
        }
      ],
      "source": [
        "from IPython.display import Image\n",
        "\n",
        "Image(url=\"https://typealias.com/img/social/guide-parameters-arguments.png\")\n"
      ]
    },
    {
      "cell_type": "markdown",
      "id": "00b849c9-82b3-4d95-97bf-74ba66342b46",
      "metadata": {
        "editable": true,
        "tags": [],
        "id": "00b849c9-82b3-4d95-97bf-74ba66342b46"
      },
      "source": [
        "# Multiple Arguments\n",
        "Often it’s useful to write functions that can accept __multiple arguments__.\n",
        "\n",
        "When multiple arguments or parameters are used, _the values are separated by a comma_ in the _listing between the parentheses ()_.\n",
        "\n",
        "__The order is important__: the first argument will correspond to the first parameter, the second argument will correspond to the second parameter, and so on.\n"
      ]
    },
    {
      "cell_type": "code",
      "execution_count": null,
      "id": "44ec7766-0436-4ff1-ac38-000ba6ffa294",
      "metadata": {
        "editable": true,
        "tags": [],
        "id": "44ec7766-0436-4ff1-ac38-000ba6ffa294",
        "outputId": "056973ce-62d3-4014-91a1-baadbf263186"
      },
      "outputs": [
        {
          "name": "stdout",
          "output_type": "stream",
          "text": [
            "2 raised to the 4th power is:\n",
            "16\n"
          ]
        }
      ],
      "source": [
        "def show_exponent(num1, num2):\n",
        "    result = num1**num2\n",
        "    print(result)\n",
        "\n",
        "def main():\n",
        "    print(\"2 raised to the 4th power is:\")\n",
        "    show_exponent(2,4)\n",
        "\n",
        "main()"
      ]
    },
    {
      "cell_type": "markdown",
      "id": "e41688a9-3830-4dae-8e83-404857d2fad6",
      "metadata": {
        "editable": true,
        "tags": [],
        "id": "e41688a9-3830-4dae-8e83-404857d2fad6"
      },
      "source": [
        "# Challenge #4: `greeting()`\n",
        "\n",
        "Define a function called `greeting()`\n",
        "\n",
        "The function should first prompt the user for their name\n",
        "\n",
        "The function should then print `“hello,”` followed by the name that was entered.\n",
        "\n",
        "Call the function two times:\n",
        "```python\n",
        "greeting()\n",
        "greeting()\n",
        "```\n",
        "\n",
        "Call the function two times\n",
        "Example output:\n",
        "```zsh\n",
        "Enter your name: Meredith\n",
        "hello Meredith\n",
        "Enter your name: Prof Moore\n",
        "hello Prof Moore\n",
        "```\n"
      ]
    },
    {
      "cell_type": "markdown",
      "id": "be9d1a4b-bc7c-497b-8f19-4126eef16049",
      "metadata": {
        "editable": true,
        "tags": [],
        "id": "be9d1a4b-bc7c-497b-8f19-4126eef16049"
      },
      "source": [
        "# Challenge #5: `coin_flip()`\n",
        "\n",
        "Create a function called `coin_flip()`\n",
        "\n",
        "Simulate a flip of a coin\n",
        "- 50% of the time it should print “Heads”\n",
        "- 50% of the time it should print “Tails”\n",
        "\n",
        "Use a loop to call `coin_flip()` 10 times"
      ]
    },
    {
      "cell_type": "code",
      "execution_count": null,
      "id": "850f51b8-6c20-483c-8456-89518b99ac57",
      "metadata": {
        "editable": true,
        "tags": [],
        "id": "850f51b8-6c20-483c-8456-89518b99ac57"
      },
      "outputs": [],
      "source": [
        "# hint:\n",
        "import random\n",
        "def coin_flip():\n",
        "    num = random.randint(1,2)\n",
        "    if num == 1:\n",
        "        # ..."
      ]
    },
    {
      "cell_type": "markdown",
      "id": "f3d195f9-2c38-41ea-946f-3a3b51666ab5",
      "metadata": {
        "editable": true,
        "tags": [],
        "id": "f3d195f9-2c38-41ea-946f-3a3b51666ab5"
      },
      "source": [
        "# Challenge #6: `roll_die`\n",
        "\n",
        "Create a function called `roll_die`\n",
        "- Function should use a parameter that indicates the number of sides on the die\n",
        "- Print out a random number between 1 and the parameter (inclusive)\n",
        "\n",
        "Simulate the rolling of a 6-sided die\n",
        "\n",
        "Simulate the rolling of a 20-sided die"
      ]
    },
    {
      "cell_type": "code",
      "execution_count": null,
      "id": "6875f29e-8b2b-46c0-a416-1dd1ae3b2106",
      "metadata": {
        "editable": true,
        "tags": [],
        "id": "6875f29e-8b2b-46c0-a416-1dd1ae3b2106"
      },
      "outputs": [],
      "source": [
        "# your code should include:\n",
        "print(\"6-sided die... \")\n",
        "roll_die(6)\n",
        "\n",
        "print(\"20-sided die... \")\n",
        "roll_die(20)"
      ]
    },
    {
      "cell_type": "markdown",
      "id": "37576131-e11e-4a0f-b470-d0d0981507e2",
      "metadata": {
        "editable": true,
        "tags": [],
        "id": "37576131-e11e-4a0f-b470-d0d0981507e2"
      },
      "source": [
        "### #4 `greeting()`\n",
        "Define a function called `greeting()`\n",
        "- The function should first prompt the user for their name\n",
        "- The function should then print “hello,” followed by the name that was entered.\n",
        "### #5 `coin_flip()`\n",
        "Create a function called `coin_flip()`\n",
        "Simulate a flip of a coin\n",
        "- 50% of the time it should print “Heads”\n",
        "- 50% of the time it should print “Tails”\n",
        "Use a loop to call `coin_flip()` 10 times\n",
        "### #6 `roll_die()`\n",
        "Create a function called `roll_die`\n",
        "- use a parameter that indicates the number of sides on the die\n",
        "- Simulate the rolling of a 6-sided die and 20-sided die\n"
      ]
    },
    {
      "cell_type": "markdown",
      "id": "f7062794-f969-46f6-8e0c-a55a426c6d07",
      "metadata": {
        "editable": true,
        "tags": [],
        "id": "f7062794-f969-46f6-8e0c-a55a426c6d07"
      },
      "source": [
        "# Announcements:\n",
        "You should be working on:\n",
        "- [Lab #6](https://analytics.drake.edu/~moore/CS65-F24/Lab6/Lab6.html) is due tonight by 11:59 pm. Mondrian-like painting using Graphics\n",
        "- [Lab #7](https://analytics.drake.edu/~moore/CS65-F24/Lab6/Lab7.html) is released today, due Monday October 7th, by 11:59 pm (to codePost)"
      ]
    }
  ],
  "metadata": {
    "kernelspec": {
      "display_name": "Python 3 (ipykernel)",
      "language": "python",
      "name": "python3"
    },
    "language_info": {
      "codemirror_mode": {
        "name": "ipython",
        "version": 3
      },
      "file_extension": ".py",
      "mimetype": "text/x-python",
      "name": "python",
      "nbconvert_exporter": "python",
      "pygments_lexer": "ipython3",
      "version": "3.12.4"
    },
    "colab": {
      "provenance": [],
      "include_colab_link": true
    }
  },
  "nbformat": 4,
  "nbformat_minor": 5
}
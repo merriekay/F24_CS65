{
 "cells": [
  {
   "cell_type": "markdown",
   "id": "a739d196",
   "metadata": {},
   "source": [
    "# Lab 1: Hello World\n",
    "#### CS65 | Fall 2024\n",
    "\n",
    "__Due__: Wednesday, 9/4 by 11:59pm\n",
    "\n",
    "__Total Points__: 4\n",
    "\n",
    "Work through the following exercises and reflection questions. For credit on the lab, you only have to submit a very simple \"Hello world!\" program at the end of the lab (the “Challenge Exercise”), but working through the exercises will give you practice and help you in future labs and quizzes.\n",
    "\n",
    "For example, the reflection questions are good example questions that may arise on a future content quiz component of the course. If you are unsure of your answer to a reflection question, discuss with your group or ask me, the professor, or the Teaching Assistant.\n",
    "\n",
    "Create a new file in Thonny. Save the file with the name `Lab01.py` and make sure it is in your __CS65 folder__ you had created.\n",
    "\n",
    "## Exercise #1:\n",
    "\n",
    "Enter and execute this code: \n",
    "> (I'd advise against copying and pasting--the practice typing things out helps!)"
   ]
  },
  {
   "cell_type": "code",
   "execution_count": null,
   "id": "1b9810d8",
   "metadata": {},
   "outputs": [],
   "source": [
    "# author:\n",
    "# description: Lab #1 exercises\n",
    "\n",
    "print(\"Hello\")"
   ]
  },
  {
   "cell_type": "markdown",
   "id": "6dca29e1",
   "metadata": {},
   "source": [
    "<div class=\"alert alert-block alert-info\">\n",
    "<b>Reflection #1:</b> <br>\n",
    "Is there a difference between <code>'Hello'</code> and  <code>\"Hello\"</code>?\n",
    "</div>\n",
    "\n",
    "---\n",
    "\n",
    "## Exercise #2:\n",
    "\n",
    "What happens when you run each of the following lines?"
   ]
  },
  {
   "cell_type": "code",
   "execution_count": null,
   "id": "c4e75e75",
   "metadata": {},
   "outputs": [],
   "source": [
    "print(\"Isn't it a nice day out?\")\n",
    "print('Isn't it a nice day out?) #why is the coloring weird here?"
   ]
  },
  {
   "cell_type": "markdown",
   "id": "a638b3e3",
   "metadata": {},
   "source": [
    "<div class=\"alert alert-block alert-info\">\n",
    "<b>Reflection #2</b>: <br>\n",
    "Why did the second one give you an error? <br>\n",
    "Why do you think Python allows you to use both <code>\"</code> and <code>'</code>? <br>\n",
    "How can you get a <code>\"</code> symbol to print? <br>\n",
    "</div>\n",
    "\n",
    "---\n",
    "\n",
    "## Exercise #3:\n",
    "\n",
    "the following print statement contains text with a special symbol `\\n`, that does something strange."
   ]
  },
  {
   "cell_type": "code",
   "execution_count": null,
   "id": "6ebe798a",
   "metadata": {},
   "outputs": [],
   "source": [
    "print(\"here is some text\\nhere is more text\")"
   ]
  },
  {
   "cell_type": "markdown",
   "id": "56bfd00c",
   "metadata": {},
   "source": [
    "<div class=\"alert alert-block alert-info\">\n",
    "<b>Reflection #3:</b> <br>\n",
    "    <code>\\n</code> is called the <i>newline</i> cahracter. Why do you think it is called that?\n",
    "</div>\n",
    "\n",
    "---\n",
    "\n",
    "## Exercise #4:\n",
    "There are other special characters to. Experiment with these: `\\t` and `\\\\`\n",
    "<div class=\"alert alert-block alert-info\">\n",
    "<b>Reflection #4</b>: <br>What do each of these do? <br>Why do you think it is necessary for Python to support speical text character like these?\n",
    "</div>\n",
    "\n",
    "---\n",
    "\n",
    "# Challenge Exercise:\n",
    "For the points on this lab, create a new Python program (named `HelloWorld.py`) which displays the message \"Hello world!\" (notice the capitalization). When you run it in Thonny, it should look like this:\n",
    "\n",
    "![result](images/lab01_output.png)\n",
    "\n",
    "---\n",
    "\n",
    "# Submitting Lab #1:\n",
    "When you are finished, upload your `HelloWorld.py` file to [codePost](https://codepost.io/login) __Lab1: Hello World__ assignment.\n",
    "\n",
    "It should look like this:\n",
    "\n",
    "<div>\n",
    "<img src=\"images/lab1_submission.png\"/ width=900>\n",
    "</div>\n",
    "\n",
    "To upload your code:\n",
    "1. Click the green __Upload assignment__ button\n",
    "2. Click __Upload files__\n",
    "3. Find and Select your `HelloWorld.py` file\n",
    "4. Click the green __Submit__ button.\n",
    "\n",
    "Should you want/need to re-submit your code, you can follow the same process, but upload your new code instead.\n",
    "\n",
    "You're all set! Congrats on completing your first CS65 Lab 🥳"
   ]
  },
  {
   "cell_type": "markdown",
   "id": "39802e8c",
   "metadata": {},
   "source": []
  }
 ],
 "metadata": {
  "kernelspec": {
   "display_name": "Python 3 (ipykernel)",
   "language": "python",
   "name": "python3"
  },
  "language_info": {
   "codemirror_mode": {
    "name": "ipython",
    "version": 3
   },
   "file_extension": ".py",
   "mimetype": "text/x-python",
   "name": "python",
   "nbconvert_exporter": "python",
   "pygments_lexer": "ipython3",
   "version": "3.11.4"
  }
 },
 "nbformat": 4,
 "nbformat_minor": 5
}

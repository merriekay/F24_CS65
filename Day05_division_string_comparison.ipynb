{
  "cells": [
    {
      "cell_type": "markdown",
      "metadata": {
        "id": "view-in-github",
        "colab_type": "text"
      },
      "source": [
        "<a href=\"https://colab.research.google.com/github/merriekay/F24_CS65/blob/main/Day05_division_string_comparison.ipynb\" target=\"_parent\"><img src=\"https://colab.research.google.com/assets/colab-badge.svg\" alt=\"Open In Colab\"/></a>"
      ]
    },
    {
      "cell_type": "markdown",
      "id": "47f10411-f9ea-479c-8397-26ed83d3d7bd",
      "metadata": {
        "editable": true,
        "tags": [],
        "id": "47f10411-f9ea-479c-8397-26ed83d3d7bd"
      },
      "source": [
        "# CS65: Day 05\n",
        "\n",
        "## Division Operators and String Comparison\n",
        "\n",
        "### CS65: Introduction to Computer Science I | Fall 2024\n",
        "\n",
        "\n",
        "* Monday, September 16th, 2024*\n",
        "\n",
        "### Helpful Resources:\n",
        "[📜 Syllabus](https://docs.google.com/document/d/1nqjmD0yhOOh2gaPwxfjV4EY_dBUIQUur1fvqQ4YPJLA/edit?usp=sharing) | [📬 CodePost Login](https://codepost.io/login) | [📆 Schedule](https://docs.google.com/spreadsheets/d/1Q5-ArPnXwjejKjXSI8WKgF7A2HRAam6Ny3eNA7EHn18/edit?usp=sharing) | [🙋‍♂️ PollEverywhere](https://pollev.com/moore) | [🪴 Office Hour Sign-Up](https://calendly.com/meredith-moore/office-hours)\n",
        "\n",
        "> **Note to self:** Make sure you're recording, silly goose!"
      ]
    },
    {
      "cell_type": "markdown",
      "id": "1660e432-2cda-44be-a8fb-e104616c6512",
      "metadata": {
        "editable": true,
        "id": "1660e432-2cda-44be-a8fb-e104616c6512",
        "tags": []
      },
      "source": [
        "# Admin Stuff"
      ]
    },
    {
      "cell_type": "markdown",
      "id": "558f8db7-830b-4fc2-be97-e3234f328e67",
      "metadata": {
        "editable": true,
        "id": "558f8db7-830b-4fc2-be97-e3234f328e67",
        "tags": []
      },
      "source": [
        "You should be working on:\n",
        "- [Lab #3](https://analytics.drake.edu/~moore/CS65-F23/Lab3.html) is due tonight by 11:59pm.\n",
        "\n",
        "> Quiz #1 is coming soon--it will be released after class on Wednesday and is due Monday 9/23 by 11:59pm."
      ]
    },
    {
      "cell_type": "markdown",
      "id": "19f35d98-795b-4a6e-85a4-cbc72a8ca510",
      "metadata": {
        "editable": true,
        "id": "19f35d98-795b-4a6e-85a4-cbc72a8ca510",
        "tags": []
      },
      "source": [
        "# ⏪ Quick Review:"
      ]
    },
    {
      "cell_type": "markdown",
      "id": "82d7df4d-cc1e-4af0-9075-03723a8f7363",
      "metadata": {
        "editable": true,
        "id": "82d7df4d-cc1e-4af0-9075-03723a8f7363",
        "tags": []
      },
      "source": [
        "## Conditionals Review\n",
        "\n",
        "So far, we've seen *conditional statements*"
      ]
    },
    {
      "cell_type": "code",
      "execution_count": null,
      "id": "f87378ae-e586-4aa4-925a-21282b1ce380",
      "metadata": {
        "id": "f87378ae-e586-4aa4-925a-21282b1ce380",
        "outputId": "ad5982e9-da40-4ac3-aeec-ffa6d1317a4c",
        "scrolled": true
      },
      "outputs": [
        {
          "name": "stdout",
          "output_type": "stream",
          "text": [
            "What is your age? 30\n",
            "Your total bill is 35.63\n"
          ]
        }
      ],
      "source": [
        "total_bill = 35.63\n",
        "age = float(input(\"What is your age? \"))\n",
        "\n",
        "if age > 65:\n",
        "    print(\"Applying 10% senior discount\")\n",
        "    total_bill = total_bill * 0.9\n",
        "    #any indented code is only runs\n",
        "    #when the condition is True\n",
        "\n",
        "#un-indented code runs no matter what\n",
        "print(\"Your total bill is\", total_bill)"
      ]
    },
    {
      "cell_type": "markdown",
      "id": "995321f2-f448-4822-a0c2-fe9f5f3f5ab5",
      "metadata": {
        "editable": true,
        "id": "995321f2-f448-4822-a0c2-fe9f5f3f5ab5",
        "tags": []
      },
      "source": [
        "conditional statements with two alternatives"
      ]
    },
    {
      "cell_type": "code",
      "execution_count": null,
      "id": "9c964d7a-f22b-4c41-b7eb-e44924088aae",
      "metadata": {
        "id": "9c964d7a-f22b-4c41-b7eb-e44924088aae",
        "outputId": "d0233dca-4ad4-42da-aef8-8041f8ffa175"
      },
      "outputs": [
        {
          "name": "stdout",
          "output_type": "stream",
          "text": [
            "Enter your height in inches: 61\n",
            "You are tall enough for this ride.\n"
          ]
        }
      ],
      "source": [
        "height = float(input(\"Enter your height in inches: \"))\n",
        "\n",
        "if height < 60:\n",
        "    print(\"You are not tall enough for this ride.\")\n",
        "else:\n",
        "    print(\"You are tall enough for this ride.\")"
      ]
    },
    {
      "cell_type": "markdown",
      "id": "fbfecf21-00fb-4622-a939-3489ded17358",
      "metadata": {
        "editable": true,
        "id": "fbfecf21-00fb-4622-a939-3489ded17358",
        "tags": []
      },
      "source": [
        "and in the lab, we saw _nested_ conditional statements"
      ]
    },
    {
      "cell_type": "code",
      "execution_count": null,
      "id": "63454ffc-5129-4def-a689-d20c07bbf78e",
      "metadata": {
        "id": "63454ffc-5129-4def-a689-d20c07bbf78e",
        "outputId": "64321ac4-4ef3-4fed-da76-d38bf114f930"
      },
      "outputs": [
        {
          "name": "stdout",
          "output_type": "stream",
          "text": [
            "Enter a number: 6\n",
            "6 is even\n"
          ]
        }
      ],
      "source": [
        "num = int(input(\"Enter a number: \"))\n",
        "\n",
        "#this code checks if a number is divisible by both 2 and 3\n",
        "if num % 2 == 0:\n",
        "    print(num,\"is even\")\n",
        "else:\n",
        "    if num % 3 == 0:\n",
        "        print(num,\"is odd and divisble by 3\")\n",
        "    else:\n",
        "        print(num,\"is odd and not divisible by 3\")"
      ]
    },
    {
      "cell_type": "markdown",
      "id": "85e7cbec-27ef-4728-95ae-989886388822",
      "metadata": {
        "editable": true,
        "id": "85e7cbec-27ef-4728-95ae-989886388822",
        "tags": []
      },
      "source": [
        "# The `if`-`elif`-`else` statement\n",
        "\n",
        "`if`-`elif`-`else`: special version of a decision structure--makes logic of nested decision structures simpler to write.\n",
        "\n",
        "You can include multiple `elif` statements:\n",
        "\n",
        "Syntax:\n",
        "\n",
        "__`if`__ `condition1`: <br>\n",
        "    - `statements`\n",
        "    \n",
        "__`elif`__ `condition2`: <br>\n",
        "    - `statements`\n",
        "    \n",
        "__`else`__: <br>\n",
        "    - `statements`"
      ]
    },
    {
      "cell_type": "code",
      "execution_count": null,
      "id": "5a8634ec-3661-48f5-858e-567ef412ea34",
      "metadata": {
        "editable": true,
        "id": "5a8634ec-3661-48f5-858e-567ef412ea34",
        "tags": []
      },
      "outputs": [],
      "source": [
        "score = int(input('Enter your score:'))\n",
        "\n",
        "if score >=90:\n",
        "    print(\"your earned an A\")\n",
        "elif score >=80:\n",
        "    print(\"your earned a B\")\n",
        "elif score >=70:\n",
        "    print(\"your earned a C\")\n",
        "elif score >=60:\n",
        "    print(\"your earned a D\")\n",
        "else:\n",
        "    print(\"your earned an F\")\n",
        "\n",
        "print(\"Good work!\")"
      ]
    },
    {
      "cell_type": "markdown",
      "id": "2d25bd1f-c90a-4252-b98a-63816eba794f",
      "metadata": {
        "editable": true,
        "id": "2d25bd1f-c90a-4252-b98a-63816eba794f",
        "tags": []
      },
      "source": [
        "## Nested If Statements\n",
        "\n",
        "You can include conditional statements _inside_ of other conditional statements\n",
        "\n",
        "Such statements are called __nested__ _if statements_."
      ]
    },
    {
      "cell_type": "code",
      "execution_count": null,
      "id": "bc260c50-4ee4-429d-ad37-a9fb933b2c76",
      "metadata": {
        "editable": true,
        "tags": [],
        "id": "bc260c50-4ee4-429d-ad37-a9fb933b2c76",
        "outputId": "6fae12e4-da29-4b1e-85e0-f7830255397b"
      },
      "outputs": [
        {
          "name": "stdout",
          "output_type": "stream",
          "text": [
            "3 is greater than 0 and less than 5\n"
          ]
        }
      ],
      "source": [
        "num = 3\n",
        "if num > 0:\n",
        "    # ---- an if statement inside an if statement ----\n",
        "    if num < 5:\n",
        "        print(num, \"is greater than 0 and less than 5\")\n",
        "    else:\n",
        "        print(num, \"is >= 5\")\n",
        "    # ------whitespace is important... match tabs-----\n",
        "else:\n",
        "    print(num, \"is less than 0.\")"
      ]
    },
    {
      "cell_type": "code",
      "execution_count": null,
      "id": "b948856d-850a-46c3-9b4b-01b186c7db26",
      "metadata": {
        "editable": true,
        "id": "b948856d-850a-46c3-9b4b-01b186c7db26",
        "outputId": "b087a8d2-818f-4f0a-d147-052e40cbf2a0",
        "tags": []
      },
      "outputs": [
        {
          "name": "stdin",
          "output_type": "stream",
          "text": [
            "username:  user1\n"
          ]
        },
        {
          "name": "stdout",
          "output_type": "stream",
          "text": [
            "\n",
            "incorrect username\n"
          ]
        }
      ],
      "source": [
        "username = input(\"username: \")\n",
        "print()\n",
        "if username == 'user123':\n",
        "    password = input(\"password: \")\n",
        "    print()\n",
        "    if password == 'Summer23!':\n",
        "        print(\"Access granted.\")\n",
        "    else:\n",
        "        print(\"wrong password\")\n",
        "else:\n",
        "    print(\"incorrect username\")"
      ]
    },
    {
      "cell_type": "markdown",
      "id": "5f108ac7-4a55-456a-a0c2-fa55b6c4482f",
      "metadata": {
        "editable": true,
        "id": "5f108ac7-4a55-456a-a0c2-fa55b6c4482f",
        "tags": []
      },
      "source": [
        "# Accumulator Operator:\n",
        "\n",
        "A common task in computer science is to update the value of a variable by 1.\n",
        "\n",
        "Python provides an operator to do just that: `+=`\n",
        "\n",
        "This is often referred to as an __accumulator operator__.\n",
        "\n",
        "The following two expressions do the same thing (they assign x the value of x + 1)"
      ]
    },
    {
      "cell_type": "code",
      "execution_count": null,
      "id": "ea784283-ed3c-4c68-9628-bdee9a279357",
      "metadata": {
        "id": "ea784283-ed3c-4c68-9628-bdee9a279357"
      },
      "outputs": [],
      "source": [
        "x = 0 # start with x = 0\n",
        "\n",
        "x = x + 1\n",
        "print(x)\n",
        "\n",
        "x += 5 # x = x + 5\n",
        "print(x)"
      ]
    },
    {
      "cell_type": "markdown",
      "id": "142cd395-1ec8-4fe5-891c-09fc852fb971",
      "metadata": {
        "editable": true,
        "id": "142cd395-1ec8-4fe5-891c-09fc852fb971",
        "tags": []
      },
      "source": [
        "## Other Assignment Operators:\n",
        "Python has a built in operator pattern (`+=`, `-=`, `*=`, `/=`) that takes the value of a variable and changes it by adding, subtracting, mulitplying, or dividing the variable by whatever value follows the operator."
      ]
    },
    {
      "cell_type": "code",
      "execution_count": null,
      "id": "cd5e4830-ed4d-4730-89fb-ee29a14be867",
      "metadata": {
        "id": "cd5e4830-ed4d-4730-89fb-ee29a14be867"
      },
      "outputs": [],
      "source": [
        "x = 5\n",
        "print(x)\n",
        "\n",
        "x += 5  # x = x + 5 -- 5 + 5 = 10\n",
        "print(x)\n",
        "\n",
        "x *= 10 # x = x*10 -- 10*10 = 100\n",
        "print(x)\n",
        "\n",
        "x /= 10 # x = x / 10 -- 100/10 = 10\n",
        "print(x)\n",
        "\n",
        "x -= 5  # x = x - 5 -- 10-5 = 5\n",
        "print(x)"
      ]
    },
    {
      "cell_type": "markdown",
      "id": "9d6f5c10-5b66-498b-a955-21e585475993",
      "metadata": {
        "editable": true,
        "tags": [],
        "id": "9d6f5c10-5b66-498b-a955-21e585475993"
      },
      "source": [
        "# Polleverywhere Review Questions"
      ]
    },
    {
      "cell_type": "markdown",
      "id": "baa6843f-7770-4cd4-a065-7e86c1a301fb",
      "metadata": {
        "editable": true,
        "id": "baa6843f-7770-4cd4-a065-7e86c1a301fb",
        "tags": []
      },
      "source": [
        "# ✨ New Material"
      ]
    },
    {
      "cell_type": "markdown",
      "id": "ae139156-0186-45e2-b3dc-ca574ee0f9ec",
      "metadata": {
        "editable": true,
        "id": "ae139156-0186-45e2-b3dc-ca574ee0f9ec",
        "tags": []
      },
      "source": [
        "## Integer division operators\n",
        "\n",
        "Sometimes, instead of getting the full floating-point expansion, you might want the quotient and remainder separately.\n",
        "\n",
        "<div>\n",
        "<img src=\"https://github.com/merriekay/CS65-F23/blob/main/images/day02_floor.png?raw=1\"/ width=200>\n",
        "</div>\n",
        "\n",
        "\n",
        "The `//` is the _floor_ division operator - it gives you the quotient and _ignores_ and fractional/remainder part.\n"
      ]
    },
    {
      "cell_type": "code",
      "execution_count": null,
      "id": "8927b391-fde5-496b-90fc-86cc94fb98d6",
      "metadata": {
        "id": "8927b391-fde5-496b-90fc-86cc94fb98d6",
        "outputId": "83360401-3ee3-45d5-fc1f-77fada4bc375"
      },
      "outputs": [
        {
          "data": {
            "text/plain": [
              "int"
            ]
          },
          "execution_count": 23,
          "metadata": {},
          "output_type": "execute_result"
        }
      ],
      "source": [
        "403 // 24 # quotient, w/o remainder"
      ]
    },
    {
      "cell_type": "markdown",
      "id": "d5a53b54-f71f-49c3-b012-abf528909246",
      "metadata": {
        "editable": true,
        "id": "d5a53b54-f71f-49c3-b012-abf528909246",
        "jp-MarkdownHeadingCollapsed": true,
        "tags": []
      },
      "source": [
        "## Modulo operator\n",
        "\n",
        "The `%` operator is the __modulo__ operator - another word for remainder - it will ignore the quotient and just give you the remainder.\n",
        "\n",
        "<div>\n",
        "<img src=\"https://github.com/merriekay/CS65-F23/blob/main/images/day02_mod.png?raw=1\"/ width=200>\n",
        "</div>"
      ]
    },
    {
      "cell_type": "markdown",
      "id": "6b4d6ddf-4e16-40a0-80e2-390424700e47",
      "metadata": {
        "editable": true,
        "id": "6b4d6ddf-4e16-40a0-80e2-390424700e47",
        "tags": []
      },
      "source": [
        "## Practice Exercise:\n",
        "\n",
        "Try each of the following in your interactive shell. What pattern do you notice?"
      ]
    },
    {
      "cell_type": "code",
      "execution_count": null,
      "id": "1a6fec79-55a3-4eef-bf3d-c280a911e672",
      "metadata": {
        "id": "1a6fec79-55a3-4eef-bf3d-c280a911e672"
      },
      "outputs": [],
      "source": [
        "0 // 2\n",
        "1 // 2\n",
        "3 // 2\n",
        "4 // 2\n",
        "5 // 2\n",
        "6 // 2\n",
        "20 // 5\n",
        "21 // 5\n",
        "22 // 5\n",
        "23 // 5\n",
        "24 // 5\n",
        "25 // 5"
      ]
    },
    {
      "cell_type": "markdown",
      "id": "3519ffb3-3a4c-4838-bef8-235e5ae7c8c4",
      "metadata": {
        "editable": true,
        "id": "3519ffb3-3a4c-4838-bef8-235e5ae7c8c4",
        "tags": []
      },
      "source": [
        "Try each of the following in your interactive shell. What pattern do you notice?"
      ]
    },
    {
      "cell_type": "code",
      "execution_count": null,
      "id": "f1fb2833-9645-4da4-a56b-3e2b95c029b7",
      "metadata": {
        "editable": true,
        "id": "f1fb2833-9645-4da4-a56b-3e2b95c029b7",
        "tags": []
      },
      "outputs": [],
      "source": [
        "0 % 2\n",
        "1 % 2\n",
        "3 % 2\n",
        "4 % 2\n",
        "5 % 2\n",
        "6 % 2\n",
        "20 % 5\n",
        "21 % 5\n",
        "22 % 5\n",
        "23 % 5\n",
        "24 % 5\n",
        "25 % 5"
      ]
    },
    {
      "cell_type": "markdown",
      "id": "913b1baf-6a38-4db4-aedb-dc1ce83f9c6b",
      "metadata": {
        "editable": true,
        "id": "913b1baf-6a38-4db4-aedb-dc1ce83f9c6b",
        "tags": []
      },
      "source": [
        "Write down in your notes:\n",
        "* What is the difference between `//` and `/`?\n",
        "* What is the difference between `//` and `%`?\n",
        "\n",
        "Try each of the following in your interactive shell."
      ]
    },
    {
      "cell_type": "code",
      "execution_count": null,
      "id": "da4eaa84-0ff4-4d09-be07-25ffe164c600",
      "metadata": {
        "editable": true,
        "id": "da4eaa84-0ff4-4d09-be07-25ffe164c600",
        "outputId": "f3323123-27f3-4639-9856-769b1b9db39d",
        "tags": []
      },
      "outputs": [
        {
          "name": "stdout",
          "output_type": "stream",
          "text": [
            "4.0\n"
          ]
        }
      ],
      "source": [
        "print(23 // 5.50)\n",
        "23 / 0\n",
        "23 % 0\n",
        "23 // 0"
      ]
    },
    {
      "cell_type": "markdown",
      "id": "86be944a-4cdc-48d6-bde6-cd509ac0180d",
      "metadata": {
        "editable": true,
        "id": "86be944a-4cdc-48d6-bde6-cd509ac0180d",
        "tags": []
      },
      "source": [
        "Write down in your notes:\n",
        "* What happens when you use a float with the floor division operator?\n",
        "* What happens in Python if you try to divide by 0?\n",
        "* What happens when you do `%0`?\n",
        "* What happens when you do `// 0`?"
      ]
    },
    {
      "cell_type": "markdown",
      "id": "868197fe-769a-46f6-aece-703003db86ef",
      "metadata": {
        "editable": true,
        "id": "868197fe-769a-46f6-aece-703003db86ef",
        "tags": []
      },
      "source": [
        "# Practice Exercises:\n",
        "\n",
        "Take a few minutes and try to answer these questions using Python and the division operators we just talked about:\n",
        "\n",
        "1. There are 100 pieces of candy; there are 8 people at the party; how many pieces of candy does each person get? How much candy is left over?\n",
        "    -  how many pieces does each person get?\n",
        "    -  how much candy is leftover.\n",
        "\n",
        "2. I'm programming a super computer with 64 processors to perform 1500 variations of a simulation for a physics experiment, and each of the simulations takes about the same amount of time to run. How many simulations should be given to each processor?\n",
        "    - how many simulations per processor\n",
        "    - how many simulations are leftover\n",
        "\n",
        "3. I have 78 cents, how many quarters should I give in change?\n",
        "    - how many quarters\n",
        "    - how much is leftover."
      ]
    },
    {
      "cell_type": "markdown",
      "id": "cbe63fe1-f789-45e6-b251-6abb5dded3b5",
      "metadata": {
        "editable": true,
        "id": "cbe63fe1-f789-45e6-b251-6abb5dded3b5",
        "tags": []
      },
      "source": [
        "## When is this useful?\n",
        "\n",
        "If you want to check if a number is divisible by 4 - say you're checking to see if the year is a presidential election year, Olympic year, leap year, etc., you can see if the result is zero:"
      ]
    },
    {
      "cell_type": "code",
      "execution_count": null,
      "id": "838f7094-4d97-4ecd-8ed0-3027857ff576",
      "metadata": {
        "editable": true,
        "id": "838f7094-4d97-4ecd-8ed0-3027857ff576",
        "outputId": "e9aacaef-9f04-4110-9773-941421c16114",
        "tags": []
      },
      "outputs": [
        {
          "data": {
            "text/plain": [
              "0"
            ]
          },
          "execution_count": 32,
          "metadata": {},
          "output_type": "execute_result"
        }
      ],
      "source": [
        "2024 % 4"
      ]
    },
    {
      "cell_type": "markdown",
      "id": "59ad53d4-35a0-41df-b78a-b55f1ebdfcbf",
      "metadata": {
        "editable": true,
        "id": "59ad53d4-35a0-41df-b78a-b55f1ebdfcbf",
        "tags": []
      },
      "source": [
        "Modulo (`%`) is also good if you need to check if a number is even or odd:"
      ]
    },
    {
      "cell_type": "code",
      "execution_count": null,
      "id": "8151c147-b8e3-4440-8dfa-e90521c61bd1",
      "metadata": {
        "editable": true,
        "id": "8151c147-b8e3-4440-8dfa-e90521c61bd1",
        "outputId": "7f8d4e9e-63ce-4512-9995-6870dad9d2b2",
        "tags": []
      },
      "outputs": [
        {
          "data": {
            "text/plain": [
              "1"
            ]
          },
          "execution_count": 33,
          "metadata": {},
          "output_type": "execute_result"
        }
      ],
      "source": [
        "253 % 2 # odd numbers have a remainder of 1 when divided by 2"
      ]
    },
    {
      "cell_type": "code",
      "execution_count": null,
      "id": "fa904ad1-46bb-4e8f-a718-00ec178f4ba8",
      "metadata": {
        "editable": true,
        "id": "fa904ad1-46bb-4e8f-a718-00ec178f4ba8",
        "outputId": "55997d34-1bee-430a-e58a-ee8178364904",
        "tags": []
      },
      "outputs": [
        {
          "data": {
            "text/plain": [
              "0"
            ]
          },
          "execution_count": 34,
          "metadata": {},
          "output_type": "execute_result"
        }
      ],
      "source": [
        "254 % 2 # even numbers have a remainder of 0 when divided by 2"
      ]
    },
    {
      "cell_type": "code",
      "execution_count": null,
      "id": "7e2e4761-e0ac-4b79-9746-0b962f035caa",
      "metadata": {
        "editable": true,
        "id": "7e2e4761-e0ac-4b79-9746-0b962f035caa",
        "outputId": "aa61cd71-8c29-4078-c85b-7412392d12ae",
        "tags": []
      },
      "outputs": [
        {
          "name": "stdout",
          "output_type": "stream",
          "text": [
            "x is divisible by 3\n",
            "x is divisble by 5\n"
          ]
        }
      ],
      "source": [
        "x = 150\n",
        "# is x divisible by 3?\n",
        "if x % 3 == 0:\n",
        "    print(\"x is divisible by 3\")\n",
        "if x % 5 == 0:\n",
        "    print(\"x is divisble by 5\")"
      ]
    },
    {
      "cell_type": "markdown",
      "id": "b19817b4-3aad-4733-86fb-071054bc654e",
      "metadata": {
        "editable": true,
        "id": "b19817b4-3aad-4733-86fb-071054bc654e",
        "tags": []
      },
      "source": [
        "# Try it! 🍕\n",
        "\n",
        "Write a program that will:\n",
        "- prompt the user for the number of slices of pizza;\n",
        "- prompt the user for the number of people\n",
        "- print out how many slices each person can eat (if everyone gets the same number of slices)\n",
        "- print out how many slices will be left over"
      ]
    },
    {
      "cell_type": "code",
      "execution_count": null,
      "id": "fff42037-4830-4a53-bf37-e34dd92fcc20",
      "metadata": {
        "editable": true,
        "tags": [],
        "id": "fff42037-4830-4a53-bf37-e34dd92fcc20"
      },
      "outputs": [],
      "source": []
    },
    {
      "cell_type": "markdown",
      "id": "c4b86400-b655-4df5-9f36-cc6c84e7ba73",
      "metadata": {
        "editable": true,
        "tags": [],
        "id": "c4b86400-b655-4df5-9f36-cc6c84e7ba73"
      },
      "source": [
        "# Switching Gears: String Comparison"
      ]
    },
    {
      "cell_type": "markdown",
      "id": "82e71a40-a999-443a-affa-b464ac44c1ca",
      "metadata": {
        "editable": true,
        "id": "82e71a40-a999-443a-affa-b464ac44c1ca",
        "tags": []
      },
      "source": [
        "## Group Exercise: Comparing Strings\n",
        "\n",
        "Type the following program into Thonny, and run it several times. What does it do?"
      ]
    },
    {
      "cell_type": "code",
      "execution_count": null,
      "id": "754e9690-bdd7-4c38-bd43-9fa9b4d5c568",
      "metadata": {
        "editable": true,
        "id": "754e9690-bdd7-4c38-bd43-9fa9b4d5c568",
        "outputId": "4739044e-008d-4b54-bfbc-d0c65415b420",
        "tags": []
      },
      "outputs": [
        {
          "name": "stdout",
          "output_type": "stream",
          "text": [
            "Enter a name: Abe\n",
            "Enter another name: abe\n",
            "Abe is first\n"
          ]
        }
      ],
      "source": [
        "name1 = input(\"Enter a name: \")\n",
        "name2 = input(\"Enter another name: \")\n",
        "\n",
        "if name1 < name2:\n",
        "    print(name1,\"is first\")\n",
        "else:\n",
        "    print(name2,\"is first\")"
      ]
    },
    {
      "cell_type": "markdown",
      "id": "e3c2d6a4-89c6-4c13-8f8c-783b7a86722b",
      "metadata": {
        "editable": true,
        "tags": [],
        "id": "e3c2d6a4-89c6-4c13-8f8c-783b7a86722b"
      },
      "source": [
        "How does it determine is one string \"is greater than\" another?"
      ]
    },
    {
      "cell_type": "markdown",
      "id": "e54c0610-6f1f-4187-a58b-7f34f575241e",
      "metadata": {
        "editable": true,
        "id": "e54c0610-6f1f-4187-a58b-7f34f575241e",
        "tags": []
      },
      "source": [
        "Is string comparison in Python case-sensitive? E.g., is `\"Meredith\"` the same as `\"meredith\"`? How could we test it?"
      ]
    },
    {
      "cell_type": "code",
      "execution_count": null,
      "id": "2deda90d-5e55-425b-8458-1b0204ede527",
      "metadata": {
        "id": "2deda90d-5e55-425b-8458-1b0204ede527",
        "outputId": "77b14787-f074-4c8d-e6fb-7094ceff1b69"
      },
      "outputs": [
        {
          "name": "stdout",
          "output_type": "stream",
          "text": [
            "Yes or no? yes\n",
            "Huzzah!\n"
          ]
        }
      ],
      "source": [
        "answer = input(\"Yes or no? \")\n",
        "\n",
        "if answer == \"yes\":\n",
        "    print(\"Huzzah!\")"
      ]
    },
    {
      "cell_type": "markdown",
      "id": "5f7ab1c0-0781-4c29-b39f-f1e533196328",
      "metadata": {
        "editable": true,
        "id": "5f7ab1c0-0781-4c29-b39f-f1e533196328",
        "tags": []
      },
      "source": [
        "## Character representation\n",
        "\n",
        "Every text character is represented by a numerical code in your computer's memory.\n",
        "\n",
        "They came up with in the 1960's as part of the ASCII standard (https://en.wikipedia.org/wiki/ASCII)\n",
        "\n",
        "Here's some examples\n",
        "\n",
        "<table>\n",
        "<tr>\n",
        "    <td style=\"padding:30px\">\n",
        "        <table>\n",
        "            <tr><th> code </th> <th>character </tr>\n",
        "            <tr><td>33 </td><td> !</td></tr>\n",
        "            <tr><td>34 </td><td> \"</td></tr>\n",
        "            <tr><td>35 </td><td> #</td></tr>\n",
        "            <tr><td>36 </td><td> $</td></tr>\n",
        "            <tr><td>37 </td><td> % </td></tr>      \n",
        "        </table>      \n",
        "    </td>\n",
        "    <td style=\"padding:30px\">\n",
        "        <table>\n",
        "            <tr><th> code </th> <th>character </tr>\n",
        "            <tr><td>65 </td><td> A</td></tr>\n",
        "            <tr><td>66 </td><td> B</td></tr>\n",
        "            <tr><td>67 </td><td> C</td></tr>\n",
        "            <tr><td>68 </td><td> D</td></tr>\n",
        "            <tr><td>69 </td><td> E </td></tr>      \n",
        "        </table>\n",
        "    </td>\n",
        "    <td style=\"padding:30px\">\n",
        "        <table>\n",
        "            <tr><th> code </th> <th>character </tr>\n",
        "            <tr><td>97 </td><td> a</td></tr>\n",
        "            <tr><td>98 </td><td> b</td></tr>\n",
        "            <tr><td>99 </td><td> c</td></tr>\n",
        "            <tr><td>100 </td><td> d</td></tr>\n",
        "            <tr><td>101 </td><td> e </td></tr>      \n",
        "        </table>     \n",
        "    </td\n",
        "</tr>\n",
        "</table>"
      ]
    },
    {
      "cell_type": "markdown",
      "id": "b534412f-a79c-436a-949b-b8031507acfc",
      "metadata": {
        "id": "b534412f-a79c-436a-949b-b8031507acfc"
      },
      "source": [
        "You can use the built-in `ord()` function to look up the code for any given character. Use `chr()` to do the opposite."
      ]
    },
    {
      "cell_type": "code",
      "execution_count": null,
      "id": "54b451a1-07c3-4428-b647-387d35f59cfa",
      "metadata": {
        "editable": true,
        "id": "54b451a1-07c3-4428-b647-387d35f59cfa",
        "outputId": "e39cb23d-c991-4557-acce-ee48043f910b",
        "tags": []
      },
      "outputs": [
        {
          "data": {
            "text/plain": [
              "77"
            ]
          },
          "execution_count": 33,
          "metadata": {},
          "output_type": "execute_result"
        }
      ],
      "source": [
        "ord(\"M\")"
      ]
    },
    {
      "cell_type": "code",
      "execution_count": null,
      "id": "403a2df3-13dd-43d8-97a4-50fb56b67e86",
      "metadata": {
        "id": "403a2df3-13dd-43d8-97a4-50fb56b67e86",
        "outputId": "01484651-8db0-43a3-b0c2-a6ede6606dcf"
      },
      "outputs": [
        {
          "data": {
            "text/plain": [
              "'M'"
            ]
          },
          "execution_count": 39,
          "metadata": {},
          "output_type": "execute_result"
        }
      ],
      "source": [
        "chr(77)"
      ]
    },
    {
      "cell_type": "markdown",
      "id": "fcb3e000-c7e2-47f9-88b4-ae88104c0ccc",
      "metadata": {
        "editable": true,
        "id": "fcb3e000-c7e2-47f9-88b4-ae88104c0ccc",
        "tags": []
      },
      "source": [
        "## Helpful String Functions\n",
        "\n",
        "Here are three helpful functions that will come in handy when using strings:\n",
        "- `lower()`: will return the string with all lowercase letters [documentation](https://python-reference.readthedocs.io/en/latest/docs/str/lower.html)\n",
        "- `upper()`: will return the string with all uppercase letters [documentation](https://python-reference.readthedocs.io/en/latest/docs/str/upper.html)\n",
        "- `strip()`: will return the string without any leading or trailing whitespace [documentation](https://python-reference.readthedocs.io/en/latest/docs/str/strip.html)"
      ]
    },
    {
      "cell_type": "code",
      "execution_count": null,
      "id": "6f7504cd-34d5-4f5f-834d-8759f12e9656",
      "metadata": {
        "id": "6f7504cd-34d5-4f5f-834d-8759f12e9656",
        "outputId": "41c54c62-a594-4ea9-b194-bdd50ed7a66a"
      },
      "outputs": [
        {
          "name": "stdout",
          "output_type": "stream",
          "text": [
            "What is your favorite fruit?  Bananas \n",
            "fruit.lower():   bananas \n",
            "fruit.upper():   BANANAS \n",
            "fruit.strip(): Bananas\n",
            "Wow, that's bananas.\n"
          ]
        }
      ],
      "source": [
        "fruit = input(\"What is your favorite fruit?\")\n",
        "\n",
        "print(\"fruit.lower():\", fruit.lower())\n",
        "print(\"fruit.upper():\", fruit.upper())\n",
        "print(\"fruit.strip():\", fruit.strip())\n",
        "\n",
        "if fruit.lower().strip() == 'bananas':\n",
        "    print(\"Wow, that's bananas.\")"
      ]
    },
    {
      "cell_type": "markdown",
      "id": "706c6c14-f866-4a45-bd27-8e6f4b314d01",
      "metadata": {
        "editable": true,
        "id": "706c6c14-f866-4a45-bd27-8e6f4b314d01",
        "tags": []
      },
      "source": [
        "## Other conditional statement options\n",
        "\n",
        "There are also __chained conditional statements__ when you have more than two choices\n",
        "\n",
        "`elif` a new keyword meaning \"else if\" which allows you to add as many more options to a conditional statement as you want."
      ]
    },
    {
      "cell_type": "code",
      "execution_count": null,
      "id": "1995993f-1f48-4b5e-9c1b-64a4bc27f9bf",
      "metadata": {
        "id": "1995993f-1f48-4b5e-9c1b-64a4bc27f9bf",
        "outputId": "a8ed7da6-3e54-43e6-fe07-2157fe319814"
      },
      "outputs": [
        {
          "name": "stdout",
          "output_type": "stream",
          "text": [
            "What's the temperature? 20\n",
            "Let's go skiing.\n"
          ]
        }
      ],
      "source": [
        "temp = float(input(\"What's the temperature? \"))\n",
        "\n",
        "if temp >= 70:\n",
        "    print(\"Let's go hiking.\")\n",
        "elif temp >= 30:\n",
        "    print(\"Let's put on jackets and go hiking.\")\n",
        "elif temp >= 10:\n",
        "    print(\"Let's go skiing.\")\n",
        "else:\n",
        "    print(\"It's too cold. Let's stay in and code.\")"
      ]
    },
    {
      "cell_type": "markdown",
      "id": "60579068-9bbb-4531-b32a-8f4c923ef2f9",
      "metadata": {
        "editable": true,
        "id": "60579068-9bbb-4531-b32a-8f4c923ef2f9",
        "tags": []
      },
      "source": [
        "Note:\n",
        "* `else` part is still optional but gives you the opportunity for \"default\" behavior\n",
        "* at most one block in a `if-elif-else statement` will run"
      ]
    },
    {
      "cell_type": "markdown",
      "id": "f06dc202-f6d2-493e-8ba9-92336ae27722",
      "metadata": {
        "editable": true,
        "id": "f06dc202-f6d2-493e-8ba9-92336ae27722",
        "tags": []
      },
      "source": [
        "## a common chained-conditional logic error\n",
        "\n",
        "Take a look at this code... see if you can spot the error."
      ]
    },
    {
      "cell_type": "code",
      "execution_count": null,
      "id": "bd49099a-822b-4a09-8c74-ad5383a2b85d",
      "metadata": {
        "id": "bd49099a-822b-4a09-8c74-ad5383a2b85d",
        "outputId": "7f57a78e-d653-4058-eed6-20c728e05ff3"
      },
      "outputs": [
        {
          "name": "stdout",
          "output_type": "stream",
          "text": [
            "What's the temperature? 80\n",
            "Let's go skiing.\n"
          ]
        }
      ],
      "source": [
        "temp = float(input(\"What's the temperature? \"))\n",
        "\n",
        "if temp >= 10:\n",
        "    print(\"Let's go skiing.\")\n",
        "elif temp >= 30:\n",
        "    print(\"Let's put on jackets and go hiking.\")\n",
        "elif temp >= 70:\n",
        "    print(\"Let's go hiking.\")\n",
        "else:\n",
        "    print(\"It's too cold. Let's stay in and code.\")"
      ]
    },
    {
      "cell_type": "markdown",
      "id": "d0f43c50-9e49-4adf-8045-f87472b98122",
      "metadata": {
        "id": "d0f43c50-9e49-4adf-8045-f87472b98122"
      },
      "source": [
        "Make sure to put the conditions in the order you want to check them - the first one to evalute to `True` will be the one that runs."
      ]
    },
    {
      "cell_type": "markdown",
      "id": "0a1234f9-2949-43b3-be05-82275e03df35",
      "metadata": {
        "editable": true,
        "id": "0a1234f9-2949-43b3-be05-82275e03df35",
        "tags": []
      },
      "source": [
        "## Logical Operators\n",
        "\n",
        "__Logical operators__ are operators that take Booleans as operands: `and`, `or`, `not`"
      ]
    },
    {
      "cell_type": "markdown",
      "id": "c6a9baba-3f0b-497f-a315-eb6f1a1142ca",
      "metadata": {
        "editable": true,
        "id": "c6a9baba-3f0b-497f-a315-eb6f1a1142ca",
        "tags": []
      },
      "source": [
        "## Boolean Operators (`and`, `or`, and `not`)\n",
        "\n",
        "Boolean operators allow you to combine (or negate) boolean expressions:\n",
        "\n",
        "| Boolean operator | Description                                                                                              |\n",
        "|------------------|:----------------------------------------------------------------------------------------------------------|\n",
        "| a `and` b        | __boolean AND__: `True` when both operands are `True`                                                    |\n",
        "| a `or` b         | __boolean OR__: `True` when at least one operand is `True`                                               |\n",
        "| `not` a          | __boolean NOT__ (opposite): True when the signle operand is `False` (and `False` when operand is `True`) |"
      ]
    },
    {
      "cell_type": "markdown",
      "id": "40aa10c7-063f-4d2d-9b82-609b76a755de",
      "metadata": {
        "editable": true,
        "id": "40aa10c7-063f-4d2d-9b82-609b76a755de",
        "tags": []
      },
      "source": [
        "## Examples -- `and`\n",
        "\n",
        "You can combine Boolean expressions to make more complicated Boolean expressions\n",
        "\n",
        "`and`: True when _both_ operands are True"
      ]
    },
    {
      "cell_type": "code",
      "execution_count": null,
      "id": "9f967053-75d6-4e98-a2fe-b3dad25ad27d",
      "metadata": {
        "id": "9f967053-75d6-4e98-a2fe-b3dad25ad27d",
        "outputId": "c43cf654-2323-48f6-ce1a-5bc423d945b4"
      },
      "outputs": [
        {
          "name": "stdout",
          "output_type": "stream",
          "text": [
            "Enter the temperature: -5\n",
            "Enter the weather (e.g. rainy, cloudy, sunny): snowing\n",
            "Check to see if school is canceled\n"
          ]
        }
      ],
      "source": [
        "temp = int(input(\"Enter the temperature: \"))\n",
        "weather = input(\"Enter the weather (e.g. rainy, cloudy, sunny): \")\n",
        "\n",
        "## AND\n",
        "if temp > 32 and temp < 75:\n",
        "    print(\"wear a jacket\")\n",
        "if temp <= 0 and weather == \"snowing\":\n",
        "    print(\"Check to see if school is canceled\")"
      ]
    },
    {
      "cell_type": "markdown",
      "id": "50f2ae12-0380-416f-a4df-e855f09feaa2",
      "metadata": {
        "editable": true,
        "id": "50f2ae12-0380-416f-a4df-e855f09feaa2",
        "tags": []
      },
      "source": [
        "## Examples -- `or`\n",
        "\n",
        "You can combine Boolean expressions to make more complicated Boolean expressions\n",
        "\n",
        "`or`: True when _either_ of the operands are True"
      ]
    },
    {
      "cell_type": "code",
      "execution_count": null,
      "id": "6c0fc79b-cf7a-41f3-9ec7-1c539eb627c2",
      "metadata": {
        "id": "6c0fc79b-cf7a-41f3-9ec7-1c539eb627c2",
        "outputId": "c01cb59f-8384-4ed7-85ed-a3960d2146ec"
      },
      "outputs": [
        {
          "name": "stdout",
          "output_type": "stream",
          "text": [
            "Enter the temperature: 95\n",
            "Enter the weather (e.g. rainy, cloudy, sunny): raining\n",
            "Bring sunglasses\n",
            "Bring a jacket.\n"
          ]
        }
      ],
      "source": [
        "temp = int(input(\"Enter the temperature: \"))\n",
        "weather = input(\"Enter the weather (e.g. rainy, cloudy, sunny): \")\n",
        "\n",
        "## OR\n",
        "if temp > 90 or weather == \"sunny\":\n",
        "    print(\"Bring sunglasses\")\n",
        "if weather == \"raining\" or weather == \"snowing\":\n",
        "    print(\"Bring a jacket.\")"
      ]
    },
    {
      "cell_type": "markdown",
      "id": "6f248649-a8d8-4423-9a53-964adab51f14",
      "metadata": {
        "editable": true,
        "id": "6f248649-a8d8-4423-9a53-964adab51f14",
        "tags": []
      },
      "source": [
        "## Introducing `not`\n",
        "\n",
        "The Python keyword `not` will negate any Boolean expression:\n",
        "- turn `True` to `False`\n",
        "- turn `False` to `True`"
      ]
    },
    {
      "cell_type": "code",
      "execution_count": null,
      "id": "17e4adb5-70d5-4237-92e6-c654469a632a",
      "metadata": {
        "editable": true,
        "id": "17e4adb5-70d5-4237-92e6-c654469a632a",
        "outputId": "4349205b-51f2-4ed1-e971-958fd254f430",
        "tags": []
      },
      "outputs": [
        {
          "name": "stdout",
          "output_type": "stream",
          "text": [
            "Enter the temperature: 105\n",
            "Don't go outside!!\n"
          ]
        }
      ],
      "source": [
        "temp = int(input(\"Enter the temperature: \"))\n",
        "if not (temp < 100 and temp >40):\n",
        "    print(\"Don't go outside!!\")"
      ]
    },
    {
      "cell_type": "markdown",
      "id": "46229cb2-e3aa-4a12-b99c-6261e6745f95",
      "metadata": {
        "editable": true,
        "id": "46229cb2-e3aa-4a12-b99c-6261e6745f95",
        "tags": []
      },
      "source": [
        "## Let's Practice:"
      ]
    },
    {
      "cell_type": "code",
      "execution_count": null,
      "id": "4a5b3a77-90f5-40c1-a9a9-509bdd34c98a",
      "metadata": {
        "editable": true,
        "id": "4a5b3a77-90f5-40c1-a9a9-509bdd34c98a",
        "tags": []
      },
      "outputs": [],
      "source": [
        "a = 2\n",
        "b = 4\n",
        "c = 6"
      ]
    },
    {
      "cell_type": "markdown",
      "id": "d9185881-f64c-40e3-9d50-d9d474e54792",
      "metadata": {
        "id": "d9185881-f64c-40e3-9d50-d9d474e54792"
      },
      "source": [
        "See if you can work out the values below before the answer is revealed"
      ]
    },
    {
      "cell_type": "code",
      "execution_count": null,
      "id": "11669ee9-b0ee-4bcf-bd6f-9a5350c3ba53",
      "metadata": {
        "id": "11669ee9-b0ee-4bcf-bd6f-9a5350c3ba53"
      },
      "outputs": [],
      "source": [
        "a == 4 or b > 2"
      ]
    },
    {
      "cell_type": "code",
      "execution_count": null,
      "id": "b0e217b1-693f-43c0-ab14-bd2e430ac852",
      "metadata": {
        "id": "b0e217b1-693f-43c0-ab14-bd2e430ac852"
      },
      "outputs": [],
      "source": [
        "6 <= c and a > 3"
      ]
    },
    {
      "cell_type": "code",
      "execution_count": null,
      "id": "8ed38a1c-ac90-4cc4-9f03-12f6c0936db9",
      "metadata": {
        "id": "8ed38a1c-ac90-4cc4-9f03-12f6c0936db9"
      },
      "outputs": [],
      "source": [
        "1 != b and c != 3"
      ]
    },
    {
      "cell_type": "code",
      "execution_count": null,
      "id": "da8c8f03-4dcf-498b-928f-c8b8b7bc5107",
      "metadata": {
        "id": "da8c8f03-4dcf-498b-928f-c8b8b7bc5107"
      },
      "outputs": [],
      "source": [
        "a >= -1 or a <= b"
      ]
    },
    {
      "cell_type": "code",
      "execution_count": null,
      "id": "b433c1c5-f6d0-4941-96be-111bd93a5fab",
      "metadata": {
        "id": "b433c1c5-f6d0-4941-96be-111bd93a5fab"
      },
      "outputs": [],
      "source": [
        "not a > 2"
      ]
    },
    {
      "cell_type": "markdown",
      "id": "db3097c5-4a72-4c1c-84c7-b42746332d92",
      "metadata": {
        "editable": true,
        "id": "db3097c5-4a72-4c1c-84c7-b42746332d92",
        "tags": []
      },
      "source": [
        "Logical operators are pretty intuitive because we use them in our natural language, but they can sometimes be tricky when you get complex expressions."
      ]
    },
    {
      "cell_type": "code",
      "execution_count": null,
      "id": "1b99737f-b7a0-4ada-8115-56f76e343765",
      "metadata": {
        "id": "1b99737f-b7a0-4ada-8115-56f76e343765",
        "outputId": "c628ee4c-6695-4fe6-821d-ec5163128220"
      },
      "outputs": [
        {
          "name": "stdout",
          "output_type": "stream",
          "text": [
            "True\n"
          ]
        }
      ],
      "source": [
        "a = 2\n",
        "b = 4\n",
        "c = 6\n",
        "result = a == 2 or b != 2 and c != 6 or a == b + c\n",
        "print(result)"
      ]
    },
    {
      "cell_type": "markdown",
      "id": "619c21fb-482a-4b25-ad24-6d8c19a960f0",
      "metadata": {
        "id": "619c21fb-482a-4b25-ad24-6d8c19a960f0"
      },
      "source": [
        "Rule of thumb: Always use parentheses when you have more than one logical operator"
      ]
    },
    {
      "cell_type": "markdown",
      "id": "ba9ccd4d-3525-4a8f-aae5-f8bd34704143",
      "metadata": {
        "editable": true,
        "id": "ba9ccd4d-3525-4a8f-aae5-f8bd34704143",
        "tags": []
      },
      "source": [
        "## Quick Question:\n",
        "\n",
        "What's wrong with this?"
      ]
    },
    {
      "cell_type": "code",
      "execution_count": null,
      "id": "58b040d7-1952-49b0-bca8-128e88082b60",
      "metadata": {
        "id": "58b040d7-1952-49b0-bca8-128e88082b60",
        "outputId": "ad8ac96c-91e2-41d8-d663-de4413af65c5"
      },
      "outputs": [
        {
          "name": "stdout",
          "output_type": "stream",
          "text": [
            "name a state with only 4 letters Illinois\n",
            "correct\n"
          ]
        }
      ],
      "source": [
        "state = input(\"name a state with only 4 letters \")\n",
        "\n",
        "if state == \"Iowa\" or \"Utah\" or \"Ohio\":\n",
        "    print(\"correct\")\n",
        "else:\n",
        "    print(\"wrong!\")"
      ]
    },
    {
      "cell_type": "code",
      "execution_count": null,
      "id": "499c3969-ae57-48c6-8388-b0d9e9d36beb",
      "metadata": {
        "editable": true,
        "id": "499c3969-ae57-48c6-8388-b0d9e9d36beb",
        "outputId": "2a4fd7b1-071c-4b1f-c332-80eba1b43328",
        "tags": []
      },
      "outputs": [
        {
          "name": "stdout",
          "output_type": "stream",
          "text": [
            "name a state with only 4 letters Minnesota\n",
            "wrong!\n"
          ]
        }
      ],
      "source": [
        "state = input(\"name a state with only 4 letters \")\n",
        "\n",
        "if state == \"Iowa\" or state == \"Utah\" or state==\"Ohio\":\n",
        "    print(\"correct\")\n",
        "else:\n",
        "    print(\"wrong!\")"
      ]
    },
    {
      "cell_type": "code",
      "execution_count": null,
      "id": "858d8d05-0a87-481b-a057-43aae8457181",
      "metadata": {
        "editable": true,
        "id": "858d8d05-0a87-481b-a057-43aae8457181",
        "outputId": "483af587-4737-44c2-c21a-b369d183ab5f",
        "tags": []
      },
      "outputs": [
        {
          "name": "stdout",
          "output_type": "stream",
          "text": [
            "What's the temperature? 80\n",
            "Is it raining? no\n",
            "Grab your mitt.\n"
          ]
        }
      ],
      "source": [
        "temp = float(input(\"What's the temperature? \"))\n",
        "raining = input(\"Is it raining? \")\n",
        "\n",
        "if temp < 50 or raining == 'yes':\n",
        "    print(\"Grab your coat.\")\n",
        "\n",
        "if not (raining == 'yes') and temp > 70:\n",
        "    print(\"Grab your mitt.\")"
      ]
    },
    {
      "cell_type": "markdown",
      "id": "41c2687b-82bb-4ee1-912a-2e438c08ccf2",
      "metadata": {
        "editable": true,
        "id": "41c2687b-82bb-4ee1-912a-2e438c08ccf2",
        "tags": []
      },
      "source": [
        "## Group Exercise:\n",
        "\n",
        "Using this flow chart, write a program that will ask the user questions about an emergency and recommend how they should respond. (image credit [cpr.heart.org](https://cpr.heart.org/en/resuscitation-science/cpr-and-ecc-guidelines/algorithms))\n",
        "\n",
        "<div>\n",
        "<img src=\"https://cpr.heart.org/-/media/CPR-Images/CPR-Guidelines-Images/Part-3-Adult-Basic-and-Advanced-Life-Support/AlgorithmBLS_Adult_200624.jpg?h=800&iar=0&mw=960&w=627\" width=\"800\"/>\n",
        "</div>\n"
      ]
    },
    {
      "cell_type": "code",
      "execution_count": null,
      "id": "55b6dfbc-ba2e-444e-9190-e28ba89df168",
      "metadata": {
        "editable": true,
        "id": "55b6dfbc-ba2e-444e-9190-e28ba89df168",
        "tags": []
      },
      "outputs": [],
      "source": [
        "# Let's go through this one together:\n"
      ]
    },
    {
      "cell_type": "markdown",
      "id": "52540416-58d4-4b2a-b4ad-fcbd802ed34a",
      "metadata": {
        "editable": true,
        "id": "52540416-58d4-4b2a-b4ad-fcbd802ed34a",
        "tags": []
      },
      "source": [
        "# Admin Stuff"
      ]
    },
    {
      "cell_type": "markdown",
      "id": "c351a9c5-9969-4d5d-99d8-f33fb88f882f",
      "metadata": {
        "editable": true,
        "id": "c351a9c5-9969-4d5d-99d8-f33fb88f882f",
        "tags": []
      },
      "source": [
        "You should be working on:\n",
        "- [Lab #3](https://analytics.drake.edu/~moore/CS65-F23/Lab3.html) is due tonight by 11:59pm.\n",
        "\n",
        "> Quiz #1 is coming soon--it will be released after class on Wednesday and is due Monday 9/23 by 11:59pm."
      ]
    },
    {
      "cell_type": "code",
      "execution_count": null,
      "id": "e03eb9d6-4a15-4067-8f8a-9e1318f67527",
      "metadata": {
        "id": "e03eb9d6-4a15-4067-8f8a-9e1318f67527"
      },
      "outputs": [],
      "source": []
    }
  ],
  "metadata": {
    "kernelspec": {
      "display_name": "Python 3 (ipykernel)",
      "language": "python",
      "name": "python3"
    },
    "language_info": {
      "codemirror_mode": {
        "name": "ipython",
        "version": 3
      },
      "file_extension": ".py",
      "mimetype": "text/x-python",
      "name": "python",
      "nbconvert_exporter": "python",
      "pygments_lexer": "ipython3",
      "version": "3.12.4"
    },
    "colab": {
      "provenance": [],
      "include_colab_link": true
    }
  },
  "nbformat": 4,
  "nbformat_minor": 5
}
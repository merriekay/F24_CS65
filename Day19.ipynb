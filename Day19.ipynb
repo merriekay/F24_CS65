{
 "cells": [
  {
   "cell_type": "markdown",
   "id": "782cf92c-bbbc-4a5e-9ab3-798b6845eec2",
   "metadata": {
    "editable": true,
    "slideshow": {
     "slide_type": "skip"
    },
    "tags": []
   },
   "source": [
    "<a href=\"https://github.com/merriekay/F24_CS65/blob/main/Day19.ipynb\" target=\"_parent\"><img src=\"https://colab.research.google.com/assets/colab-badge.svg\" alt=\"Open In Colab\"/></a>"
   ]
  },
  {
   "cell_type": "markdown",
   "id": "74bdbffa-b045-4599-83e8-ab1bf78e7950",
   "metadata": {
    "editable": true,
    "jp-MarkdownHeadingCollapsed": true,
    "slideshow": {
     "slide_type": ""
    },
    "tags": []
   },
   "source": [
    "# CS65: Day 19\n",
    "\n",
    "## Dictionaries + Files + Lists\n",
    "\n",
    "### CS65: Introduction to Computer Science I | Fall 2024\n",
    "\n",
    "* Wednesday, November 6th, 2024*\n",
    "\n",
    "### Helpful Resources:\n",
    "[📜 Syllabus](https://docs.google.com/document/d/1nqjmD0yhOOh2gaPwxfjV4EY_dBUIQUur1fvqQ4YPJLA/edit?usp=sharing) | [📬 CodePost Login](https://codepost.io/login) | [📆 Schedule](https://docs.google.com/spreadsheets/d/1Q5-ArPnXwjejKjXSI8WKgF7A2HRAam6Ny3eNA7EHn18/edit?usp=sharing) | [🙋‍♂️ PollEverywhere](https://pollev.com/moore) | [🪴 Office Hour Sign-Up](https://calendly.com/meredith-moore/office-hours)\n",
    "\n",
    "> **Note to self:** Make sure you're recording, silly goose!"
   ]
  },
  {
   "cell_type": "markdown",
   "id": "e37f1a64-5b23-419f-8908-254eccbfdba9",
   "metadata": {
    "editable": true,
    "slideshow": {
     "slide_type": "slide"
    },
    "tags": []
   },
   "source": [
    "# Announcements"
   ]
  },
  {
   "cell_type": "markdown",
   "id": "c1d3a41d-7174-4341-9566-8971b29e2de7",
   "metadata": {
    "editable": true,
    "slideshow": {
     "slide_type": ""
    },
    "tags": []
   },
   "source": [
    "### You should be working on:\n",
    "\n",
    "[Lab #10: Dictionaries](https://analytics.drake.edu/~moore/CS65-F24/Lab10.html) is  due tonight Monday, November 4th, to codePost by 11:59pm."
   ]
  },
  {
   "cell_type": "markdown",
   "id": "f505eaa2-3604-4ee1-8bd9-b3a4ea571264",
   "metadata": {
    "editable": true,
    "slideshow": {
     "slide_type": "slide"
    },
    "tags": []
   },
   "source": [
    "# ⏪ Quick Review:"
   ]
  },
  {
   "cell_type": "markdown",
   "id": "25b463db-8967-4ada-b4d8-5ca6d44bd425",
   "metadata": {
    "editable": true,
    "slideshow": {
     "slide_type": ""
    },
    "tags": []
   },
   "source": [
    "## Python Dictionaries\n",
    "\n",
    "__Dictionary__: object that stores a _collection_ of data\n",
    "- what other collection data types do we know?"
   ]
  },
  {
   "cell_type": "markdown",
   "id": "dc18affb-c0df-4388-af16-9c8d8ab3a7e2",
   "metadata": {
    "editable": true,
    "slideshow": {
     "slide_type": "fragment"
    },
    "tags": []
   },
   "source": [
    "A python dictionary consists of multiple elements. Each element has:\n",
    "- a `key`: a unique identifier that you can use to look something up\n",
    "- a `value`: a value associated with the unique identifier.\n"
   ]
  },
  {
   "cell_type": "markdown",
   "id": "477e728e-6423-4f29-8984-d32cfe8ee244",
   "metadata": {
    "editable": true,
    "jp-MarkdownHeadingCollapsed": true,
    "slideshow": {
     "slide_type": "slide"
    },
    "tags": []
   },
   "source": [
    "## Create a dictionary:\n",
    "\n",
    "The format for creating a dictionary looks like this:\n",
    "\n",
    "```python\n",
    "dictionary = {key1 : val1, key2 : val2}\n",
    "```\n",
    "Things to notice:\n",
    "- dictionaries use curly brackets `{}`\n",
    "- a key-value pair consists of a key (`key1`), a colon (`:`), and a value (`value1`)\n",
    "- you can have as many key-value pairs in your dictionary as you'd like, they just need to be separated by a comma (`,`)"
   ]
  },
  {
   "cell_type": "code",
   "execution_count": 1,
   "id": "d413a30c-ef3c-41c5-90a1-348598d936cc",
   "metadata": {
    "editable": true,
    "slideshow": {
     "slide_type": ""
    },
    "tags": []
   },
   "outputs": [],
   "source": [
    "prices =  {\"apple\": 1.50, \"banana\": 1.25}"
   ]
  },
  {
   "cell_type": "markdown",
   "id": "88893d06-c8b4-4a8f-9140-11901a3a29b2",
   "metadata": {
    "editable": true,
    "slideshow": {
     "slide_type": "slide"
    },
    "tags": []
   },
   "source": [
    "## Looking up a value:\n",
    "To use a dictionary, we pass a `key` into the dictionary to get access to the `value`. We use something similar to index-notation, passing in the value inside of square brackets `[]`:\n",
    "\n",
    "```python\n",
    "prices[\"apple\"] # will return 1.50\n",
    "```\n",
    "`\"apple\"` is the key here and `1.50` is the value. \n",
    "\n",
    "For example:"
   ]
  },
  {
   "cell_type": "code",
   "execution_count": 4,
   "id": "8416557f-d4c0-4a91-ac69-9e19ae737ff6",
   "metadata": {
    "editable": true,
    "slideshow": {
     "slide_type": ""
    },
    "tags": []
   },
   "outputs": [
    {
     "name": "stdout",
     "output_type": "stream",
     "text": [
      "apples cost $1.5\n",
      "bananas cost $1.25\n"
     ]
    }
   ],
   "source": [
    "prices =  {\"apple\": 1.50, \"banana\": 1.25}\n",
    "print(\"apples cost $\", prices[\"apple\"], sep=\"\")\n",
    "print(\"bananas cost $\", prices[\"banana\"], sep=\"\")"
   ]
  },
  {
   "cell_type": "markdown",
   "id": "f0ca6214-c0b4-42ad-8b01-1e896f035de7",
   "metadata": {
    "editable": true,
    "slideshow": {
     "slide_type": "slide"
    },
    "tags": []
   },
   "source": [
    "## Empty Dictionary:\n",
    "\n",
    "An empty dictionary is created using `{}`"
   ]
  },
  {
   "cell_type": "code",
   "execution_count": 5,
   "id": "4c326425-1439-47d3-ab16-9edaca9710ea",
   "metadata": {
    "editable": true,
    "slideshow": {
     "slide_type": ""
    },
    "tags": []
   },
   "outputs": [],
   "source": [
    "president_currency = {}"
   ]
  },
  {
   "cell_type": "markdown",
   "id": "235b8bc6-88fa-41b4-9812-272f83020437",
   "metadata": {
    "editable": true,
    "slideshow": {
     "slide_type": "slide"
    },
    "tags": []
   },
   "source": [
    "## Adding key-value pairs to a dictionary\n",
    "\n",
    "Use the following sntax to add a key-value pair to a dictionary:\n",
    "```python\n",
    "dictionary_name[key] = value\n",
    "```"
   ]
  },
  {
   "cell_type": "code",
   "execution_count": 7,
   "id": "17f8b366-845f-4b16-ae39-e7e9e88d42a0",
   "metadata": {
    "editable": true,
    "slideshow": {
     "slide_type": ""
    },
    "tags": []
   },
   "outputs": [
    {
     "name": "stdout",
     "output_type": "stream",
     "text": [
      "{'Washington': 1}\n"
     ]
    }
   ],
   "source": [
    "president_currency[\"Washington\"] = 1\n",
    "print(president_currency)"
   ]
  },
  {
   "cell_type": "code",
   "execution_count": 8,
   "id": "a003f233-f43e-42a2-b91a-477b2e19199b",
   "metadata": {
    "editable": true,
    "slideshow": {
     "slide_type": ""
    },
    "tags": []
   },
   "outputs": [
    {
     "name": "stdout",
     "output_type": "stream",
     "text": [
      "{'Washington': 1, 'Jefferson': 2, 'Lincoln': 5, 'Hamilton': 10}\n"
     ]
    }
   ],
   "source": [
    "president_currency[\"Jefferson\"] = 2\n",
    "president_currency[\"Lincoln\"] = 5\n",
    "president_currency[\"Hamilton\"] = 10\n",
    "print(president_currency)"
   ]
  },
  {
   "cell_type": "markdown",
   "id": "32bd7ed0-fe44-41ef-9e2e-6d7f3d9465ea",
   "metadata": {
    "editable": true,
    "slideshow": {
     "slide_type": "slide"
    },
    "tags": []
   },
   "source": [
    "## Modifying Dictionaries\n",
    "\n",
    "Dictionaries are _mutable_, so you can change them. \n",
    "\n",
    "Updating a value:\n",
    "\n",
    "- just use the syntax `dictionary[key] = new_value`"
   ]
  },
  {
   "cell_type": "code",
   "execution_count": 11,
   "id": "21126b9b-4917-42f4-b0c0-d04e33392110",
   "metadata": {
    "editable": true,
    "slideshow": {
     "slide_type": ""
    },
    "tags": []
   },
   "outputs": [
    {
     "name": "stdout",
     "output_type": "stream",
     "text": [
      "1.35\n"
     ]
    }
   ],
   "source": [
    "prices =  {\"apple\": 1.50, \"banana\": 1.25}\n",
    "\n",
    "# update the price of bananas\n",
    "prices[\"banana\"] = 1.35\n",
    "\n",
    "print(prices[\"banana\"])"
   ]
  },
  {
   "cell_type": "markdown",
   "id": "2c3fb97c-b507-4de1-8f18-0c33858ba87e",
   "metadata": {
    "editable": true,
    "slideshow": {
     "slide_type": "slide"
    },
    "tags": []
   },
   "source": [
    "## Looping over dictionaries:\n",
    "\n",
    "The syntax:\n",
    "\n",
    "```python\n",
    "for key in dictionary:\n",
    "```\n",
    "- this will process every `key` in the dictionary.\n",
    "- to access the correponding `value`, you'll have to look it up.\n",
    "\n",
    "```python\n",
    "for key in dictionary:\n",
    "    print(key, \",\", dictionary[key]) # prints out the key, value\n",
    "```"
   ]
  },
  {
   "cell_type": "markdown",
   "id": "02177017-4a0c-4007-9a84-e5b3f942766d",
   "metadata": {
    "editable": true,
    "slideshow": {
     "slide_type": "slide"
    },
    "tags": []
   },
   "source": [
    "## Looping through dictionaries:\n",
    "\n",
    "You can lop through a dictionary with a for loop, though it will only run through each of the keys.\n",
    "\n",
    "You can then use the key to get the value. "
   ]
  },
  {
   "cell_type": "code",
   "execution_count": 14,
   "id": "e8a049d3-d27d-4839-a5e8-6b8fe4fce073",
   "metadata": {
    "editable": true,
    "slideshow": {
     "slide_type": ""
    },
    "tags": []
   },
   "outputs": [
    {
     "name": "stdout",
     "output_type": "stream",
     "text": [
      "Washington is on the 1 dollar bill.\n",
      "Jefferson is on the 2 dollar bill.\n",
      "Lincoln is on the 5 dollar bill.\n",
      "Hamilton is on the 10 dollar bill.\n"
     ]
    }
   ],
   "source": [
    "# create an empty dictionary\n",
    "president_currency = {}\n",
    "\n",
    "# add key-value pairs to the dictionary\n",
    "president_currency[\"Washington\"] = 1\n",
    "president_currency[\"Jefferson\"] = 2\n",
    "president_currency[\"Lincoln\"] = 5\n",
    "president_currency[\"Hamilton\"] = 10\n",
    "\n",
    "for president in president_currency:\n",
    "    print(president, 'is on the', president_currency[president], 'dollar bill.')"
   ]
  },
  {
   "cell_type": "markdown",
   "id": "8109db8c-b17b-40f7-a4c7-a6c21b7a2be2",
   "metadata": {
    "editable": true,
    "slideshow": {
     "slide_type": "slide"
    },
    "tags": []
   },
   "source": [
    "# Warm-Up Exercise:\n",
    "\n",
    "1. Set up a dictionary of usernames and passwords\n",
    "\n",
    "```python\n",
    "auth_dict = {\"moore\": \"I<3CS\", \n",
    "            \"snape\" : \"alwaysL1Ly\",\n",
    "            \"admin\" : \"password\", \n",
    "            \"Druidia\": \"12345\",\n",
    "            \"Ali Baba\": \"open sesame\"}\n",
    "```\n",
    "\n",
    "2. Prompt the user for a username and password\n",
    "```python\n",
    "username = input(\"username: \")\n",
    "pw = input(\"password: \")\n",
    "```\n",
    "If the username is in the dictionary, but the password given does not match the password stored in the dictionary, respond with `\"incorrect password\"`. \n",
    "\n",
    "If the username and password match, response shoudl be `\"access granted\"`"
   ]
  },
  {
   "cell_type": "markdown",
   "id": "baa4e7ae-659d-4367-985d-d15e76dc0e80",
   "metadata": {
    "editable": true,
    "slideshow": {
     "slide_type": "slide"
    },
    "tags": []
   },
   "source": [
    "## Reading a List from a File\n",
    "\n",
    "`read()` returns the _entire file contents_ as a string\n",
    "\n",
    "`readline()` returns _one line_ of the file as a string.\n",
    "\n",
    "`readlines()` returns a _list of strings_ where the first element is the contents of the first line, the second element is the contents of the second line, and so on."
   ]
  },
  {
   "cell_type": "code",
   "execution_count": 50,
   "id": "f8c20833-cc84-44b5-a48a-26f81901e677",
   "metadata": {
    "editable": true,
    "scrolled": true,
    "slideshow": {
     "slide_type": ""
    },
    "tags": []
   },
   "outputs": [
    {
     "name": "stdout",
     "output_type": "stream",
     "text": [
      "1474\n",
      "Four score and seven years ago our fathers brought forth on this continent, a new nation, conceived in Liberty, and dedicated to the proposition that all men are created equal.\n",
      "Now we are engaged in a great civil war, testing whether that nation, or any nation so conceived and so dedicated, can long endure. We are met on a great battle-field of that war. We have come to dedicate a portion of that field, as a final resting place for those who here gave their lives that that nation might live. It is altogether fitting and proper that we should do this.\n",
      "But, in a larger sense, we can not dedicate -- we can not consecrate -- we can not hallow -- this ground. The brave men, living and dead, who struggled here, have consecrated it, far above our poor power to add or detract. The world will little note, nor long remember what we say here, but it can never forget what they did here. It is for us the living, rather, to be dedicated here to the unfinished work which they who fought here have thus far so nobly advanced. It is rather for us to be here dedicated to the great task remaining before us -- that from these honored dead we take increased devotion to that cause for which they gave the last full measure of devotion -- that we here highly resolve that these dead shall not have died in vain -- that this nation, under God, shall have a new birth of freedom -- and that government of the people, by the people, for the people, shall not perish from the earth.\n",
      "\n"
     ]
    }
   ],
   "source": [
    "def main():\n",
    "    # opening the file named \"gettysburg.txt\" for reading usng with clause\n",
    "    with open(\"gettysburg.txt\", \"r\") as infile:\n",
    "        # using .read() which returns the contents of the file in a big string\n",
    "        content = infile.read()\n",
    "        \n",
    "    print(len(content))\n",
    "    print(content)\n",
    "    \n",
    "main()"
   ]
  },
  {
   "cell_type": "markdown",
   "id": "26b1262d-500b-4a17-8725-e71e4f88124b",
   "metadata": {
    "editable": true,
    "slideshow": {
     "slide_type": "slide"
    },
    "tags": []
   },
   "source": [
    "## Another useful method: `split()`\n",
    "\n",
    "The `split()` method is a string method that will break a string into parts based on some delimiter (a character that marks the beginning or end of a unit of data)."
   ]
  },
  {
   "cell_type": "code",
   "execution_count": 4,
   "id": "ecdc6c14-3b72-495f-a3e9-bc1198b83b5b",
   "metadata": {
    "editable": true,
    "slideshow": {
     "slide_type": ""
    },
    "tags": []
   },
   "outputs": [
    {
     "name": "stdout",
     "output_type": "stream",
     "text": [
      "['2', '19', '89', '43', '1']\n"
     ]
    }
   ],
   "source": [
    "my_string = \"2 19 89 43 1\"\n",
    "my_list = my_string.split()\n",
    "print(my_list)"
   ]
  },
  {
   "cell_type": "markdown",
   "id": "b668ed1a-2526-491c-9a88-7e12c52c56fd",
   "metadata": {
    "editable": true,
    "slideshow": {
     "slide_type": "fragment"
    },
    "tags": []
   },
   "source": [
    "This results in a _list of strings_ that are separated by the delimiter that is input:"
   ]
  },
  {
   "cell_type": "code",
   "execution_count": 2,
   "id": "cbd6bb9b-d2c2-43a5-b77f-440b2eb4bd38",
   "metadata": {
    "editable": true,
    "slideshow": {
     "slide_type": ""
    },
    "tags": []
   },
   "outputs": [
    {
     "name": "stdout",
     "output_type": "stream",
     "text": [
      "['4', '52', '20']\n"
     ]
    }
   ],
   "source": [
    "marathon_time = \"4:52:20\"\n",
    "marathon_time_split = marathon_time.split(\":\")\n",
    "print(marathon_time_split)"
   ]
  },
  {
   "cell_type": "code",
   "execution_count": 3,
   "id": "44a98176-1796-4a62-a53f-3ffa5e74d045",
   "metadata": {
    "editable": true,
    "slideshow": {
     "slide_type": "fragment"
    },
    "tags": []
   },
   "outputs": [
    {
     "name": "stdout",
     "output_type": "stream",
     "text": [
      "['0.0', '0.4', '1.3', '1.1', '2.5', '0.0']\n",
      "2.5\n"
     ]
    }
   ],
   "source": [
    "rainfall_data = \"0.0, 0.4, 1.3, 1.1, 2.5, 0.0\"\n",
    "rainfall_list = rainfall_data.split(\", \")\n",
    "print(rainfall_list)\n",
    "print(float(rainfall_list[4]))"
   ]
  },
  {
   "cell_type": "markdown",
   "id": "3fd178da-f35c-4eb8-bd01-20a7d69a037f",
   "metadata": {
    "editable": true,
    "slideshow": {
     "slide_type": "slide"
    },
    "tags": []
   },
   "source": [
    "# A motivating example:"
   ]
  },
  {
   "cell_type": "markdown",
   "id": "eb1e6891-3cda-4255-8df1-bb8fa5131348",
   "metadata": {
    "editable": true,
    "slideshow": {
     "slide_type": ""
    },
    "tags": []
   },
   "source": [
    "How many of the _anonymous Federalist Papers were written by Hamilton vs Madison? [more info](https://priceonomics.com/how-statistics-solved-a-175-year-old-mystery-about/)\n",
    "\n",
    "![day19_federalist](day19_federalist.png)"
   ]
  },
  {
   "cell_type": "markdown",
   "id": "03ef012a-e263-49e9-a6c4-b7feed8fb718",
   "metadata": {
    "editable": true,
    "slideshow": {
     "slide_type": "slide"
    },
    "tags": []
   },
   "source": [
    "## Let's take a look at the Federalist Papers:\n",
    "\n",
    "Included in the [materials for today](https://drive.google.com/drive/folders/1ECD8-linczQ_ufXBJHGGCMc8Z8YMF4MY?usp=drive_link), you'll find `49.txt` and `50.txt`. These are both Federalist papers. "
   ]
  },
  {
   "cell_type": "markdown",
   "id": "e56d12ea-edfe-4fdd-af95-4cb93ae37359",
   "metadata": {
    "editable": true,
    "slideshow": {
     "slide_type": "slide"
    },
    "tags": []
   },
   "source": [
    "# Exercise #1: \n",
    "\n",
    "Develop a __word count__ dictioanry:\n",
    "\n",
    "The key should be a word entered, the value shoudl be the number of times it occured.\n",
    "\n",
    "It should work something like this:\n",
    "\n",
    "```\n",
    ">>> %Run Exercise1.py\n",
    "please input some words: the cat in the hat on the cat\n",
    "{'the': 3, 'cat':2, 'in':1, 'hat':1, 'on':1}\n",
    "```"
   ]
  },
  {
   "cell_type": "markdown",
   "id": "5f94d457-7492-4782-a97e-05d570b94652",
   "metadata": {
    "editable": true,
    "slideshow": {
     "slide_type": "slide"
    },
    "tags": []
   },
   "source": [
    "# Exercise #2: \n",
    "\n",
    "Given the files `49.txt` and `50.txt`, write a program that will open a file, read in the data, then and create a dictionary that contains the word counts.\n",
    "\n",
    "Hamilton tended to use the word “while,” Madison was a consistent “whilst” man.\n",
    "\n",
    "James Madison didn’t use the word “upon” much, but Hamilton would use “upon” an average of 2.3 times per essay.\n",
    "\n",
    "In each of the files, what is the word count of:\n",
    "- `whilst`\n",
    "- `while`\n",
    "- `upon`\n",
    "- `the`\n",
    "> __Hint__: you may find the Lab #10 exercise `display_value` function useful\n"
   ]
  },
  {
   "cell_type": "markdown",
   "id": "1141b8f4-c3f4-4678-9679-ef7bf4dc1453",
   "metadata": {
    "editable": true,
    "slideshow": {
     "slide_type": "slide"
    },
    "tags": []
   },
   "source": [
    "# [Lab #10: Dictionaries](https://analytics.drake.edu/~moore/CS65-F24/Lab10.html)\n",
    "- Due Monday November 11th, by 11:59 pm to codePost"
   ]
  },
  {
   "cell_type": "markdown",
   "id": "3e191bda-2c24-4134-83d6-99dffde6587e",
   "metadata": {},
   "source": [
    "# Up Next:\n",
    "\n",
    "Data Analysis using Files, Dictionaries, and Lists, and Lab #11. "
   ]
  }
 ],
 "metadata": {
  "kernelspec": {
   "display_name": "Python 3 (ipykernel)",
   "language": "python",
   "name": "python3"
  },
  "language_info": {
   "codemirror_mode": {
    "name": "ipython",
    "version": 3
   },
   "file_extension": ".py",
   "mimetype": "text/x-python",
   "name": "python",
   "nbconvert_exporter": "python",
   "pygments_lexer": "ipython3",
   "version": "3.12.4"
  }
 },
 "nbformat": 4,
 "nbformat_minor": 5
}

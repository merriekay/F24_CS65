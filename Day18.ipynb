{
 "cells": [
  {
   "cell_type": "markdown",
   "id": "dff7acde-c01d-4541-a948-d9a435b023c1",
   "metadata": {
    "editable": true,
    "slideshow": {
     "slide_type": "skip"
    },
    "tags": []
   },
   "source": [
    "<a href=\"https://github.com/merriekay/F24_CS65/blob/main/Day18.ipynb\" target=\"_parent\"><img src=\"https://colab.research.google.com/assets/colab-badge.svg\" alt=\"Open In Colab\"/></a>"
   ]
  },
  {
   "cell_type": "markdown",
   "id": "da222a9a-2adc-49e3-8bff-b936592a202d",
   "metadata": {
    "editable": true,
    "slideshow": {
     "slide_type": ""
    },
    "tags": []
   },
   "source": [
    "# CS65: Day 18\n",
    "\n",
    "## Introduction to Dictionaries\n",
    "\n",
    "### CS65: Introduction to Computer Science I | Fall 2024\n",
    "\n",
    "*Monday, November 4th, 2024*\n",
    "\n",
    "### Helpful Resources:\n",
    "[📜 Syllabus](https://docs.google.com/document/d/1nqjmD0yhOOh2gaPwxfjV4EY_dBUIQUur1fvqQ4YPJLA/edit?usp=sharing) | [📬 CodePost Login](https://codepost.io/login) | [📆 Schedule](https://docs.google.com/spreadsheets/d/1Q5-ArPnXwjejKjXSI8WKgF7A2HRAam6Ny3eNA7EHn18/edit?usp=sharing) | [🙋‍♂️ PollEverywhere](https://pollev.com/moore) | [🪴 Office Hour Sign-Up](https://calendly.com/meredith-moore/office-hours)\n",
    "\n",
    "> **Note to self:** Make sure you're recording, silly goose!"
   ]
  },
  {
   "cell_type": "markdown",
   "id": "704cfa7c-7ae4-46a7-adfa-d1aa813291a4",
   "metadata": {
    "editable": true,
    "slideshow": {
     "slide_type": "slide"
    },
    "tags": []
   },
   "source": [
    "# Announcements"
   ]
  },
  {
   "cell_type": "markdown",
   "id": "a326ca58-41e7-4dce-b947-c0aa9835af0d",
   "metadata": {},
   "source": [
    "### You should be working on:\n",
    "\n",
    "[Lab #9: Image Processing](https://analytics.drake.edu/~moore/CS65-F24/Lab9.html) is  due tonight Monday, November 4th, to codePost by 11:59pm."
   ]
  },
  {
   "cell_type": "markdown",
   "id": "e08895b8-2fb8-49b9-96a2-7e5f866fc90b",
   "metadata": {
    "editable": true,
    "slideshow": {
     "slide_type": "slide"
    },
    "tags": []
   },
   "source": [
    "# Revisiting Image Processing:"
   ]
  },
  {
   "cell_type": "markdown",
   "id": "ab897a82-60dc-4668-aca7-74c6f0bd733d",
   "metadata": {
    "editable": true,
    "slideshow": {
     "slide_type": ""
    },
    "tags": []
   },
   "source": [
    "Here's something we didn't quite get to in class on Wednesday...\n",
    "\n",
    "## Steganography:\n",
    "\n",
    "_Steganography_ is the art and science of writing hidden messages in cuh a way that no one apart from the intended recipient knows the existence of the message. \n",
    "\n",
    "![monaLisa.png](monaLisa.png)"
   ]
  },
  {
   "cell_type": "markdown",
   "id": "a8646368-d98d-4b31-9fba-49899135ebe0",
   "metadata": {
    "editable": true,
    "slideshow": {
     "slide_type": "slide"
    },
    "tags": []
   },
   "source": [
    "# Exercise #1\n",
    "\n",
    "- [Download Mona Lisa image (monaLisa.png)](https://drive.google.com/drive/folders/1k76Vj3uZoHejdSLwvav8yrIgrE4ogJLH?usp=drive_link))\n",
    "- Use a __nested loop__ to loop through all of the pixels in the image\n",
    "- In the nested loop, get the red, green, and blue values for a pixel\n",
    "- If the red value is even, make the output red, green, and blue pixel values black (0,0,0)\n",
    "- If the red value is odd, make the output red, green, and blue pixel values white (255, 255, 255)\n",
    "- Display the resulting image.\n",
    "\n",
    "There is a hidden message there for you!!!\n",
    "- Do the same for the green, and blue components, too\n"
   ]
  },
  {
   "cell_type": "code",
   "execution_count": null,
   "id": "65a0c5b7-06bc-49ee-8875-6baba486b42e",
   "metadata": {
    "editable": true,
    "slideshow": {
     "slide_type": "subslide"
    },
    "tags": []
   },
   "outputs": [],
   "source": [
    "# decode the secret message in the Mona Lisa\n",
    "from PIL import Image\n",
    "\n",
    "with Image.open(\"monaLisa.png\") as mona_image:\n",
    "    pixels = mona_image.load()\n",
    "\n",
    "for x in range(mona_image.size[0]): # x vals\n",
    "    for y in range(mona_image.size[1]): # y vals\n",
    "        red = pixels[x,y][0]\n",
    "        green = pixels[x,y][1]\n",
    "        blue = pixels[x,y][2]\n",
    "        \n",
    "        # your code here:\n",
    "\n",
    "mona_image.show()"
   ]
  },
  {
   "cell_type": "markdown",
   "id": "a09ad061-2c5e-478c-a25f-5cfd3838037d",
   "metadata": {
    "editable": true,
    "slideshow": {
     "slide_type": "slide"
    },
    "tags": []
   },
   "source": [
    "## Exercise #2: average red\n",
    "\n",
    "Loop through al lof the pixesl in the monaLisa.png file.\n",
    "\n",
    "What is the average red component of all of the pixels?\n",
    "\n",
    "## Exercise #3: dark pixels\n",
    "\n",
    "Loop through all of the pixels in the monaLisa.png file. \n",
    "\n",
    "How many _dark pixels_ are there in the image?\n",
    "- _dark pixels_ are pixels that have a sum of red, green and blue components less than 10.\n",
    "\n",
    "## Exercise #4: make a menu\n",
    "Put all of your code into functions\n",
    "Make a menu so the user can enter what they want to do:\n",
    "- Type R for Red Steganography\n",
    "- Type B for Blue Steganography\n",
    "- Type G for Green Steganography\n",
    "- Type g for greyscale\n",
    "- Type I for inverse"
   ]
  },
  {
   "cell_type": "markdown",
   "id": "242798df-eb7e-419e-ba24-b8f10815e4dc",
   "metadata": {
    "editable": true,
    "slideshow": {
     "slide_type": ""
    },
    "tags": []
   },
   "source": [
    "# New Material: Dictionaries"
   ]
  },
  {
   "cell_type": "markdown",
   "id": "b204f28a-722d-4cf9-bc86-d1ad3ae632ef",
   "metadata": {
    "editable": true,
    "slideshow": {
     "slide_type": ""
    },
    "tags": []
   },
   "source": [
    "# 📘 Dictionaries:\n",
    "\n",
    "How do we use \"physical\"/digital dictionaries in real life?"
   ]
  },
  {
   "cell_type": "markdown",
   "id": "dcdee061-6689-410e-bbc9-256afcbffb3f",
   "metadata": {
    "editable": true,
    "slideshow": {
     "slide_type": "fragment"
    },
    "tags": []
   },
   "source": [
    "We look up a _word_ (`key`), and retreive a _definition_ (`value`)"
   ]
  },
  {
   "cell_type": "markdown",
   "id": "92bea95b-8a42-4294-be79-584607d3040e",
   "metadata": {
    "editable": true,
    "slideshow": {
     "slide_type": ""
    },
    "tags": []
   },
   "source": [
    "## Python Dictionaries\n",
    "\n",
    "__Dictionary__: object that stores a _collection_ of data\n",
    "- what other collection data types do we know?"
   ]
  },
  {
   "cell_type": "markdown",
   "id": "11b41c67-9ddf-4578-948d-2da4338c3719",
   "metadata": {
    "editable": true,
    "slideshow": {
     "slide_type": "fragment"
    },
    "tags": []
   },
   "source": [
    "A python dictionary consists of multiple elements. Each element has:\n",
    "- a `key`: a unique identifier that you can use to look something up\n",
    "- a `value`: a value associated with the unique identifier.\n"
   ]
  },
  {
   "cell_type": "markdown",
   "id": "db571c81-c9a2-4201-acea-36d455095a9c",
   "metadata": {
    "editable": true,
    "slideshow": {
     "slide_type": "slide"
    },
    "tags": []
   },
   "source": [
    "## Create a dictionary:\n",
    "\n",
    "The format for creating a dictionary looks like this:\n",
    "\n",
    "```python\n",
    "dictionary = {key1 : val1, key2 : val2}\n",
    "```\n",
    "Things to notice:\n",
    "- dictionaries use curly brackets `{}`\n",
    "- a key-value pair consists of a key (`key1`), a colon (`:`), and a value (`value1`)\n",
    "- you can have as many key-value pairs in your dictionary as you'd like, they just need to be separated by a comma (`,`)"
   ]
  },
  {
   "cell_type": "code",
   "execution_count": 1,
   "id": "847b25bd-43c3-4ba3-a6b4-6aeecce7b095",
   "metadata": {
    "editable": true,
    "slideshow": {
     "slide_type": ""
    },
    "tags": []
   },
   "outputs": [],
   "source": [
    "prices =  {\"apple\": 1.50, \"banana\": 1.25}"
   ]
  },
  {
   "cell_type": "markdown",
   "id": "de1fceae-5931-44ed-ade1-353de86a8ea5",
   "metadata": {
    "editable": true,
    "slideshow": {
     "slide_type": "slide"
    },
    "tags": []
   },
   "source": [
    "## Looking up a value:\n",
    "To use a dictionary, we pass a `key` into the dictionary to get access to the `value`. We use something similar to index-notation, passing in the value inside of square brackets `[]`:\n",
    "\n",
    "```python\n",
    "prices[\"apple\"] # will return 1.50\n",
    "```\n",
    "`\"apple\"` is the key here and `1.50` is the value. \n",
    "\n",
    "For example:"
   ]
  },
  {
   "cell_type": "code",
   "execution_count": 4,
   "id": "7858aecb-1d6a-47fa-9658-d3c339eb7344",
   "metadata": {
    "editable": true,
    "slideshow": {
     "slide_type": ""
    },
    "tags": []
   },
   "outputs": [
    {
     "name": "stdout",
     "output_type": "stream",
     "text": [
      "apples cost $1.5\n",
      "bananas cost $1.25\n"
     ]
    }
   ],
   "source": [
    "prices =  {\"apple\": 1.50, \"banana\": 1.25}\n",
    "print(\"apples cost $\", prices[\"apple\"], sep=\"\")\n",
    "print(\"bananas cost $\", prices[\"banana\"], sep=\"\")"
   ]
  },
  {
   "cell_type": "markdown",
   "id": "7568cd64-a3de-487d-b090-5dc95cce0b92",
   "metadata": {
    "editable": true,
    "slideshow": {
     "slide_type": "slide"
    },
    "tags": []
   },
   "source": [
    "## Empty Dictionary:\n",
    "\n",
    "An empty dictionary is created using `{}`"
   ]
  },
  {
   "cell_type": "code",
   "execution_count": 5,
   "id": "b53800b0-b8d2-40bf-a597-41eeb4569c62",
   "metadata": {
    "editable": true,
    "slideshow": {
     "slide_type": ""
    },
    "tags": []
   },
   "outputs": [],
   "source": [
    "president_currency = {}"
   ]
  },
  {
   "cell_type": "markdown",
   "id": "118ac21c-7532-4c88-af65-01eb22bc0b79",
   "metadata": {
    "editable": true,
    "slideshow": {
     "slide_type": ""
    },
    "tags": []
   },
   "source": [
    "## Adding key-value pairs to a dictionary\n",
    "\n",
    "Use the following sntax to add a key-value pair to a dictionary:\n",
    "```python\n",
    "dictionary_name[key] = value\n",
    "```"
   ]
  },
  {
   "cell_type": "code",
   "execution_count": 7,
   "id": "432adee7-3c47-4fd9-a8cf-337064e4d54c",
   "metadata": {
    "editable": true,
    "slideshow": {
     "slide_type": ""
    },
    "tags": []
   },
   "outputs": [
    {
     "name": "stdout",
     "output_type": "stream",
     "text": [
      "{'Washington': 1}\n"
     ]
    }
   ],
   "source": [
    "president_currency[\"Washington\"] = 1\n",
    "print(president_currency)"
   ]
  },
  {
   "cell_type": "code",
   "execution_count": 8,
   "id": "fdba3777-dd09-4395-a5bc-0bfd596d57db",
   "metadata": {
    "editable": true,
    "slideshow": {
     "slide_type": ""
    },
    "tags": []
   },
   "outputs": [
    {
     "name": "stdout",
     "output_type": "stream",
     "text": [
      "{'Washington': 1, 'Jefferson': 2, 'Lincoln': 5, 'Hamilton': 10}\n"
     ]
    }
   ],
   "source": [
    "president_currency[\"Jefferson\"] = 2\n",
    "president_currency[\"Lincoln\"] = 5\n",
    "president_currency[\"Hamilton\"] = 10\n",
    "print(president_currency)"
   ]
  },
  {
   "cell_type": "markdown",
   "id": "4ec696d5-bf45-4921-99d9-13f1d06d597f",
   "metadata": {
    "editable": true,
    "slideshow": {
     "slide_type": "slide"
    },
    "tags": []
   },
   "source": [
    "## Using a dictionary:\n",
    "\n",
    "Use the syntax `dictionary_name[key]` to retrieve a value from the dictionary."
   ]
  },
  {
   "cell_type": "code",
   "execution_count": 9,
   "id": "1c741e83-2acc-4af2-9aea-2f9ae91af734",
   "metadata": {
    "editable": true,
    "slideshow": {
     "slide_type": ""
    },
    "tags": []
   },
   "outputs": [
    {
     "name": "stdout",
     "output_type": "stream",
     "text": [
      "Hamilton is on the...  10 dollar bill\n"
     ]
    }
   ],
   "source": [
    "president_currency = {}\n",
    "president_currency[\"Washington\"] = 1\n",
    "president_currency[\"Jefferson\"] = 2\n",
    "president_currency[\"Lincoln\"] = 5\n",
    "president_currency[\"Hamilton\"] = 10\n",
    "\n",
    "print(\"Hamilton is on the... \", president_currency[\"Hamilton\"], \"dollar bill\" )"
   ]
  },
  {
   "cell_type": "markdown",
   "id": "a8055d5b-5588-4fba-a0b5-f6ccfd6e8a9e",
   "metadata": {
    "editable": true,
    "slideshow": {
     "slide_type": "slide"
    },
    "tags": []
   },
   "source": [
    "## Another Example:"
   ]
  },
  {
   "cell_type": "code",
   "execution_count": 10,
   "id": "aad83401-63b1-4229-94b7-bba1a78cc8c1",
   "metadata": {
    "editable": true,
    "slideshow": {
     "slide_type": ""
    },
    "tags": []
   },
   "outputs": [
    {
     "name": "stdin",
     "output_type": "stream",
     "text": [
      "enter a word:  dog\n"
     ]
    },
    {
     "name": "stdout",
     "output_type": "stream",
     "text": [
      "dog : best friend\n"
     ]
    }
   ],
   "source": [
    "definitions = {} # an empty dictionary\n",
    "\n",
    "definitions[\"dog\"] = \"best friend\"\n",
    "definitions[\"cat\"] = \"an indifferent house guest\"\n",
    "definitions[\"aibohphobia\"] = \"fear of palandromes\"\n",
    "\n",
    "# prompt for a key; output the value\n",
    "word = input(\"enter a word: \")\n",
    "print(word,\":\",definitions[word])"
   ]
  },
  {
   "cell_type": "markdown",
   "id": "df3cde3f-277f-44bf-b121-a8afa4a1c96f",
   "metadata": {
    "editable": true,
    "slideshow": {
     "slide_type": ""
    },
    "tags": []
   },
   "source": [
    "## Modifying Dictionaries\n",
    "\n",
    "Dictionaries are _mutable_, so you can change them. \n",
    "\n",
    "Updating a value:\n",
    "\n",
    "- just use the syntax `dictionary[key] = new_value`"
   ]
  },
  {
   "cell_type": "code",
   "execution_count": 11,
   "id": "1ca780d5-90c8-479c-84de-873e9bd0e4ac",
   "metadata": {
    "editable": true,
    "slideshow": {
     "slide_type": ""
    },
    "tags": []
   },
   "outputs": [
    {
     "name": "stdout",
     "output_type": "stream",
     "text": [
      "1.35\n"
     ]
    }
   ],
   "source": [
    "prices =  {\"apple\": 1.50, \"banana\": 1.25}\n",
    "\n",
    "# update the price of bananas\n",
    "prices[\"banana\"] = 1.35\n",
    "\n",
    "print(prices[\"banana\"])"
   ]
  },
  {
   "cell_type": "markdown",
   "id": "11fc9f84-0a86-4809-bc46-b1c5cc62ac3f",
   "metadata": {
    "editable": true,
    "slideshow": {
     "slide_type": "slide"
    },
    "tags": []
   },
   "source": [
    "## Printing dictionaries\n",
    "You can print out all of the key-value pairs of a dicionary by simply using the print statement:"
   ]
  },
  {
   "cell_type": "code",
   "execution_count": 12,
   "id": "e5db0a9f-cdf6-4610-afb8-59cbaa876496",
   "metadata": {
    "editable": true,
    "slideshow": {
     "slide_type": ""
    },
    "tags": []
   },
   "outputs": [
    {
     "name": "stdout",
     "output_type": "stream",
     "text": [
      "{'apple': 1.5, 'banana': 1.35}\n",
      "{'Washington': 1, 'Jefferson': 2, 'Lincoln': 5, 'Hamilton': 10}\n",
      "{'dog': 'best friend', 'cat': 'an indifferent house guest', 'aibohphobia': 'fear of palandromes'}\n"
     ]
    }
   ],
   "source": [
    "print(prices)\n",
    "print(president_currency)\n",
    "print(definitions)"
   ]
  },
  {
   "cell_type": "markdown",
   "id": "11a2951d-5143-4e78-8ed2-429badd892df",
   "metadata": {
    "editable": true,
    "slideshow": {
     "slide_type": "slide"
    },
    "tags": []
   },
   "source": [
    "# Exercise #5: \n",
    "\n",
    "Write a program that asks the user for a name (key), and a phone number (value), and then adds that name/number to the phonebook. "
   ]
  },
  {
   "cell_type": "code",
   "execution_count": null,
   "id": "6e8de91b-37e7-46de-bcf9-69001dada012",
   "metadata": {
    "editable": true,
    "slideshow": {
     "slide_type": ""
    },
    "tags": []
   },
   "outputs": [],
   "source": [
    "# starter code\n",
    "\n",
    "phone_numbers = {\"dad\": \"515-123-4567\"}\n",
    "name = input(\"Enter a name: \")\n",
    "number = input(\"Enter a phone number: \")\n",
    "\n",
    "# your code goes here\n",
    "\n",
    "\n",
    "print(phone_numbers)"
   ]
  },
  {
   "cell_type": "markdown",
   "id": "405b8a29-8813-4d22-895d-b2187110c667",
   "metadata": {
    "editable": true,
    "slideshow": {
     "slide_type": "slide"
    },
    "tags": []
   },
   "source": [
    "# Exercise #6:\n",
    "Given the following:"
   ]
  },
  {
   "cell_type": "code",
   "execution_count": 13,
   "id": "8a726a4b-7f02-4e73-a0ba-b9fa7b57477e",
   "metadata": {
    "editable": true,
    "slideshow": {
     "slide_type": ""
    },
    "tags": []
   },
   "outputs": [
    {
     "name": "stdin",
     "output_type": "stream",
     "text": [
      "Enter a name:  Meredith\n"
     ]
    }
   ],
   "source": [
    "# exercise #2 starter\n",
    "\n",
    "phone_numbers = {}\n",
    "\n",
    "phone_numbers[\"mom\"] = \"515-218-2341\"\n",
    "phone_numbers[\"dad\"] = \"515-234-6423\"\n",
    "phone_numbers[\"gus\"] = \"515-236-4267\"\n",
    "\n",
    "name = input(\"Enter a name: \")\n",
    "\n",
    "# write the code that displays the phone number in the phonebook\n",
    "\n",
    "# what happens if the name isn't in the phonebook?\n",
    "\n",
    "# how can this case be handled? "
   ]
  },
  {
   "cell_type": "markdown",
   "id": "0e8345c4-c622-4427-a94a-6aadce430bc3",
   "metadata": {
    "editable": true,
    "slideshow": {
     "slide_type": ""
    },
    "tags": []
   },
   "source": [
    "* Write a program to ask the user for a name and then display the phone number in the phone book for that name. \n",
    "* What happens is they enter a name that isn't in the phone book? \n",
    "* Come up with an idea for how that can be handled (Hint: experiment using an if statement and the in operator)"
   ]
  },
  {
   "cell_type": "markdown",
   "id": "9b18c388-2693-41be-a670-81a17185ee79",
   "metadata": {
    "editable": true,
    "slideshow": {
     "slide_type": "slide"
    },
    "tags": []
   },
   "source": [
    "## Looping over dictionaries:\n",
    "\n",
    "The syntax:\n",
    "\n",
    "```python\n",
    "for key in dictionary:\n",
    "```\n",
    "- this will process every `key` in the dictionary.\n",
    "- to access the correponding `value`, you'll have to look it up.\n",
    "\n",
    "```python\n",
    "for key in dictionary:\n",
    "    print(key, \",\", dictionary[key]) # prints out the key, value\n",
    "```"
   ]
  },
  {
   "cell_type": "markdown",
   "id": "d07b6ff4-0f7c-49dc-909c-e38412db15fe",
   "metadata": {
    "editable": true,
    "slideshow": {
     "slide_type": ""
    },
    "tags": []
   },
   "source": [
    "## Looping through dictionaries:\n",
    "\n",
    "You can lop through a dictionary with a for loop, though it will only run through each of the keys.\n",
    "\n",
    "You can then use the key to get the value. "
   ]
  },
  {
   "cell_type": "code",
   "execution_count": 14,
   "id": "565e66f9-9cfb-4995-bda4-9d40030c78cb",
   "metadata": {
    "editable": true,
    "slideshow": {
     "slide_type": ""
    },
    "tags": []
   },
   "outputs": [
    {
     "name": "stdout",
     "output_type": "stream",
     "text": [
      "Washington is on the 1 dollar bill.\n",
      "Jefferson is on the 2 dollar bill.\n",
      "Lincoln is on the 5 dollar bill.\n",
      "Hamilton is on the 10 dollar bill.\n"
     ]
    }
   ],
   "source": [
    "# create an empty dictionary\n",
    "president_currency = {}\n",
    "\n",
    "# add key-value pairs to the dictionary\n",
    "president_currency[\"Washington\"] = 1\n",
    "president_currency[\"Jefferson\"] = 2\n",
    "president_currency[\"Lincoln\"] = 5\n",
    "president_currency[\"Hamilton\"] = 10\n",
    "\n",
    "for president in president_currency:\n",
    "    print(president, 'is on the', president_currency[president], 'dollar bill.')"
   ]
  },
  {
   "cell_type": "markdown",
   "id": "1c437de7-6373-42c6-abd2-50dd0c4f99e7",
   "metadata": {
    "editable": true,
    "slideshow": {
     "slide_type": ""
    },
    "tags": []
   },
   "source": [
    "# Exercise #7:\n",
    "Create a dictionary that corresponds to your current course schedule.\n",
    "- The keys should be the class name, and the values should be the professor’s name. For example:\n",
    "- Use a loop to print out all of the keys and values of your dictionary.\n",
    "\n",
    "One of the lines of the output should be:\n",
    "`CS065 is taught by Meredith Moore`\n"
   ]
  },
  {
   "cell_type": "code",
   "execution_count": 15,
   "id": "c04e7dc0-00b1-4dc1-8cc5-ca2d1e8b3d9c",
   "metadata": {
    "editable": true,
    "slideshow": {
     "slide_type": ""
    },
    "tags": []
   },
   "outputs": [
    {
     "name": "stdout",
     "output_type": "stream",
     "text": [
      "Architecture 101 is taught by Ted Mosby\n",
      "Transfiguration is taught by Minerva McGonagall\n",
      "Paleontology 201 is taught by Ross Geller\n",
      "Spanish 101 is taught by Ben Chang\n",
      "Life 101 is taught by Mr. Feeny\n",
      "Science Adventures is taught by Ms. Frizzle\n"
     ]
    }
   ],
   "source": [
    "classes = {}\n",
    "classes[\"Architecture 101\"] = \"Ted Mosby\"\n",
    "classes[\"Transfiguration\" ] = \"Minerva McGonagall\"\n",
    "classes[\"Paleontology 201\"] = \"Ross Geller\"\n",
    "classes[\"Spanish 101\"] = \"Ben Chang\"\n",
    "classes[\"Life 101\"] = \"Mr. Feeny\"\n",
    "classes[\"Science Adventures\"] = \"Ms. Frizzle\"\n",
    "\n",
    "for key in classes:\n",
    "    print(key, \"is taught by\" , classes[key])"
   ]
  },
  {
   "cell_type": "markdown",
   "id": "e3692579-98e6-47e1-a86d-5f5dd8403200",
   "metadata": {
    "editable": true,
    "slideshow": {
     "slide_type": ""
    },
    "tags": []
   },
   "source": [
    "## Application of Dictioanries:\n",
    "\n",
    "Almost certainly, evern authetication system is implemented using a dictionary:\n",
    "- `key`: username\n",
    "- `value`: password"
   ]
  },
  {
   "cell_type": "code",
   "execution_count": 16,
   "id": "4d80c79b-2913-4382-9d0c-45f94e4df4f2",
   "metadata": {
    "editable": true,
    "slideshow": {
     "slide_type": ""
    },
    "tags": []
   },
   "outputs": [],
   "source": [
    "auth_dict = {}\n",
    "\n",
    "auth_dict[123] = \"password!\"\n",
    "auth_dict[455] = \"Fall2024!\""
   ]
  },
  {
   "cell_type": "markdown",
   "id": "4f9c9818-a4a7-4db7-b944-aab2621c66f5",
   "metadata": {
    "editable": true,
    "slideshow": {
     "slide_type": ""
    },
    "tags": []
   },
   "source": [
    "Prompting a user for their ID and password essentially becomes a dictionary lookup. "
   ]
  }
 ],
 "metadata": {
  "kernelspec": {
   "display_name": "Python 3 (ipykernel)",
   "language": "python",
   "name": "python3"
  },
  "language_info": {
   "codemirror_mode": {
    "name": "ipython",
    "version": 3
   },
   "file_extension": ".py",
   "mimetype": "text/x-python",
   "name": "python",
   "nbconvert_exporter": "python",
   "pygments_lexer": "ipython3",
   "version": "3.12.4"
  }
 },
 "nbformat": 4,
 "nbformat_minor": 5
}

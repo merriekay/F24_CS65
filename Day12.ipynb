{
  "cells": [
    {
      "cell_type": "markdown",
      "metadata": {
        "id": "view-in-github",
        "colab_type": "text"
      },
      "source": [
        "<a href=\"https://colab.research.google.com/github/merriekay/F24_CS65/blob/main/Day12.ipynb\" target=\"_parent\"><img src=\"https://colab.research.google.com/assets/colab-badge.svg\" alt=\"Open In Colab\"/></a>"
      ]
    },
    {
      "cell_type": "markdown",
      "id": "633bf894-a9ca-4ebc-b341-27dfe80a06dc",
      "metadata": {
        "editable": true,
        "tags": [],
        "id": "633bf894-a9ca-4ebc-b341-27dfe80a06dc"
      },
      "source": [
        "# CS65: Day 12\n",
        "\n",
        "## Functions III: Scope, Keyword Arguments, and Default Parameters\n",
        "### CS65: Introduction to Computer Science I | Fall 2024\n",
        "\n",
        "*Wednesday, October 9th,2024*\n",
        "\n",
        "### Helpful Resources:\n",
        "[📜 Syllabus](https://docs.google.com/document/d/1nqjmD0yhOOh2gaPwxfjV4EY_dBUIQUur1fvqQ4YPJLA/edit?usp=sharing) | [📬 CodePost Login](https://codepost.io/login) | [📆 Schedule](https://docs.google.com/spreadsheets/d/1Q5-ArPnXwjejKjXSI8WKgF7A2HRAam6Ny3eNA7EHn18/edit?usp=sharing) | [🙋‍♂️ PollEverywhere](https://pollev.com/moore) | [🪴 Office Hour Sign-Up](https://calendly.com/meredith-moore/office-hours)\n",
        "\n",
        "> **Note to self:** Make sure you're recording, silly goose!"
      ]
    },
    {
      "cell_type": "markdown",
      "id": "29b1c5d8-cbcb-43bf-88b9-16636938f786",
      "metadata": {
        "editable": true,
        "id": "29b1c5d8-cbcb-43bf-88b9-16636938f786",
        "tags": []
      },
      "source": [
        "# Admin Stuff"
      ]
    },
    {
      "cell_type": "markdown",
      "id": "39b215ab-dc77-4e6a-a31f-ba2dc893f33e",
      "metadata": {
        "editable": true,
        "id": "39b215ab-dc77-4e6a-a31f-ba2dc893f33e",
        "tags": []
      },
      "source": [
        "You should be working on:\n",
        "- nothing\n",
        "\n",
        "Giving you all a break.\n",
        "\n",
        "I'll get caught up on grading over Fall Break and will release Quiz #2 next Wednesday. It will be due Friday October 18th, by 11:59 pm."
      ]
    },
    {
      "cell_type": "markdown",
      "id": "80a648d4-0693-43f2-8432-7404254dc4e5",
      "metadata": {
        "editable": true,
        "id": "80a648d4-0693-43f2-8432-7404254dc4e5",
        "tags": []
      },
      "source": [
        "# ⏪ Quick Review:"
      ]
    },
    {
      "cell_type": "markdown",
      "id": "87578314-ee22-4473-9759-6abd7e35c331",
      "metadata": {
        "editable": true,
        "tags": [],
        "id": "87578314-ee22-4473-9759-6abd7e35c331"
      },
      "source": [
        "# Getting data out of funcitons: `return`\n",
        "\n",
        "__Parameters__ and __arguments__: enable passing data _into_ functions.\n",
        "\n",
        "__Return Values__ Enable getting data out of functions.\n",
        "- think of it as the _result_ of the function.\n",
        "\n",
        "![function robot](https://github.com/merriekay/F24_CS65/blob/main/functions.png?raw=1)"
      ]
    },
    {
      "cell_type": "markdown",
      "id": "ea0e03ee-8ed3-4a9b-a8c6-07f7e6bf4cd1",
      "metadata": {
        "editable": true,
        "tags": [],
        "id": "ea0e03ee-8ed3-4a9b-a8c6-07f7e6bf4cd1"
      },
      "source": [
        "## Syntax for `return` values\n",
        "\n",
        "To return a value from a function you've defined, put the `return` statmeent at the end of your function (followed by a value or an expression).\n",
        "- whenever the return statement is executed, the corresponding value is returned to the code that called the function."
      ]
    },
    {
      "cell_type": "code",
      "execution_count": null,
      "id": "2f39e04e-38d8-4cd4-b865-8f2afdfcc2a1",
      "metadata": {
        "editable": true,
        "tags": [],
        "id": "2f39e04e-38d8-4cd4-b865-8f2afdfcc2a1",
        "outputId": "7d41cea1-1673-4f1b-b0bd-caf84172571d"
      },
      "outputs": [
        {
          "name": "stdout",
          "output_type": "stream",
          "text": [
            "On the moon, I would weigh 29.75652 pounds!\n"
          ]
        }
      ],
      "source": [
        "def weight_on_moon(earth_weight):\n",
        "    result = earth_weight * 0.165314\n",
        "    return result\n",
        "moon_weight = weight_on_moon(180)\n",
        "print(\"On the moon, I would weigh\",moon_weight, \"pounds!\")"
      ]
    },
    {
      "cell_type": "markdown",
      "id": "2c47d511-ceb6-4868-9cf7-1cb156f0eb66",
      "metadata": {
        "editable": true,
        "tags": [],
        "id": "2c47d511-ceb6-4868-9cf7-1cb156f0eb66"
      },
      "source": [
        "# ✨ New Concept: Scope"
      ]
    },
    {
      "cell_type": "markdown",
      "id": "79f36e20-935b-4c42-850f-2101b4d75053",
      "metadata": {
        "editable": true,
        "tags": [],
        "id": "79f36e20-935b-4c42-850f-2101b4d75053"
      },
      "source": [
        "What's wrong with this code?"
      ]
    },
    {
      "cell_type": "code",
      "execution_count": null,
      "id": "0ed434d1-68fd-4bdc-a7aa-bfab0d36f63d",
      "metadata": {
        "editable": true,
        "tags": [],
        "id": "0ed434d1-68fd-4bdc-a7aa-bfab0d36f63d"
      },
      "outputs": [],
      "source": [
        "def my_function(add_val):\n",
        "    my_var = 26\n",
        "    result = my_va + add_val\n",
        "    return result\n",
        "\n",
        "my_function(2)\n",
        "print(my_var)"
      ]
    },
    {
      "cell_type": "markdown",
      "id": "cff9fe89-2249-466b-afd2-0476c4c8604e",
      "metadata": {
        "editable": true,
        "tags": [],
        "id": "cff9fe89-2249-466b-afd2-0476c4c8604e"
      },
      "source": [
        "Another motivating example... what will happen here?"
      ]
    },
    {
      "cell_type": "code",
      "execution_count": null,
      "id": "10e3c92b-e36e-4dba-bc7b-c709675300e8",
      "metadata": {
        "editable": true,
        "tags": [],
        "id": "10e3c92b-e36e-4dba-bc7b-c709675300e8"
      },
      "outputs": [],
      "source": [
        "num_students = 350\n",
        "\n",
        "def first_grade_classroom():\n",
        "    num_students = 30\n",
        "    print(num_students)\n",
        "\n",
        "def second_grade_classroom():\n",
        "    print(num_students)\n",
        "\n",
        "first_grade_classroom()\n",
        "second_grade_classroom()"
      ]
    },
    {
      "cell_type": "markdown",
      "id": "569faa1d-8843-4b10-acd6-a67b361b5917",
      "metadata": {
        "editable": true,
        "tags": [],
        "id": "569faa1d-8843-4b10-acd6-a67b361b5917"
      },
      "source": [
        "# Scope\n",
        "A variable's __scope__ is the part of the program that the variable is visible to.\n",
        "\n",
        "In Python, a scope can be __local__ to a function or __global__ (visible everywhere).\n",
        "\n",
        "Thus, if you first declare a variable _inside_ of a function, it's scope is __local__, and it can _only_ be accessed __*inside*__ of the function."
      ]
    },
    {
      "cell_type": "code",
      "execution_count": null,
      "id": "138a3f09-c7c9-41b0-8f52-09d613e8c4f8",
      "metadata": {
        "editable": true,
        "tags": [],
        "id": "138a3f09-c7c9-41b0-8f52-09d613e8c4f8",
        "outputId": "0b7b12d9-c18a-4ad2-d364-4f35196d7fbf"
      },
      "outputs": [
        {
          "ename": "NameError",
          "evalue": "name 'result' is not defined",
          "output_type": "error",
          "traceback": [
            "\u001b[0;31m---------------------------------------------------------------------------\u001b[0m",
            "\u001b[0;31mNameError\u001b[0m                                 Traceback (most recent call last)",
            "Cell \u001b[0;32mIn[8], line 6\u001b[0m\n\u001b[1;32m      3\u001b[0m     \u001b[38;5;28;01mreturn\u001b[39;00m result\n\u001b[1;32m      5\u001b[0m \u001b[38;5;66;03m# this will break because result is a local variable`\u001b[39;00m\n\u001b[0;32m----> 6\u001b[0m \u001b[38;5;28mprint\u001b[39m(result)\n",
            "\u001b[0;31mNameError\u001b[0m: name 'result' is not defined"
          ]
        }
      ],
      "source": [
        "def weight_on_moon(earth_weight):\n",
        "    result = earth_weight * 0.165314\n",
        "    return result\n",
        "\n",
        "# this will break because result is a local variable`\n",
        "print(result)"
      ]
    },
    {
      "cell_type": "markdown",
      "id": "215a226a-3893-46aa-8efc-9761d2be2ac5",
      "metadata": {
        "editable": true,
        "tags": [],
        "id": "215a226a-3893-46aa-8efc-9761d2be2ac5"
      },
      "source": [
        "# New keyword unlocked✨🔐: `global`\n",
        "\n",
        "If you really want to change a global variable inside a function, you have to use the `global` keyword."
      ]
    },
    {
      "cell_type": "code",
      "execution_count": null,
      "id": "5f190c01-5049-4cfd-afb3-fcde8b61b5dd",
      "metadata": {
        "editable": true,
        "tags": [],
        "id": "5f190c01-5049-4cfd-afb3-fcde8b61b5dd",
        "outputId": "cc5baed7-af79-4bbe-f1c2-a3b806a56b5e"
      },
      "outputs": [
        {
          "name": "stdout",
          "output_type": "stream",
          "text": [
            "30\n",
            "30\n"
          ]
        }
      ],
      "source": [
        "# experiments with global variables\n",
        "num_students = 350 # this is global bc it's defined outside of a function\n",
        "\n",
        "def first_grade_classroom():\n",
        "    global num_students # here, we tell it to use the global variable\n",
        "    num_students = 30\n",
        "    print(num_students)\n",
        "\n",
        "def second_grade_classroom():\n",
        "    print(num_students)\n",
        "\n",
        "first_grade_classroom()\n",
        "second_grade_classroom()"
      ]
    },
    {
      "cell_type": "markdown",
      "id": "be5b7815-def9-436a-8fc4-eef8ad6f2a2c",
      "metadata": {
        "editable": true,
        "tags": [],
        "id": "be5b7815-def9-436a-8fc4-eef8ad6f2a2c"
      },
      "source": [
        "# Local v Global Variables\n",
        "\n",
        "In general, we prefer __local__ variables to __global__.\n",
        "\n",
        "Global variables are to be avoided.\n",
        "- keep all of your code (including varaibles) inside of functions -- use local variables.\n",
        "\n",
        "Why?\n",
        "- as programs grow in size, it's difficult to keep all of the global variables in mind.\n",
        "- With a global variable, any function could possible chagne it's value.\n",
        "    - the repercussions could cause other code to break\n",
        "- It makes developing code in teams difficult\n",
        "    - You would need to communicate all of the variable names with your team all the time."
      ]
    },
    {
      "cell_type": "markdown",
      "id": "45b44424-1db5-4f40-bdce-572dad4fd1dd",
      "metadata": {
        "editable": true,
        "tags": [],
        "id": "45b44424-1db5-4f40-bdce-572dad4fd1dd"
      },
      "source": [
        "## An example:\n",
        "This example demonstrates the use of a global variable within a function:"
      ]
    },
    {
      "cell_type": "code",
      "execution_count": null,
      "id": "2f523f57-a499-4218-a561-c4182b418a8b",
      "metadata": {
        "editable": true,
        "tags": [],
        "id": "2f523f57-a499-4218-a561-c4182b418a8b",
        "outputId": "65d3ac8b-df46-49be-90b3-77eebae126ed"
      },
      "outputs": [
        {
          "name": "stdout",
          "output_type": "stream",
          "text": [
            "Added $10 to the cart. Total is now $10\n",
            "Added $25 to the cart. Total is now $35\n",
            "Final total is $35\n"
          ]
        }
      ],
      "source": [
        "cart_total = 0 # global var\n",
        "\n",
        "def add_to_cart(price):\n",
        "    global cart_total\n",
        "    cart_total += price\n",
        "    print(\"Added $\",price,\" to the cart. Total is now $\", cart_total, sep=\"\")\n",
        "\n",
        "def checkout():\n",
        "    print(\"Final total is $\", cart_total,sep=\"\")\n",
        "\n",
        "add_to_cart(10)\n",
        "add_to_cart(25)\n",
        "checkout()"
      ]
    },
    {
      "cell_type": "markdown",
      "id": "d352fc79-0601-489a-bcf2-6340a2a66ec1",
      "metadata": {
        "editable": true,
        "tags": [],
        "id": "d352fc79-0601-489a-bcf2-6340a2a66ec1"
      },
      "source": [
        "## Another example:\n",
        "\n",
        "Let's simulate a bank account withdrawal:"
      ]
    },
    {
      "cell_type": "code",
      "execution_count": null,
      "id": "6a931279-c475-4887-8738-a0831708eb51",
      "metadata": {
        "editable": true,
        "tags": [],
        "id": "6a931279-c475-4887-8738-a0831708eb51",
        "outputId": "3652eb80-dded-4608-9edd-e9e8c9ea51eb"
      },
      "outputs": [
        {
          "name": "stdout",
          "output_type": "stream",
          "text": [
            "Successfully withdrew $30. New balance: $70\n",
            "Account balance after withdrawal: $70\n"
          ]
        }
      ],
      "source": [
        "def withdraw(balance, amount):\n",
        "    if amount <= balance:\n",
        "        balance -= amount\n",
        "        print(\"Successfully withdrew $\", amount,\". New balance: $\", balance, sep=\"\")\n",
        "    else:\n",
        "        print(\"Insufficient funds.\")\n",
        "    return balance\n",
        "\n",
        "account_balance = 100 # global scope\n",
        "\n",
        "account_balance = withdraw(account_balance, 30) #new blance is returned and updated globally\n",
        "print(\"Account balance after withdrawal: $\", account_balance, sep=\"\")"
      ]
    },
    {
      "cell_type": "markdown",
      "id": "48be9baa-f89f-4f51-bf96-69799b53d48f",
      "metadata": {
        "editable": true,
        "tags": [],
        "id": "48be9baa-f89f-4f51-bf96-69799b53d48f"
      },
      "source": [
        "# Challenge #1: Point System\n",
        "\n",
        "In this challenge, you'll write two functions: `add_points()` and `subtract_points()`. These functions will modify a global variable, `points`, tha keeps track of a player's points in a game.\n",
        "\n",
        "You will also create a third function `get_points()` which will return the current points total without modifying it.\n",
        "\n",
        "Steps:\n",
        "1. Define a global variable (outside of a function) called `points`.\n",
        "2. Define the `add_points()` function:\n",
        "    - it takes one parameter: `amount`\n",
        "    - Use the `global` keyword to modify the global `points` variable.\n",
        "    - Add the `amount` to `points`\n",
        "    - print the new totla points\n",
        "3. Define the `subtract_points()` function:\n",
        "   - this function shoudl take one parameter: `amount`.\n",
        "   - Use the `global` keyword to modify the global `points` variable.\n",
        "   - Subtract the `amount` from `points`\n",
        "   - Print the new total points."
      ]
    },
    {
      "cell_type": "markdown",
      "id": "0c0c841e-d028-4578-b93d-12531e05124c",
      "metadata": {
        "editable": true,
        "tags": [],
        "id": "0c0c841e-d028-4578-b93d-12531e05124c"
      },
      "source": [
        "4. Define the `get_points()` function:\n",
        "   - this function shoudl not take any params\n",
        "   - It should return the current value of `points` without modifying it.\n",
        "5. Write the code to test these functions\n",
        "   - add 10 points, then subtract 5 points\n",
        "   - Print the current oints using `get_points()`"
      ]
    },
    {
      "cell_type": "markdown",
      "id": "73d916e9-d055-4297-a582-1cf36671cf63",
      "metadata": {
        "editable": true,
        "tags": [],
        "id": "73d916e9-d055-4297-a582-1cf36671cf63"
      },
      "source": [
        "Here's a template to get started:"
      ]
    },
    {
      "cell_type": "code",
      "execution_count": null,
      "id": "e8672f28-9120-49f9-80c9-648847f6431d",
      "metadata": {
        "editable": true,
        "tags": [],
        "id": "e8672f28-9120-49f9-80c9-648847f6431d"
      },
      "outputs": [],
      "source": [
        "# global variable\n",
        "points = 0\n",
        "\n",
        "# define add_points\n",
        "\n",
        "\n",
        "# define subtract points\n",
        "\n",
        "\n",
        "# define get_points()\n",
        "\n",
        "\n",
        "# test the functions\n",
        "add_points(10)\n",
        "subtract_points(5)\n",
        "print(\"Current points total:\", get_points()) #print the current points"
      ]
    },
    {
      "cell_type": "markdown",
      "id": "590e0bae-2df7-44aa-bd32-4c0156307f97",
      "metadata": {
        "editable": true,
        "tags": [],
        "id": "590e0bae-2df7-44aa-bd32-4c0156307f97"
      },
      "source": [
        "# ✨ New Concept: keyword arguments"
      ]
    },
    {
      "cell_type": "markdown",
      "id": "3281dbc1-001c-42e5-833d-752aee729cca",
      "metadata": {
        "editable": true,
        "tags": [],
        "id": "3281dbc1-001c-42e5-833d-752aee729cca"
      },
      "source": [
        "## Multiple Parameters Review:\n",
        "\n",
        "Recall that when using multiple parameters, the order matters!"
      ]
    },
    {
      "cell_type": "code",
      "execution_count": null,
      "id": "1a73a4fc-c2e9-4af5-99d5-98764307d303",
      "metadata": {
        "editable": true,
        "tags": [],
        "id": "1a73a4fc-c2e9-4af5-99d5-98764307d303"
      },
      "outputs": [],
      "source": [
        "def split_bill(total, tax, tip, num_people): # multiple params\n",
        "    amount = (total+ total*tax + total*tip) / num_people\n",
        "    return amount\n",
        "\n",
        "amount_per_person = split_bill(100, 0.06, 0.15, 4) # multiple args"
      ]
    },
    {
      "cell_type": "markdown",
      "id": "42d5948f-b023-4059-9e31-7884e24a3348",
      "metadata": {
        "editable": true,
        "tags": [],
        "id": "42d5948f-b023-4059-9e31-7884e24a3348"
      },
      "source": [
        "# Keyword Arguments:\n",
        "__Keyword arguments__ allow the argument to be specified by the _name of the parameter_ (i.e. `tax=0.06`, `num_people=4` etc), rather than the position in the call to the function."
      ]
    },
    {
      "cell_type": "code",
      "execution_count": null,
      "id": "85aa45c6-76fe-4539-81cb-7d1b4d320cee",
      "metadata": {
        "editable": true,
        "tags": [],
        "id": "85aa45c6-76fe-4539-81cb-7d1b4d320cee"
      },
      "outputs": [],
      "source": [
        "def split_bill(total, tax, tip, num_people): # multiple params\n",
        "    amount = (total+ total*tax + total*tip) / num_people\n",
        "    return amount\n",
        "\n",
        "# with keyword arguments, the order of args does not matter\n",
        "amount_per_person = split_bill(tax=0.06, num_people=4, total=100, tip=0.15)"
      ]
    },
    {
      "cell_type": "markdown",
      "id": "debf16d6-1d85-418b-a808-44e9c84b5904",
      "metadata": {
        "editable": true,
        "tags": [],
        "id": "debf16d6-1d85-418b-a808-44e9c84b5904"
      },
      "source": [
        "# Challenge #2: keyword args\n",
        "\n",
        "A high school needs to repaint it's gym, assum that a room has:\n",
        "- length = 106\n",
        "- width = 90\n",
        "- height = 24\n",
        "\n",
        "Use a keyword argument to call your `gallons_of_paint` function with `height` argument in the first position, the `width` argument in the second position and `length` in the 3rd position."
      ]
    },
    {
      "cell_type": "code",
      "execution_count": null,
      "id": "38fae9ff-9a9d-4eae-a44e-11426322bb4a",
      "metadata": {
        "editable": true,
        "tags": [],
        "id": "38fae9ff-9a9d-4eae-a44e-11426322bb4a"
      },
      "outputs": [],
      "source": [
        "def gallons_of_paint(width, length, height):\n",
        "    surface_area = width* height*2 + length*height*2\n",
        "    return surface_area / 400\n",
        "\n",
        "print(\"You'll need\", gallons_of_paint(____________),\"gallons of paint\")"
      ]
    },
    {
      "cell_type": "markdown",
      "id": "b706c471-fb40-452b-a844-800f51d51954",
      "metadata": {
        "editable": true,
        "tags": [],
        "id": "b706c471-fb40-452b-a844-800f51d51954"
      },
      "source": [
        "# Challenge #3: keyword arguments `introduce`\n",
        "\n",
        "Write a function `introduce(name, age)` thath prints a sentence like, \"Hello, my name is [name] and I am [age] years old\". Call this function using positional arguments, then try calling it using keyword arguments (e.g. `introduce(age=25, name=\"Alice\"))\n",
        "\n",
        "__Question__: what happens when you mix positional and keyword arguments?"
      ]
    },
    {
      "cell_type": "code",
      "execution_count": null,
      "id": "0a24b532-4751-492b-bb06-5106e6554f96",
      "metadata": {
        "editable": true,
        "tags": [],
        "id": "0a24b532-4751-492b-bb06-5106e6554f96"
      },
      "outputs": [],
      "source": [
        "def introduce(name,age):\n",
        "    #your code goes here"
      ]
    },
    {
      "cell_type": "markdown",
      "id": "b27df469-d528-4826-829a-00fb081934ab",
      "metadata": {
        "editable": true,
        "tags": [],
        "id": "b27df469-d528-4826-829a-00fb081934ab"
      },
      "source": [
        "# ✨ New Concept: Default Parameters\n",
        "\n",
        "Sometimes a function may have a parameter that is almost always called with the same argument."
      ]
    },
    {
      "cell_type": "markdown",
      "id": "185cb7ac-5e8d-4e88-b1aa-e316322907c0",
      "metadata": {
        "editable": true,
        "tags": [],
        "id": "185cb7ac-5e8d-4e88-b1aa-e316322907c0"
      },
      "source": [
        "Python allows the definition of a function to supply __default parameter__ values-- values that will be used if no other value is passed in."
      ]
    },
    {
      "cell_type": "markdown",
      "id": "6143fdc7-2beb-4734-9800-f8271873774e",
      "metadata": {
        "editable": true,
        "tags": [],
        "id": "6143fdc7-2beb-4734-9800-f8271873774e"
      },
      "source": [
        "If the parameter corresponding to an argument is not specified in the function call, the __default value__ is used"
      ]
    },
    {
      "cell_type": "markdown",
      "id": "8fbd8751-1140-435e-b6ab-01df329fb98e",
      "metadata": {
        "editable": true,
        "tags": [],
        "id": "8fbd8751-1140-435e-b6ab-01df329fb98e"
      },
      "source": [
        "The use of default parameters allows the use of the function to be very versatile. The number of arguments supplied can be variable"
      ]
    },
    {
      "cell_type": "markdown",
      "id": "11529f08-a9ee-4637-999a-48893ee4b113",
      "metadata": {
        "editable": true,
        "tags": [],
        "id": "11529f08-a9ee-4637-999a-48893ee4b113"
      },
      "source": [
        "## Default Parameters Example:"
      ]
    },
    {
      "cell_type": "code",
      "execution_count": null,
      "id": "9e783cf7-5f35-4bbd-8928-c4f954d5b7fd",
      "metadata": {
        "editable": true,
        "tags": [],
        "id": "9e783cf7-5f35-4bbd-8928-c4f954d5b7fd",
        "outputId": "5601a56a-ba60-4c76-a8c1-1eed47225f08"
      },
      "outputs": [
        {
          "name": "stdout",
          "output_type": "stream",
          "text": [
            "Each person owes $62.0\n"
          ]
        }
      ],
      "source": [
        "#            default params v       v               v\n",
        "def split_bill(total, tax=0.06, tip=0.18, num_people=2): # multiple params\n",
        "    amount = (total+ total*tax + total*tip) / num_people\n",
        "    return amount\n",
        "\n",
        "# with default params, we only need to provide an arg for params without defaults\n",
        "amount_per_person = split_bill(100)\n",
        "print(\"Each person owes $\", amount_per_person, sep=\"\")"
      ]
    },
    {
      "cell_type": "markdown",
      "id": "ed0e6d3a-57aa-46c5-8b0b-e06f9852b332",
      "metadata": {
        "editable": true,
        "tags": [],
        "id": "ed0e6d3a-57aa-46c5-8b0b-e06f9852b332"
      },
      "source": [
        "# Challenge #4: Default Parameters\n",
        "According to the National Building Code (NBC), the standard ceiling height is eight feet.\n",
        "\n",
        "According to crddesignbuild.com, the average size of an owner's bedroom in U.S. homes is 14 feet by 16 feet.\n",
        "\n",
        "Establish the __default parameters__ of `gallons_of_paint` as above. Try calling `gallons_of_paint` with no arguments!!\n",
        "\n",
        "How many gallons if we keep default length and height, but have 10 foot ceilings?"
      ]
    },
    {
      "cell_type": "code",
      "execution_count": null,
      "id": "8c71105c-ad4a-4d05-bc14-2ce33c09ba3c",
      "metadata": {
        "editable": true,
        "tags": [],
        "id": "8c71105c-ad4a-4d05-bc14-2ce33c09ba3c"
      },
      "outputs": [],
      "source": [
        "avg_room = gallons_of_paint()\n",
        "print(\"The average room would require\", avg_room, \"gallons of paint.\")"
      ]
    },
    {
      "cell_type": "markdown",
      "id": "98d44d95-e995-484d-99e7-187e2f88524e",
      "metadata": {
        "editable": true,
        "tags": [],
        "id": "98d44d95-e995-484d-99e7-187e2f88524e"
      },
      "source": [
        "# Default Parameters and Keyword Arguments Combined\n",
        "This example demonstrates default parameters and keywrod arguments:\n",
        "- `greeting` and `excited` are optional parameters with default values of `\"Hello\"` and `False`\n",
        "- if `excited` is `True`, the greegint is converted to uppercase to refelct excitement.\n"
      ]
    },
    {
      "cell_type": "code",
      "execution_count": null,
      "id": "8fdb31c3-374f-4df6-a976-eb8f28c998b5",
      "metadata": {
        "editable": true,
        "tags": [],
        "id": "8fdb31c3-374f-4df6-a976-eb8f28c998b5",
        "outputId": "c7ac46b5-32ef-4737-ab56-be038cad4afc"
      },
      "outputs": [
        {
          "name": "stdout",
          "output_type": "stream",
          "text": [
            "Hello Alice.\n",
            "Hi Bob.\n",
            "HELLO CHARLIE!!\n",
            "GOOD MORNING DANA!!\n"
          ]
        }
      ],
      "source": [
        "def greet(name, greeting=\"Hello\", excited=False):\n",
        "    if excited:\n",
        "        print(greeting.upper(),\" \",name.upper(), \"!!\", sep=\"\")\n",
        "    else:\n",
        "        print(greeting, \" \",name, \".\", sep=\"\")\n",
        "\n",
        "# Examples of calling the function with different combinations\n",
        "greet(\"Alice\")\n",
        "greet(\"Bob\", greeting=\"Hi\")\n",
        "greet(\"Charlie\", excited=True)\n",
        "greet(\"Dana\", greeting=\"Good morning\", excited=True)"
      ]
    },
    {
      "cell_type": "markdown",
      "id": "7b0d03c1-5b29-4b57-af5d-2cc9301db5e5",
      "metadata": {
        "editable": true,
        "tags": [],
        "id": "7b0d03c1-5b29-4b57-af5d-2cc9301db5e5"
      },
      "source": [
        "# Challenge #6: `calculate_price`\n",
        "\n",
        "Write a function called `calculate_price` that takes in 3 parameters `price`, `discount` and `tax`. Two of the parameters, `discount` and `tax` should have default values of 0 and 0.05 respectively.\n",
        "\n",
        "The function should calculate the amount of discount, and then the price with tax included.\n",
        "\n",
        "Here's some code to test your function:\n",
        "```python\n",
        "calculate_price(100)\n",
        "calculate_price(100, discount=10)\n",
        "caclulate_price(100, tax=0.08)\n",
        "calculate_price(100, discount=15, tax=0.1)\n",
        "```\n",
        "\n",
        "The above code should result in:\n",
        "```\n",
        "The final price after 0% discount and tax is: $105.00\n",
        "The final price after 10% discount and tax is: $94.50\n",
        "The final price after 0% discount and tax is: $108.00\n",
        "The final price after 15% discount and tax is: $93.50\n",
        "```"
      ]
    },
    {
      "cell_type": "code",
      "execution_count": null,
      "id": "6ee19e85-f88b-41ef-b583-cac37fa85d2a",
      "metadata": {
        "editable": true,
        "tags": [],
        "id": "6ee19e85-f88b-41ef-b583-cac37fa85d2a",
        "outputId": "5f4dcffc-6f08-4693-b2b3-6db853de91a1"
      },
      "outputs": [
        {
          "name": "stdout",
          "output_type": "stream",
          "text": [
            "The final price after 0% discount and tax is: $105.00\n",
            "The final price after 10% discount and tax is: $94.50\n",
            "The final price after 0% discount and tax is: $108.00\n",
            "The final price after 15% discount and tax is: $93.50\n"
          ]
        }
      ],
      "source": [
        "def calculate_price(price, discount=0, tax=0.05):\n",
        "    discount_amount = price * (discount / 100)\n",
        "    taxed_price = (price - discount_amount) * (1 + tax)\n",
        "    print(f\"The final price after {discount}% discount and tax is: ${taxed_price:.2f}\")\n",
        "\n",
        "# Examples of calling the function with different keyword arguments\n",
        "calculate_price(100)                            # Uses default discount and tax\n",
        "calculate_price(100, discount=10)               # 10% discount with default tax\n",
        "calculate_price(100, tax=0.08)                  # Custom tax rate with default discount\n",
        "calculate_price(100, discount=15, tax=0.1)      # Custom discount and tax rate\n"
      ]
    },
    {
      "cell_type": "markdown",
      "id": "c214067c-8f2e-426f-90fb-78938f2fb2a7",
      "metadata": {
        "editable": true,
        "tags": [],
        "id": "c214067c-8f2e-426f-90fb-78938f2fb2a7"
      },
      "source": [
        "# Additional Challenges:\n",
        "\n",
        "__Graphics / Functions Challenges__:\n",
        "- __#7__: write a function called `random_circle`, it should take in one param, the graphics window. It shoudl use the code from Lab #6 to draw a random circle onto the canvas\n",
        "- __#8__: Write a function called `collision`, which takes two graphics objects, and returns a boolean value as to whether or not they collided\n",
        "- __#9__: Write a function called `update_score` that takes in a parameter `new_score`, as well as a text graphics object. It will update the value of teh score."
      ]
    },
    {
      "cell_type": "markdown",
      "id": "71a8452e-1b90-4a90-9729-f751ab219185",
      "metadata": {
        "editable": true,
        "tags": [],
        "id": "71a8452e-1b90-4a90-9729-f751ab219185"
      },
      "source": [
        "# More Function Practice:\n",
        "\n",
        "### #10: `letter_grade`\n",
        "- __#10__: write a function called `letter_grade`. The function should accept one parameter, named `score`. The function should __return__ the corresponding string based on the score input:\n",
        "| __Score__  | __Return Value__ |\n",
        "|--------|--------------|\n",
        "| >= 90  | \"A\"          |\n",
        "| >= 80  | \"B\"          |\n",
        "| >= 70  | \"C\"          |\n",
        "| >= 60  | \"D\"          |\n",
        "| < 60   | \"F\"          |\n",
        "> __Hint__: your function should contain:\n",
        "```python\n",
        "def letter_grade(score):\n",
        "    \"\"\"\n",
        "    Convert a score to a letter grade\n",
        "\n",
        "    Parameter:\n",
        "        score, an integer or floating point value\n",
        "    Returns:\n",
        "        a string, the corresponding grade for the score.\n",
        "    \"\"\"\n",
        "```\n"
      ]
    },
    {
      "cell_type": "markdown",
      "id": "e25725da-a24a-4efd-93fb-cf8eeaee73c4",
      "metadata": {
        "editable": true,
        "tags": [],
        "id": "e25725da-a24a-4efd-93fb-cf8eeaee73c4"
      },
      "source": [
        "#### Part 2:\n",
        "Can you update your code to include a new parameter, `extra_credit` that should have a default value of `0.0`.\n",
        "- also add in a check to make sure that `extra_credit` is `>= 0.0`. If it is less than 0, the function should return `\"invalid extra credit\"`.\n",
        "- if the `extra_credit` is `>=0.0`, then add `extra_credit` to `score`, and retun the string from the chart above."
      ]
    },
    {
      "cell_type": "markdown",
      "id": "840d3d00-d590-4de5-9589-af3e8ba1e200",
      "metadata": {
        "editable": true,
        "id": "840d3d00-d590-4de5-9589-af3e8ba1e200",
        "tags": []
      },
      "source": [
        "# Admin Stuff"
      ]
    },
    {
      "cell_type": "markdown",
      "id": "cdb062bd-dc86-4d86-bdbd-a822ab921c0b",
      "metadata": {
        "editable": true,
        "id": "cdb062bd-dc86-4d86-bdbd-a822ab921c0b",
        "tags": []
      },
      "source": [
        "You should be working on:\n",
        "- nothing\n",
        "\n",
        "Giving you all a break.\n",
        "\n",
        "I'll get caught up on grading over Fall Break and will release Quiz #2 next Wednesday. It will be due Friday October 18th, by 11:59 pm."
      ]
    }
  ],
  "metadata": {
    "kernelspec": {
      "display_name": "Python 3 (ipykernel)",
      "language": "python",
      "name": "python3"
    },
    "language_info": {
      "codemirror_mode": {
        "name": "ipython",
        "version": 3
      },
      "file_extension": ".py",
      "mimetype": "text/x-python",
      "name": "python",
      "nbconvert_exporter": "python",
      "pygments_lexer": "ipython3",
      "version": "3.12.4"
    },
    "colab": {
      "provenance": [],
      "include_colab_link": true
    }
  },
  "nbformat": 4,
  "nbformat_minor": 5
}
{
 "cells": [
  {
   "cell_type": "markdown",
   "id": "48f8a4de-dcce-4c9b-bb0b-d15ff4cd60c0",
   "metadata": {
    "editable": true,
    "slideshow": {
     "slide_type": "slide"
    },
    "tags": []
   },
   "source": [
    "# CS65: Day00\n",
    "\n",
    "## Welcome to CS65!\n",
    "\n",
    "### CS65: Introduction to Computer Science I | Fall 2024\n",
    "\n",
    "Monday, August 26th, 2024\n",
    "\n",
    "### Helpful Resources:\n",
    "[📜 Syllabus](https://docs.google.com/document/d/1nqjmD0yhOOh2gaPwxfjV4EY_dBUIQUur1fvqQ4YPJLA/edit?usp=sharing) | [📬 CodePost Login](https://codepost.io/login) | [📆 Schedule](https://docs.google.com/spreadsheets/d/1Q5-ArPnXwjejKjXSI8WKgF7A2HRAam6Ny3eNA7EHn18/edit?usp=sharing) | [🙋‍♂️ PollEverywhere](https://pollev.com/moore) | [🪴 Office Hour Sign-Up](https://calendly.com/meredith-moore/office-hours)"
   ]
  },
  {
   "cell_type": "markdown",
   "id": "5edf28cd-e3ff-4c74-bc8c-e101e73e44f6",
   "metadata": {
    "editable": true,
    "slideshow": {
     "slide_type": "slide"
    },
    "tags": []
   },
   "source": [
    "> **Note to self:** Make sure you're recording, silly goose!"
   ]
  },
  {
   "cell_type": "markdown",
   "id": "b2adf7ef-daa6-41e7-b983-83637a3a5f12",
   "metadata": {
    "editable": true,
    "slideshow": {
     "slide_type": "slide"
    },
    "tags": []
   },
   "source": [
    "# Hello!\n",
    "\n",
    "I'm Meredith Moore, the instructor for CS65.\n",
    "\n",
    "__Meredith Moore, Ph.D.__\n",
    "- Ph.D. in Computer Science from ASU in 2020\n",
    "- B.S. in Computer Science and Neuroscience from Drake University in 2015\n",
    "- Starting my 5th year teaching at Drake\n",
    "\n",
    "Contact Info:\n",
    "- meredith.moore@drake.edu\n",
    "- Collier Scripps Hall 325"
   ]
  },
  {
   "cell_type": "markdown",
   "id": "c4760d79-6d24-4b61-909d-86da5e6c1e80",
   "metadata": {
    "editable": true,
    "slideshow": {
     "slide_type": "slide"
    },
    "tags": []
   },
   "source": [
    "# Attendance"
   ]
  },
  {
   "cell_type": "markdown",
   "id": "72ed63b7-22af-40d5-aaba-b5371ac67e0c",
   "metadata": {
    "editable": true,
    "slideshow": {
     "slide_type": "slide"
    },
    "tags": []
   },
   "source": [
    "# 👋 Introductions:\n",
    "\n",
    "This class will be highly interactive--you will be asked multiple times a class to talk to your neighbors. Let's start out by getting to know your neighbors.\n",
    "\n",
    "> _(yes, first years, I know you're all tired of introducing yourself after welcome week, but please bear with me)_\n",
    "\n",
    "Go around the table and introduce yourself. Things to include:\n",
    "- Name, pronouns\n",
    "- Year, major(s)/ minors(s)\n",
    "- Where you're from\n",
    "- Any previous computer science experience? (keep in mind, this is an intro class and there is no expectation that you have previous experience)"
   ]
  },
  {
   "cell_type": "markdown",
   "id": "b47d581f-335c-4afb-92a3-b2ec4f85ce40",
   "metadata": {
    "editable": true,
    "slideshow": {
     "slide_type": "slide"
    },
    "tags": []
   },
   "source": [
    "## Quick Debrief:"
   ]
  },
  {
   "cell_type": "markdown",
   "id": "3789e46f-8489-42d1-8690-d9f981e135ba",
   "metadata": {
    "editable": true,
    "slideshow": {
     "slide_type": "slide"
    },
    "tags": []
   },
   "source": [
    "# Today's Overview:\n",
    "\n",
    "- Part 1: Course Overview / Syllabus\n",
    "- Part 2: Introduction to Computer Science"
   ]
  },
  {
   "cell_type": "markdown",
   "id": "af8c04f5-129f-4578-9c11-c0b296ddf6b1",
   "metadata": {
    "editable": true,
    "slideshow": {
     "slide_type": "slide"
    },
    "tags": []
   },
   "source": [
    "# Part 1: Course Overview"
   ]
  },
  {
   "cell_type": "markdown",
   "id": "d8a10640-f050-435b-be39-856e264a8197",
   "metadata": {
    "editable": true,
    "slideshow": {
     "slide_type": "slide"
    },
    "tags": []
   },
   "source": [
    "# Course Expectations:\n",
    "There is no programming prequesite for this course.\n",
    "- as long as you can type and turn on a computer (and think logically), you can earn an A in this course.\n",
    "- Those with programming experience, be careful\n",
    "<div>\n",
    "<img src=\"https://github.com/merriekay/CS65-F23/blob/main/images/day01_noexp.png?raw=1\"/ width=300>\n",
    "</div>"
   ]
  },
  {
   "cell_type": "markdown",
   "id": "5c5a2e45-6e16-4346-9cc5-4a8778e95315",
   "metadata": {
    "editable": true,
    "slideshow": {
     "slide_type": "slide"
    },
    "tags": []
   },
   "source": [
    "# 🛠 Course Tools\n",
    "\n",
    "There are a few tools that we will use to make this course run smoothly:\n",
    "- __Blackboard__: slides, code, labs, announcements\n",
    "- __CodePost__: code will be submitted to CodePost for grading\n",
    "- __PollEverywhere__: attendance, review questions, concept checks, reflections\n",
    "- __Thonny__: Thonny is what we will use to write Python programs in"
   ]
  },
  {
   "cell_type": "markdown",
   "id": "38c4ae11-b5a3-4b2d-a704-d0e25b719c90",
   "metadata": {
    "editable": true,
    "slideshow": {
     "slide_type": "slide"
    },
    "tags": []
   },
   "source": [
    "# A Note on Content Delivery\n",
    "\n",
    "You might notice that these slides aren't Powerpoint or Google Slides...\n",
    "\n",
    "I'm using Jupyter Notebooks (a way of writing code and text together), and presenting them as slides.\n",
    "\n",
    "I understand that this might mean you have to adjust how you take notes in this class.\n",
    "\n",
    "I'll demonstrate how I'd take notes if I were you. It involves using Google Drive and another great tool called Google Colaboratory."
   ]
  },
  {
   "cell_type": "code",
   "execution_count": 2,
   "id": "d09c40a8-f64d-4ebf-9ca6-0341385640ed",
   "metadata": {
    "editable": true,
    "slideshow": {
     "slide_type": "slide"
    },
    "tags": []
   },
   "outputs": [
    {
     "name": "stdout",
     "output_type": "stream",
     "text": [
      "Hello world!\n"
     ]
    }
   ],
   "source": [
    "# demo code here\n",
    "print(\"Hello world!\")"
   ]
  },
  {
   "cell_type": "markdown",
   "id": "20c78ad4-905e-43d9-90f1-9251268c4e2f",
   "metadata": {
    "editable": true,
    "slideshow": {
     "slide_type": "slide"
    },
    "tags": []
   },
   "source": [
    "## 🫶 An Accommodation Request\n",
    "\n",
    "It is a personal goal of mine to respond to your emails within 24 hours of you sending it. However... I have ADHD and I don't always make that happen.\n",
    "\n",
    "__My ask__: If it has been more than 24 hours and you haven't heard from me, please feel free to forward me your email again with a simple \"bump\" in the message to provide me a gentle reminder to respond.\n"
   ]
  },
  {
   "cell_type": "markdown",
   "id": "e44a2b29-6c57-4f17-aad4-1cb7f8d0a587",
   "metadata": {
    "editable": true,
    "slideshow": {
     "slide_type": "slide"
    },
    "tags": []
   },
   "source": [
    "# Blackboard Tour"
   ]
  },
  {
   "cell_type": "markdown",
   "id": "7929c059-fd10-4e7d-8f7e-12d1d0821c71",
   "metadata": {
    "editable": true,
    "slideshow": {
     "slide_type": "slide"
    },
    "tags": []
   },
   "source": [
    "# 📜 Syllabus\n",
    "\n",
    "[The syllabus is available here](https://docs.google.com/document/d/1nqjmD0yhOOh2gaPwxfjV4EY_dBUIQUur1fvqQ4YPJLA/edit?usp=sharing) (also on blackboard)\n",
    "\n",
    "Please read the syllabus prior to class on Wednesday.\n",
    "\n",
    "It specifies expectations (for you and for me):\n",
    "- Assignments\n",
    "- Plagiarism\n",
    "- Contacting me\n",
    "- Course goals\n",
    "\n",
    "I'll go over some of the most important pieces in the next few slides."
   ]
  },
  {
   "cell_type": "markdown",
   "id": "ed1218e7-135f-459c-9241-941bb6f9ab01",
   "metadata": {
    "editable": true,
    "slideshow": {
     "slide_type": "slide"
    },
    "tags": []
   },
   "source": [
    "## 💼 Office Hours\n",
    "\n",
    "Monday,Tuesday, Wednesday, Thursday:\n",
    "- 12:30 pm - 1:30 pm\n",
    "- Collier Scripps 325\n",
    "\n",
    "Use this link to schedule: https://calendly.com/meredith-moore/office-hours\n",
    "\n",
    " > Still feel free to drop in/stop by, but I always like knowing who is planning on stopping in so I can prepare."
   ]
  },
  {
   "cell_type": "code",
   "execution_count": 3,
   "id": "cbadf775-ae17-406f-81b7-a72db7409af6",
   "metadata": {
    "editable": true,
    "slideshow": {
     "slide_type": "slide"
    },
    "tags": []
   },
   "outputs": [
    {
     "data": {
      "text/html": [
       "<iframe src=\"https://calendly.com/meredith-moore/office-hours\" width=\"1200\" height=\"600\"></iframe>\n"
      ],
      "text/plain": [
       "<IPython.core.display.HTML object>"
      ]
     },
     "metadata": {},
     "output_type": "display_data"
    }
   ],
   "source": [
    "%%html\n",
    "<iframe src=\"https://calendly.com/meredith-moore/office-hours\" width=\"1200\" height=\"600\"></iframe>"
   ]
  },
  {
   "cell_type": "markdown",
   "id": "aaee82ba-6b76-4eba-9c53-5f145057a477",
   "metadata": {
    "editable": true,
    "slideshow": {
     "slide_type": "slide"
    },
    "tags": []
   },
   "source": [
    "# 📚 Textbook(s)\n",
    "\n",
    "It's been my experience htat most students can do well in the course using the lecture notes and code examples provided.\n",
    "\n",
    "I don't want to make you purchase a text that will go out of date or that won't be used again.\n",
    "\n",
    "There are plenty of free, open-source, online textbooks\n",
    "\n",
    "A small inconvenience: there isn't one online textbook that does it all.\n",
    "\n",
    "I don't love _everything_  about any text\n",
    "\n",
    "I will post links to chapters of a textbook that will provide supplementary materials for you each class. (each session is technically 2 classes)"
   ]
  },
  {
   "cell_type": "markdown",
   "id": "ccdf3a3c-b7b0-406d-aaad-b0efb583a322",
   "metadata": {
    "editable": true,
    "slideshow": {
     "slide_type": "slide"
    },
    "tags": []
   },
   "source": [
    "- [Think Python: How to Think Like a Computer Scientist](https://greenteapress.com/thinkpython2/html/index.html) 2nd Edition by Allen B. Downey\n",
    "- [A Practical Introduction to Python Programming](https://www.brianheinold.net/python/python_book.html) by Brian Heinold\n",
    "- [A Byte of Python](https://python.swaroopch.com/) by Swaroop\n",
    "- [Python for Everybody](https://www.py4e.com/lessons) by Charles Severance"
   ]
  },
  {
   "cell_type": "markdown",
   "id": "22c9e43c-8fd2-4987-a072-737171f4e22f",
   "metadata": {
    "editable": true,
    "slideshow": {
     "slide_type": "slide"
    },
    "tags": []
   },
   "source": [
    "## Reading for Wednesday:\n",
    "\n",
    "Reading #1: [About Python](https://python.swaroopch.com/about_python.html) from \"A Byte of Python\"\n",
    "- why is it called Python?\n",
    "- Advantgaes of Python"
   ]
  },
  {
   "cell_type": "markdown",
   "id": "10b521be-0ff4-495d-8af8-1e54528ecd0b",
   "metadata": {
    "editable": true,
    "slideshow": {
     "slide_type": "slide"
    },
    "tags": []
   },
   "source": [
    "# Grading Policy:\n",
    "\n",
    "| **Activity**     | **% Final Grade** |\n",
    "|:------------------|:-------------------|\n",
    "| Programming Labs | 35%               |\n",
    "| Content Quizzes  | 35%               |\n",
    "| Final Project    | 20%               |\n",
    "| Participation    | 10%               |"
   ]
  },
  {
   "cell_type": "markdown",
   "id": "74793c19-7878-4327-83e3-c2db92a9d476",
   "metadata": {
    "editable": true,
    "slideshow": {
     "slide_type": "slide"
    },
    "tags": []
   },
   "source": [
    "## Programming Labs (35%):\n",
    "\n",
    "A seires of short execises accompanying nearly each class topic, usually culminating in a challenge exercise which will be submitted for credit.\n",
    "- Submitted via CodePost (we'll talk more about this later)\n",
    "- There will be many of these (like one a class period)\n",
    "- Often auto-graded (we'll learn more about this later)\n",
    "- 4 points each"
   ]
  },
  {
   "cell_type": "markdown",
   "id": "592f62c4-17a5-4fc5-9675-68e5c739660b",
   "metadata": {
    "editable": true,
    "slideshow": {
     "slide_type": "slide"
    },
    "tags": []
   },
   "source": [
    "## Content Quizzes (35%)\n",
    "\n",
    "Open-note, open-book, take-home quizzes that will be submitted via Blackboard\n",
    "\n",
    "You will be gien (approximately 24 hours to complete them)\n",
    "\n",
    "Dates TBD, but I'll give you advance warning."
   ]
  },
  {
   "cell_type": "markdown",
   "id": "94fe3b39-3bd9-4f71-bc7a-7794c22d95bc",
   "metadata": {
    "editable": true,
    "slideshow": {
     "slide_type": "slide"
    },
    "tags": []
   },
   "source": [
    "## Final Project (20%)\n",
    "\n",
    "You will develop a program of your choosing that incorporates many different programming concepts you have learned throughout the semester.\n",
    "\n",
    "The final project is to be completed individually."
   ]
  },
  {
   "cell_type": "markdown",
   "id": "4c6c9b82-74f4-4d69-ae43-52581e74a132",
   "metadata": {
    "editable": true,
    "slideshow": {
     "slide_type": "slide"
    },
    "tags": []
   },
   "source": [
    "## Participation (10%)\n",
    "\n",
    "We will use PollEverywhere in each class to take attendance, review concepts from the previous class, as well as test the understanding of new concepts.\n",
    "\n",
    "Your PollEverywhere answers will not be judged on correctness–-we’re here to learn and will certainly make mistakes along the way. Instead, you will be given participation points for submitting your answers each day using PollEverywhere."
   ]
  },
  {
   "cell_type": "markdown",
   "id": "d3b96067-dd01-4a32-bed3-764585f0a486",
   "metadata": {
    "editable": true,
    "slideshow": {
     "slide_type": "slide"
    },
    "tags": []
   },
   "source": [
    "## Grade Scale\n",
    "\n",
    "<div>\n",
    "<img src=\"https://github.com/merriekay/CS65-F23/blob/main/images/day01_gradescale.png?raw=1\"/ width=500>\n",
    "</div>"
   ]
  },
  {
   "cell_type": "markdown",
   "id": "967d9d88-6189-4137-9376-56e0dca67784",
   "metadata": {
    "editable": true,
    "slideshow": {
     "slide_type": "slide"
    },
    "tags": []
   },
   "source": [
    "## Collaboration Policy and Academic Integrity\n",
    "- You may work together on _labs_\n",
    "- You may __not__ work together on _projects and quizzes_\n",
    "- When working together, say who you worked with in the code comments\n",
    "- When taking code from somewhere on the Internet, cite it in your comments and provide a link\n",
    "- May not look at code from previous students in the course\n",
    "- May not search the Internet for solutions\n",
    "- First violation: 0 on that thing\n",
    "- Second violation: F for the course"
   ]
  },
  {
   "cell_type": "markdown",
   "id": "950e9bc4-677c-417f-9f6f-412a24894e60",
   "metadata": {
    "editable": true,
    "slideshow": {
     "slide_type": "slide"
    },
    "tags": []
   },
   "source": [
    "# Introductory Questionnaire\n",
    "\n",
    "Before class on Tuesday, please answer the questions on the [introductory questionnaire](https://forms.gle/rAShS6GpkvytRwiR7).\n",
    "\n",
    "This survey is intended to help the professor learn more about you."
   ]
  },
  {
   "cell_type": "markdown",
   "id": "44e92db6-5fff-406d-a550-4dbf51d7dc71",
   "metadata": {
    "editable": true,
    "slideshow": {
     "slide_type": ""
    },
    "tags": []
   },
   "source": [
    "## Participation Cards:\n",
    "\n",
    "It is a goal of mine to make my classrooms as __inclusive and equitable as possible__.\n",
    "\n",
    "Towards this goal, we will be using __participation cards__.\n",
    "\n",
    "How it's going to work:\n",
    "- Today, in class, we're going ot make __participation cards__\n",
    "- At the start of class, I'll shuffle and draw a card. The person whose name is on that card becomes the __card bearer__ for the day.\n",
    "- The __card bearer__ is responsible for flipping cards and calling out the person whose name is on the card when I ask them to."
   ]
  },
  {
   "cell_type": "markdown",
   "id": "dbc3b689-4035-4e39-9ae0-dafc8af0f883",
   "metadata": {
    "editable": true,
    "slideshow": {
     "slide_type": "slide"
    },
    "tags": []
   },
   "source": [
    "## Participation Cards (continued)\n",
    "\n",
    "If your name is called out by the card bearer you have a few options:\n",
    "1. Answer the question\n",
    "2. Ask what the question was (you'll be surprised how often, even I, forget what the question was).\n",
    "3. Say 'Pass', or 'I'm not sure'\n",
    "4. Ask for a group 'huddle', where you can talk to your neighbors for a solution.\n",
    "\n",
    "Participation cards are a solution to help the class participation be more equitable. They're not meant to induce anxiety, and I hope you'll find I use them in a way that is more fun than anxiety inducing."
   ]
  },
  {
   "cell_type": "markdown",
   "id": "84f7eb5c-43c1-4fa9-a1c7-d3cfc1b15760",
   "metadata": {
    "editable": true,
    "slideshow": {
     "slide_type": "slide"
    },
    "tags": []
   },
   "source": [
    "# 🎨 Arts and Crafts Time\n",
    "\n",
    "Time to make your participation card!\n",
    "\n",
    "> Make sure the following is neat, and clear so that the class can read your name.\n",
    "\n",
    "What to include:\n",
    "- __name__: (what you want to be called), at least first name and last initial, pronunciation help if you think it's necessary\n",
    "- __pronouns__:\n",
    "- __class name__: CS65\n",
    "- Feel free to add decorations or whatever you'd like, but make sure your name is clearly readable."
   ]
  },
  {
   "cell_type": "markdown",
   "id": "1643e31e-e7a0-477c-9759-50c3fb94f636",
   "metadata": {
    "editable": true,
    "slideshow": {
     "slide_type": "slide"
    },
    "tags": []
   },
   "source": [
    "## 🎶 Spotify Collaborative In-Class Playlist\n",
    "\n",
    "There will be plenty of time to work on exercises in this class. During these times, I like to play music.\n",
    "\n",
    "Here is a link to a collaborative spotify playlist called __Fall 2024 -- CS65 Mix__\n",
    "- https://open.spotify.com/playlist/29pS4czXdPkMt7ekyElqz9?si=85afb4128f3f4224&pt=2da611f4a661913ae7f4715108c22ab1\n",
    "\n",
    "If you copy and paste the link into your spotify search bar, I think it will find it. This has been a struggle previous years, but we've been able to make it work\n",
    "\n",
    "Please keeps songs at least somewhat appropriate (they can be explicit, but should be respectful). I reserve the right to remove songs."
   ]
  },
  {
   "cell_type": "markdown",
   "id": "d827c243-72e2-4979-802f-9dbda145e7df",
   "metadata": {
    "editable": true,
    "slideshow": {
     "slide_type": "slide"
    },
    "tags": []
   },
   "source": [
    "# 🙋 Questions?"
   ]
  },
  {
   "cell_type": "markdown",
   "id": "ad77eec0-ffb6-4f39-90a5-5efac682b03a",
   "metadata": {
    "editable": true,
    "slideshow": {
     "slide_type": ""
    },
    "tags": []
   },
   "source": [
    "# Quick Activity Break:\n",
    "\n",
    "So, everyone loves a good 'community builder'. I have a new one to try today: \n"
   ]
  },
  {
   "cell_type": "markdown",
   "id": "9587dc6f-6f5b-4c06-b333-b87b3426cf17",
   "metadata": {
    "editable": true,
    "slideshow": {
     "slide_type": ""
    },
    "tags": []
   },
   "source": [
    "## Set Up:\n",
    "- Everyone should have 2 sticky notes\n",
    "- Start off by writing your first name and last initial on each sticky note, put one on each hand. This is the position we want to get back to. \n",
    "- Now, choose who the 'starter' is by whatever means you want (rock/paper/scissors tournament, even/odd guessing, coin flip, dice roll, etc). \n",
    "- __scrambe the post-its__: Everyone put their sticky notes in the middle of the table.\n",
    "- Starter, remove one of your sticky notes (set aside for now).\n",
    "- Everyone else grab two sticky notes that are not the same and do not have your name on them.\n",
    "\n",
    "__🥅 Goal__: working together, get every person in your group their post-it notes back. "
   ]
  },
  {
   "cell_type": "markdown",
   "id": "4a4db744-f44a-4f1b-ae0d-7d70445c76cd",
   "metadata": {
    "editable": true,
    "slideshow": {
     "slide_type": ""
    },
    "tags": []
   },
   "source": [
    "## Rules:\n",
    "- You can only pass a sticky note to an open hand\n",
    "- No person can have more than 2 post-it notes at a time\n",
    "- You can only pass sticky notes to people on either side of you (not across the table, etc).\n",
    "\n",
    "__⛳️ Game Over__: when every person has their sticky notes back."
   ]
  },
  {
   "cell_type": "markdown",
   "id": "2bf0176d-53b0-4f3a-8711-b00aa4231543",
   "metadata": {
    "editable": true,
    "slideshow": {
     "slide_type": "slide"
    },
    "tags": []
   },
   "source": [
    "# Part 2: Introduction to Computer Science"
   ]
  },
  {
   "cell_type": "markdown",
   "id": "759058d2-3915-4e2b-8e86-58b4fb8fc1c8",
   "metadata": {
    "editable": true,
    "slideshow": {
     "slide_type": "slide"
    },
    "tags": []
   },
   "source": [
    "# What is Computer Science?"
   ]
  },
  {
   "cell_type": "markdown",
   "id": "37c61032-5109-4b57-8ee5-a4125da118f7",
   "metadata": {
    "editable": true,
    "slideshow": {
     "slide_type": "fragment"
    },
    "tags": []
   },
   "source": [
    "Study of Computers?"
   ]
  },
  {
   "cell_type": "markdown",
   "id": "b751b3ee-db0f-44ab-87ed-f08fdca14db6",
   "metadata": {
    "editable": true,
    "slideshow": {
     "slide_type": "fragment"
    },
    "tags": []
   },
   "source": [
    "Programming?"
   ]
  },
  {
   "cell_type": "markdown",
   "id": "8952ab5e-f850-450b-b931-45d5ea6b3366",
   "metadata": {
    "editable": true,
    "slideshow": {
     "slide_type": "fragment"
    },
    "tags": []
   },
   "source": [
    "Computer science is the study of __algorithms__."
   ]
  },
  {
   "cell_type": "markdown",
   "id": "76c65316-7a89-4496-a06e-3400bcc71184",
   "metadata": {
    "editable": true,
    "slideshow": {
     "slide_type": "slide"
    },
    "tags": []
   },
   "source": [
    "## 🚨🚨 Terminology Alert 🚨🚨\n",
    "An __algorithm__ is a step-by-step procedure for producing a solution to a given problem."
   ]
  },
  {
   "cell_type": "markdown",
   "id": "c5a53194-e807-4464-be87-15acd4986773",
   "metadata": {
    "editable": true,
    "slideshow": {
     "slide_type": ""
    },
    "tags": []
   },
   "source": [
    "# Algorithm Examples?"
   ]
  },
  {
   "cell_type": "markdown",
   "id": "654d1848-5792-44f2-8161-9b25a6431548",
   "metadata": {
    "editable": true,
    "slideshow": {
     "slide_type": ""
    },
    "tags": []
   },
   "source": [
    "\n",
    "<div>\n",
    "<img src=\"https://github.com/merriekay/CS65-F23/blob/main/images/day01_algo_ex1.png?raw=1\"/ width=700>\n",
    "</div>"
   ]
  },
  {
   "cell_type": "markdown",
   "id": "8afc2b36-0ca5-4664-bcd1-ee337c487fb1",
   "metadata": {
    "editable": true,
    "slideshow": {
     "slide_type": "slide"
    },
    "tags": []
   },
   "source": [
    "\n",
    "<div>\n",
    "<img src=\"https://github.com/merriekay/CS65-F23/blob/main/images/day01_algo_ex2.png?raw=1\"/ width=600>\n",
    "</div>"
   ]
  },
  {
   "cell_type": "markdown",
   "id": "5df0e663-c9ff-417c-9ea5-bb5180658e24",
   "metadata": {
    "editable": true,
    "slideshow": {
     "slide_type": "slide"
    },
    "tags": []
   },
   "source": [
    "\n",
    "<div>\n",
    "<img src=\"https://github.com/merriekay/CS65-F23/blob/main/images/day01_algo_ex3.png?raw=1\"/ width=600>\n",
    "</div>"
   ]
  },
  {
   "cell_type": "markdown",
   "id": "5d2fb322-9b6f-4049-8e67-c4a1d470b4ef",
   "metadata": {
    "editable": true,
    "slideshow": {
     "slide_type": "slide"
    },
    "tags": []
   },
   "source": [
    "# 💬 Goup Exercise:\n",
    "\n",
    "Take a second and reflect on the strategy that you used to complete the sticky-note activity we just did.\n",
    "\n",
    "Can you come up with the __algorithm__ (a list of step by step instructions) that your team used\n",
    "\n",
    "You have 5 minutes. Be ready to discuss. "
   ]
  },
  {
   "cell_type": "markdown",
   "id": "e7979b61-feba-4e17-aebd-c30fb9c34841",
   "metadata": {
    "editable": true,
    "slideshow": {
     "slide_type": "slide"
    },
    "tags": []
   },
   "source": [
    "# Why program?\n",
    "\n",
    "Why is programming such a valuable skill?\n",
    "- computers are tools that can be programmed to perform many functions.\n",
    "\n",
    "Implement _ _ _ _ _  to solve problems or calculate answers to problems, listen to music, give recommendations, display images, play videos..."
   ]
  },
  {
   "cell_type": "markdown",
   "id": "1cba8807-f0db-4a91-8a89-a1f798b14c34",
   "metadata": {
    "editable": true,
    "slideshow": {
     "slide_type": "slide"
    },
    "tags": []
   },
   "source": [
    "# Why program?\n",
    "\n",
    "Why is programming such a valuable skill?\n",
    "- computers are tools that can be programmed to perform many functions.\n",
    "\n",
    "Implement __algorithms__ to solve problems or calculate answers to problems, listen to music, give recommendations, display images, play videos..."
   ]
  },
  {
   "cell_type": "markdown",
   "id": "f605eb75-8326-4902-a2e9-a7c2a5d16dbc",
   "metadata": {
    "editable": true,
    "slideshow": {
     "slide_type": "slide"
    },
    "tags": []
   },
   "source": [
    "# Computer Programs:\n",
    "\n",
    "## 🚨🚨 Terminology Alert 🚨🚨\n",
    "A __program__ is a sequence of instructions that specifies how to perform a computation.\n",
    "\n",
    "Computers are not intelligent!\n",
    "- All they do is follow instructions"
   ]
  },
  {
   "cell_type": "markdown",
   "id": "65ac0f8f-f5cf-43d0-a06e-8c0e58b2a8a9",
   "metadata": {
    "editable": true,
    "slideshow": {
     "slide_type": "fragment"
    },
    "tags": []
   },
   "source": [
    "__Programming languages__ are formal languages that have been designed to express (compute) computations."
   ]
  },
  {
   "cell_type": "markdown",
   "id": "a75e821c-e314-420b-a10e-639f68119a38",
   "metadata": {
    "editable": true,
    "slideshow": {
     "slide_type": "fragment"
    },
    "tags": []
   },
   "source": [
    "Programming langauges have strict rules, known as __syntax__, that must be carefully followed.\n",
    "- much like grammar"
   ]
  },
  {
   "cell_type": "markdown",
   "id": "97f73c59-0073-4160-8ec4-569c2e51c62f",
   "metadata": {
    "editable": true,
    "slideshow": {
     "slide_type": "slide"
    },
    "tags": []
   },
   "source": [
    "# Integrated Development Environment (IDE)\n",
    "\n",
    "An Integrated Development Environment (IDE) is a software system that allows programmers to develop and test code.\n",
    "\n",
    "For this class we'll primarly use an IDE called __Thonny__.\n",
    "\n",
    "<div>\n",
    "<img src=\"https://github.com/merriekay/CS65-F23/blob/main/images/day01_thonny.png?raw=1\"/ width=600>\n",
    "</div>\n"
   ]
  },
  {
   "cell_type": "markdown",
   "id": "84af1e5b-31fd-475f-b37a-e5435fa848c1",
   "metadata": {
    "editable": true,
    "slideshow": {
     "slide_type": "slide"
    },
    "tags": []
   },
   "source": [
    "## A metaphor:\n",
    "\n",
    "We're going to start simple...\n",
    "<div>\n",
    "<img src=\"https://github.com/merriekay/CS65-F23/blob/main/images/day01_thonny_metaphor.png?raw=1\"/ width=800>\n",
    "</div>\n"
   ]
  },
  {
   "cell_type": "markdown",
   "id": "02c4cdf2-af4f-4d23-b98a-93b9ae131291",
   "metadata": {
    "editable": true,
    "slideshow": {
     "slide_type": "slide"
    },
    "tags": []
   },
   "source": [
    "# Download Thonny\n",
    "\n",
    "https://thonny.org/\n",
    "\n",
    "Show download procedure, and run first program."
   ]
  },
  {
   "cell_type": "markdown",
   "id": "e67def29-2082-4280-841e-3bee5b6a05f4",
   "metadata": {
    "editable": true,
    "slideshow": {
     "slide_type": "slide"
    },
    "tags": []
   },
   "source": [
    "# How to Program\n",
    "\n",
    "## The first step:\n",
    "\n",
    "The first step to any writing any program... does anyone know what it is?!?"
   ]
  },
  {
   "attachments": {},
   "cell_type": "markdown",
   "id": "b61bc24a-58cc-42a2-8533-ece8e4579215",
   "metadata": {
    "editable": true,
    "slideshow": {
     "slide_type": "fragment"
    },
    "tags": []
   },
   "source": [
    "\n",
    "<div>\n",
    "<img src=\"https://cdn-icons-png.flaticon.com/512/9307/9307141.png\" width=\"300\"/>\n",
    "</div>\n"
   ]
  },
  {
   "cell_type": "markdown",
   "id": "a4e64293-3c47-424b-999e-fa75ed8da513",
   "metadata": {
    "editable": true,
    "slideshow": {
     "slide_type": "slide"
    },
    "tags": []
   },
   "source": [
    "Programming is not a linear process. You don't just sit down, start writing the first line of code and then keep writing until you're done.\n",
    "\n",
    "Good programmers _design_ their programs before they start writing.\n",
    "- much like having an outline for an essay\n",
    "\n",
    "(a simple) program development cycle:\n",
    "- design the program\n",
    "- write the code\n",
    "- correct syntax errors\n",
    "- test the program\n",
    "- correct logic errors"
   ]
  },
  {
   "cell_type": "markdown",
   "id": "274aa90b-ceca-438c-9bd4-21b2af8d9fb4",
   "metadata": {
    "editable": true,
    "slideshow": {
     "slide_type": "slide"
    },
    "tags": []
   },
   "source": [
    "# Resiliency in Computer Science\n",
    "\n",
    "One of the best indicators of success in a computer science student is their ability to be __resilient__.\n",
    "\n",
    "Programs almost never work on the first try. To get code to work, you'll have to sit with it, fiddle with it, and try, try again.\n",
    "\n",
    "At first, computer science can be _very_ frustrating. This doesn't mean you're bad at computer science. It just means that you're learning and with every error you run into, you'll be better prepared in the future.\n",
    "\n",
    "This course will work to build your tool box of computer science concepts that you can use to build whatever the heck you want."
   ]
  },
  {
   "cell_type": "markdown",
   "id": "5f7f89f4-f42c-492d-9c14-4d67ec81cb58",
   "metadata": {
    "editable": true,
    "slideshow": {
     "slide_type": "slide"
    },
    "tags": []
   },
   "source": [
    "# Psueudocode\n",
    "\n",
    "__Pseudocode__ is an informal 'language' that has no syntax rules\n",
    "- not meant to be compiled or executed (run)\n",
    "- used to create model programs (think scaffolding/outlines)\n",
    "    - no need to worry about syntax errors, can focus on the program's design.\n",
    "    - can be translated directly into actual code in any programming langauge.\n",
    "    \n",
    "I encourage you to always start with pseudocode before you build a program."
   ]
  },
  {
   "cell_type": "markdown",
   "id": "fdd772de-aad1-4a2b-95ab-25199944216f",
   "metadata": {
    "editable": true,
    "slideshow": {
     "slide_type": "slide"
    },
    "tags": []
   },
   "source": [
    "# 🍪 Goup Exercise:\n",
    "\n",
    "A cookie recipe calls for the following ingredients:\n",
    "- 1.5 cups of sugar\n",
    "- 1 cup of butter\n",
    "- 2.75 cups of flour\n",
    "\n",
    "The recipe produces 48 cookies.\n",
    "\n",
    "Take a couple of minutes and write out the __psuedocode__ for a program that:\n",
    "- asks the user how many cookies they would like to make\n",
    "- then displays the number of cups of each ingredient needd for the specified number of cookies"
   ]
  },
  {
   "cell_type": "markdown",
   "id": "44c034d5-1c92-4801-8899-1328ad534a67",
   "metadata": {
    "editable": true,
    "slideshow": {
     "slide_type": "slide"
    },
    "tags": []
   },
   "source": [
    "## _cookie_algorithm.py_"
   ]
  },
  {
   "cell_type": "markdown",
   "id": "b1a9bf06-8c1d-476b-af1b-0fa62331261c",
   "metadata": {
    "editable": true,
    "slideshow": {
     "slide_type": "slide"
    },
    "tags": []
   },
   "source": [
    "# 🐍 Python\n",
    "\n",
    "Python is a programming langauge.\n",
    "- It's main purpose is to convert statements (instructions or _source code_) that programmers write into statements that can be executed on a computer.\n",
    "    - __interpreter__: a program that executes computer code.\n",
    "- __syntax__: rules that must be followed so that the interpreter can successfully convert the written instructions to statements the computer can execute."
   ]
  },
  {
   "cell_type": "markdown",
   "id": "9c5eb696-285f-4e71-9831-fed7755be233",
   "metadata": {
    "editable": true,
    "slideshow": {
     "slide_type": "slide"
    },
    "tags": []
   },
   "source": [
    "# Keywords\n",
    "\n",
    "Programming langauges have __keywords__ or __reserved words__\n",
    "- words that have a specified meaning as part of the syntax of the language.\n",
    "\n",
    "<div>\n",
    "<img src=\"https://github.com/merriekay/CS65-F23/blob/main/images/day01_keywords.png?raw=1\"/ width=700>\n",
    "</div>"
   ]
  },
  {
   "cell_type": "code",
   "execution_count": 5,
   "id": "1ac3b499-ac50-44eb-9c47-f663474237b5",
   "metadata": {
    "editable": true,
    "slideshow": {
     "slide_type": ""
    },
    "tags": []
   },
   "outputs": [],
   "source": [
    "#try it out:"
   ]
  },
  {
   "cell_type": "markdown",
   "id": "6476e9a2-c5c4-4fa0-bfce-7bf62ffe7bad",
   "metadata": {
    "editable": true,
    "slideshow": {
     "slide_type": "slide"
    },
    "tags": []
   },
   "source": [
    "## What to work on:\n",
    "\n",
    "Usually, we'll have less work than this, I promise!!\n",
    "\n",
    "1. Read [syllabus](https://docs.google.com/document/d/1nqjmD0yhOOh2gaPwxfjV4EY_dBUIQUur1fvqQ4YPJLA/edit?usp=sharing)\n",
    "\n",
    "2. Complete [Introductory Questionnaire](https://forms.gle/rAShS6GpkvytRwiR7)\n",
    "\n",
    "3. Download / Install Thonny https://thonny.org/\n",
    "\n",
    "4. Sign in to Polleverywhere: https://pollev.com/moore\n",
    "\n",
    "5. Register for CodePost https://codepost.io/signup/join?code=MOQWHBWTQS\n",
    "\n",
    "6. (optional) add a few songs to the course playlist\n",
    "\n",
    "### Resources:\n",
    "Reading #1: [About Python](https://python.swaroopch.com/about_python.html) from \"A Byte of Python\"\n",
    "- why is it called Python?\n",
    "- Advantgaes of Python"
   ]
  }
 ],
 "metadata": {
  "kernelspec": {
   "display_name": "Python 3 (ipykernel)",
   "language": "python",
   "name": "python3"
  },
  "language_info": {
   "codemirror_mode": {
    "name": "ipython",
    "version": 3
   },
   "file_extension": ".py",
   "mimetype": "text/x-python",
   "name": "python",
   "nbconvert_exporter": "python",
   "pygments_lexer": "ipython3",
   "version": "3.12.4"
  }
 },
 "nbformat": 4,
 "nbformat_minor": 5
}

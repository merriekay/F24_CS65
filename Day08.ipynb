{
 "cells": [
  {
   "cell_type": "markdown",
   "id": "47f10411-f9ea-479c-8397-26ed83d3d7bd",
   "metadata": {
    "editable": true,
    "slideshow": {
     "slide_type": ""
    },
    "tags": []
   },
   "source": [
    "# CS65: Day 08\n",
    "\n",
    "## Iteration III: `for` loops\n",
    "\n",
    "### CS65: Introduction to Computer Science I | Fall 2024\n",
    "\n",
    "*Wednesday, September 23rd, 2024*\n",
    "\n",
    "### Helpful Resources:\n",
    "[📜 Syllabus](https://docs.google.com/document/d/1nqjmD0yhOOh2gaPwxfjV4EY_dBUIQUur1fvqQ4YPJLA/edit?usp=sharing) | [📬 CodePost Login](https://codepost.io/login) | [📆 Schedule](https://docs.google.com/spreadsheets/d/1Q5-ArPnXwjejKjXSI8WKgF7A2HRAam6Ny3eNA7EHn18/edit?usp=sharing) | [🙋‍♂️ PollEverywhere](https://pollev.com/moore) | [🪴 Office Hour Sign-Up](https://calendly.com/meredith-moore/office-hours)\n",
    "\n",
    "> **Note to self:** Make sure you're recording, silly goose!"
   ]
  },
  {
   "cell_type": "markdown",
   "id": "2828d6ed-326b-456d-8328-42ced8300418",
   "metadata": {
    "editable": true,
    "id": "hy85VYM-p3yY",
    "slideshow": {
     "slide_type": "slide"
    },
    "tags": []
   },
   "source": [
    "# Admin Stuff"
   ]
  },
  {
   "cell_type": "markdown",
   "id": "62f4e793-32af-4307-8225-e14ef07d60ec",
   "metadata": {
    "editable": true,
    "id": "q3lMpIiap3yY",
    "slideshow": {
     "slide_type": ""
    },
    "tags": []
   },
   "source": [
    "You should be working on:\n",
    "- Quiz #1 is to be completed on Blackboard by 11:59 pm tonight\n",
    "- [Lab #5](https://analytics.drake.edu/~moore/CS65-F24/Lab5.html) due Monday, September 30th by 11:59 pm to CodePost\n",
    "\n",
    "Reading:\n",
    "- [for loop reading](https://python.swaroopch.com/control_flow.html)"
   ]
  },
  {
   "cell_type": "markdown",
   "id": "854abea7-7957-435b-9d7c-268f438fb6d4",
   "metadata": {
    "editable": true,
    "id": "hlKaJEAkp3yY",
    "slideshow": {
     "slide_type": "slide"
    },
    "tags": []
   },
   "source": [
    "# ⏪ Quick Review:"
   ]
  },
  {
   "cell_type": "markdown",
   "id": "abb43a40-f29f-488a-b847-6f68599277d2",
   "metadata": {
    "editable": true,
    "slideshow": {
     "slide_type": "slide"
    },
    "tags": []
   },
   "source": [
    "# Print Formatting\n",
    "If we didn’t want the next print statement to output on the next line, we can pass in a second __argument__ to the print function.\n",
    "\n",
    "Passing in `end=””` will no longer make the next print statement continue on the next line.  \n",
    "Thus,"
   ]
  },
  {
   "cell_type": "code",
   "execution_count": 2,
   "id": "d10f6022-f801-4626-8071-449cd41ab1d3",
   "metadata": {},
   "outputs": [
    {
     "name": "stdout",
     "output_type": "stream",
     "text": [
      "onetwothree"
     ]
    }
   ],
   "source": [
    "print(\"one\", end=\"\")\n",
    "print(\"two\", end=\"\")\n",
    "print(\"three\", end=\"\")"
   ]
  },
  {
   "cell_type": "markdown",
   "id": "bd807802-5e87-443a-bcae-acf42a0d304a",
   "metadata": {
    "editable": true,
    "slideshow": {
     "slide_type": "slide"
    },
    "tags": []
   },
   "source": [
    "## Print formatting: printing a blank line\n",
    "\n",
    "If you want the output to contain a blank line, then `print()` can be used without an __argument__:"
   ]
  },
  {
   "cell_type": "code",
   "execution_count": 3,
   "id": "5b311d54-44b9-4d79-8bb0-9455dfd9eae1",
   "metadata": {
    "editable": true,
    "slideshow": {
     "slide_type": ""
    },
    "tags": []
   },
   "outputs": [
    {
     "name": "stdout",
     "output_type": "stream",
     "text": [
      "hello\n",
      "\n",
      "\n",
      "now I'm here!\n"
     ]
    }
   ],
   "source": [
    "print(\"hello\")\n",
    "print()\n",
    "print()\n",
    "print(\"now I'm here!\")"
   ]
  },
  {
   "cell_type": "markdown",
   "id": "beee62c2-c10b-4ce1-b3ed-5b7f0a0917bd",
   "metadata": {
    "editable": true,
    "slideshow": {
     "slide_type": "slide"
    },
    "tags": []
   },
   "source": [
    "## Print Formatting: `sep`\n",
    "When multiple arguments are passed into the print function, they are by default separated by a space."
   ]
  },
  {
   "cell_type": "code",
   "execution_count": 10,
   "id": "fac3ec7d-93b5-4b2f-8d7e-a2760fd10f75",
   "metadata": {
    "editable": true,
    "slideshow": {
     "slide_type": ""
    },
    "tags": []
   },
   "outputs": [
    {
     "name": "stdout",
     "output_type": "stream",
     "text": [
      "the cost of your item is $ 5.75\n"
     ]
    }
   ],
   "source": [
    "cost = 5.75\n",
    "print(\"the cost of your item is $\",cost)"
   ]
  },
  {
   "cell_type": "markdown",
   "id": "cbc1d548-75c0-4ae9-90fc-23fe9c5f637a",
   "metadata": {
    "editable": true,
    "slideshow": {
     "slide_type": ""
    },
    "tags": []
   },
   "source": [
    "^^ Note the pesky space between $ and 5.75"
   ]
  },
  {
   "cell_type": "markdown",
   "id": "51025950-cd6c-4044-9806-c62d4da08572",
   "metadata": {
    "editable": true,
    "slideshow": {
     "slide_type": "slide"
    },
    "tags": []
   },
   "source": [
    "If you do not want the default space between arguments in a print statement, you can put an additional argument that specifies exactly what should be placed between items in the print statement\n",
    "\n",
    "For example, nothing (the empty string) denoted `“”`\n",
    "Denoted `sep = “”`"
   ]
  },
  {
   "cell_type": "code",
   "execution_count": 11,
   "id": "9a059a9a-0c7d-4e1b-a7c6-7e1bb8cfaabf",
   "metadata": {
    "editable": true,
    "slideshow": {
     "slide_type": ""
    },
    "tags": []
   },
   "outputs": [
    {
     "name": "stdout",
     "output_type": "stream",
     "text": [
      "the cost of your item is $5.75\n"
     ]
    }
   ],
   "source": [
    "cost = 5.75\n",
    "print(\"the cost of your item is $\",cost, sep=\"\")"
   ]
  },
  {
   "cell_type": "markdown",
   "id": "4c4fdf04-a827-423e-897d-7893cdafc4ae",
   "metadata": {
    "editable": true,
    "slideshow": {
     "slide_type": "slide"
    },
    "tags": []
   },
   "source": [
    "## Print Formatting: `lower()`"
   ]
  },
  {
   "cell_type": "code",
   "execution_count": null,
   "id": "9c15c2d9-6385-4de4-bdeb-7b9addda2c31",
   "metadata": {
    "editable": true,
    "slideshow": {
     "slide_type": ""
    },
    "tags": []
   },
   "outputs": [],
   "source": [
    "answer = input(\"Is it cold outside?\")\n",
    "\n",
    "if answer.lower() == 'yes':\n",
    "    print(\"you bet it is\")\n",
    "else:\n",
    "    print(\"not yet\")"
   ]
  },
  {
   "cell_type": "markdown",
   "id": "72a697a2-2c05-4aea-9e45-4ceadf2ef61d",
   "metadata": {
    "editable": true,
    "slideshow": {
     "slide_type": "slide"
    },
    "tags": []
   },
   "source": [
    "## Warm-Up Exercise:\n",
    "\n",
    "Write a program that repeatedly asks the user for a starting and ending number.\n",
    "\n",
    "Use a `while` loop to print th enumbers between the starting and ending number (inclusive) on a single line, separated by commas. \n",
    "\n",
    "After printing the pattern, ask the user if they want to generate anothe rpattern. If they enter `'yes'`, repeate the process; if they enter `'no'`, exit the program. \n",
    "\n",
    ">__Hint__: use `sep=\"\"` and `end=\"\"` to format th eoutput of the numbers on the same line, you may need to change the `\"\"` part to a different character.\n",
    "\n",
    "__Challenge__: Can you make this so that it's not case-sensitive? i.e. if the user enters `'YES'`, `'No'`, etc\n",
    "\n",
    "__Sample Output__:\n",
    "```\n",
    "Enter the starting number: 3\n",
    "Enter the ending number: 8\n",
    "3, 4, 5, 6, 7, 8\n",
    "Would you like to generate another pattern? (yes/no): yes\n",
    "Enter the starting number: 1\n",
    "Enter the ending number: 5\n",
    "1, 2, 3, 4, 5\n",
    "Would you like to generate another pattern? (yes/no): no\n",
    "Goodbye!\n",
    "```"
   ]
  },
  {
   "cell_type": "markdown",
   "id": "a37e4472-c98e-41a6-99b4-3e8c51763895",
   "metadata": {
    "editable": true,
    "id": "LJ6TTtZZlJKi",
    "slideshow": {
     "slide_type": "slide"
    },
    "tags": []
   },
   "source": [
    "# ✨ New Material"
   ]
  },
  {
   "cell_type": "markdown",
   "id": "938be995-a313-4cf7-8f5c-f3e2d6bc5919",
   "metadata": {
    "editable": true,
    "slideshow": {
     "slide_type": "slide"
    },
    "tags": []
   },
   "source": [
    "# The `for` loop: a count=controlled loop\n",
    "\n",
    "Count-Controlled Loop: iterates a specific number of times.\n",
    "\n",
    "Use a `for` statement (a `for loop`) to write count-controlled loops\n",
    "- Designed to work with a sequence of data items\n",
    "    - Iterates once for each item in the sequence.\n",
    "- General format:\n",
    "```python\n",
    "for variable in [val1, val2, … , valn]:\n",
    "    \tstatements\n",
    "```\n",
    "__Target variable__: the variable which is the target of the assignment at the beginning of each iteration. \n"
   ]
  },
  {
   "cell_type": "code",
   "execution_count": 14,
   "id": "100921ba-76ea-4759-bb12-6eaf1cb73f85",
   "metadata": {
    "editable": true,
    "slideshow": {
     "slide_type": ""
    },
    "tags": []
   },
   "outputs": [
    {
     "name": "stdout",
     "output_type": "stream",
     "text": [
      "1\n",
      "2\n",
      "3\n",
      "4\n",
      "5\n"
     ]
    }
   ],
   "source": [
    "for num in [1,2,3,4,5]:\n",
    "    print(num)"
   ]
  },
  {
   "cell_type": "markdown",
   "id": "b405e36b-0c11-4fd6-bedd-55c4013a00d4",
   "metadata": {
    "editable": true,
    "slideshow": {
     "slide_type": "slide"
    },
    "tags": []
   },
   "source": [
    "![day07_forloop.png](day07_forloop.png)"
   ]
  },
  {
   "cell_type": "markdown",
   "id": "4e9171e2-dbd3-43b4-9c69-dd8eaa9028a6",
   "metadata": {
    "editable": true,
    "slideshow": {
     "slide_type": "slide"
    },
    "tags": []
   },
   "source": [
    "# For Loop Examples"
   ]
  },
  {
   "cell_type": "code",
   "execution_count": 15,
   "id": "fab56f68-78f8-4095-8e09-cedbcbad71f7",
   "metadata": {
    "editable": true,
    "slideshow": {
     "slide_type": "slide"
    },
    "tags": []
   },
   "outputs": [
    {
     "name": "stdout",
     "output_type": "stream",
     "text": [
      "1\n",
      "3\n",
      "5\n",
      "7\n",
      "9\n"
     ]
    }
   ],
   "source": [
    "# print odd numbers 1 thru 9\n",
    "for val in [1,3,5,7,9]:\n",
    "    print(val)"
   ]
  },
  {
   "cell_type": "code",
   "execution_count": 16,
   "id": "7975b258-0336-4a30-b9ab-1fe9f70db204",
   "metadata": {
    "editable": true,
    "slideshow": {
     "slide_type": "slide"
    },
    "tags": []
   },
   "outputs": [
    {
     "name": "stdout",
     "output_type": "stream",
     "text": [
      "John\n",
      "Paul\n",
      "George\n",
      "Ringo\n"
     ]
    }
   ],
   "source": [
    "# print strings in a list\n",
    "for name in [\"John\", \"Paul\", \"George\", \"Ringo\"]:\n",
    "    print(name)"
   ]
  },
  {
   "cell_type": "code",
   "execution_count": 17,
   "id": "e5f03568-b1ca-45f7-bb63-75fe0fdf6a16",
   "metadata": {
    "editable": true,
    "slideshow": {
     "slide_type": "slide"
    },
    "tags": []
   },
   "outputs": [
    {
     "name": "stdin",
     "output_type": "stream",
     "text": [
      "enter a string:  tomato\n"
     ]
    },
    {
     "name": "stdout",
     "output_type": "stream",
     "text": [
      "t\n",
      "o\n",
      "m\n",
      "a\n",
      "t\n",
      "o\n"
     ]
    }
   ],
   "source": [
    " my_string = input(\"enter a string: \")\n",
    "for character in my_string:\n",
    "    print(character)"
   ]
  },
  {
   "cell_type": "markdown",
   "id": "6bc51178-7938-4cbe-923c-f17b559cb844",
   "metadata": {
    "editable": true,
    "slideshow": {
     "slide_type": "slide"
    },
    "tags": []
   },
   "source": [
    "# Exercise #1\n",
    "Describe, in English, what this code will do:"
   ]
  },
  {
   "cell_type": "code",
   "execution_count": null,
   "id": "c1d6c497-923a-424e-86e1-264dfaf32a28",
   "metadata": {
    "editable": true,
    "slideshow": {
     "slide_type": ""
    },
    "tags": []
   },
   "outputs": [],
   "source": [
    "import random\n",
    "number = random.randint(1,10)\n",
    "for try_number in [1,2,3,4,5]:\n",
    "    print(\"try\", try_number, \"--\", end=\"\")\n",
    "    guess = int(input(\" guess a number \"))\n",
    "    if guess == number:\n",
    "        print(\"You got it!\")\n",
    "    else:\n",
    "        print(\"nope.\")"
   ]
  },
  {
   "cell_type": "markdown",
   "id": "2a3bc28b-34ce-441a-9a8e-d95c27f697b3",
   "metadata": {
    "editable": true,
    "slideshow": {
     "slide_type": "slide"
    },
    "tags": []
   },
   "source": [
    "# The `range()` function:\n",
    "The range function simplifies the process of writing a for loop\n",
    "range returns an iterable object\n",
    "\n",
    "__Iterable__: contains a sequence of values that can be iterated (looped) over.\n",
    "`range(5)` yields the same thing as `[0,1,2,3,4]`\n"
   ]
  },
  {
   "cell_type": "code",
   "execution_count": 18,
   "id": "60b84f8a-e646-4582-8165-64d4ba916d90",
   "metadata": {
    "editable": true,
    "slideshow": {
     "slide_type": ""
    },
    "tags": []
   },
   "outputs": [
    {
     "name": "stdout",
     "output_type": "stream",
     "text": [
      "0\n",
      "1\n",
      "2\n",
      "3\n",
      "4\n"
     ]
    }
   ],
   "source": [
    "for num in range(5):\n",
    "    print(num)"
   ]
  },
  {
   "cell_type": "code",
   "execution_count": 19,
   "id": "921c5723-6da9-4eef-971d-c0c4e735f093",
   "metadata": {
    "editable": true,
    "slideshow": {
     "slide_type": "fragment"
    },
    "tags": []
   },
   "outputs": [
    {
     "name": "stdout",
     "output_type": "stream",
     "text": [
      "Hello world!\n",
      "Hello world!\n",
      "Hello world!\n",
      "Hello world!\n",
      "Hello world!\n"
     ]
    }
   ],
   "source": [
    "for i in range(5):\n",
    "    print(\"Hello world!\")"
   ]
  },
  {
   "cell_type": "markdown",
   "id": "1031b43c-e130-4cd8-9657-d4708628e3eb",
   "metadata": {
    "editable": true,
    "slideshow": {
     "slide_type": "slide"
    },
    "tags": []
   },
   "source": [
    "# `range()`\n",
    "Definition: An __argument__ is an input into a function.\n",
    "\n",
    "If you pass one argument to range, that argument is used as the _ending limit_ of the number.\n",
    "- Starting with 0\n",
    "`range(5)` yields the same thing as `[0,1,2,3,4]`"
   ]
  },
  {
   "cell_type": "markdown",
   "id": "3b63d90e-9815-4e5a-9230-79ff9a859a9d",
   "metadata": {
    "editable": true,
    "slideshow": {
     "slide_type": "slide"
    },
    "tags": []
   },
   "source": [
    "## Different ways to use `range()`:"
   ]
  },
  {
   "cell_type": "markdown",
   "id": "b7c3e799-64e1-476a-8bb6-7e16cc444e9b",
   "metadata": {
    "editable": true,
    "slideshow": {
     "slide_type": "fragment"
    },
    "tags": []
   },
   "source": [
    "### `range(start, end)`\n",
    "If you pass two arguments to range, the first number is a _starting value_, and the second value is the _ending limit_.\n",
    "- `range(1,5)` yields the same thing as `[1,2,3,4]`"
   ]
  },
  {
   "cell_type": "markdown",
   "id": "277b846f-5a83-41fb-9193-c02bdff3ef40",
   "metadata": {
    "editable": true,
    "slideshow": {
     "slide_type": "fragment"
    },
    "tags": []
   },
   "source": [
    "### `range(start, end, step)` \n",
    "By default, the range function produces a sequence of numbers that increases by 1. \n",
    "\n",
    "If you pass three arguments to range:\n",
    "- the first number is the __starting value__\n",
    "- the second number is the __ending limit__ (not included)\n",
    "- the third number is the __step value__ (increment)\n",
    "`range(1,10,2)` yield sthe same thing as `[1,3,5,7,9]`"
   ]
  },
  {
   "cell_type": "markdown",
   "id": "212d8aa7-ec0d-42f8-b5ed-01bf9e8bcb78",
   "metadata": {
    "editable": true,
    "slideshow": {
     "slide_type": "slide"
    },
    "tags": []
   },
   "source": [
    "# Exercise #2\n",
    "Do the following practice exercises using `range()` and `for` loops:\n",
    "- Print out all integers between 1 and 200 (including 200)\n",
    "- Print out all even integers between 1 and 200 (including 200)\n",
    "- Print out all integers counting down from 50 to 1.\n",
    "- Do Lab #4 with a For loop (in 4 lines of code):\n",
    "    ```\n",
    "    What is the limit? 5\n",
    "    What is the increment? 2\n",
    "    0\n",
    "    2\n",
    "    4\n",
    "    ```\n",
    "- Print out all integers between 1 and 10, followed by the squares."
   ]
  },
  {
   "cell_type": "code",
   "execution_count": null,
   "id": "fd40dea4-81f2-483b-b5ef-e675a7ac06fa",
   "metadata": {
    "editable": true,
    "slideshow": {
     "slide_type": ""
    },
    "tags": []
   },
   "outputs": [],
   "source": []
  },
  {
   "cell_type": "code",
   "execution_count": null,
   "id": "1a0a595b-9246-425d-90c4-60cdb1f298af",
   "metadata": {
    "editable": true,
    "slideshow": {
     "slide_type": "skip"
    },
    "tags": []
   },
   "outputs": [],
   "source": [
    "# all integers between 1 and 200 (including 200)\n",
    "for i in range(201):\n",
    "    print(i)"
   ]
  },
  {
   "cell_type": "code",
   "execution_count": null,
   "id": "9ca0c930-7ddc-4317-8d43-ef321077f779",
   "metadata": {
    "editable": true,
    "slideshow": {
     "slide_type": "skip"
    },
    "tags": []
   },
   "outputs": [],
   "source": [
    "# all even integers between 1 and 200 (including 200)\n",
    "for i in range(0, 201, 2):\n",
    "    print(i)"
   ]
  },
  {
   "cell_type": "code",
   "execution_count": null,
   "id": "e27655be-38e8-49c5-b754-ad1f151a9f41",
   "metadata": {
    "editable": true,
    "slideshow": {
     "slide_type": "skip"
    },
    "tags": []
   },
   "outputs": [],
   "source": [
    "# all integers counting down from 50 to 1\n",
    "for i in range(50,0, -1):\n",
    "    print(i)"
   ]
  },
  {
   "cell_type": "code",
   "execution_count": 5,
   "id": "dbdfc251-fa75-4166-8b99-e36dccb0622d",
   "metadata": {
    "editable": true,
    "slideshow": {
     "slide_type": "skip"
    },
    "tags": []
   },
   "outputs": [
    {
     "name": "stdin",
     "output_type": "stream",
     "text": [
      "what is the limit?  5\n",
      "what is the increment 2\n"
     ]
    },
    {
     "name": "stdout",
     "output_type": "stream",
     "text": [
      "0\n",
      "2\n",
      "4\n"
     ]
    }
   ],
   "source": [
    "# Lab #4 with a for loop\n",
    "limit = int(input(\"what is the limit? \"))\n",
    "increment = int(input(\"what is the increment\"))\n",
    "for i in range(0,limit +1, increment):\n",
    "    print(i)"
   ]
  },
  {
   "cell_type": "markdown",
   "id": "a8ebe008-7e7e-4cc4-8ab0-a8551f87f27f",
   "metadata": {
    "editable": true,
    "slideshow": {
     "slide_type": "slide"
    },
    "tags": []
   },
   "source": [
    "# Exercise #3: FizzBuzz with a twist\n",
    "\n",
    "Write a program that:\n",
    "- asks the user for two custom words and two divisors.\n",
    "- it will them print the numbers from 1 to 50, but:\n",
    "    - if a number is divisible by the first divisor, print the first custom word instead of the number.\n",
    "    - if a number is divisible by the second divisor, print the second custom word.\n",
    "    - if a number is divisible by both divisors, print both custom words.\n",
    "- Use the `range()` function inside a `for` loop to iterate from 1 to 50.\n",
    "- Format the output to print all restuls on the same line, separated by commas.\n",
    "\n",
    "### Example output:\n",
    "```\n",
    "Enter the first custom word: Fizz\n",
    "Enter the first divisor: 3\n",
    "Enter the second custom word: Buzz\n",
    "Enter the second divisor: 5\n",
    "\n",
    "1, 2, Fizz, 4, Buzz, Fizz, 7, 8, Fizz, Buzz, 11, Fizz, 13, 14, FizzBuzz, 16, 17, Fizz, 19, Buzz, Fizz, 22, 23, Fizz, Buzz, 26, Fizz, 28, 29, FizzBuzz, 31, 32, Fizz, 34, Buzz, Fizz, 37, 38, Fizz, Buzz, 41, Fizz, 43, 44, FizzBuzz, 46, 47, Fizz, 49, Buzz\n",
    "```"
   ]
  },
  {
   "cell_type": "markdown",
   "id": "c534e8ee-0f85-4da3-9041-0a86237153c4",
   "metadata": {
    "editable": true,
    "slideshow": {
     "slide_type": ""
    },
    "tags": []
   },
   "source": [
    "# Lab #5:\n",
    "\n",
    "__Due__: Monday, September 30th, 2024\n",
    "- Submit to codePost before 11:59pm\n",
    "\n",
    "[Lab #5: Line Patterns](https://analytics.drake.edu/~moore/CS65-F24/Lab5.html) is built to give you some practice with `for` loops, the `range()` function, and print formatting. \n",
    "\n",
    "It consists of 2 practice exercises (exercise #1 and exercise #2) that don't need to be submitted, and one challenge exercise (__Challenge Exercise: Line Patterns__) that should be submitted to codePost. \n",
    "\n",
    "It also has one additional optional challenge exercise if you're feeling like a bit more of a challenge. This is fully optional, and does not need to be submitted to codePost."
   ]
  },
  {
   "cell_type": "markdown",
   "id": "7ee3306c-2e60-4aad-b9c4-86118f5c73ce",
   "metadata": {
    "editable": true,
    "slideshow": {
     "slide_type": "slide"
    },
    "tags": []
   },
   "source": [
    "# Time to work on `Lab #5` or `Quiz #1`"
   ]
  },
  {
   "cell_type": "markdown",
   "id": "74ce72e2-a55d-42aa-87c1-52a1c0fb4cec",
   "metadata": {
    "editable": true,
    "id": "hy85VYM-p3yY",
    "slideshow": {
     "slide_type": "slide"
    },
    "tags": []
   },
   "source": [
    "# Admin Stuff"
   ]
  },
  {
   "cell_type": "markdown",
   "id": "22a3ab74-2b7d-4b91-9b87-c41ef9aa1721",
   "metadata": {
    "editable": true,
    "id": "q3lMpIiap3yY",
    "slideshow": {
     "slide_type": ""
    },
    "tags": []
   },
   "source": [
    "You should be working on:\n",
    "- Quiz #1 is due to Blackboard tonight by 11:59 pm\n",
    "- [Lab #5](https://analytics.drake.edu/~moore/CS65-F24/Lab5.html) due Monday, September 30th by 11:59 pm to CodePost\n",
    "\n",
    "Reading:\n",
    "- [for loop reading](https://python.swaroopch.com/control_flow.html)"
   ]
  },
  {
   "cell_type": "markdown",
   "id": "a0118cca-99f7-4300-a3b6-c103dbe90e5f",
   "metadata": {
    "editable": true,
    "slideshow": {
     "slide_type": "slide"
    },
    "tags": []
   },
   "source": [
    "## Quiz #1\n",
    "- will be released after class today, due on Wednesday 9/25 by 11:59pm.\n",
    "- Blackboard quiz\n",
    "- Open notes, open book, no AI assistant usage permitted."
   ]
  }
 ],
 "metadata": {
  "kernelspec": {
   "display_name": "Python 3 (ipykernel)",
   "language": "python",
   "name": "python3"
  },
  "language_info": {
   "codemirror_mode": {
    "name": "ipython",
    "version": 3
   },
   "file_extension": ".py",
   "mimetype": "text/x-python",
   "name": "python",
   "nbconvert_exporter": "python",
   "pygments_lexer": "ipython3",
   "version": "3.12.4"
  }
 },
 "nbformat": 4,
 "nbformat_minor": 5
}

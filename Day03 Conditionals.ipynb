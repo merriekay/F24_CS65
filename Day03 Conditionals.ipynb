{
 "cells": [
  {
   "cell_type": "markdown",
   "metadata": {
    "colab_type": "text",
    "id": "view-in-github"
   },
   "source": [
    "<a href=\"https://colab.research.google.com/github/merriekay/F24_CS65/blob/main/Day03%20Conditionals.ipynb\" target=\"_parent\"><img src=\"https://colab.research.google.com/assets/colab-badge.svg\" alt=\"Open In Colab\"/></a>"
   ]
  },
  {
   "cell_type": "markdown",
   "metadata": {
    "editable": true,
    "id": "PLATh7SmlJKb",
    "slideshow": {
     "slide_type": "slide"
    },
    "tags": []
   },
   "source": [
    "# CS65: Day 03\n",
    "## Abstraction and Conditionals\n",
    "\n",
    "####  CS65: Introduction to Computer Science I | Fall 2024\n",
    "\n",
    "*Monday, September 9th, 2024*\n",
    "\n",
    "### Helpful Resources:\n",
    "[📜 Syllabus](https://docs.google.com/document/d/1nqjmD0yhOOh2gaPwxfjV4EY_dBUIQUur1fvqQ4YPJLA/edit?usp=sharing) | [📬 CodePost Login](https://codepost.io/login) | [📆 Schedule](https://docs.google.com/spreadsheets/d/1Q5-ArPnXwjejKjXSI8WKgF7A2HRAam6Ny3eNA7EHn18/edit?usp=sharing) | [🙋‍♂️ PollEverywhere](https://pollev.com/moore) | [🪴 Office Hour Sign-Up](https://calendly.com/meredith-moore/office-hours)\n",
    "\n",
    "> **Note to self:** Make sure you're recording, silly goose!"
   ]
  },
  {
   "cell_type": "markdown",
   "metadata": {
    "editable": true,
    "id": "aTvFz7rJlJKd",
    "slideshow": {
     "slide_type": "slide"
    },
    "tags": []
   },
   "source": [
    "# Admin Stuff"
   ]
  },
  {
   "cell_type": "markdown",
   "metadata": {
    "id": "E0tJFkTRlJKe"
   },
   "source": [
    "You should be working on:\n",
    "- [Lab #1](https://analytics.drake.edu/~moore/CS65-F24/Lab01.html) is due tonight by 11:59 pm.\n",
    "    - It should print out \"Hello world!\" (the quotes shouldn't show up in the shell).\n",
    "- [Lab #2](https://analytics.drake.edu/~moore/CS65-F23/Lab2.html) is released today, due Wednesday, 9/11/24 by 11:59 pm.\n",
    "- [Reading: If Statements](https://www.brianheinold.net/python/python_book.html#chapter_ifstatements)"
   ]
  },
  {
   "cell_type": "markdown",
   "metadata": {
    "editable": true,
    "id": "NU9usep-lJKe",
    "slideshow": {
     "slide_type": "slide"
    },
    "tags": []
   },
   "source": [
    "# ⏪ Quick Review:"
   ]
  },
  {
   "cell_type": "markdown",
   "metadata": {
    "editable": true,
    "id": "ut10geI0lJKe",
    "slideshow": {
     "slide_type": "slide"
    },
    "tags": []
   },
   "source": [
    "# Numerical Formats:\n",
    "\n",
    "Python has two main forms of numbers:\n",
    "- `int` -- short for integer. these are whole nubmers that are not a fraction.\n",
    "    - examples are 0, 4, 24, -12\n",
    "- `float` -- floats are numbers with a decimal point. Float is short for 'floating-point' numbers.\n",
    "    - examples are 1.3, -34.5, 5.0, 0.0\n"
   ]
  },
  {
   "cell_type": "markdown",
   "metadata": {
    "editable": true,
    "id": "OZSCBuBPlJKe",
    "slideshow": {
     "slide_type": "slide"
    },
    "tags": []
   },
   "source": [
    "## The `type()` function\n",
    "\n",
    "Not sure what the type of a variable is? Python provides an easy way to check the type of any variable or expression, it's called `type()`"
   ]
  },
  {
   "cell_type": "code",
   "execution_count": null,
   "metadata": {
    "id": "YSkwctDolJKf",
    "outputId": "d274005d-ac6f-418a-e839-5d524e32054b"
   },
   "outputs": [
    {
     "name": "stdout",
     "output_type": "stream",
     "text": [
      "<class 'int'>\n",
      "<class 'float'>\n",
      "<class 'str'>\n"
     ]
    }
   ],
   "source": [
    "num_dogs = 2\n",
    "miles_walked_per_day = 1.5\n",
    "dogs_name = \"Zoey\"\n",
    "\n",
    "print(type(num_dogs))\n",
    "print(type(miles_walked_per_day))\n",
    "print(type(dogs_name))"
   ]
  },
  {
   "cell_type": "markdown",
   "metadata": {
    "editable": true,
    "id": "slZuUXqZlJKg",
    "slideshow": {
     "slide_type": "slide"
    },
    "tags": []
   },
   "source": [
    "# User Input\n",
    "\n",
    "Python provides a function called `input` that gets input from the keyboard.\n",
    "\n",
    "When this function is called, the program _stops and waits_ for the user to type someting.\n",
    "\n",
    "When the user presses `Return` or `Enter`, the program resumes and `input` returns what the user typed as a string."
   ]
  },
  {
   "cell_type": "code",
   "execution_count": null,
   "metadata": {
    "id": "H7Ge1rOUlJKg",
    "outputId": "4d1a99b1-2a0a-4ee2-f5c2-f5580b404194"
   },
   "outputs": [
    {
     "name": "stdout",
     "output_type": "stream",
     "text": [
      "Please enter your first name: Meredith\n",
      "Please enter your last name: Moore\n",
      "Ahoy,  Meredith Moore\n"
     ]
    }
   ],
   "source": [
    "first_name = input(\"Please enter your first name: \")\n",
    "last_name = input(\"Please enter your last name: \")\n",
    "print(\"Ahoy, \", first_name, last_name)"
   ]
  },
  {
   "cell_type": "markdown",
   "metadata": {
    "editable": true,
    "id": "vdh-R5mslJKg",
    "slideshow": {
     "slide_type": "slide"
    },
    "tags": []
   },
   "source": [
    "# This will cause an error... Why?"
   ]
  },
  {
   "cell_type": "code",
   "execution_count": null,
   "metadata": {
    "id": "XMKKzAMBlJKh"
   },
   "outputs": [],
   "source": [
    "num_cookies = input(\"How many cookies would you like to make?\")\n",
    "ratio = num_cookies/48"
   ]
  },
  {
   "cell_type": "markdown",
   "metadata": {
    "editable": true,
    "id": "7-_XybvrlJKh",
    "slideshow": {
     "slide_type": "slide"
    },
    "tags": []
   },
   "source": [
    "# `int()` and `float()` for calculations\n",
    "\n",
    "If you expect the user to type an `integer` or `float`, you can try to convert the return value to int using the `int()` or `float()` function:"
   ]
  },
  {
   "cell_type": "code",
   "execution_count": null,
   "metadata": {
    "editable": true,
    "id": "2skn7AO9lJKh",
    "slideshow": {
     "slide_type": ""
    },
    "tags": []
   },
   "outputs": [],
   "source": [
    "num_cookies = int(input(\"how many cookies would you like to make? \"))\n",
    "ratio = num_cookies/48\n",
    "sugar = ratio*1.5\n",
    "print(\"you will need\", sugar, \"cups of sugar.\")"
   ]
  },
  {
   "cell_type": "markdown",
   "metadata": {
    "editable": true,
    "id": "F-XR3CfNlJKh",
    "slideshow": {
     "slide_type": "slide"
    },
    "tags": []
   },
   "source": [
    "# Where we left off:"
   ]
  },
  {
   "cell_type": "markdown",
   "metadata": {
    "editable": true,
    "id": "xAXePD75lJKh",
    "slideshow": {
     "slide_type": "slide"
    },
    "tags": []
   },
   "source": [
    "# Exercise #1:\n",
    "\n",
    "Create a file called `Temperature.py`\n",
    "\n",
    "Type in the following code:"
   ]
  },
  {
   "cell_type": "code",
   "execution_count": null,
   "metadata": {
    "id": "iZ32vHiZlJKh",
    "outputId": "5b82c1b8-4bfb-436e-d1b7-edf4fa0a1f9d"
   },
   "outputs": [
    {
     "name": "stdout",
     "output_type": "stream",
     "text": [
      "Enter the temperature in Fahrenheit 100\n",
      "That's 37.77777777777778 in Celsius\n"
     ]
    }
   ],
   "source": [
    "fahrenheit_temp = input(\"Enter the temperature in Fahrenheit \")\n",
    "celsius_temp = (fahrenheit_temp - 32) * (5/9)\n",
    "print(\"That's\", celcius_temp, \"in Celsius\")"
   ]
  },
  {
   "cell_type": "markdown",
   "metadata": {
    "id": "9ne3Ppr8lJKh"
   },
   "source": [
    "Will it work? Why or why not?"
   ]
  },
  {
   "cell_type": "markdown",
   "metadata": {
    "editable": true,
    "id": "LJ6TTtZZlJKi",
    "slideshow": {
     "slide_type": "slide"
    },
    "tags": []
   },
   "source": [
    "# ✨ New Material"
   ]
  },
  {
   "cell_type": "markdown",
   "metadata": {
    "editable": true,
    "id": "FYwKDRCElJKi",
    "slideshow": {
     "slide_type": "slide"
    },
    "tags": []
   },
   "source": [
    "# Converting a string to an integer\n",
    "\n",
    "Forunately, there's a built-in function we can use to convert something to an integer:\n",
    "- `int()`"
   ]
  },
  {
   "cell_type": "markdown",
   "metadata": {
    "editable": true,
    "id": "AwyUrmoQlJKi",
    "slideshow": {
     "slide_type": "slide"
    },
    "tags": []
   },
   "source": [
    "## TemperatureConverterTry2.py"
   ]
  },
  {
   "cell_type": "code",
   "execution_count": null,
   "metadata": {
    "id": "9TxMdLE5lJKi"
   },
   "outputs": [],
   "source": [
    "fahrenheit_temp_str = input(\"Enter the temperature in Fahrenheit \")\n",
    "fahrenheit_temp_int = int(fahrenheit_temp_str)\n",
    "\n",
    "celsius_temp = (fahrenheit_temp_int - 32) * (5/9)\n",
    "print(\"That's\", celsius_temp, \"in Celsius\")"
   ]
  },
  {
   "cell_type": "markdown",
   "metadata": {
    "id": "PDPw0NKKlJKi"
   },
   "source": [
    "or... you can do it in one step:"
   ]
  },
  {
   "cell_type": "code",
   "execution_count": null,
   "metadata": {
    "id": "acGgcBzFlJKi"
   },
   "outputs": [],
   "source": [
    "fahrenheit_temp = int(input(\"Enter the temperature in Fahrenheit \"))\n",
    "celsius_temp = (fahrenheit_temp - 32) * (5/9)\n",
    "print(\"That's\", celsius_temp, \"in Celsius\")"
   ]
  },
  {
   "cell_type": "markdown",
   "metadata": {
    "editable": true,
    "id": "IFXhmdRIlJKi",
    "slideshow": {
     "slide_type": "slide"
    },
    "tags": []
   },
   "source": [
    "## A Tricky Question:\n",
    "\n",
    "What would happen if the user typed a floating-point value like 72.5?"
   ]
  },
  {
   "cell_type": "code",
   "execution_count": null,
   "metadata": {
    "id": "Phn1XOxWlJKj"
   },
   "outputs": [],
   "source": [
    "fahrenheit_temp_str = int(input(\"Enter the temperature in Fahrenheit \"))\n",
    "fahrenheit_temp_int = int(fahrenheit_temp_str)\n",
    "celsius_temp = (fahrenheit_temp_int - 32) * (5/9)\n",
    "print(\"That's\", celsius_temp, \"in Celsius\")"
   ]
  },
  {
   "cell_type": "markdown",
   "metadata": {
    "editable": true,
    "id": "bql12VH7lJKj",
    "slideshow": {
     "slide_type": "slide"
    },
    "tags": []
   },
   "source": [
    "## Other Type Conversion Functions\n",
    "\n",
    "Convert to a floating-point types with `float()`\n",
    "\n",
    "Convert to a string with `str()`"
   ]
  },
  {
   "cell_type": "code",
   "execution_count": null,
   "metadata": {
    "id": "TsviW78plJKj"
   },
   "outputs": [],
   "source": [
    "fahrenheit_temp_str = float(input(\"Enter the temperature in Fahrenheit \"))\n",
    "fahrenheit_temp_int = int(fahrenheit_temp_str)\n",
    "celsius_temp = (fahrenheit_temp_int - 32) * (5/9)\n",
    "print(\"That's\", celsius_temp, \"in Celsius\")"
   ]
  },
  {
   "cell_type": "markdown",
   "metadata": {
    "editable": true,
    "id": "K2YVUNGJlJKj",
    "slideshow": {
     "slide_type": "slide"
    },
    "tags": []
   },
   "source": [
    "<div>\n",
    "<img src=\"https://github.com/merriekay/CS65-F23/blob/main/images/day02_type_conversion.png?raw=1\"/ width=800>\n",
    "</div>"
   ]
  },
  {
   "cell_type": "markdown",
   "metadata": {
    "editable": true,
    "id": "O8-o9L0VlJKj",
    "slideshow": {
     "slide_type": "slide"
    },
    "tags": []
   },
   "source": [
    "## Let's try something else:\n",
    "\n",
    "Last class, someone asked for an example of when we might use `str()`... here it is:"
   ]
  },
  {
   "cell_type": "code",
   "execution_count": null,
   "metadata": {
    "id": "5Nah2dlplJKk"
   },
   "outputs": [],
   "source": [
    "target_number = 42\n",
    "# the code below will break, any ideas why?\n",
    "user_input = int(input(\"please enter a number larger than\", target_number))"
   ]
  },
  {
   "cell_type": "code",
   "execution_count": null,
   "metadata": {
    "id": "_QMmYXyGlJKk"
   },
   "outputs": [],
   "source": [
    "target_number = 42\n",
    "\n",
    "user_input = int(input(\"Enter a number greater than \" + str(target_number)))"
   ]
  },
  {
   "cell_type": "markdown",
   "metadata": {
    "editable": true,
    "id": "uYiNmovOkfUg",
    "slideshow": {
     "slide_type": "slide"
    },
    "tags": []
   },
   "source": [
    "## Abstraction: Big idea in computer science"
   ]
  },
  {
   "cell_type": "markdown",
   "metadata": {
    "id": "qYDMNpjHkfUg"
   },
   "source": [
    "<center>\n",
    "<div>\n",
    "<img src=\"https://github.com/merriekay/CS65-F23/blob/main/images/day02_abstraction.jpg?raw=1\" width=\"600\"/>\n",
    "</div>\n",
    "</center>\n"
   ]
  },
  {
   "cell_type": "markdown",
   "metadata": {
    "id": "yEOUa5TwkfUh"
   },
   "source": [
    "You don't have to know how to farm to be a chef - they work at different levels of abstraction in food production.\n",
    "\n",
    "In computer science, you build bigger, more complex things by using the building blocks others (or you) have provided.\n",
    "\n",
    "chef image credit: https://www.flickr.com/photos/nestle/3885866873"
   ]
  },
  {
   "cell_type": "markdown",
   "metadata": {
    "editable": true,
    "id": "ZR_5IoewkfUh",
    "slideshow": {
     "slide_type": "slide"
    },
    "tags": []
   },
   "source": [
    "## Abstraction examples we've already seen\n",
    "\n",
    "We've already used several built-in _functions_ in this class: `print()`, `input()`, `type()`, `int()`, `float()`, `str()`\n",
    "* A function is an abstraction tool\n",
    "* We don't have to understand how they work in order to use them"
   ]
  },
  {
   "cell_type": "code",
   "execution_count": null,
   "metadata": {
    "id": "cN_ZTbfhkfUh"
   },
   "outputs": [],
   "source": [
    "name = input(\"Enter your name \")\n",
    "print(\"Hello\",name)"
   ]
  },
  {
   "cell_type": "markdown",
   "metadata": {
    "id": "rwoY_DRVkfUh"
   },
   "source": [
    "`input(\"Enter your name \")` and `print(\"Hello\",name)` are __function calls__\n",
    "\n",
    "Anything you put in the parentheses, like `\"Enter your name \"`, `\"Hello\"`, and `name` are _arguments_ which are passed to the function\n",
    "\n",
    "Functions do/execute/compute something based on the arguments"
   ]
  },
  {
   "cell_type": "markdown",
   "metadata": {
    "editable": true,
    "id": "SCDKymzHkfUh",
    "slideshow": {
     "slide_type": "slide"
    },
    "tags": []
   },
   "source": [
    "## Functions that aren't built-in\n",
    "\n",
    "One of the things that makes Python such a great language is that there are many functions you can use that aren't built in.\n",
    "\n",
    "They're written by other programmers and made available to you.\n",
    "\n",
    "In order to use them, you need an `import` statement.\n",
    "\n",
    "Something you import this way is called a __module__.\n",
    "\n",
    "When running a function from a module, you usually use the __dot notation__."
   ]
  },
  {
   "cell_type": "code",
   "execution_count": null,
   "metadata": {
    "id": "8CJon-SFkfUi"
   },
   "outputs": [],
   "source": [
    "import random\n",
    "print( random.randint(1,100) )"
   ]
  },
  {
   "cell_type": "markdown",
   "metadata": {
    "editable": true,
    "id": "_QZVC7b7kfUi",
    "slideshow": {
     "slide_type": "slide"
    },
    "tags": []
   },
   "source": [
    "In `random.randint(1,100)`, `random` is the name of the module and `randint` is the name of the function we want to use from that module. `1` and `100` are __arguments__ we pass to the function that tell it what range of numbers we want our random number to be in."
   ]
  },
  {
   "cell_type": "code",
   "execution_count": null,
   "metadata": {
    "id": "mnZj5GDZkfUi",
    "outputId": "7f1f5b7a-1c18-4bda-c226-ad4c4c39927d"
   },
   "outputs": [
    {
     "name": "stdout",
     "output_type": "stream",
     "text": [
      "2023-09-11 08:04:16.044329\n"
     ]
    }
   ],
   "source": [
    "import datetime\n",
    "print( datetime.datetime.now() )"
   ]
  },
  {
   "cell_type": "markdown",
   "metadata": {
    "editable": true,
    "id": "dFAiT9P_kfUi",
    "slideshow": {
     "slide_type": ""
    },
    "tags": []
   },
   "source": [
    "Notice that this uses two dots - in this case, the pattern is `modulename.typename.functionname` becaise the `datetime` modules contains many different types, and those types each support different functions.\n",
    "\n",
    "Different modules are set up to be used in slightly different ways."
   ]
  },
  {
   "cell_type": "markdown",
   "metadata": {
    "editable": true,
    "id": "7QIBob84kfUj",
    "slideshow": {
     "slide_type": "slide"
    },
    "tags": []
   },
   "source": [
    "How do you know how to use a module?"
   ]
  },
  {
   "cell_type": "markdown",
   "metadata": {
    "editable": true,
    "id": "cDtlP4_gkfUj",
    "slideshow": {
     "slide_type": "slide"
    },
    "tags": []
   },
   "source": [
    "Find the documentation for it on the web!\n",
    "\n",
    "https://docs.python.org/3/library/datetime.html"
   ]
  },
  {
   "cell_type": "code",
   "execution_count": 10,
   "metadata": {
    "editable": true,
    "hideCode": true,
    "id": "vsPKFiTEkfUj",
    "outputId": "b64cbeed-62c3-4eb0-def5-7f1a0acda6c3",
    "slideshow": {
     "slide_type": ""
    },
    "tags": []
   },
   "outputs": [
    {
     "data": {
      "text/html": [
       "\n",
       "        <iframe\n",
       "            width=\"900\"\n",
       "            height=\"450\"\n",
       "            src=\"https://docs.python.org/3/library/datetime.html\"\n",
       "            frameborder=\"0\"\n",
       "            allowfullscreen\n",
       "            \n",
       "        ></iframe>\n",
       "        "
      ],
      "text/plain": [
       "<IPython.lib.display.IFrame at 0x17f99a270>"
      ]
     },
     "execution_count": 10,
     "metadata": {},
     "output_type": "execute_result"
    }
   ],
   "source": [
    "from IPython.display import IFrame\n",
    "IFrame('https://docs.python.org/3/library/datetime.html',width=900,height=450)"
   ]
  },
  {
   "cell_type": "markdown",
   "metadata": {
    "editable": true,
    "id": "_8pTeffbkfUj",
    "slideshow": {
     "slide_type": "slide"
    },
    "tags": []
   },
   "source": [
    "https://docs.python.org/3/library/random.html"
   ]
  },
  {
   "cell_type": "code",
   "execution_count": 11,
   "metadata": {
    "editable": true,
    "hideCode": true,
    "id": "KVLk0VP3kfUj",
    "outputId": "f7876282-1c9d-4850-a869-a515b3c604e8",
    "slideshow": {
     "slide_type": ""
    },
    "tags": []
   },
   "outputs": [
    {
     "data": {
      "text/html": [
       "\n",
       "        <iframe\n",
       "            width=\"900\"\n",
       "            height=\"450\"\n",
       "            src=\"https://docs.python.org/3/library/random.html\"\n",
       "            frameborder=\"0\"\n",
       "            allowfullscreen\n",
       "            \n",
       "        ></iframe>\n",
       "        "
      ],
      "text/plain": [
       "<IPython.lib.display.IFrame at 0x17f99b980>"
      ]
     },
     "execution_count": 11,
     "metadata": {},
     "output_type": "execute_result"
    }
   ],
   "source": [
    "from IPython.display import IFrame\n",
    "IFrame('https://docs.python.org/3/library/random.html',width=900,height=450)"
   ]
  },
  {
   "cell_type": "markdown",
   "metadata": {
    "editable": true,
    "id": "p_2Xj2pUkfUj",
    "slideshow": {
     "slide_type": "slide"
    },
    "tags": []
   },
   "source": [
    "## Modules can provide new functions and new types"
   ]
  },
  {
   "cell_type": "code",
   "execution_count": null,
   "metadata": {
    "id": "4hxza9txkfUk",
    "outputId": "8c64b16c-2d49-4d29-d150-22b8c1e7ec5a"
   },
   "outputs": [
    {
     "data": {
      "text/plain": [
       "module"
      ]
     },
     "execution_count": 7,
     "metadata": {},
     "output_type": "execute_result"
    }
   ],
   "source": [
    "type(datetime)"
   ]
  },
  {
   "cell_type": "code",
   "execution_count": null,
   "metadata": {
    "id": "eNajlXkfkfUk",
    "outputId": "de5eef3a-90a9-437a-a585-8a683bf1a926"
   },
   "outputs": [
    {
     "data": {
      "text/plain": [
       "type"
      ]
     },
     "execution_count": 8,
     "metadata": {},
     "output_type": "execute_result"
    }
   ],
   "source": [
    "type(datetime.datetime)"
   ]
  },
  {
   "cell_type": "code",
   "execution_count": null,
   "metadata": {
    "editable": true,
    "id": "GOlzkFBlkfUk",
    "outputId": "71f65c02-70ab-4dcb-e5d6-00dc622be318",
    "slideshow": {
     "slide_type": ""
    },
    "tags": []
   },
   "outputs": [
    {
     "data": {
      "text/plain": [
       "datetime.datetime"
      ]
     },
     "execution_count": 9,
     "metadata": {},
     "output_type": "execute_result"
    }
   ],
   "source": [
    "current = datetime.datetime.now()\n",
    "type(current)"
   ]
  },
  {
   "cell_type": "markdown",
   "metadata": {
    "editable": true,
    "id": "9U1zsCgZkfUk",
    "slideshow": {
     "slide_type": "slide"
    },
    "tags": []
   },
   "source": [
    "https://xkcd.com/353/\n",
    "\n",
    "\n",
    "![an xkcd comic about Python](https://imgs.xkcd.com/comics/python.png \"Python xkcd\")"
   ]
  },
  {
   "cell_type": "markdown",
   "metadata": {
    "editable": true,
    "id": "Zgm__Il6lJKs",
    "slideshow": {
     "slide_type": "slide"
    },
    "tags": []
   },
   "source": [
    "## Conditional execution of code\n",
    "\n",
    "Sometimes, you want your program to do something different based on different conditions. These are called __conditional statements__."
   ]
  },
  {
   "cell_type": "markdown",
   "metadata": {
    "editable": true,
    "id": "_AAQSEiUlJKt",
    "slideshow": {
     "slide_type": "fragment"
    },
    "tags": []
   },
   "source": [
    "For example, consider the pay calculator. If this employer offers 50% extra pay for overtime (i.e., worked > 40 hours), how could we account for that?"
   ]
  },
  {
   "cell_type": "code",
   "execution_count": null,
   "metadata": {
    "id": "9kRj2qd3lJKt",
    "outputId": "653b0c37-5739-4675-c49a-bdc3b44b375a"
   },
   "outputs": [
    {
     "name": "stdout",
     "output_type": "stream",
     "text": [
      "Enter your hourly wage: 9.25\n",
      "Enter your number of hours worked: 41\n",
      "Total pay:  383.875\n"
     ]
    }
   ],
   "source": [
    "wage = float(input(\"Enter your hourly wage: \"))\n",
    "hours = float(input(\"Enter your number of hours worked: \"))\n",
    "\n",
    "#option 1: only correct if they didn't work overtime\n",
    "pay = wage*hours\n",
    "\n",
    "#option 2: only correct if they worked overtime\n",
    "overtime_hours = hours-40\n",
    "pay = (wage*40) + (wage*1.5*overtime_hours)\n",
    "\n",
    "print(\"Total pay: \",pay)"
   ]
  },
  {
   "cell_type": "markdown",
   "metadata": {
    "editable": true,
    "id": "-rIBhusXlJKt",
    "slideshow": {
     "slide_type": "slide"
    },
    "tags": []
   },
   "source": [
    "## Syntax for `if` statements\n",
    "\n",
    "* keyword `if`\n",
    "* a condition\n",
    "* colon `:`\n",
    "* indented _block_ of code\n",
    "\n",
    "It should look something like this:"
   ]
  },
  {
   "cell_type": "code",
   "execution_count": 4,
   "metadata": {
    "editable": true,
    "slideshow": {
     "slide_type": ""
    },
    "tags": []
   },
   "outputs": [
    {
     "name": "stdout",
     "output_type": "stream",
     "text": [
      "0 is less than 5\n"
     ]
    }
   ],
   "source": [
    "num = 0\n",
    "if num < 5: # <-- pay attention to this syntax\n",
    "    print(num, \"is less than 5\")"
   ]
  },
  {
   "cell_type": "markdown",
   "metadata": {
    "editable": true,
    "slideshow": {
     "slide_type": "slide"
    },
    "tags": []
   },
   "source": [
    "## An Example"
   ]
  },
  {
   "cell_type": "code",
   "execution_count": 18,
   "metadata": {
    "editable": true,
    "id": "GQQmhOynlJKt",
    "outputId": "f9e66a66-029f-4ce8-fd09-1ea143845713",
    "scrolled": true,
    "slideshow": {
     "slide_type": ""
    },
    "tags": []
   },
   "outputs": [
    {
     "name": "stdin",
     "output_type": "stream",
     "text": [
      "What is your age?  70\n"
     ]
    },
    {
     "name": "stdout",
     "output_type": "stream",
     "text": [
      "\n",
      "Applying 10% senior discount\n",
      "Your total bill is 32.067\n"
     ]
    }
   ],
   "source": [
    "total_bill = 35.63\n",
    "age = float(input(\"What is your age? \"))\n",
    "print() #this isn't necessary for you\n",
    "\n",
    "if age > 65:\n",
    "    # notice the 'if' keyword and the colon ':'\n",
    "    print(\"Applying 10% senior discount\")\n",
    "    total_bill = total_bill * 0.9\n",
    "    #any indented code is only runs\n",
    "    #when the condition is True\n",
    "\n",
    "#un-indented code runs no matter what\n",
    "print(\"Your total bill is\", total_bill)"
   ]
  },
  {
   "cell_type": "markdown",
   "metadata": {
    "editable": true,
    "id": "bxVVhKeDlJKu",
    "slideshow": {
     "slide_type": "slide"
    },
    "tags": []
   },
   "source": [
    "But, sometimes you need more than just an `if` statement:\n",
    "\n",
    "## Syntax for `if-else` statements\n",
    "\n",
    "* keyword `if`\n",
    "* a condition\n",
    "* colon `:`\n",
    "* indented block of code\n",
    "* keyword `else`\n",
    "* colon `:`\n",
    "* indented block of code"
   ]
  },
  {
   "cell_type": "code",
   "execution_count": 5,
   "metadata": {
    "editable": true,
    "slideshow": {
     "slide_type": ""
    },
    "tags": []
   },
   "outputs": [
    {
     "name": "stdout",
     "output_type": "stream",
     "text": [
      "10 is not less than 5\n"
     ]
    }
   ],
   "source": [
    "num = 10\n",
    "if num < 5: \n",
    "    print(num, \"is less than 5\")\n",
    "else:  #<-- pay attention to this syntax\n",
    "    print(num, \"is not less than 5\")"
   ]
  },
  {
   "cell_type": "code",
   "execution_count": null,
   "metadata": {
    "editable": true,
    "id": "geYvXNCMlJKu",
    "outputId": "6009ebe2-d9dc-43c4-972a-6133dbec2b47",
    "slideshow": {
     "slide_type": "slide"
    },
    "tags": []
   },
   "outputs": [
    {
     "name": "stdout",
     "output_type": "stream",
     "text": [
      "Enter your height in inches: 59.9\n",
      "You are not tall enough for this ride.\n",
      "Have fun!\n"
     ]
    }
   ],
   "source": [
    "#if-else example\n",
    "height = float(input(\"Enter your height in inches: \"))\n",
    "\n",
    "if height < 60: # notice the 'if' keyword and the colon ':'\n",
    "    print(\"You are not tall enough for this ride.\")\n",
    "    #indented block of code that runs if the condition is true\n",
    "\n",
    "else: # notice the 'else' keyword and the colon ':'\n",
    "    print(\"You are tall enough for this ride.\")\n",
    "    #indented block of code that runs if the condition is not true\n",
    "\n",
    "print(\"Have fun!\")\n",
    "#notice that the 'if' and 'else' clauses match indentation"
   ]
  },
  {
   "cell_type": "markdown",
   "metadata": {
    "editable": true,
    "id": "2wcDdrv5lJKu",
    "slideshow": {
     "slide_type": "slide"
    },
    "tags": []
   },
   "source": [
    "## Group Exercise\n",
    "\n",
    "How could we make this code work using an `if-else` statement?"
   ]
  },
  {
   "cell_type": "code",
   "execution_count": null,
   "metadata": {
    "editable": true,
    "id": "XlpTzjwElJKu",
    "slideshow": {
     "slide_type": ""
    },
    "tags": []
   },
   "outputs": [],
   "source": [
    "wage = float(input(\"Enter your hourly wage: \"))\n",
    "hours = float(input(\"Enter your number of hours worked: \"))\n",
    "\n",
    "#option 1: only correct if they didn't work overtime\n",
    "pay = wage*hours\n",
    "\n",
    "#option 2: only correct if they worked overtime\n",
    "overtime_hours = hours-40\n",
    "pay = (wage*40) + (wage*1.5*overtime_hours)\n",
    "\n",
    "print(\"Total pay: \",pay)"
   ]
  },
  {
   "cell_type": "markdown",
   "metadata": {
    "editable": true,
    "id": "nhYOXY77lJKu",
    "slideshow": {
     "slide_type": "slide"
    },
    "tags": []
   },
   "source": [
    "## Boolean type\n",
    "\n",
    "The __Boolean__ type has two possible values: `True` and `False`\n",
    "\n",
    "`type()` of a Boolean variable will read as `bool`\n"
   ]
  },
  {
   "cell_type": "code",
   "execution_count": 7,
   "metadata": {
    "editable": true,
    "slideshow": {
     "slide_type": ""
    },
    "tags": []
   },
   "outputs": [
    {
     "name": "stdout",
     "output_type": "stream",
     "text": [
      "<class 'bool'>\n",
      "False\n"
     ]
    }
   ],
   "source": [
    "print(type(False))\n",
    "print(48 > 60)"
   ]
  },
  {
   "cell_type": "code",
   "execution_count": null,
   "metadata": {
    "editable": true,
    "id": "DVXuhxCglJKv",
    "outputId": "6df14337-fe74-4d40-ea83-41a5cd4a5573",
    "slideshow": {
     "slide_type": "slide"
    },
    "tags": []
   },
   "outputs": [
    {
     "name": "stdout",
     "output_type": "stream",
     "text": [
      "The condition is False\n"
     ]
    }
   ],
   "source": [
    "bool_variable = (48 > 60) # False\n",
    "\n",
    "if bool_variable:\n",
    "    print(\"The condition is True!\")\n",
    "else:\n",
    "    print(\"The condition is False\")"
   ]
  },
  {
   "cell_type": "markdown",
   "metadata": {
    "editable": true,
    "id": "I9dHrUMSlJKv",
    "slideshow": {
     "slide_type": "slide"
    },
    "tags": []
   },
   "source": [
    "## Boolean Expressions\n",
    "\n",
    "A __boolean expression__ is any expression that can be evaluated to a Boolean value (`True` or `False`)\n",
    "\n",
    "Boolean expressions use __boolean operators__ (see on the next slide)"
   ]
  },
  {
   "cell_type": "markdown",
   "metadata": {
    "editable": true,
    "id": "_kIvsfNRlJKv",
    "slideshow": {
     "slide_type": "fragment"
    },
    "tags": []
   },
   "source": [
    "The _condition_ for an `if`/`if-else` statement can be anything that results in a Boolean. An expression, like `height < 60` that results in `True` or `False` (a Boolean) is called a __Boolean expression__."
   ]
  },
  {
   "cell_type": "markdown",
   "metadata": {
    "editable": true,
    "id": "BDtbrlfJlJKv",
    "slideshow": {
     "slide_type": "slide"
    },
    "tags": []
   },
   "source": [
    "## Some Boolean Operators\n",
    "\n",
    "> remember our terminology... an __operator__ is the thing that goes between two __operands__ in an __expression__.\n",
    "\n",
    "* `<` less than\n",
    "* `>` greater than\n",
    "* `<=` less than or equal\n",
    "    - note there is no $\\leq$ button on your keyboard\n",
    "* `>=` greater than or equal\n",
    "* `==` equal (comparison)\n",
    "    - note that `=` is used for assignment, they're different operators, don't confuse them!\n",
    "* `!=` not equal"
   ]
  },
  {
   "cell_type": "markdown",
   "metadata": {
    "editable": true,
    "id": "TYF9ceHIlJKv",
    "slideshow": {
     "slide_type": "slide"
    },
    "tags": []
   },
   "source": [
    "You can use these *boolean operators* to __evaluate complex expressions__:"
   ]
  },
  {
   "cell_type": "code",
   "execution_count": null,
   "metadata": {
    "editable": true,
    "id": "jhJq6xbTlJKv",
    "outputId": "cd0940b7-e761-4f53-cc6f-a5e3fa4616d5",
    "scrolled": true,
    "slideshow": {
     "slide_type": ""
    },
    "tags": []
   },
   "outputs": [
    {
     "name": "stdout",
     "output_type": "stream",
     "text": [
      "True\n",
      "False\n",
      "True\n"
     ]
    }
   ],
   "source": [
    "x = 2 < 15 # True\n",
    "y = 2>= 15 # False\n",
    "print(x)\n",
    "print(y)\n",
    "print(x or y) # (2 < 15) or (2 >=15)"
   ]
  },
  {
   "cell_type": "markdown",
   "metadata": {
    "editable": true,
    "id": "6Bt3f0ASlJKw",
    "slideshow": {
     "slide_type": "slide"
    },
    "tags": []
   },
   "source": [
    "### Examples of Boolean Operators in Practice:"
   ]
  },
  {
   "cell_type": "code",
   "execution_count": 24,
   "metadata": {
    "editable": true,
    "id": "Kp1Xpw9NlJKw",
    "outputId": "d626e103-79cd-4d08-f786-764e176aab33",
    "slideshow": {
     "slide_type": ""
    },
    "tags": []
   },
   "outputs": [
    {
     "name": "stdout",
     "output_type": "stream",
     "text": [
      "shhhhh... the secret number is: 7\n"
     ]
    },
    {
     "name": "stdin",
     "output_type": "stream",
     "text": [
      "Guess a number:  9\n"
     ]
    },
    {
     "name": "stdout",
     "output_type": "stream",
     "text": [
      "Wrong!\n"
     ]
    }
   ],
   "source": [
    "import random\n",
    "secret_number = 7\n",
    "# secret_number = 7\n",
    "\n",
    "print(\"shhhhh... the secret number is:\", secret_number)\n",
    "guess = int(input(\"Guess a number: \"))\n",
    "\n",
    "if guess == secret_number:\n",
    "    print(\"That was right, good guess!\")\n",
    "else:\n",
    "    print(\"Wrong!\")"
   ]
  },
  {
   "cell_type": "markdown",
   "metadata": {
    "editable": true,
    "id": "n6SL8jxZlJKw",
    "slideshow": {
     "slide_type": "slide"
    },
    "tags": []
   },
   "source": [
    "**Challenge**: What would we need to change to make `secret_number` a random number?"
   ]
  },
  {
   "cell_type": "code",
   "execution_count": 19,
   "metadata": {
    "editable": true,
    "id": "8PRmWmsvlJKw",
    "outputId": "52ad11d3-2a6d-4d66-cf2a-ab61188629b9",
    "scrolled": true,
    "slideshow": {
     "slide_type": ""
    },
    "tags": []
   },
   "outputs": [
    {
     "name": "stdin",
     "output_type": "stream",
     "text": [
      "Enter number of people at the table:  20\n"
     ]
    },
    {
     "name": "stdout",
     "output_type": "stream",
     "text": [
      "\n"
     ]
    },
    {
     "name": "stdin",
     "output_type": "stream",
     "text": [
      "Was this a business lunch for a non-profit organization?  yes\n"
     ]
    },
    {
     "name": "stdout",
     "output_type": "stream",
     "text": [
      "\n",
      "Automatically adding 15% gratuity.\n",
      "Your total is 139.725\n"
     ]
    }
   ],
   "source": [
    "total_bill = 121.50\n",
    "party_size = int(input(\"Enter number of people at the table: \"))\n",
    "print()\n",
    "non_profit = input(\"Was this a business lunch for a non-profit organization? \")\n",
    "print()\n",
    "\n",
    "if non_profit != \"yes\":\n",
    "    print(\"Calculating 6% sales tax.\")\n",
    "    total_bill = total_bill * 1.06\n",
    "\n",
    "if party_size >= 8:\n",
    "    print(\"Automatically adding 15% gratuity.\")\n",
    "    total_bill = total_bill * 1.15\n",
    "\n",
    "print(\"Your total is\",total_bill)"
   ]
  },
  {
   "cell_type": "markdown",
   "metadata": {
    "editable": true,
    "id": "B9jeQQAZlJKw",
    "slideshow": {
     "slide_type": "slide"
    },
    "tags": []
   },
   "source": [
    "## Nested If Statements\n",
    "\n",
    "You can include conditional statements _inside_ of other conditional statements\n",
    "\n",
    "Such statements are called __nested__ _if statements_."
   ]
  },
  {
   "cell_type": "code",
   "execution_count": 8,
   "metadata": {
    "editable": true,
    "slideshow": {
     "slide_type": ""
    },
    "tags": []
   },
   "outputs": [
    {
     "name": "stdout",
     "output_type": "stream",
     "text": [
      "3 is greater than 0 and less than 5\n"
     ]
    }
   ],
   "source": [
    "num = 3\n",
    "if num > 0:\n",
    "    # ---- an if statement inside an if statement ----\n",
    "    if num < 5: \n",
    "        print(num, \"is greater than 0 and less than 5\")\n",
    "    else:\n",
    "        print(num, \"is >= 5\")\n",
    "    # ------whitespace is important... match tabs-----\n",
    "else:\n",
    "    print(num, \"is less than 0.\")"
   ]
  },
  {
   "cell_type": "markdown",
   "metadata": {
    "editable": true,
    "id": "MTZVOxTslJKx",
    "slideshow": {
     "slide_type": "slide"
    },
    "tags": []
   },
   "source": [
    "## Nested If Statement Example\n",
    "\n",
    "Describe what will happen... take it one line at a time.\n",
    "- what will happen if you type `user000`?\n",
    "- what will happen if you type `user123`, and then `Spring22`?\n",
    "- what will happen if you type `user123`, and `Summer23!`?"
   ]
  },
  {
   "cell_type": "code",
   "execution_count": 20,
   "metadata": {
    "editable": true,
    "id": "gBXvl9ztlJKx",
    "outputId": "b087a8d2-818f-4f0a-d147-052e40cbf2a0",
    "slideshow": {
     "slide_type": ""
    },
    "tags": []
   },
   "outputs": [
    {
     "name": "stdin",
     "output_type": "stream",
     "text": [
      "username:  user1\n"
     ]
    },
    {
     "name": "stdout",
     "output_type": "stream",
     "text": [
      "\n",
      "incorrect username\n"
     ]
    }
   ],
   "source": [
    "username = input(\"username: \")\n",
    "print()\n",
    "if username == 'user123':\n",
    "    password = input(\"password: \")\n",
    "    print()\n",
    "    if password == 'Summer23!':\n",
    "        print(\"Access granted.\")\n",
    "    else:\n",
    "        print(\"wrong password\")\n",
    "else:\n",
    "    print(\"incorrect username\")"
   ]
  },
  {
   "cell_type": "markdown",
   "metadata": {
    "editable": true,
    "id": "UA6hRoWalJKx",
    "slideshow": {
     "slide_type": "slide"
    },
    "tags": []
   },
   "source": [
    "## Exercise #2:\n",
    "\n",
    "Write the code that will:\n",
    "- Prompt the user for their age\n",
    "- If they are >= 16\n",
    "    - Prompt the user if they've passed the driving exam\n",
    "    - If 'yes', the print \"Congratulations!\"\n",
    "    - otherwise, print \"Sorry, you can't drive\"\n",
    "- Otherwise print \"you aren't old enough to drive\""
   ]
  },
  {
   "cell_type": "markdown",
   "metadata": {
    "editable": true,
    "id": "5rCvKByPlJKx",
    "slideshow": {
     "slide_type": "slide"
    },
    "tags": []
   },
   "source": [
    "## Exercise #3:\n",
    "\n",
    "Prompt the user for an integer\n",
    "- if the number is greater than 100, print \"DO NOT GO OUTSIDE -- TOO HOT\"\n",
    "- If the number is less than 0, print \"DO NOT GO OUTSIDE -- TOO COLD\"\n",
    "- If the number is between 0 and 100, print \"OK\""
   ]
  },
  {
   "cell_type": "markdown",
   "metadata": {
    "editable": true,
    "id": "FYKQTBaLlJKx",
    "slideshow": {
     "slide_type": "slide"
    },
    "tags": []
   },
   "source": [
    "## Example:\n",
    "\n",
    "Imagine a situation where, given an input, the computer had to return a grade:\n",
    "- Prompt user for their score (between 0 and 100)\n",
    "- If score >= 90, print \"you earned an A\"\n",
    "- If score >= 80, print \"you earned a B\"\n",
    "- If score >= 70, print \"you earned a C\"\n",
    "- If score >= 60, print \"you earned a D\"\n",
    "- If score < 60, print \"you earned an F\"\n",
    "\n",
    "Consider this solution:"
   ]
  },
  {
   "cell_type": "code",
   "execution_count": 21,
   "metadata": {
    "editable": true,
    "id": "idNdF5LmlJKx",
    "outputId": "ba8599cd-5f12-4b08-b741-bb9896e83e5e",
    "slideshow": {
     "slide_type": "slide"
    },
    "tags": []
   },
   "outputs": [
    {
     "name": "stdin",
     "output_type": "stream",
     "text": [
      "Enter your score: 34\n"
     ]
    },
    {
     "name": "stdout",
     "output_type": "stream",
     "text": [
      "\n",
      "your earned an F\n"
     ]
    }
   ],
   "source": [
    "score = int(input('Enter your score:'))\n",
    "print()\n",
    "\n",
    "if score >=90:\n",
    "    print(\"your earned an A\")\n",
    "if score >=80:\n",
    "    print(\"your earned a B\")\n",
    "if score >=70:\n",
    "    print(\"your earned a C\")\n",
    "if score >=60:\n",
    "    print(\"your earned a D\")\n",
    "if score <60:\n",
    "    print(\"your earned an F\")"
   ]
  },
  {
   "cell_type": "markdown",
   "metadata": {
    "editable": true,
    "id": "s8q1tRCslJKy",
    "slideshow": {
     "slide_type": "slide"
    },
    "tags": []
   },
   "source": [
    "Let's use nested if statments... is this better?"
   ]
  },
  {
   "cell_type": "code",
   "execution_count": 22,
   "metadata": {
    "editable": true,
    "id": "fCIFU1YJlJKy",
    "outputId": "a68fe078-d8d1-4349-dc2a-5e83d4e8aca1",
    "slideshow": {
     "slide_type": ""
    },
    "tags": []
   },
   "outputs": [
    {
     "name": "stdin",
     "output_type": "stream",
     "text": [
      "Enter your score: 23\n"
     ]
    },
    {
     "name": "stdout",
     "output_type": "stream",
     "text": [
      "\n",
      "your earned an F\n"
     ]
    }
   ],
   "source": [
    "score = int(input('Enter your score:'))\n",
    "print()\n",
    "\n",
    "if score >=90:\n",
    "    print(\"your earned an A\")\n",
    "else:\n",
    "    if score >=80:\n",
    "        print(\"your earned a B\")\n",
    "    else:\n",
    "        if score >=70:\n",
    "            print(\"your earned a C\")\n",
    "        else:\n",
    "            if score >=60:\n",
    "                print(\"your earned a D\")\n",
    "            else:\n",
    "                if score <60:\n",
    "                    print(\"your earned an F\")"
   ]
  },
  {
   "cell_type": "markdown",
   "metadata": {
    "editable": true,
    "id": "2KjEBPm-lJKy",
    "slideshow": {
     "slide_type": "slide"
    },
    "tags": []
   },
   "source": [
    "# The `if`-`elif`-`else` statement\n",
    "\n",
    "`if`-`elif`-`else`: special version of a decision structure--makes logic of nested decision structures simpler to write.\n",
    "\n",
    "You can include multiple `elif` statements:\n",
    "\n",
    "Syntax:\n",
    "\n",
    "__`if`__ `condition1`:\n",
    "\n",
    "    (insert code here)\n",
    "    \n",
    "__`elif`__ `condition2`: \n",
    "\n",
    "    (insert code here)\n",
    "> you can have as many `elif`'s as you want\n",
    "    \n",
    "    \n",
    "__`else`__:\n",
    "\n",
    "    (insert code here)\n",
    "> an `else` clause isn't strictly necessary, but it's a good catch-all."
   ]
  },
  {
   "cell_type": "code",
   "execution_count": 23,
   "metadata": {
    "editable": true,
    "id": "HO73HGQzlJKy",
    "outputId": "6d8db565-c167-4392-8ff5-151e14b4b460",
    "slideshow": {
     "slide_type": "slide"
    },
    "tags": []
   },
   "outputs": [
    {
     "name": "stdin",
     "output_type": "stream",
     "text": [
      "Enter your score: 89\n"
     ]
    },
    {
     "name": "stdout",
     "output_type": "stream",
     "text": [
      "\n",
      "your earned a B\n"
     ]
    }
   ],
   "source": [
    "score = int(input('Enter your score:'))\n",
    "print()\n",
    "\n",
    "if score >=90:\n",
    "    print(\"your earned an A\")\n",
    "elif score >=80:\n",
    "    print(\"your earned a B\")\n",
    "elif score >=70:\n",
    "    print(\"your earned a C\")\n",
    "elif score >=60:\n",
    "    print(\"your earned a D\")\n",
    "else:\n",
    "    print(\"your earned an F\")"
   ]
  },
  {
   "cell_type": "markdown",
   "metadata": {
    "editable": true,
    "id": "hKxTvvkBlJKy",
    "slideshow": {
     "slide_type": "slide"
    },
    "tags": []
   },
   "source": [
    "## Exercise #4\n",
    "\n",
    "Prompt the user for the number of hours of sleep they got last night.\n",
    "\n",
    "Use ONLY if-elif-else statments to print out an appropriate response based on the inputted number and following chart:\n",
    "\n",
    "| Hours           | Response                                |\n",
    "|-----------------|-----------------------------------------|\n",
    "| Above 8         | \"You are well-rested!\"                  |\n",
    "| Between 4 and 8 | \"The coffee shop is around the corner.\" |\n",
    "| Between 0 and 4 | \"Are you sure you're awake?\"            |\n",
    "| Less than 0     | \"Input error\"                           |"
   ]
  },
  {
   "cell_type": "markdown",
   "metadata": {
    "id": "knlGvNSslJKz"
   },
   "source": [
    "# Admin Stuff"
   ]
  },
  {
   "cell_type": "markdown",
   "metadata": {
    "editable": true,
    "id": "ltQWMtpZlJKz",
    "slideshow": {
     "slide_type": "slide"
    },
    "tags": []
   },
   "source": [
    "You should be working on:\n",
    "- [Lab #1](https://analytics.drake.edu/~moore/CS65-F24/Lab01.html) is due tonight by 11:59 pm. It should print out \"Hello world!\" (the quotes shouldn't show up in the shell).\n",
    "- [Lab #2](https://analytics.drake.edu/~moore/CS65-F23/Lab2.html) is released today, due Wednesday, 9/11/24 by 11:59 pm.\n",
    "- [Reading: If Statements](https://www.brianheinold.net/python/python_book.html#chapter_ifstatements)"
   ]
  }
 ],
 "metadata": {
  "celltoolbar": "Slideshow",
  "colab": {
   "include_colab_link": true,
   "provenance": []
  },
  "kernelspec": {
   "display_name": "Python 3 (ipykernel)",
   "language": "python",
   "name": "python3"
  },
  "language_info": {
   "codemirror_mode": {
    "name": "ipython",
    "version": 3
   },
   "file_extension": ".py",
   "mimetype": "text/x-python",
   "name": "python",
   "nbconvert_exporter": "python",
   "pygments_lexer": "ipython3",
   "version": "3.12.4"
  }
 },
 "nbformat": 4,
 "nbformat_minor": 4
}

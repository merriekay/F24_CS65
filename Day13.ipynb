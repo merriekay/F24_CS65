{
 "cells": [
  {
   "cell_type": "markdown",
   "id": "70a59e5b-f0eb-4826-9690-c54b1605031a",
   "metadata": {
    "editable": true,
    "slideshow": {
     "slide_type": ""
    },
    "tags": []
   },
   "source": [
    "# CS65: Day 13\n",
    "\n",
    "## Lists, Functions and Loops\n",
    "### CS65: Introduction to Computer Science I | Fall 2024\n",
    "\n",
    "*Wednesday, October 16th,2024*\n",
    "\n",
    "### Helpful Resources:\n",
    "[📜 Syllabus](https://docs.google.com/document/d/1nqjmD0yhOOh2gaPwxfjV4EY_dBUIQUur1fvqQ4YPJLA/edit?usp=sharing) | [📬 CodePost Login](https://codepost.io/login) | [📆 Schedule](https://docs.google.com/spreadsheets/d/1Q5-ArPnXwjejKjXSI8WKgF7A2HRAam6Ny3eNA7EHn18/edit?usp=sharing) | [🙋‍♂️ PollEverywhere](https://pollev.com/moore) | [🪴 Office Hour Sign-Up](https://calendly.com/meredith-moore/office-hours)\n",
    "\n",
    "> **Note to self:** Make sure you're recording, silly goose!"
   ]
  },
  {
   "cell_type": "markdown",
   "id": "1159ae16-e363-4783-8d00-feb5469b5652",
   "metadata": {
    "editable": true,
    "id": "TKD6hPr2soYX",
    "slideshow": {
     "slide_type": "slide"
    },
    "tags": []
   },
   "source": [
    "# Admin Stuff"
   ]
  },
  {
   "cell_type": "markdown",
   "id": "b191abd6-da83-4712-ab1d-dc3100a093c5",
   "metadata": {
    "editable": true,
    "id": "Qw6WzYz0soYX",
    "slideshow": {
     "slide_type": ""
    },
    "tags": []
   },
   "source": [
    "Grading:\n",
    "- you should have grades for all labs and Quiz #1.\n",
    "- I'll post midterm estimates by the end of the week\n",
    "\n",
    "You should be working on:\n",
    "- Quiz #2 released today, due Friday October 18th, by 11:59 pm."
   ]
  },
  {
   "cell_type": "markdown",
   "id": "6a1ab985-53a2-41e1-b2d1-f555ec38a02c",
   "metadata": {
    "editable": true,
    "id": "jTRrZEvXsoYX",
    "slideshow": {
     "slide_type": "slide"
    },
    "tags": []
   },
   "source": [
    "# ⏪ Quick Review:"
   ]
  },
  {
   "cell_type": "markdown",
   "id": "db8281c6-27f3-4855-9bce-2cc00c21217c",
   "metadata": {
    "editable": true,
    "slideshow": {
     "slide_type": "slide"
    },
    "tags": []
   },
   "source": [
    "# Getting data out of funcitons: `return`\n",
    "\n",
    "__Parameters__ and __arguments__: enable passing data _into_ functions.\n",
    "\n",
    "__Return Values__ Enable getting data out of functions. \n",
    "- think of it as the _result_ of the function.\n",
    "\n",
    "![function robot](functions.png)"
   ]
  },
  {
   "cell_type": "markdown",
   "id": "6dfc36a8-d218-4661-aa9c-a5aa98aa2426",
   "metadata": {
    "editable": true,
    "slideshow": {
     "slide_type": "slide"
    },
    "tags": []
   },
   "source": [
    "## Syntax for `return` values\n",
    "\n",
    "To return a value from a function you've defined, put the `return` statmeent at the end of your function (followed by a value or an expression). \n",
    "- whenever the return statement is executed, the corresponding value is returned to the code that called the function. "
   ]
  },
  {
   "cell_type": "code",
   "execution_count": 1,
   "id": "b87b9242-cb1d-41d6-8b9e-64df8dc44f94",
   "metadata": {
    "editable": true,
    "slideshow": {
     "slide_type": ""
    },
    "tags": []
   },
   "outputs": [
    {
     "name": "stdout",
     "output_type": "stream",
     "text": [
      "On the moon, I would weigh 29.75652 pounds!\n"
     ]
    }
   ],
   "source": [
    "def weight_on_moon(earth_weight):\n",
    "    result = earth_weight * 0.165314\n",
    "    return result\n",
    "moon_weight = weight_on_moon(180)\n",
    "print(\"On the moon, I would weigh\",moon_weight, \"pounds!\")"
   ]
  },
  {
   "cell_type": "markdown",
   "id": "92e9fc3d-0b07-4634-822f-0b27e4a70958",
   "metadata": {
    "editable": true,
    "slideshow": {
     "slide_type": "slide"
    },
    "tags": []
   },
   "source": [
    "# New keyword `global`\n",
    "\n",
    "If you really want to change a global variable inside a function, you have to use the `global` keyword. "
   ]
  },
  {
   "cell_type": "code",
   "execution_count": 9,
   "id": "677f0051-99dc-4341-949b-bf5cd5dce52b",
   "metadata": {
    "editable": true,
    "slideshow": {
     "slide_type": ""
    },
    "tags": []
   },
   "outputs": [
    {
     "name": "stdout",
     "output_type": "stream",
     "text": [
      "30\n",
      "30\n"
     ]
    }
   ],
   "source": [
    "# experiments with global variables\n",
    "num_students = 350 # this is global bc it's defined outside of a function\n",
    "\n",
    "def first_grade_classroom():\n",
    "    global num_students # here, we tell it to use the global variable\n",
    "    num_students = 30\n",
    "    print(num_students)\n",
    "\n",
    "def second_grade_classroom():\n",
    "    print(num_students)\n",
    "\n",
    "first_grade_classroom()\n",
    "second_grade_classroom()"
   ]
  },
  {
   "cell_type": "markdown",
   "id": "22d456e2-b999-4247-90da-051c4b3c206c",
   "metadata": {
    "editable": true,
    "slideshow": {
     "slide_type": "slide"
    },
    "tags": []
   },
   "source": [
    "# Local v Global Variables\n",
    "\n",
    "In general, we prefer __local__ variables to __global__. \n",
    "\n",
    "Global variables are to be avoided. \n",
    "- keep all of your code (including varaibles) inside of functions -- use local variables.\n",
    "\n",
    "Why?\n",
    "- as programs grow in size, it's difficult to keep all of the global variables in mind.\n",
    "- With a global variable, any function could possible chagne it's value.\n",
    "    - the repercussions could cause other code to break\n",
    "- It makes developing code in teams difficult\n",
    "    - You would need to communicate all of the variable names with your team all the time. "
   ]
  },
  {
   "cell_type": "markdown",
   "id": "79c16362-c09f-4130-bee4-04de7604ca61",
   "metadata": {
    "editable": true,
    "slideshow": {
     "slide_type": "slide"
    },
    "tags": []
   },
   "source": [
    "## Multiple Parameters Review:\n",
    "\n",
    "Recall that when using multiple parameters, the order matters!"
   ]
  },
  {
   "cell_type": "code",
   "execution_count": 1,
   "id": "3c9475ed-417d-4b8d-846b-4430b866351b",
   "metadata": {
    "editable": true,
    "slideshow": {
     "slide_type": ""
    },
    "tags": []
   },
   "outputs": [],
   "source": [
    "def split_bill(total, tax, tip, num_people): # multiple params\n",
    "    amount = (total+ total*tax + total*tip) / num_people\n",
    "    return amount\n",
    "\n",
    "amount_per_person = split_bill(100, 0.06, 0.15, 4) # multiple args"
   ]
  },
  {
   "cell_type": "markdown",
   "id": "25bef588-dcfa-47db-a8a3-40d34949d556",
   "metadata": {
    "editable": true,
    "slideshow": {
     "slide_type": "slide"
    },
    "tags": []
   },
   "source": [
    "# Keyword Arguments:\n",
    "__Keyword arguments__ allow the argument to be specified by the _name of the parameter_ (i.e. `tax=0.06`, `num_people=4` etc), rather than the position in the call to the function."
   ]
  },
  {
   "cell_type": "code",
   "execution_count": 2,
   "id": "dddcfdcd-3b2f-4b21-9d68-226ae2538ff4",
   "metadata": {
    "editable": true,
    "slideshow": {
     "slide_type": ""
    },
    "tags": []
   },
   "outputs": [],
   "source": [
    "def split_bill(total, tax, tip, num_people): # multiple params\n",
    "    amount = (total+ total*tax + total*tip) / num_people\n",
    "    return amount\n",
    "    \n",
    "# with keyword arguments, the order of args does not matter\n",
    "amount_per_person = split_bill(tax=0.06, num_people=4, total=100, tip=0.15) "
   ]
  },
  {
   "cell_type": "markdown",
   "id": "a1198c09-d29e-4bd6-bae4-6deaf7a5a0df",
   "metadata": {
    "editable": true,
    "slideshow": {
     "slide_type": "slide"
    },
    "tags": []
   },
   "source": [
    "# Default Parameters\n",
    "\n",
    "Sometimes a function may have a parameter that is almost always called with the same argument. "
   ]
  },
  {
   "cell_type": "markdown",
   "id": "db9512a7-4fc5-4534-8b01-f9b537fa6936",
   "metadata": {
    "editable": true,
    "slideshow": {
     "slide_type": "fragment"
    },
    "tags": []
   },
   "source": [
    "Python allows the definition of a function to supply __default parameter__ values-- values that will be used if no other value is passed in."
   ]
  },
  {
   "cell_type": "markdown",
   "id": "ca564fcf-de1b-4113-aa31-77a863e708fb",
   "metadata": {
    "editable": true,
    "slideshow": {
     "slide_type": "fragment"
    },
    "tags": []
   },
   "source": [
    "If the parameter corresponding to an argument is not specified in the function call, the __default value__ is used"
   ]
  },
  {
   "cell_type": "markdown",
   "id": "9ee4f754-d336-4d97-bafa-279982df091b",
   "metadata": {
    "editable": true,
    "slideshow": {
     "slide_type": "fragment"
    },
    "tags": []
   },
   "source": [
    "The use of default parameters allows the use of the function to be very versatile. The number of arguments supplied can be variable"
   ]
  },
  {
   "cell_type": "markdown",
   "id": "8b55817f-77ba-458d-b5e2-6ac5ae0d7289",
   "metadata": {
    "editable": true,
    "slideshow": {
     "slide_type": "slide"
    },
    "tags": []
   },
   "source": [
    "## Default Parameters Example:"
   ]
  },
  {
   "cell_type": "code",
   "execution_count": 30,
   "id": "d3aad828-ba28-4ab5-ae18-284edef6167d",
   "metadata": {
    "editable": true,
    "slideshow": {
     "slide_type": "slide"
    },
    "tags": []
   },
   "outputs": [
    {
     "name": "stdout",
     "output_type": "stream",
     "text": [
      "Each person owes $62.0\n"
     ]
    }
   ],
   "source": [
    "#            default params v       v               v\n",
    "def split_bill(total, tax=0.06, tip=0.18, num_people=2): # multiple params\n",
    "    amount = (total+ total*tax + total*tip) / num_people\n",
    "    return amount\n",
    "    \n",
    "# with default params, we only need to provide an arg for params without defaults\n",
    "amount_per_person = split_bill(100) \n",
    "print(\"Each person owes $\", amount_per_person, sep=\"\")"
   ]
  },
  {
   "cell_type": "markdown",
   "id": "d21677c4-925c-4912-a480-c2aad60b96a9",
   "metadata": {
    "editable": true,
    "slideshow": {
     "slide_type": "slide"
    },
    "tags": []
   },
   "source": [
    "## Function Overview:\n",
    "Functions are a great way to __reuse__ code, they make code modular, easier to debug, and easier to work together on.\n",
    "\n",
    "They use __arguments__ and __parameters__ to pass values between functions. \n",
    "\n",
    "__Keyword arguments__ allow us to pass args to a function out of order\n",
    "\n",
    "__Default parameters__ allow us to set some default values in the function definition and not always pass a value to every param.\n",
    "\n",
    "Inside of a function, the __scope__ of variables is __local__. \n",
    "\n",
    "Outside of a function, the __scope__ of variables is __global__.\n"
   ]
  },
  {
   "cell_type": "markdown",
   "id": "fce19d6b-6a4c-461c-9b48-24cb9036fc4d",
   "metadata": {
    "editable": true,
    "id": "JW2Otr2bsoYZ",
    "slideshow": {
     "slide_type": "slide"
    },
    "tags": []
   },
   "source": [
    "# ✨ New Material"
   ]
  },
  {
   "cell_type": "markdown",
   "id": "a6b90575-95e0-4f4d-bb4f-211a31160638",
   "metadata": {
    "editable": true,
    "id": "-CXj-99OsoYZ",
    "slideshow": {
     "slide_type": "slide"
    },
    "tags": []
   },
   "source": [
    "![image of all of the Doctors from Doctor Who](https://upload.wikimedia.org/wikipedia/en/8/80/Versions_of_the_Doctor.jpg)"
   ]
  },
  {
   "cell_type": "markdown",
   "id": "41e2c59f-8d4b-4bf8-bb38-462d6bf6c209",
   "metadata": {
    "editable": true,
    "id": "Ml71lDoQsoYZ",
    "slideshow": {
     "slide_type": "slide"
    },
    "tags": []
   },
   "source": [
    "# 🥤Containers\n",
    "\n",
    "Some types in Python are used for storing a collection of values. These types are called __containers__.\n",
    "\n",
    "__List:__ a container type that stores values in a ordered _sequence_"
   ]
  },
  {
   "cell_type": "markdown",
   "id": "11aa2131-36ae-4153-b8bb-113bee00f4d0",
   "metadata": {
    "editable": true,
    "id": "gkflCWoSsoYZ",
    "slideshow": {
     "slide_type": ""
    },
    "tags": []
   },
   "source": [
    "values in a list are called __items__ or __elements__, e.g., `\"Capaldi\"`, `0.3`\n",
    "\n",
    "__Syntax__: start with `[`, end with `]`, separate with `,`\n",
    "\n",
    "Lists can store different types of data in the same list. See `dates` below."
   ]
  },
  {
   "cell_type": "code",
   "execution_count": null,
   "id": "7ab2910e-5792-4411-afd8-689a4086fcf0",
   "metadata": {
    "editable": true,
    "id": "lMLkSGFIsoYZ",
    "slideshow": {
     "slide_type": "fragment"
    },
    "tags": []
   },
   "outputs": [],
   "source": [
    "doctor_who_actors = [\"Tennant\", \"Smith\",\"Capaldi\",\"Whittaker\", \"Gatwa\"]\n",
    "rainfall_amounts = [0.0, 0.3, 0.71, 0.0, 0.32, 1.1, 0.4]\n",
    "dates = [\"March 14, 2020\", 2021, \"4/1\"]\n",
    "empty_list = []"
   ]
  },
  {
   "cell_type": "markdown",
   "id": "d4b807cd-e5ba-4c25-a0f8-ec1ae81be800",
   "metadata": {
    "editable": true,
    "slideshow": {
     "slide_type": "slide"
    },
    "tags": []
   },
   "source": [
    "## Creating a new list\n",
    "\n",
    "To create a new list, use the following:\n",
    "- if it's an empty list:"
   ]
  },
  {
   "cell_type": "code",
   "execution_count": 6,
   "id": "d116f179-9d72-444c-92ca-34ff2b4d7e62",
   "metadata": {
    "editable": true,
    "slideshow": {
     "slide_type": ""
    },
    "tags": []
   },
   "outputs": [],
   "source": [
    "my_list = []"
   ]
  },
  {
   "cell_type": "markdown",
   "id": "e79f3da4-4cea-4348-a8e6-971cc4ec1098",
   "metadata": {
    "editable": true,
    "slideshow": {
     "slide_type": ""
    },
    "tags": []
   },
   "source": [
    "- if you have some values to put into it already:"
   ]
  },
  {
   "cell_type": "code",
   "execution_count": 7,
   "id": "cea97c19-e9df-45e7-b342-2c95611382a2",
   "metadata": {
    "editable": true,
    "slideshow": {
     "slide_type": ""
    },
    "tags": []
   },
   "outputs": [],
   "source": [
    "my_list = [\"red\", \"green\", \"blue\"]"
   ]
  },
  {
   "cell_type": "markdown",
   "id": "c7630c0b-ce61-46ac-8a96-174fc39c0882",
   "metadata": {
    "editable": true,
    "id": "bb_f47NosoYZ",
    "slideshow": {
     "slide_type": "slide"
    },
    "tags": []
   },
   "source": [
    "## Accessing items in a list\n",
    "\n",
    "You can access individual items in a list using their __index__, which is their position in the list:\n",
    "- indices _start at 0_\n",
    "- Use `[ ]` at the end of the list to access the index\n",
    "- Between the brackets, you can put a number or a variable (of type int)\n"
   ]
  },
  {
   "cell_type": "code",
   "execution_count": null,
   "id": "73ad5e64-7639-4ea3-8b6b-31e46ffdac69",
   "metadata": {
    "editable": true,
    "id": "fEEfCIbIsoYZ",
    "slideshow": {
     "slide_type": ""
    },
    "tags": []
   },
   "outputs": [],
   "source": [
    "#           index:       0      1          2        3          4 (notice it doens't go to 5, since we start at 0)\n",
    "doctor_who_actors = [\"Tennant\",\"Smith\",\"Capaldi\",\"Whittaker\", \"Gatwa\"]\n",
    "print(doctor_who_actors[4])"
   ]
  },
  {
   "cell_type": "code",
   "execution_count": null,
   "id": "5b3c5fff-cc9f-4832-ab8a-0bfe0dcc0b9f",
   "metadata": {
    "id": "sjh5ey9jsoYZ"
   },
   "outputs": [],
   "source": [
    "i = 3\n",
    "rainfall_amounts = [0.0, 0.3, 0.71, 0.0, 0.32, 1.1, 0.4]\n",
    "print(rainfall_amounts[5])"
   ]
  },
  {
   "cell_type": "markdown",
   "id": "944b626e-dbea-4f60-ae7a-3642d78231ae",
   "metadata": {
    "editable": true,
    "id": "fY1wv2CZsoYa",
    "slideshow": {
     "slide_type": "slide"
    },
    "tags": []
   },
   "source": [
    "Using index notation, you can treat an item in a list like any other variable:\n",
    "- you can use it in an expression\n",
    "- you can print it out\n",
    "- or... do whatever else you want with it"
   ]
  },
  {
   "cell_type": "code",
   "execution_count": null,
   "id": "2730af2a-dfad-491c-bd82-d10ac70c799f",
   "metadata": {
    "id": "hJnmczzcsoYa",
    "outputId": "41f1bc94-b872-4336-ad29-e3155f78df2a"
   },
   "outputs": [
    {
     "data": {
      "text/plain": [
       "1.5"
      ]
     },
     "execution_count": 82,
     "metadata": {},
     "output_type": "execute_result"
    }
   ],
   "source": [
    "rainfall_amounts = [0.0, 0.3, 0.71, 0.0, 0.32, 1.1, 0.4]\n",
    "total_weekend_rainfall = rainfall_amounts[5] + rainfall_amounts[6]\n",
    "print(total_weekend_rainfall)"
   ]
  },
  {
   "cell_type": "markdown",
   "id": "84decb00-1236-4db4-97a0-17dc20551b86",
   "metadata": {
    "editable": true,
    "id": "Hvt2cG75soYa",
    "slideshow": {
     "slide_type": "slide"
    },
    "tags": []
   },
   "source": [
    "You will get an error if you try to access an item using an index that is too big for the list."
   ]
  },
  {
   "cell_type": "code",
   "execution_count": null,
   "id": "0b9e0f44-d007-4b3c-9472-521634e9248a",
   "metadata": {
    "id": "_bZn1ACasoYa",
    "outputId": "dfb15248-2d7b-4539-81d9-fbe9bf2fcf15"
   },
   "outputs": [
    {
     "ename": "IndexError",
     "evalue": "list index out of range",
     "output_type": "error",
     "traceback": [
      "\u001b[0;31m---------------------------------------------------------------------------\u001b[0m",
      "\u001b[0;31mIndexError\u001b[0m                                Traceback (most recent call last)",
      "\u001b[0;32m<ipython-input-85-596a7f154715>\u001b[0m in \u001b[0;36m<module>\u001b[0;34m\u001b[0m\n\u001b[1;32m      1\u001b[0m \u001b[0mdoctor_who_actors\u001b[0m \u001b[0;34m=\u001b[0m \u001b[0;34m[\u001b[0m\u001b[0;34m\"Tennant\"\u001b[0m\u001b[0;34m,\u001b[0m\u001b[0;34m\"Smith\"\u001b[0m\u001b[0;34m,\u001b[0m\u001b[0;34m\"Capaldi\"\u001b[0m\u001b[0;34m,\u001b[0m\u001b[0;34m\"Whittaker\"\u001b[0m\u001b[0;34m,\u001b[0m \u001b[0;34m\"Gatwa\"\u001b[0m\u001b[0;34m]\u001b[0m\u001b[0;34m\u001b[0m\u001b[0;34m\u001b[0m\u001b[0m\n\u001b[0;32m----> 2\u001b[0;31m \u001b[0mprint\u001b[0m\u001b[0;34m(\u001b[0m\u001b[0mdoctor_who_actors\u001b[0m\u001b[0;34m[\u001b[0m\u001b[0;36m5\u001b[0m\u001b[0;34m]\u001b[0m\u001b[0;34m)\u001b[0m\u001b[0;34m\u001b[0m\u001b[0;34m\u001b[0m\u001b[0m\n\u001b[0m",
      "\u001b[0;31mIndexError\u001b[0m: list index out of range"
     ]
    }
   ],
   "source": [
    "#           index:       0      1          2        3          4 (notice it doens't go to 5, since we start at 0)\n",
    "doctor_who_actors = [\"Tennant\",\"Smith\",\"Capaldi\",\"Whittaker\", \"Gatwa\"]\n",
    "print(doctor_who_actors[5])"
   ]
  },
  {
   "cell_type": "markdown",
   "id": "021a51ac-b74f-4c66-83ab-caf03911bf16",
   "metadata": {
    "editable": true,
    "id": "Qfxp9mursoYa",
    "slideshow": {
     "slide_type": "slide"
    },
    "tags": []
   },
   "source": [
    "But, if you use a negative index, it will count from the back of the list."
   ]
  },
  {
   "cell_type": "code",
   "execution_count": null,
   "id": "6559c5a1-7d0b-4931-adaf-70c8bcbde98d",
   "metadata": {
    "id": "zmyJ93LasoYa",
    "outputId": "a15826ca-9857-462a-9316-102b0780f815"
   },
   "outputs": [
    {
     "name": "stdout",
     "output_type": "stream",
     "text": [
      "Gatwa is the current Doctor.\n",
      "Whittaker was the previous Doctor.\n"
     ]
    }
   ],
   "source": [
    "#           index:     0 (-5)    1 (-4)   2 (-3)   3 (-2)    4 (-1) (- index starts from the end)\n",
    "doctor_who_actors = [\"Tennant\",\"Smith\",\"Capaldi\",\"Whittaker\", \"Gatwa\"]\n",
    "print(doctor_who_actors[-1], \"is the current Doctor.\")\n",
    "print(doctor_who_actors[-2], \"was the previous Doctor.\")"
   ]
  },
  {
   "cell_type": "markdown",
   "id": "72291753-a910-488a-b4e4-a74f231197ab",
   "metadata": {
    "editable": true,
    "id": "Rlj6GMG6soYa",
    "slideshow": {
     "slide_type": "slide"
    },
    "tags": []
   },
   "source": [
    "## Updating items in a list\n",
    "\n",
    "You can also use list notation to change values in a list:\n",
    "- use the index to the position in the list you'd like to change (`rainfall_amounts[2]`) on the right hand side of the assignment operator `=` and the value on the left\n",
    "- `rainfall_amounts[2] = 0.65`"
   ]
  },
  {
   "cell_type": "code",
   "execution_count": null,
   "id": "3f9f3dca-d03d-4e5e-bdd5-9b8559b9fd57",
   "metadata": {
    "id": "uxg_sywXsoYa",
    "outputId": "a9d1ceb0-42c0-42c7-8c34-6ce1da9c0bbb"
   },
   "outputs": [
    {
     "name": "stdout",
     "output_type": "stream",
     "text": [
      "[0.0, 0.3, 0.65, 0.0, 0.32, 1.1, 0.4]\n"
     ]
    }
   ],
   "source": [
    "rainfall_amounts = [0.0, 0.3, 0.71, 0.0, 0.32, 1.1, 0.4]\n",
    "\n",
    "# change 0.71 to 0.65\n",
    "rainfall_amounts[2] = 0.65\n",
    "print(rainfall_amounts)"
   ]
  },
  {
   "cell_type": "markdown",
   "id": "e02a0638-fb29-428c-b23a-d1b05fcc2009",
   "metadata": {
    "editable": true,
    "id": "Yve9e_7-soYb",
    "slideshow": {
     "slide_type": "slide"
    },
    "tags": []
   },
   "source": [
    "## PollEverywhere:\n",
    "\n",
    "Fill in the blank:"
   ]
  },
  {
   "cell_type": "code",
   "execution_count": null,
   "id": "dd1948cb-bacb-4051-b602-2333080aa823",
   "metadata": {
    "editable": true,
    "id": "NL5DZaOOsoYb",
    "outputId": "accde3e6-8e86-4e79-8d7b-32a2a6db8693",
    "slideshow": {
     "slide_type": ""
    },
    "tags": []
   },
   "outputs": [
    {
     "name": "stdout",
     "output_type": "stream",
     "text": [
      "Enter the number of a day 0-6: 6\n",
      "Day 6 had 0.4 inches of rainfall\n"
     ]
    }
   ],
   "source": [
    "rainfall_amounts = [0.0, 0.3, 0.71, 0.0, 0.32, 1.1, 0.4]\n",
    "day_num = int(input(\"Enter the number of a day 0-6: \"))\n",
    "print(\"Day\",day_num,\"had\",______________,\"inches of rainfall\") #Fill in the blank to get the output below"
   ]
  },
  {
   "cell_type": "markdown",
   "id": "ea8dffaa-ca32-4b09-93a2-21f15578db9d",
   "metadata": {
    "editable": true,
    "id": "DIMlTMQRsoYb",
    "slideshow": {
     "slide_type": "slide"
    },
    "tags": []
   },
   "source": [
    "Add the line of code that will update the list with the new value."
   ]
  },
  {
   "cell_type": "code",
   "execution_count": null,
   "id": "8885d0c5-86f6-4c4d-90a1-0e124e4f36ea",
   "metadata": {
    "editable": true,
    "id": "VBGl0_AYsoYb",
    "outputId": "a48f7f5b-b7bc-46fe-8712-ad861e1aaa56",
    "slideshow": {
     "slide_type": ""
    },
    "tags": []
   },
   "outputs": [
    {
     "name": "stdout",
     "output_type": "stream",
     "text": [
      "Enter the number of a day 0-6: 3\n",
      "Enter an updated rainfall amount for that day: 0.1\n",
      "[0.0, 0.3, 0.71, 0.1, 0.32, 1.1, 0.4]\n"
     ]
    }
   ],
   "source": [
    "rainfall_amounts = [0.0, 0.3, 0.71, 0.0, 0.32, 1.1, 0.4]\n",
    "day_num = int(input(\"Enter the number of a day 0-6: \"))\n",
    "new_amt = float(input(\"Enter an updated rainfall amount for that day: \"))\n",
    "\n",
    "#new line of code here\n",
    "\n",
    "\n",
    "print(rainfall_amounts)"
   ]
  },
  {
   "cell_type": "markdown",
   "id": "b4e631b0-c9e5-459b-aa3e-ae4089747822",
   "metadata": {
    "editable": true,
    "slideshow": {
     "slide_type": "slide"
    },
    "tags": []
   },
   "source": [
    "# Looping through lists:\n",
    "\n",
    "You will often have a program that will process all of the elements in a list. \n",
    "\n",
    "Examples: \n",
    "- add up all of the elements\n",
    "- Search for the existense of some feature from all elements\n",
    "- print out all of the elements\n",
    "- do a mathematical operation over all elements.\n"
   ]
  },
  {
   "cell_type": "markdown",
   "id": "2b26107a-2a84-47f2-98f4-9c1ac52d8a17",
   "metadata": {
    "editable": true,
    "slideshow": {
     "slide_type": "slide"
    },
    "tags": []
   },
   "source": [
    "## Ways to Loop\n",
    "\n",
    "There are 2 ways to loop:\n",
    "1. __Element-based Looping__ or \"For-Each\" Looping \n",
    "2. __Index-based Looping__: Using `range(len(my_list))`"
   ]
  },
  {
   "cell_type": "markdown",
   "id": "6cf1931b-1214-44ba-8763-d1da262042de",
   "metadata": {
    "editable": true,
    "slideshow": {
     "slide_type": "slide"
    },
    "tags": []
   },
   "source": [
    "## Ways to Loop #1: \"For- Each\" Looping\n",
    "\n",
    "This approach involves looping directly over the elements of the list.\n",
    "\n",
    "Things to notice:\n",
    "- for loop with target variable\n",
    "- it automatically grabs each item in the list and assigns the target variable each value in turn."
   ]
  },
  {
   "cell_type": "code",
   "execution_count": 2,
   "id": "56ebd0ae-cb0c-4d97-853a-65becd55640a",
   "metadata": {
    "editable": true,
    "slideshow": {
     "slide_type": ""
    },
    "tags": []
   },
   "outputs": [
    {
     "name": "stdout",
     "output_type": "stream",
     "text": [
      "1\n",
      "2\n",
      "3\n",
      "4\n",
      "5\n"
     ]
    }
   ],
   "source": [
    "my_list = [1,2,3,4,5]\n",
    "for element in my_list:\n",
    "    print(element)"
   ]
  },
  {
   "cell_type": "markdown",
   "id": "4425556e-eef6-42f8-b261-7f165404cb73",
   "metadata": {
    "editable": true,
    "slideshow": {
     "slide_type": "slide"
    },
    "tags": []
   },
   "source": [
    "## Ways to Loop #2: Index-based Looping\n",
    "This approach invovles looping over the indices of the list and then using those indices to access the elements. \n",
    "\n",
    "Example:"
   ]
  },
  {
   "cell_type": "code",
   "execution_count": 4,
   "id": "b6ec3274-c6ca-404d-996e-b0a5c41ea3fc",
   "metadata": {
    "editable": true,
    "slideshow": {
     "slide_type": ""
    },
    "tags": []
   },
   "outputs": [
    {
     "name": "stdout",
     "output_type": "stream",
     "text": [
      "index:  0 element:  1\n",
      "index:  1 element:  2\n",
      "index:  2 element:  3\n",
      "index:  3 element:  4\n",
      "index:  4 element:  5\n"
     ]
    }
   ],
   "source": [
    "my_list = [1,2,3,4,5]\n",
    "for ndx in range(len(my_list)):\n",
    "    print(\"index: \", ndx, \"element: \",my_list[ndx])"
   ]
  },
  {
   "cell_type": "markdown",
   "id": "8e34f6e5-9545-474d-8339-76fcbcd71ac0",
   "metadata": {
    "editable": true,
    "slideshow": {
     "slide_type": "slide"
    },
    "tags": []
   },
   "source": [
    "## Discussion:\n",
    "\n",
    "When might we want to use Index-based looping rather than \"for each\" looping?"
   ]
  },
  {
   "cell_type": "markdown",
   "id": "77e19eb2-1a85-4ee4-afc8-c97cdbbd75d9",
   "metadata": {
    "editable": true,
    "slideshow": {
     "slide_type": "slide"
    },
    "tags": []
   },
   "source": [
    "### Consider Parallel Lists\n",
    "\n",
    "__Parallel lists__ are two are more list variables that contain related data-- the elements of each list are associated with each other based on their position in the list:"
   ]
  },
  {
   "cell_type": "code",
   "execution_count": 5,
   "id": "3024c805-ebe0-4766-b878-6ea3d856216d",
   "metadata": {
    "editable": true,
    "slideshow": {
     "slide_type": ""
    },
    "tags": []
   },
   "outputs": [
    {
     "name": "stdout",
     "output_type": "stream",
     "text": [
      "apples 100\n",
      "grapes 23\n",
      "bananas 84\n"
     ]
    }
   ],
   "source": [
    "my_list = [\"apples\", \"grapes\", \"bananas\"]\n",
    "quantity = [100, 23,84]\n",
    "\n",
    "for i in range(len(my_list)):\n",
    "    print(my_list[i], quantity[i])"
   ]
  },
  {
   "cell_type": "code",
   "execution_count": null,
   "id": "538d92de-0c5f-4415-9236-4a17894c573b",
   "metadata": {
    "editable": true,
    "id": "nLwPcA6-soYp",
    "outputId": "955c2850-2f5a-42b3-adb3-4c1b0a14a636",
    "scrolled": true,
    "slideshow": {
     "slide_type": ""
    },
    "tags": []
   },
   "outputs": [
    {
     "name": "stdout",
     "output_type": "stream",
     "text": [
      "Day 0 had 0.0 inches of rainfall.\n",
      "Day 1 had 0.3 inches of rainfall.\n",
      "Day 2 had 0.71 inches of rainfall.\n",
      "Day 3 had 0.0 inches of rainfall.\n",
      "Day 4 had 0.32 inches of rainfall.\n",
      "Day 5 had 1.1 inches of rainfall.\n",
      "Day 6 had 0.4 inches of rainfall.\n"
     ]
    }
   ],
   "source": [
    "rainfall = [0.0, 0.3, 0.71, 0.0, 0.32, 1.1, 0.4]\n",
    "counter = 0\n",
    "\n",
    "# [0,1,2,3,4,5,6] < 7\n",
    "while counter < len(rainfall):\n",
    "    print(\"Day\",counter,\"had\", rainfall[counter],\"inches of rainfall.\")\n",
    "    counter += 1"
   ]
  },
  {
   "cell_type": "markdown",
   "id": "074c676e-a7f5-46fc-a4d0-1f54fb8eccd1",
   "metadata": {
    "editable": true,
    "id": "jPV3F0TFsoYb",
    "slideshow": {
     "slide_type": "slide"
    },
    "tags": []
   },
   "source": [
    "# List Operations\n",
    "\n",
    "There are several useful functions that you can use on lists.\n",
    "\n",
    "Some of them require you to pass the list as an argument"
   ]
  },
  {
   "cell_type": "code",
   "execution_count": null,
   "id": "5d09f188-3c88-4792-abc7-6d7090707cf2",
   "metadata": {
    "editable": true,
    "id": "vte45cPosoYb",
    "outputId": "8b9a6365-868f-4478-c014-dc9bc5b72bdd",
    "slideshow": {
     "slide_type": ""
    },
    "tags": []
   },
   "outputs": [
    {
     "data": {
      "text/plain": [
       "7"
      ]
     },
     "execution_count": 102,
     "metadata": {},
     "output_type": "execute_result"
    }
   ],
   "source": [
    "rainfall_amounts = [0.0, 0.3, 0.71, 0.0, 0.32, 1.1, 0.4]\n",
    "len(rainfall_amounts) #length of the list (# of items in list)"
   ]
  },
  {
   "cell_type": "code",
   "execution_count": null,
   "id": "00a7d0c4-3ec7-4946-a96a-e336aa09ff89",
   "metadata": {
    "editable": true,
    "id": "mMsf0WfMsoYb",
    "outputId": "5f1e30b4-ee26-4dd1-d60f-2248288fe857",
    "slideshow": {
     "slide_type": ""
    },
    "tags": []
   },
   "outputs": [
    {
     "data": {
      "text/plain": [
       "1.1"
      ]
     },
     "execution_count": 107,
     "metadata": {},
     "output_type": "execute_result"
    }
   ],
   "source": [
    "max(rainfall_amounts) # largest value in the list"
   ]
  },
  {
   "cell_type": "code",
   "execution_count": null,
   "id": "d4610ff9-59a6-4be4-b67b-497b66b0860c",
   "metadata": {
    "editable": true,
    "id": "NDJJsNKWsoYc",
    "outputId": "c4d02808-ba4e-40f9-de84-73e324991edb",
    "slideshow": {
     "slide_type": ""
    },
    "tags": []
   },
   "outputs": [
    {
     "data": {
      "text/plain": [
       "1.1"
      ]
     },
     "execution_count": 107,
     "metadata": {},
     "output_type": "execute_result"
    }
   ],
   "source": [
    "min(rainfall_amounts) # smallest value in the list"
   ]
  },
  {
   "cell_type": "markdown",
   "id": "7402d184-a96a-402b-a10a-6bb2e76bfafe",
   "metadata": {
    "editable": true,
    "id": "h5Zcewj4soYc",
    "slideshow": {
     "slide_type": "slide"
    },
    "tags": []
   },
   "source": [
    "Some of them require to use the dot notation.\n",
    "\n",
    "Whenever you use a function with dot notation, it is technically called a __method__. The distinction will become more important later, but for now, don't be confused if you see the word _method_ in documentation like here: https://docs.python.org/3/tutorial/datastructures.html"
   ]
  },
  {
   "cell_type": "code",
   "execution_count": null,
   "id": "371826b9-35a4-4c2a-9485-975f16249ad5",
   "metadata": {
    "editable": true,
    "id": "PKCJ0nqWsoYc",
    "outputId": "5052d351-c8ac-484b-b948-2bbe2193f882",
    "slideshow": {
     "slide_type": ""
    },
    "tags": []
   },
   "outputs": [
    {
     "data": {
      "text/plain": [
       "2"
      ]
     },
     "execution_count": 111,
     "metadata": {},
     "output_type": "execute_result"
    }
   ],
   "source": [
    "rainfall_amounts = [0.0, 0.3, 0.71, 0.0, 0.32, 1.1, 0.4]\n",
    "rainfall_amounts.index(0.71) #which index can I find 0.71 at?"
   ]
  },
  {
   "cell_type": "code",
   "execution_count": null,
   "id": "e3d4bf7f-02b7-42e2-8bc4-67f64fe3ee4b",
   "metadata": {
    "editable": true,
    "id": "aFpCkGjusoYc",
    "outputId": "ce8eee67-9ab9-4ff5-b92f-601d832f76fb",
    "slideshow": {
     "slide_type": ""
    },
    "tags": []
   },
   "outputs": [
    {
     "data": {
      "text/plain": [
       "2"
      ]
     },
     "execution_count": 115,
     "metadata": {},
     "output_type": "execute_result"
    }
   ],
   "source": [
    "rainfall_amounts.count(0.0) #how many times does 0.0 appear in the list?"
   ]
  },
  {
   "cell_type": "markdown",
   "id": "14b75341-8266-4448-a801-26041540ce9c",
   "metadata": {
    "editable": true,
    "id": "KzHasrSIsoYc",
    "slideshow": {
     "slide_type": "slide"
    },
    "tags": []
   },
   "source": [
    "## Group Exercises:"
   ]
  },
  {
   "cell_type": "markdown",
   "id": "70eca5ee-fc13-40ee-a62d-298c6b9a208f",
   "metadata": {
    "editable": true,
    "id": "-x1VTl7wsoYl",
    "slideshow": {
     "slide_type": ""
    },
    "tags": []
   },
   "source": [
    "Execute this code and answer the following questions:\n",
    "- What do the `min()` and `sum()` functions do?\n",
    "- What do the `reverse()` and `sort()` function do?\n",
    "- Can you apply `sum()` too the `doctor_who_actors` list?\n",
    "- Write the line of code that will tell you which index `\"Tennant\"` appears at in the `doctor_who_actors` list."
   ]
  },
  {
   "cell_type": "code",
   "execution_count": null,
   "id": "e7597e9e-a9c1-4458-a9e8-5d865ad31483",
   "metadata": {
    "editable": true,
    "id": "WDSvC2nnsoYl",
    "slideshow": {
     "slide_type": ""
    },
    "tags": []
   },
   "outputs": [],
   "source": [
    "doctor_who_actors = [\"Tennant\",\"Smith\",\"Capaldi\",\"Whittaker\", \"Gatwa\"]\n",
    "print( len(doctor_who_actors) )\n",
    "print( max(doctor_who_actors) )\n",
    "\n",
    "rainfall_amounts = [0.0, 0.3, 0.71, 0.0, 0.32, 1.1, 0.4]\n",
    "print( min(rainfall_amounts) )\n",
    "print( sum(rainfall_amounts) )\n",
    "\n",
    "rainfall_amounts.reverse()\n",
    "print(rainfall_amounts)\n",
    "\n",
    "rainfall_amounts.sort()\n",
    "print(rainfall_amounts)\n",
    "print(doctor_who_actors.index(\"Gatwa\"))"
   ]
  },
  {
   "cell_type": "markdown",
   "id": "7ccaa57e-0e3e-440f-8b55-8040b565731f",
   "metadata": {
    "editable": true,
    "id": "VUyOguWFsoYl",
    "slideshow": {
     "slide_type": "slide"
    },
    "tags": []
   },
   "source": [
    "# Testing membership in a list\n",
    "\n",
    "You can test if a value is in a list using the `in` operator."
   ]
  },
  {
   "cell_type": "code",
   "execution_count": null,
   "id": "e12e7f89-92ff-4656-b73d-050a6c125a6e",
   "metadata": {
    "editable": true,
    "id": "awCAacA8soYm",
    "outputId": "54150a56-f160-48fa-bbb4-460caebc8ac4",
    "slideshow": {
     "slide_type": ""
    },
    "tags": []
   },
   "outputs": [
    {
     "name": "stdout",
     "output_type": "stream",
     "text": [
      "True\n"
     ]
    }
   ],
   "source": [
    "doctor_who_actors = [\"McGann\",\"Eccleston\",\"Tennant\",\"Smith\",\"Capaldi\",\"Whittaker\"]\n",
    "print(\"Tennant\" in doctor_who_actors)"
   ]
  },
  {
   "cell_type": "code",
   "execution_count": null,
   "id": "909912f4-dad8-4a49-89a2-9c4eb506c3a8",
   "metadata": {
    "editable": true,
    "id": "pSPC1FNWsoYm",
    "outputId": "47f666c9-51bb-4e4c-d77f-f65960af62e0",
    "slideshow": {
     "slide_type": "fragment"
    },
    "tags": []
   },
   "outputs": [
    {
     "name": "stdout",
     "output_type": "stream",
     "text": [
      "Enter a rainfall amount: .91\n",
      "that does not appear.\n"
     ]
    }
   ],
   "source": [
    "rainfall_amounts = [0.0, 0.3, 0.71, 0.0, 0.32, 1.1, 0.4]\n",
    "amt = float(input(\"Enter a rainfall amount: \"))\n",
    "if amt in rainfall_amounts:\n",
    "    print(\"that amount appears in the list\")\n",
    "else:\n",
    "    print(\"that does not appear.\")"
   ]
  },
  {
   "cell_type": "markdown",
   "id": "5ad540cf-540a-4774-a9cd-97d01430b2a1",
   "metadata": {
    "editable": true,
    "id": "25D7K4E0soYm",
    "slideshow": {
     "slide_type": "slide"
    },
    "tags": []
   },
   "source": [
    "## Group Exercise\n",
    "\n",
    "Fill in the blank"
   ]
  },
  {
   "cell_type": "code",
   "execution_count": null,
   "id": "55dd85c5-5612-4caa-baf3-44a0b181e0e9",
   "metadata": {
    "editable": true,
    "id": "bFzFpYo2soYm",
    "outputId": "4a630b8c-ecfe-46fd-9843-912f1033fc6f",
    "slideshow": {
     "slide_type": ""
    },
    "tags": []
   },
   "outputs": [
    {
     "name": "stdout",
     "output_type": "stream",
     "text": [
      "Enter the last name of an actor: Capaldi\n",
      "Capaldi has played Doctor Who.\n"
     ]
    }
   ],
   "source": [
    "doctor_who_actors = [\"McGann\",\"Eccleston\",\"Tennant\",\"Smith\",\"Capaldi\",\"Whittaker\"]\n",
    "actor = input(\"Enter the last name of an actor: \")\n",
    "\n",
    "if actor in doctor_who_actors:   #fill in the blank\n",
    "    print(________,\"has played Doctor Who.\")\n",
    "else:\n",
    "    print(________, \"has not played Doctor Who... yet\")"
   ]
  },
  {
   "cell_type": "markdown",
   "id": "cbc0ed99-c413-44fc-a038-58d286df4a9f",
   "metadata": {
    "editable": true,
    "hideCode": false,
    "hidePrompt": false,
    "id": "JHV_9m4KsoYm",
    "slideshow": {
     "slide_type": "slide"
    },
    "tags": []
   },
   "source": [
    "# Appending items to the end of a list: `append()`\n",
    "\n",
    "Add new items to the end of a list using the `append()` list method."
   ]
  },
  {
   "cell_type": "code",
   "execution_count": null,
   "id": "5dc7e7a0-61f4-4776-9629-ec987dec3ab7",
   "metadata": {
    "editable": true,
    "hideCode": false,
    "hidePrompt": false,
    "id": "p_SHBV2nsoYm",
    "outputId": "02cea405-9d6f-433b-994f-0391725402cd",
    "slideshow": {
     "slide_type": ""
    },
    "tags": []
   },
   "outputs": [
    {
     "name": "stdout",
     "output_type": "stream",
     "text": [
      "[0.0, 0.3, 0.71, 0.0, 0.32, 1.1, 0.4, 0.1]\n",
      "8\n"
     ]
    }
   ],
   "source": [
    "rainfall_amounts = [0.0, 0.3, 0.71, 0.0, 0.32, 1.1, 0.4]\n",
    "rainfall_amounts.append(0.1)\n",
    "print(rainfall_amounts)\n",
    "print(len(rainfall_amounts))"
   ]
  },
  {
   "cell_type": "markdown",
   "id": "39d71c08-16c6-4b52-afc8-24687a7963d9",
   "metadata": {
    "editable": true,
    "hideCode": false,
    "hidePrompt": false,
    "id": "zFmlecflsoYm",
    "slideshow": {
     "slide_type": "slide"
    },
    "tags": []
   },
   "source": [
    "# Inserting new items into the beginning/middle of a list: `insert()`\n",
    "\n",
    "Add new items to the beginning or middlle of a list using the `insert()` method."
   ]
  },
  {
   "cell_type": "code",
   "execution_count": null,
   "id": "2007f442-ae0f-4837-b766-970cee791e43",
   "metadata": {
    "editable": true,
    "hideCode": false,
    "hidePrompt": false,
    "id": "X0wpnHXZsoYn",
    "outputId": "7bbb57d2-b9de-4d87-ef8b-08f33d658106",
    "slideshow": {
     "slide_type": ""
    },
    "tags": []
   },
   "outputs": [
    {
     "name": "stdout",
     "output_type": "stream",
     "text": [
      "['Hurt', 'McGann', 'Eccleston', 'Tennant', 'Smith', 'Capaldi', 'Whittaker', 'Gatwa']\n"
     ]
    }
   ],
   "source": [
    "doctor_who_actors = [\"McGann\",\"Eccleston\",\"Tennant\",\"Smith\",\"Capaldi\",\"Whittaker\"]\n",
    "doctor_who_actors.insert(0,\"Hurt\")\n",
    "doctor_who_actors.append(\"Gatwa\")\n",
    "print(doctor_who_actors)"
   ]
  },
  {
   "cell_type": "markdown",
   "id": "0beb4c48-407a-46c5-9079-7489511d2b48",
   "metadata": {
    "editable": true,
    "id": "0a9geK69soYn",
    "slideshow": {
     "slide_type": "slide"
    },
    "tags": []
   },
   "source": [
    "## Group Exercise:\n",
    "\n",
    "A programmer wants to write a program that allows new rainfall amounts to appear at the __beginning of the list__. Here's the code they wrote for it, but they have an error in their code. Explain the problem and fix the code."
   ]
  },
  {
   "cell_type": "code",
   "execution_count": null,
   "id": "094385cc-65bb-4f8f-a837-752b2748e2a6",
   "metadata": {
    "editable": true,
    "id": "JMye2GEAsoYn",
    "outputId": "d491d073-da5b-4aac-beea-6f7e087d4330",
    "slideshow": {
     "slide_type": ""
    },
    "tags": []
   },
   "outputs": [
    {
     "name": "stdout",
     "output_type": "stream",
     "text": [
      "Enter a new amount: .98\n",
      "[0.0, 0.3, 0.71, 0.0, 0.32, 1.1, 0.4, 0.98]\n"
     ]
    }
   ],
   "source": [
    "rainfall_amounts = [0.0, 0.3, 0.71, 0.0, 0.32, 1.1, 0.4]\n",
    "new_val = float(input(\"Enter a new amount: \"))\n",
    "rainfall_amounts.append(new_val)\n",
    "print(rainfall_amounts)"
   ]
  },
  {
   "cell_type": "markdown",
   "id": "0715e6f4-f4b4-43e1-8f78-671be90f22b2",
   "metadata": {
    "editable": true,
    "hideCode": false,
    "hidePrompt": false,
    "id": "qBX78rp6soYn",
    "slideshow": {
     "slide_type": "slide"
    },
    "tags": []
   },
   "source": [
    "# Removing items by value: `remove()`\n",
    "\n",
    "When you know the __value__ of the item you want to delete from the list, use the `remove()` method.\n",
    "\n",
    "This will only delete the first instance of the value.\n",
    "\n",
    "If the item isn't there, it will give an error."
   ]
  },
  {
   "cell_type": "code",
   "execution_count": null,
   "id": "d1d2f5a7-dec5-4406-ac08-cd3af766b51e",
   "metadata": {
    "editable": true,
    "hideCode": false,
    "hidePrompt": false,
    "id": "x-zl2Q_msoYn",
    "outputId": "d395a9a4-9ffb-4e48-f121-90c0249f27fc",
    "scrolled": true,
    "slideshow": {
     "slide_type": ""
    },
    "tags": []
   },
   "outputs": [
    {
     "name": "stdout",
     "output_type": "stream",
     "text": [
      "[0.3, 0.71, 0.0, 0.32, 1.1, 0.4]\n"
     ]
    }
   ],
   "source": [
    "rainfall_amounts = [0.0, 0.3, 0.71, 0.0, 0.32, 1.1, 0.4]\n",
    "\n",
    "rainfall_amounts.remove(0.0)\n",
    "print(rainfall_amounts)"
   ]
  },
  {
   "cell_type": "markdown",
   "id": "5935347a-4ada-46a5-b31b-f700b65133db",
   "metadata": {
    "editable": true,
    "id": "cHtesS04soYn",
    "slideshow": {
     "slide_type": "slide"
    },
    "tags": []
   },
   "source": [
    "# Removing items by index: `pop()`\n",
    "\n",
    "When you know the position of the item you want to delete, use the `pop()` method."
   ]
  },
  {
   "cell_type": "code",
   "execution_count": null,
   "id": "8ba0db0a-9159-4784-b021-ea347f6a581e",
   "metadata": {
    "editable": true,
    "id": "Qa8CaxPTsoYn",
    "outputId": "17d710bd-a95d-4c96-8982-ae9d415862fa",
    "slideshow": {
     "slide_type": ""
    },
    "tags": []
   },
   "outputs": [
    {
     "name": "stdout",
     "output_type": "stream",
     "text": [
      "[0.3, 0.71, 0.0, 0.32, 1.1, 0.4]\n",
      "0.0\n"
     ]
    }
   ],
   "source": [
    "rainfall_amounts = [0.0, 0.3, 0.71, 0.0, 0.32, 1.1, 0.4]\n",
    "value = rainfall_amounts.pop(0) # if no argument is given, it will assume -1\n",
    "print(rainfall_amounts)\n",
    "print(value)"
   ]
  },
  {
   "cell_type": "markdown",
   "id": "bbfd803c-54bb-4c0a-befe-00050eb15693",
   "metadata": {
    "editable": true,
    "id": "VXfxnVEAsoYo",
    "slideshow": {
     "slide_type": "slide"
    },
    "tags": []
   },
   "source": [
    "## Group Exercise:\n",
    "\n",
    "A programmer wants to write a program that allows the user to enter a rain amount and then remove that if it is in the list. However, when they test this code, some of the tests cause the program to crash.\n",
    "\n",
    "Explain the problem and write the code that will fix it\n",
    "> _Hint: you might need to add an `if` statement_."
   ]
  },
  {
   "cell_type": "code",
   "execution_count": null,
   "id": "2093ee85-09b6-4597-b9b4-ded987bc791f",
   "metadata": {
    "id": "DlgO2L3osoYo"
   },
   "outputs": [],
   "source": [
    "rainfall_amounts = [0.0, 0.3, 0.71, 0.0, 0.32, 1.1, 0.4]\n",
    "val_to_remove = float(input(\"Enter a value to remove: \"))\n",
    "\n",
    "# remove val_to_remove from list\n",
    "rainfall_amounts.remove(val_to_remove)\n",
    "print(rainfall_amounts)"
   ]
  },
  {
   "cell_type": "markdown",
   "id": "467ce9f1-cd75-4553-9861-cfcebe076e77",
   "metadata": {
    "editable": true,
    "id": "G4GivdpCsoYo",
    "slideshow": {
     "slide_type": "slide"
    },
    "tags": []
   },
   "source": [
    "# Removing all values in a list: `clear()`\n",
    "\n",
    "If you want to clear out a list so that there are no remaining items in it, you can use the `clear()` method."
   ]
  },
  {
   "cell_type": "code",
   "execution_count": null,
   "id": "e37a9a57-6cbc-4b9e-8f1c-8a82abdefac1",
   "metadata": {
    "editable": true,
    "id": "m7bFZFJcsoYo",
    "outputId": "ee50a497-7e0b-4de0-edae-b55c222c02f5",
    "slideshow": {
     "slide_type": ""
    },
    "tags": []
   },
   "outputs": [
    {
     "name": "stdout",
     "output_type": "stream",
     "text": [
      "[]\n"
     ]
    }
   ],
   "source": [
    "rainfall_amounts = [0.0, 0.3, 0.71, 0.0, 0.32, 1.1, 0.4]\n",
    "\n",
    "rainfall_amounts.clear()\n",
    "print(rainfall_amounts)"
   ]
  },
  {
   "cell_type": "markdown",
   "id": "bac6c9d2-012f-445b-b815-079bb3143dd8",
   "metadata": {
    "editable": true,
    "hideCode": false,
    "hidePrompt": false,
    "id": "faGglrTlsoYo",
    "slideshow": {
     "slide_type": "slide"
    },
    "tags": []
   },
   "source": [
    "# Removing items by value: `del`\n",
    "\n",
    "When you know the __index__ of the item(s) you want to delete from the list, use the `del` keyword.\n",
    "\n",
    "This will work on items or slices of the list."
   ]
  },
  {
   "cell_type": "code",
   "execution_count": null,
   "id": "7a0a49cb-8b55-4940-97b4-4536d469b930",
   "metadata": {
    "editable": true,
    "hideCode": false,
    "hidePrompt": false,
    "id": "TPc264Q3soYo",
    "outputId": "f3ef7172-23fa-46fc-a5e9-7aa24101db88",
    "scrolled": true,
    "slideshow": {
     "slide_type": ""
    },
    "tags": []
   },
   "outputs": [
    {
     "name": "stdout",
     "output_type": "stream",
     "text": [
      "[0.0, 0.3, 0.0, 0.32, 1.1, 0.4]\n"
     ]
    }
   ],
   "source": [
    "rainfall_amounts = [0.0, 0.3, 0.71, 0.0, 0.32, 1.1, 0.4]\n",
    "\n",
    "del rainfall_amounts[2:3]\n",
    "\n",
    "print(rainfall_amounts)"
   ]
  },
  {
   "cell_type": "markdown",
   "id": "dd6e30bd-8e0b-42ab-acf4-3a4062a33506",
   "metadata": {
    "editable": true,
    "id": "kea7gIkwsoYp",
    "jp-MarkdownHeadingCollapsed": true,
    "slideshow": {
     "slide_type": "slide"
    },
    "tags": []
   },
   "source": [
    "## List Operation Summary:\n",
    "Last class we talked about **lists**\n",
    "\n",
    "| **Code**                     | **Operation**                                           |\n",
    "|:------------------------------|:---------------------------------------------------------|\n",
    "| `list_sum = sum(my_list)`    | Returns the sum of the elements in the list             |\n",
    "| `num_elements= len(my_list)` | returns number of elements in list                      |\n",
    "| `my_list[1] = 3`             | changes element of the list at index 1                  |\n",
    "| `del my_list[3]`             | deletes element of list at index 3                      |\n",
    "| `my_list.append(7)`          | adds the element 7 to the ened of the list              |\n",
    "| `my_list.pop(2)`             | removes the element at index 2 (also returns the value) |\n",
    "| `my_list.sort()`             | Sorts the list in ascending order                       |\n",
    "| `my_list.sort(reverse=True)` | Sorts the list in descending order                      |\n",
    "| `my_list.reverse()`          | reverses the list                                       |"
   ]
  },
  {
   "cell_type": "markdown",
   "id": "56f94207-0d85-489e-9413-2a304528a116",
   "metadata": {
    "editable": true,
    "id": "CED8eg3ysoYo",
    "slideshow": {
     "slide_type": "slide"
    },
    "tags": []
   },
   "source": [
    "# 🍕 List Slicing:\n",
    "Sometimes you want to work with not just one element, but multiple elements from a list. To do this, we use what is called __list slicing__.\n",
    "\n",
    "A __slice__ of a list is a span of items that are taken from a sequence.\n",
    "- list slicing syntax: `list[ start : end ] `\n",
    "- Span is a list containing copies of elements from `start` up to, but __not including__ `end`\n",
    "- if `start` is not specified, 0 is used for start index\n",
    "- if `end` is not specified, `len(list)` is used for the end index."
   ]
  },
  {
   "cell_type": "code",
   "execution_count": null,
   "id": "4fea9a3f-a778-4d41-81ad-dd3a22a74c86",
   "metadata": {
    "editable": true,
    "id": "xGtVXPzbsoYo",
    "outputId": "f3005cd6-3c6e-4a28-da3b-32be8747ba3a",
    "scrolled": true,
    "slideshow": {
     "slide_type": ""
    },
    "tags": []
   },
   "outputs": [
    {
     "name": "stdout",
     "output_type": "stream",
     "text": [
      "George\n",
      "['Thomas', 'Teddy']\n",
      "['Thomas', 'Teddy', 'Abe']\n",
      "['George', 'Thomas', 'Teddy']\n"
     ]
    }
   ],
   "source": [
    "presidents = [\"George\", \"Thomas\", \"Teddy\", \"Abe\"]\n",
    "print(presidents[0])\n",
    "print(presidents[1:3])\n",
    "print(presidents[1:])\n",
    "print(presidents[:3])"
   ]
  },
  {
   "cell_type": "markdown",
   "id": "cc32f963-4f14-43dc-9e0f-0c2fd7fe803e",
   "metadata": {
    "editable": true,
    "slideshow": {
     "slide_type": ""
    },
    "tags": []
   },
   "source": [
    "# Practice Exercises:\n",
    "\n",
    "1. Create a list called `my_favoirte_movies` and add a few movies to it. Write a loop to print out the contents of this list.\n",
    "2. Write a function called `find_largest_number()` that takes in a list as a parameter and returns the largest number in the list. Try to do this without using the `max()` function.\n",
    "```python\n",
    "numbers = [3, 42, 8, 15, 23, 7]\n",
    "print(find_largest(numbers))  # Output: 42\n",
    "```\n",
    "3. Write a function called `filter_even_numbers()` that takes in a list of numbers and returns a new list containing only the even numbers. Use a loop and the `append()` method to build a new list.\n",
    "```python\n",
    "numbers = [3, 42, 8, 15, 23, 7, 10, 20]\n",
    "print(filter_even_numbers(numbers))  # Output: [42, 8, 10, 20] "
   ]
  }
 ],
 "metadata": {
  "kernelspec": {
   "display_name": "Python 3 (ipykernel)",
   "language": "python",
   "name": "python3"
  },
  "language_info": {
   "codemirror_mode": {
    "name": "ipython",
    "version": 3
   },
   "file_extension": ".py",
   "mimetype": "text/x-python",
   "name": "python",
   "nbconvert_exporter": "python",
   "pygments_lexer": "ipython3",
   "version": "3.12.4"
  }
 },
 "nbformat": 4,
 "nbformat_minor": 5
}

{
 "cells": [
  {
   "cell_type": "code",
   "execution_count": null,
   "id": "9b61ac45-69d5-48ac-849e-60e824098ae3",
   "metadata": {},
   "outputs": [],
   "source": []
  },
  {
   "cell_type": "markdown",
   "id": "d6dfd3fa-4164-4be6-97d4-7fc271ee3fc5",
   "metadata": {
    "editable": true,
    "jp-MarkdownHeadingCollapsed": true,
    "slideshow": {
     "slide_type": ""
    },
    "tags": []
   },
   "source": [
    "# CS65: Day 06\n",
    "\n",
    "## Iteration Part 1: `while` loops\n",
    "\n",
    "### CS65: Introduction to Computer Science I | Fall 2024\n",
    "\n",
    "*Wednesday, September 18th, 2024*\n",
    "\n",
    "### Helpful Resources:\n",
    "[📜 Syllabus](https://docs.google.com/document/d/1nqjmD0yhOOh2gaPwxfjV4EY_dBUIQUur1fvqQ4YPJLA/edit?usp=sharing) | [📬 CodePost Login](https://codepost.io/login) | [📆 Schedule](https://docs.google.com/spreadsheets/d/1Q5-ArPnXwjejKjXSI8WKgF7A2HRAam6Ny3eNA7EHn18/edit?usp=sharing) | [🙋‍♂️ PollEverywhere](https://pollev.com/moore) | [🪴 Office Hour Sign-Up](https://calendly.com/meredith-moore/office-hours)\n",
    "\n",
    "> **Note to self:** Make sure you're recording, silly goose!"
   ]
  },
  {
   "cell_type": "markdown",
   "id": "dc76e884-4504-4c46-8246-c6b686b946f0",
   "metadata": {
    "editable": true,
    "id": "hy85VYM-p3yY",
    "slideshow": {
     "slide_type": "slide"
    },
    "tags": []
   },
   "source": [
    "# Admin Stuff"
   ]
  },
  {
   "cell_type": "markdown",
   "id": "f7c8ad21-7301-40fb-96e8-cc80619d2962",
   "metadata": {
    "editable": true,
    "id": "q3lMpIiap3yY",
    "slideshow": {
     "slide_type": ""
    },
    "tags": []
   },
   "source": [
    "You should be working on:\n",
    "- [Lab #3](https://analytics.drake.edu/~moore/CS65-F24/Lab3.html) due tonight by 11:59 pm\n",
    "- [Lab #4](https://analytics.drake.edu/~moore/CS65-F24/Lab4.html) due\n",
    "\n",
    "Reading:\n",
    "- [While Loop Reading](https://analytics.drake.edu/~urness/CS65Text/Chapter4.html)"
   ]
  },
  {
   "cell_type": "markdown",
   "id": "a15a559f-9ca3-4a9c-9000-066eb1bbebdf",
   "metadata": {
    "editable": true,
    "slideshow": {
     "slide_type": "slide"
    },
    "tags": []
   },
   "source": [
    "## Quiz #1\n",
    "- will be released on Monday, due on Wednesday.\n",
    "- Blackboard quiz\n",
    "- Open notes, open book, no AI assistant usage permitted."
   ]
  },
  {
   "cell_type": "markdown",
   "id": "a0df6268-745b-4cc1-83be-43ce57ae842d",
   "metadata": {
    "editable": true,
    "id": "hlKaJEAkp3yY",
    "slideshow": {
     "slide_type": "slide"
    },
    "tags": []
   },
   "source": [
    "# ⏪ Quick Review:"
   ]
  },
  {
   "cell_type": "markdown",
   "id": "8175a1bf-be02-4f36-9032-4721fb4e9f51",
   "metadata": {
    "editable": true,
    "slideshow": {
     "slide_type": "slide"
    },
    "tags": []
   },
   "source": [
    "## Boolean Operators (`and`, `or`, and `not`)\n",
    "\n",
    "Boolean operators allow you to combine (or negate) boolean expressions:\n",
    "\n",
    "| Boolean operator | Description                                                                                              |\n",
    "|------------------|:----------------------------------------------------------------------------------------------------------|\n",
    "| a `and` b        | __boolean AND__: `True` when both operands are `True`                                                    |\n",
    "| a `or` b         | __boolean OR__: `True` when at least one operand is `True`                                               |\n",
    "| `not` a          | __boolean NOT__ (opposite): True when the signle operand is `False` (and `False` when operand is `True`) |"
   ]
  },
  {
   "cell_type": "markdown",
   "id": "b376e059-9b43-4a67-a569-f8e3629a8253",
   "metadata": {
    "editable": true,
    "slideshow": {
     "slide_type": "slide"
    },
    "tags": []
   },
   "source": [
    "## Quick Question:\n",
    "\n",
    "What's wrong with this?"
   ]
  },
  {
   "cell_type": "code",
   "execution_count": 33,
   "id": "a7b77a44-4503-4390-801f-0b5cf0e49ad7",
   "metadata": {
    "editable": true,
    "slideshow": {
     "slide_type": ""
    },
    "tags": []
   },
   "outputs": [
    {
     "name": "stdout",
     "output_type": "stream",
     "text": [
      "name a state with only 4 letters Illinois\n",
      "correct\n"
     ]
    }
   ],
   "source": [
    "state = input(\"name a state with only 4 letters \")\n",
    "\n",
    "if state == \"Iowa\" or \"Utah\" or \"Ohio\": \n",
    "    print(\"correct\")\n",
    "else: \n",
    "    print(\"wrong!\")"
   ]
  },
  {
   "cell_type": "code",
   "execution_count": 37,
   "id": "0930851a-9bde-47ff-9cd4-7c25a163216f",
   "metadata": {
    "editable": true,
    "scrolled": true,
    "slideshow": {
     "slide_type": "slide"
    },
    "tags": []
   },
   "outputs": [
    {
     "name": "stdout",
     "output_type": "stream",
     "text": [
      "name a state with only 4 letters Minnesota\n",
      "wrong!\n"
     ]
    }
   ],
   "source": [
    "state = input(\"name a state with only 4 letters \")\n",
    "\n",
    "if state == \"Iowa\" or state == \"Utah\" or state==\"Ohio\":\n",
    "    print(\"correct\")\n",
    "else:\n",
    "    print(\"wrong!\")"
   ]
  },
  {
   "cell_type": "markdown",
   "id": "cb567bce-9289-4c06-84cb-53b8e90c398d",
   "metadata": {
    "editable": true,
    "id": "LJ6TTtZZlJKi",
    "slideshow": {
     "slide_type": "slide"
    },
    "tags": []
   },
   "source": [
    "# ✨ New Material"
   ]
  },
  {
   "cell_type": "markdown",
   "id": "a49e4a22-955a-42ff-94e0-a4ff558dcfa2",
   "metadata": {
    "editable": true,
    "slideshow": {
     "slide_type": "slide"
    },
    "tags": []
   },
   "source": [
    "## Repeating code\n",
    "\n",
    "\n",
    "Sometimes we want a section of our code to repeat multiple times. For this we use a __loop__. \n",
    "\n",
    "The first loop we're going to look at is a `while` loop. Its syntax is a lot like the `if` statement (but there's no else part):\n",
    "* keyword `while`\n",
    "* condition\n",
    "* colon `:`\n",
    "* indented block of code\n",
    "\n",
    "**Example**: remember this code we wrote for a simple guess-the-number game? What if we want the user to be able to keep guess until they get it right?"
   ]
  },
  {
   "cell_type": "code",
   "execution_count": 42,
   "id": "a22c258d-d33b-46d5-8464-2f47a33379b2",
   "metadata": {
    "editable": true,
    "slideshow": {
     "slide_type": "slide"
    },
    "tags": []
   },
   "outputs": [
    {
     "name": "stdout",
     "output_type": "stream",
     "text": [
      "Guess a number: 5\n",
      "Wrong!\n",
      "Guess a number: 7\n",
      "That was right, good guess!\n",
      "Thank you for playing!\n"
     ]
    }
   ],
   "source": [
    "secret_number = 7\n",
    "guess = 0\n",
    "\n",
    "while guess != secret_number:\n",
    "    guess = int(input(\"Guess a number: \"))\n",
    "\n",
    "    if guess == secret_number:\n",
    "        print(\"That was right, good guess!\")\n",
    "    else:\n",
    "        print(\"Wrong!\")\n",
    "\n",
    "print(\"Thank you for playing!\") "
   ]
  },
  {
   "cell_type": "markdown",
   "id": "372aaedc-b138-4b82-8ce8-dc4523276a08",
   "metadata": {
    "slideshow": {
     "slide_type": "slide"
    }
   },
   "source": [
    "## Input validation\n",
    "\n",
    "__input validation:__ making sure the user's input makes sense for the program\n",
    "\n",
    "We can use the same pattern as the guess-the-number loop to make an input-validation loop."
   ]
  },
  {
   "cell_type": "code",
   "execution_count": 44,
   "id": "127d9f9f-b754-4451-9545-98af17e6abec",
   "metadata": {},
   "outputs": [
    {
     "name": "stdout",
     "output_type": "stream",
     "text": [
      "Soccer team registration form\n",
      "How many players on your team (minimum 11)? 0\n",
      "How many players on your team (minimum 11)? -5\n",
      "How many players on your team (minimum 11)? 12\n",
      "Registering team with 12 players...\n"
     ]
    }
   ],
   "source": [
    "print(\"Soccer team registration form\")\n",
    "num_players = 0\n",
    "\n",
    "while num_players < 11:\n",
    "    num_players = int(input(\"How many players on your team (minimum 11)? \"))\n",
    "    \n",
    "print(\"Registering team with\",num_players,\"players...\")"
   ]
  },
  {
   "cell_type": "markdown",
   "id": "98043c54-c95f-4af3-a0c9-becbc52e384b",
   "metadata": {
    "slideshow": {
     "slide_type": "slide"
    }
   },
   "source": [
    "## Counting\n",
    "\n",
    "Loops are good for counting things. A variable that is used to count something is called a  __counter__.\n",
    "\n",
    "Let's say we want to count how many guesses it took for the user to guess the number."
   ]
  },
  {
   "cell_type": "code",
   "execution_count": 48,
   "id": "d0ae394b-3b8a-49af-a549-25690b10d5dc",
   "metadata": {},
   "outputs": [
    {
     "name": "stdout",
     "output_type": "stream",
     "text": [
      "Guess a number: 1\n",
      "Wrong!\n",
      "Guess a number: 2\n",
      "Wrong!\n",
      "Guess a number: 3\n",
      "Wrong!\n",
      "Guess a number: 4\n",
      "Wrong!\n",
      "Guess a number: 5\n",
      "Wrong!\n",
      "Sorry :(\n",
      "That took 5 guesses\n"
     ]
    }
   ],
   "source": [
    "secret_number = 7\n",
    "guess = 0\n",
    "guess_counter = 0\n",
    "\n",
    "while guess != secret_number and guess_counter <= 5:\n",
    "    guess = int(input(\"Guess a number: \"))\n",
    "    guess_counter += 1 #this is the same as guess_counter = guess_counter + 1\n",
    "\n",
    "    if guess == secret_number:\n",
    "        print(\"That was right, good guess!\")\n",
    "    else:\n",
    "        print(\"Wrong!\")\n",
    "        \n",
    "if guess == secret_number:\n",
    "    print(\"Congrats!\")\n",
    "else:\n",
    "    print(\"Sorry :(\")\n",
    "\n",
    "print(\"That took\",guess_counter,\"guesses\")"
   ]
  },
  {
   "cell_type": "markdown",
   "id": "8e1d641e-0830-459a-ac6a-276e99afd9de",
   "metadata": {
    "slideshow": {
     "slide_type": "slide"
    }
   },
   "source": [
    "## Thonny Debugger Demo\n",
    "\n",
    "The Thonny debugger is a helpful tool that allows you to step through your program and watch what's happening as it executes. \n",
    "\n",
    "Let's look at how to use it now.\n",
    "\n",
    "You should get in the habit of using the debugger to help identify logic errors in your code."
   ]
  },
  {
   "cell_type": "markdown",
   "id": "ea59e44c-9249-4f8c-a531-b5fa762aae14",
   "metadata": {
    "editable": true,
    "slideshow": {
     "slide_type": "slide"
    },
    "tags": []
   },
   "source": [
    "## Count-controlled loops\n",
    "\n",
    "You can even use counter variables to control how many times the loop will run."
   ]
  },
  {
   "cell_type": "code",
   "execution_count": 49,
   "id": "9967c3e9-3069-40bc-a088-1985f03778bb",
   "metadata": {
    "editable": true,
    "slideshow": {
     "slide_type": ""
    },
    "tags": []
   },
   "outputs": [
    {
     "name": "stdout",
     "output_type": "stream",
     "text": [
      "0\n",
      "1\n",
      "2\n",
      "3\n",
      "4\n",
      "5\n",
      "6\n",
      "7\n",
      "8\n",
      "9\n",
      "all done\n"
     ]
    }
   ],
   "source": [
    "val = 0\n",
    "while val < 10:\n",
    "    print(val)\n",
    "    val += 1\n",
    "print(\"all done\")"
   ]
  },
  {
   "cell_type": "markdown",
   "id": "d21ddce4-50c0-4dd3-aacc-5f36eb04fcbf",
   "metadata": {
    "editable": true,
    "slideshow": {
     "slide_type": "slide"
    },
    "tags": []
   },
   "source": [
    "# PollEverywhere:\n",
    "\n",
    "How will the output of these loops be different?"
   ]
  },
  {
   "cell_type": "code",
   "execution_count": null,
   "id": "6b56f95e-4a20-480e-b1c9-331e7b2273e9",
   "metadata": {
    "editable": true,
    "slideshow": {
     "slide_type": ""
    },
    "tags": []
   },
   "outputs": [],
   "source": [
    "val = 0\n",
    "while val < 10:\n",
    "    print(val)\n",
    "    val += 1\n",
    "print(\"all done\")"
   ]
  },
  {
   "cell_type": "code",
   "execution_count": null,
   "id": "5c86d6e9-341d-4e3f-8cb1-14098f3e5b7e",
   "metadata": {},
   "outputs": [],
   "source": [
    "val = 0\n",
    "while val < 10:\n",
    "    val += 1\n",
    "    print(val)\n",
    "print(\"all done\")"
   ]
  },
  {
   "cell_type": "markdown",
   "id": "9cb70ef6-b7b1-4e80-b5d4-385fa2d160a3",
   "metadata": {
    "slideshow": {
     "slide_type": "slide"
    }
   },
   "source": [
    "## Another example:"
   ]
  },
  {
   "cell_type": "code",
   "execution_count": null,
   "id": "091af0c1-d0d1-428f-86d6-003be2f95ad7",
   "metadata": {},
   "outputs": [],
   "source": [
    "how_far = int(input(\"How far should we make the car drive?\"))\n",
    "counter = 0\n",
    "\n",
    "while counter < how_far:\n",
    "    print(\"Time\",counter)\n",
    "    print(\"\\t\"*counter+\"  ______\")\n",
    "    print(\"\\t\"*counter+\" /|_||_\\`.__\")\n",
    "    print(\"\\t\"*counter+\"(   _    _ _\\\\\")\n",
    "    print(\"\\t\"*counter+\"=`-(_)--(_)-')\")\n",
    "    counter += 1\n",
    "print(\"Safe travels.\")"
   ]
  },
  {
   "cell_type": "markdown",
   "id": "a77e23a4-f955-4ec8-bd5f-1928ee915cfd",
   "metadata": {
    "slideshow": {
     "slide_type": "slide"
    }
   },
   "source": [
    "## Accumulation\n",
    "\n",
    "An __accumulator__ variable keeps a running total of something. Loops are good for this too."
   ]
  },
  {
   "cell_type": "code",
   "execution_count": 56,
   "id": "3ee60b94-18d7-4389-84f6-c1103d6eb00e",
   "metadata": {},
   "outputs": [
    {
     "name": "stdout",
     "output_type": "stream",
     "text": [
      "Enter item cost (0 to quit): 20\n",
      "Enter item cost (0 to quit): 25\n",
      "Enter item cost (0 to quit): 20\n",
      "Enter item cost (0 to quit): 0\n",
      "The total is 65.0\n",
      "The average cost was:  13.0\n"
     ]
    }
   ],
   "source": [
    "total_bill = 0.0 #accumulator\n",
    "item_cost = -1\n",
    "num_items = 1\n",
    "\n",
    "while item_cost != 0.0:\n",
    "    \n",
    "    item_cost = float(input(\"Enter item cost (0 to quit): \"))\n",
    "    total_bill += item_cost #this is the same as total_bill = total_bill + item_co st\n",
    "    num_items+=1\n",
    "    \n",
    "print(\"The total is\",total_bill)\n",
    "avg_cost=total_bill/num_items\n",
    "print(\"The average cost was: \",avg_cost)"
   ]
  },
  {
   "cell_type": "markdown",
   "id": "67929641-99ab-4b89-aa09-913d45ab3037",
   "metadata": {
    "slideshow": {
     "slide_type": "slide"
    }
   },
   "source": [
    "# Infinite Loops\n",
    "\n",
    "In all but rare cases, loops must contain within themselves a way to terminate.\n",
    "\n",
    "Something that makes the test condition `False`\n",
    "\n",
    "If your loop does not have a way of stopping, it is called an _infinite loop_.\n",
    "\n",
    "> If you accidentally do this in Thonny, you can kill the program by hitting the STOP button."
   ]
  },
  {
   "cell_type": "code",
   "execution_count": null,
   "id": "ed819008-e503-4c40-b9e0-783a51a6d969",
   "metadata": {},
   "outputs": [],
   "source": [
    "counter = 0\n",
    "while counter < 10:\n",
    "    print(\"counter:\", counter)\n",
    "counter +=1"
   ]
  },
  {
   "cell_type": "markdown",
   "id": "97ffe53c-ea4b-4137-92ea-c92b4fb61cb8",
   "metadata": {
    "slideshow": {
     "slide_type": "slide"
    }
   },
   "source": [
    "## Tips for writing loops\n",
    "\n",
    "* Split it into 3 parts...Think about what needs to happen\n",
    "    - *before the loop*, set up loop control variables with initial values\n",
    "    - *during each loop __iteration__*, what do you need to update _inside_ the loop?\n",
    "    - and *after the loop*, what result do you want to show?"
   ]
  },
  {
   "cell_type": "markdown",
   "id": "43ac7929-6eae-4525-80e1-77779b6ad9a8",
   "metadata": {
    "slideshow": {
     "slide_type": "fragment"
    }
   },
   "source": [
    "* Think about what condition should make the loop end\n",
    "    - Make sure there is something that changes inside the loop that will eventually allow the loop's condition to be `False`\n"
   ]
  },
  {
   "cell_type": "markdown",
   "id": "fce7e740-f0c6-4b1e-b10e-89175dd0b151",
   "metadata": {
    "slideshow": {
     "slide_type": "slide"
    }
   },
   "source": [
    "## Exercise #1:"
   ]
  },
  {
   "cell_type": "code",
   "execution_count": 1,
   "id": "fd3e457d-4874-447f-8c51-94663990b842",
   "metadata": {},
   "outputs": [
    {
     "name": "stdout",
     "output_type": "stream",
     "text": [
      "10\n",
      "9\n",
      "8\n",
      "7\n",
      "6\n",
      "5\n",
      "4\n",
      "3\n",
      "2\n",
      "1\n"
     ]
    }
   ],
   "source": [
    "# write the loop that gives the following output:\n",
    "\n",
    "# before the loop , set variables \n",
    "\n",
    "# during, print and increment "
   ]
  },
  {
   "cell_type": "code",
   "execution_count": 2,
   "id": "8863e862-9af8-4e2f-abff-fa97c193bccf",
   "metadata": {
    "slideshow": {
     "slide_type": "-"
    }
   },
   "outputs": [
    {
     "name": "stdout",
     "output_type": "stream",
     "text": [
      "1\n",
      "2\n",
      "3\n",
      "4\n",
      "5\n",
      "6\n",
      "7\n",
      "8\n",
      "9\n",
      "10\n"
     ]
    }
   ],
   "source": [
    "# write the loop that gives you the following output:\n"
   ]
  },
  {
   "cell_type": "markdown",
   "id": "fa00f47d-5633-45e8-afe4-754717b2034c",
   "metadata": {
    "slideshow": {
     "slide_type": "slide"
    }
   },
   "source": [
    "## Exercise #2:\n",
    "\n",
    "Prompt the user for an integer:\n",
    "\n",
    "Keep on dividing the nubmer by 2 while the number is still greater than or equal to 1:"
   ]
  },
  {
   "cell_type": "code",
   "execution_count": 70,
   "id": "d9726746-ab6e-4c9c-9e45-7d0b65305207",
   "metadata": {},
   "outputs": [
    {
     "name": "stdout",
     "output_type": "stream",
     "text": [
      "please enter a number: 64\n",
      "64.0\n",
      "32.0\n",
      "16.0\n",
      "8.0\n",
      "4.0\n",
      "2.0\n",
      "1.0\n"
     ]
    }
   ],
   "source": [
    "# example output"
   ]
  },
  {
   "cell_type": "code",
   "execution_count": 13,
   "id": "8be72cb7-79af-428b-84e1-587a4bdf8996",
   "metadata": {},
   "outputs": [
    {
     "name": "stdout",
     "output_type": "stream",
     "text": [
      "please enter a number: 13\n",
      "13\n",
      "6.5\n",
      "3.25\n",
      "1.625\n"
     ]
    }
   ],
   "source": [
    "# example output"
   ]
  },
  {
   "cell_type": "markdown",
   "id": "72014ca3-ded9-4a7c-9743-6c540fd024d7",
   "metadata": {
    "slideshow": {
     "slide_type": "slide"
    }
   },
   "source": [
    "## What does this code do?"
   ]
  },
  {
   "cell_type": "code",
   "execution_count": 71,
   "id": "58ae7743-30e1-4c58-a879-4a58f002b296",
   "metadata": {},
   "outputs": [
    {
     "name": "stdout",
     "output_type": "stream",
     "text": [
      "How much did you make today: 50\n",
      "How much did you make today: 10\n",
      "How much did you make today: 70\n",
      "How much did you make today: 100\n",
      "How much did you make today: 50\n",
      "you made a total of 280.0\n"
     ]
    }
   ],
   "source": [
    "total = 0\n",
    "day = 1\n",
    "\n",
    "while day <= 5:\n",
    "    amount = float(input(\"How much did you make today: \"))\n",
    "    total = total + amount \n",
    "    day += 1\n",
    "print(\"you made a total of\", total)"
   ]
  },
  {
   "cell_type": "markdown",
   "id": "6d81c683-5558-4aa6-b6ca-6a5a55ce0a1b",
   "metadata": {
    "slideshow": {
     "slide_type": "slide"
    }
   },
   "source": [
    "## What does this code do?"
   ]
  },
  {
   "cell_type": "code",
   "execution_count": 72,
   "id": "88ed7e0f-722b-4a58-8287-58ce7d68bfee",
   "metadata": {},
   "outputs": [
    {
     "name": "stdout",
     "output_type": "stream",
     "text": [
      "please enter a grade: 5\n",
      "please enter a grade: 5\n",
      "please enter a grade: 4.5\n",
      "please enter a grade: 4.5\n",
      "please enter a grade: 5\n",
      "4.8\n"
     ]
    }
   ],
   "source": [
    "total = 0\n",
    "counter = 0\n",
    "\n",
    "while counter < 5:\n",
    "    grade = float(input(\"please enter a grade: \"))\n",
    "    total += grade\n",
    "    counter += 1\n",
    "print(total / counter) ## what do you expect to be the output?"
   ]
  },
  {
   "cell_type": "markdown",
   "id": "2e646db0-dfa5-4239-a605-5c66c2d46e28",
   "metadata": {
    "slideshow": {
     "slide_type": "slide"
    }
   },
   "source": [
    "## Exercise #3\n",
    "\n",
    "- write a loop that will execute 5 times\n",
    "- within the loop, get a float value from the user (the amount of rain that fell in a day)\n",
    "- use an accumulator to add up all of the rain that fell over the five days\n",
    "- outside of the loop, print out the sum of all of the rainfall"
   ]
  },
  {
   "cell_type": "code",
   "execution_count": 74,
   "id": "f3e3cd9a-f218-4ac1-9e8c-4f2dcd64452a",
   "metadata": {},
   "outputs": [
    {
     "name": "stdout",
     "output_type": "stream",
     "text": [
      "What is the rainfall? 0\n",
      "What is the rainfall? 0\n",
      "What is the rainfall? .5\n",
      "What is the rainfall? .10\n",
      "What is the rainfall? 0\n",
      "There was a total of 0.6 inches of rain\n"
     ]
    }
   ],
   "source": [
    "# example output\n"
   ]
  },
  {
   "cell_type": "markdown",
   "id": "5d9d2cba-40e4-4ccd-9016-70ec8ba267e7",
   "metadata": {
    "slideshow": {
     "slide_type": "slide"
    }
   },
   "source": [
    "## Exercise #4:\n",
    "- 1+2+3+4+5 is 15\n",
    "- 1+2+3+4+5+6 is 21\n",
    "- Prompt the user for an integer. Output the sum of all of the integers up to and including the input number"
   ]
  },
  {
   "cell_type": "code",
   "execution_count": 79,
   "id": "a5955d28-9e8a-4487-90e3-8c56dca2cc5f",
   "metadata": {},
   "outputs": [
    {
     "name": "stdout",
     "output_type": "stream",
     "text": [
      "Please enter an integer: 5\n",
      "the sum of integers 1 through 5 is 15\n"
     ]
    }
   ],
   "source": [
    "# Example output\n"
   ]
  },
  {
   "cell_type": "code",
   "execution_count": 22,
   "id": "f7c91aab-5f40-4fd1-8e9b-b5567961293a",
   "metadata": {},
   "outputs": [
    {
     "name": "stdout",
     "output_type": "stream",
     "text": [
      "Please enter an integer: 6\n",
      "The sum of integers 1 through 6 is 21\n"
     ]
    }
   ],
   "source": [
    "# example output"
   ]
  },
  {
   "cell_type": "code",
   "execution_count": 23,
   "id": "e76fddfc-be51-44c2-a685-72c7fefa22c5",
   "metadata": {},
   "outputs": [
    {
     "name": "stdout",
     "output_type": "stream",
     "text": [
      "Please enter an integer: 200\n",
      "The sum of integers 1 through 200 is 20100\n"
     ]
    }
   ],
   "source": [
    "# example output"
   ]
  },
  {
   "cell_type": "markdown",
   "id": "ebeb2cbd-ae1a-49e2-91f9-378d7e7135bc",
   "metadata": {
    "slideshow": {
     "slide_type": "slide"
    }
   },
   "source": [
    "# If statements within loops\n",
    "\n",
    "Let's _trace_ this code:\n",
    "> _Trace_ means to go through it line by line to deterine how it works\n",
    "\n",
    "Question: What is happening?"
   ]
  },
  {
   "cell_type": "code",
   "execution_count": null,
   "id": "c37359d8-0d11-48cb-b263-bc4cc998da79",
   "metadata": {},
   "outputs": [],
   "source": [
    "a = 0\n",
    "x = 0\n",
    "\n",
    "while a < 5:\n",
    "    a+=1\n",
    "    b = int(input(\"Please enter an integer between 0 and 100: \"))\n",
    "    if b > x:\n",
    "        x = b\n",
    "print(\"The mysterious answer is\", x)"
   ]
  },
  {
   "cell_type": "markdown",
   "id": "cc3c4194-703d-4d9a-ae87-36db5b81fe91",
   "metadata": {
    "editable": true,
    "slideshow": {
     "slide_type": "slide"
    },
    "tags": []
   },
   "source": [
    "## Exercise #5\n",
    "\n",
    "- Write the code that will loop 5 times\n",
    "- Prompt the user to enter 5 integers between 0 and 100\n",
    "- After the loop, print out the _minimum_ of the numbers entered\n",
    "- Use better variable names than the previous slide."
   ]
  },
  {
   "cell_type": "code",
   "execution_count": null,
   "id": "1384e25c-955d-4179-9434-fbfdc0b7e399",
   "metadata": {
    "editable": true,
    "slideshow": {
     "slide_type": ""
    },
    "tags": []
   },
   "outputs": [],
   "source": []
  },
  {
   "cell_type": "markdown",
   "id": "324d50dc-fcf6-4670-882f-753c4d440a24",
   "metadata": {
    "editable": true,
    "id": "hy85VYM-p3yY",
    "slideshow": {
     "slide_type": "slide"
    },
    "tags": []
   },
   "source": [
    "# Admin Stuff"
   ]
  },
  {
   "cell_type": "markdown",
   "id": "0c24f664-bab0-48ac-8faa-7042eaaa270d",
   "metadata": {
    "editable": true,
    "id": "q3lMpIiap3yY",
    "slideshow": {
     "slide_type": ""
    },
    "tags": []
   },
   "source": [
    "You should be working on:\n",
    "- [Lab #3](https://analytics.drake.edu/~moore/CS65-F24/Lab3.html) due tonight by 11:59 pm\n",
    "- [Lab #4](https://analytics.drake.edu/~moore/CS65-F24/Lab4.html) due\n",
    "\n",
    "Reading:\n",
    "- [While Loop Reading](https://analytics.drake.edu/~urness/CS65Text/Chapter4.html)"
   ]
  },
  {
   "cell_type": "markdown",
   "id": "bbc565f8-9ec5-4ae2-829f-4d41d738146f",
   "metadata": {
    "editable": true,
    "slideshow": {
     "slide_type": "slide"
    },
    "tags": []
   },
   "source": [
    "## Quiz #1\n",
    "- will be released on Monday, due on Wednesday.\n",
    "- Blackboard quiz\n",
    "- Open notes, open book, no AI assistant usage permitted."
   ]
  }
 ],
 "metadata": {
  "kernelspec": {
   "display_name": "Python 3 (ipykernel)",
   "language": "python",
   "name": "python3"
  },
  "language_info": {
   "codemirror_mode": {
    "name": "ipython",
    "version": 3
   },
   "file_extension": ".py",
   "mimetype": "text/x-python",
   "name": "python",
   "nbconvert_exporter": "python",
   "pygments_lexer": "ipython3",
   "version": "3.12.4"
  }
 },
 "nbformat": 4,
 "nbformat_minor": 5
}

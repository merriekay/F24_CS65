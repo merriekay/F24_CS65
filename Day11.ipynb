{
  "cells": [
    {
      "cell_type": "markdown",
      "metadata": {
        "id": "view-in-github",
        "colab_type": "text"
      },
      "source": [
        "<a href=\"https://colab.research.google.com/github/merriekay/F24_CS65/blob/main/Day11.ipynb\" target=\"_parent\"><img src=\"https://colab.research.google.com/assets/colab-badge.svg\" alt=\"Open In Colab\"/></a>"
      ]
    },
    {
      "cell_type": "markdown",
      "id": "4d08e0cd-edfd-489c-acbb-2621cdbfc5c7",
      "metadata": {
        "editable": true,
        "tags": [],
        "id": "4d08e0cd-edfd-489c-acbb-2621cdbfc5c7"
      },
      "source": [
        "# CS65: Day 11\n",
        "\n",
        "## Functions II: Value-returning functions and Scope\n",
        "### CS65: Introduction to Computer Science I | Fall 2024\n",
        "\n",
        "*Monday, October 3rd,2024*\n",
        "\n",
        "### Helpful Resources:\n",
        "[📜 Syllabus](https://docs.google.com/document/d/1nqjmD0yhOOh2gaPwxfjV4EY_dBUIQUur1fvqQ4YPJLA/edit?usp=sharing) | [📬 CodePost Login](https://codepost.io/login) | [📆 Schedule](https://docs.google.com/spreadsheets/d/1Q5-ArPnXwjejKjXSI8WKgF7A2HRAam6Ny3eNA7EHn18/edit?usp=sharing) | [🙋‍♂️ PollEverywhere](https://pollev.com/moore) | [🪴 Office Hour Sign-Up](https://calendly.com/meredith-moore/office-hours)\n",
        "\n",
        "> **Note to self:** Make sure you're recording, silly goose!"
      ]
    },
    {
      "cell_type": "markdown",
      "id": "edaa1830-faa8-41ec-b5ee-0768c0519533",
      "metadata": {
        "editable": true,
        "id": "edaa1830-faa8-41ec-b5ee-0768c0519533",
        "tags": []
      },
      "source": [
        "# Admin Stuff"
      ]
    },
    {
      "cell_type": "markdown",
      "id": "bb86ef68-c5b6-45b1-8172-25288c29308b",
      "metadata": {
        "editable": true,
        "id": "bb86ef68-c5b6-45b1-8172-25288c29308b",
        "tags": []
      },
      "source": [
        "You should be working on:\n",
        "- [Lab #7](https://analytics.drake.edu/~moore/CS65-F24//Lab7.html) is due tonight, by 11:59 pm (to codePost)"
      ]
    },
    {
      "cell_type": "markdown",
      "id": "21bae30d-24c4-4ebd-a390-2c64f4ea76ce",
      "metadata": {
        "editable": true,
        "id": "21bae30d-24c4-4ebd-a390-2c64f4ea76ce",
        "tags": []
      },
      "source": [
        "# ⏪ Quick Review:"
      ]
    },
    {
      "cell_type": "markdown",
      "id": "40699ec3-b4e2-48a0-8cfe-e7f656f210e8",
      "metadata": {
        "editable": true,
        "jp-MarkdownHeadingCollapsed": true,
        "tags": [],
        "id": "40699ec3-b4e2-48a0-8cfe-e7f656f210e8"
      },
      "source": [
        "# Advantages of functions:\n",
        "\n",
        "Why should we write our own functions?\n",
        "- __Easier problem-solving__: break big tasks into smaller ones\n",
        "- __Better organization__: easier to find/change the code you're looking for\n",
        "- __Easier testing/debugging__: you can test each function by itself before integrating into the bigger program.\n",
        "- __Reusable__: You can write code that will be useful many times in this program and possibly later ones."
      ]
    },
    {
      "cell_type": "markdown",
      "id": "5e4847f2-52f7-472e-913f-d9f66e403174",
      "metadata": {
        "editable": true,
        "tags": [],
        "id": "5e4847f2-52f7-472e-913f-d9f66e403174"
      },
      "source": [
        "# Defining your own functions:\n",
        "\n",
        "The syntax for defining your own function includes the following:\n",
        "- the keyword `def` (short for define)\n",
        "- a `function_name` that you pick (same rules as naming variables)\n",
        "- parenthese `()` (later we'll put things inside these parentheses)\n",
        "- an _indented block of code_\n",
        "\n",
        "All together, it looks something like this:\n",
        "```python\n",
        "def function_name():\n",
        "    # code goes here\n",
        "\n",
        "    # when 'called', the code inside will be executed\n",
        "```"
      ]
    },
    {
      "cell_type": "markdown",
      "id": "40353a91-691f-4881-bc4e-ef276eb1b418",
      "metadata": {
        "editable": true,
        "tags": [],
        "id": "40353a91-691f-4881-bc4e-ef276eb1b418"
      },
      "source": [
        "## Our first function:"
      ]
    },
    {
      "cell_type": "code",
      "execution_count": null,
      "id": "16bf8ed0-2d82-431b-a27f-93fef99db110",
      "metadata": {
        "editable": true,
        "tags": [],
        "id": "16bf8ed0-2d82-431b-a27f-93fef99db110",
        "outputId": "5bfda7d8-8b88-42e3-ca73-3cb159d8be46"
      },
      "outputs": [
        {
          "name": "stdout",
          "output_type": "stream",
          "text": [
            "Hello CS65!\n",
            "I'm in a function!\n"
          ]
        }
      ],
      "source": [
        "def message():\n",
        "    print(\"Hello CS65!\")\n",
        "    print(\"I'm in a function!\")\n",
        "\n",
        "message() # you have to call the function"
      ]
    },
    {
      "cell_type": "markdown",
      "id": "0854e5dd-cfef-4ace-9238-7a7d0f0bef80",
      "metadata": {
        "editable": true,
        "tags": [],
        "id": "0854e5dd-cfef-4ace-9238-7a7d0f0bef80"
      },
      "source": [
        "# Transfer of Control\n",
        "\n",
        "When a function gets called, the executio nof the code is transferred to the statements within the function definition.\n",
        "\n",
        "After, the execution returns to th eline below where the function was called."
      ]
    },
    {
      "cell_type": "code",
      "execution_count": null,
      "id": "ecc9900b-6da4-4274-8058-0276694132ba",
      "metadata": {
        "editable": true,
        "tags": [],
        "id": "ecc9900b-6da4-4274-8058-0276694132ba",
        "outputId": "7ee2ead8-6115-4f3f-b5f4-6f0a5e11e2b6"
      },
      "outputs": [
        {
          "name": "stdout",
          "output_type": "stream",
          "text": [
            "Here\n",
            "Hello CS65!\n",
            "I'm in a function!\n",
            "Thank you, come again!\n"
          ]
        }
      ],
      "source": [
        "def message():\n",
        "    print(\"Hello CS65!\")\n",
        "    print(\"I'm in a function!\")\n",
        "\n",
        "print(\"Here\")\n",
        "message() # you have to call the function\n",
        "print(\"Thank you, come again!\")"
      ]
    },
    {
      "cell_type": "markdown",
      "id": "635c95df-a4cc-4a81-a29e-2339441191ba",
      "metadata": {
        "editable": true,
        "tags": [],
        "id": "635c95df-a4cc-4a81-a29e-2339441191ba"
      },
      "source": [
        "## Arguments and Parameters\n",
        "\n",
        "Functions can be made to be more useful by having the ability to pass information into a function.\n",
        "\n",
        "- a __parameter__ is a variable that receives an argument that is passed into a function\n",
        "\n",
        "- an __argument__ is any piece of data that is passed into a function when the function is called"
      ]
    },
    {
      "cell_type": "code",
      "execution_count": null,
      "id": "cc295345-22a8-4167-bf68-3516c2be8bd0",
      "metadata": {
        "editable": true,
        "tags": [],
        "id": "cc295345-22a8-4167-bf68-3516c2be8bd0",
        "outputId": "74df8fa6-433d-47de-e37e-98a97300c4f4"
      },
      "outputs": [
        {
          "name": "stdout",
          "output_type": "stream",
          "text": [
            "Here\n",
            "Hello CS65!\n",
            "I'm in a function!\n",
            "Thank you, come again!\n"
          ]
        }
      ],
      "source": [
        "def message():\n",
        "    print(\"Hello CS65!\")\n",
        "    print(\"I'm in a function!\")\n",
        "\n",
        "print(\"Here\")\n",
        "message() # you have to call the function\n",
        "print(\"Thank you, come again!\")"
      ]
    },
    {
      "cell_type": "markdown",
      "id": "d207ca62-9279-4577-a790-58fb78d10ecc",
      "metadata": {
        "editable": true,
        "tags": [],
        "id": "d207ca62-9279-4577-a790-58fb78d10ecc"
      },
      "source": [
        "# Multiple Arguments\n",
        "Often it’s useful to write functions that can accept __multiple arguments__.\n",
        "\n",
        "When multiple arguments or parameters are used, _the values are separated by a comma_ in the _listing between the parentheses ()_.\n",
        "\n",
        "__The order is important__: the first argument will correspond to the first parameter, the second argument will correspond to the second parameter, and so on.\n"
      ]
    },
    {
      "cell_type": "code",
      "execution_count": null,
      "id": "8748da64-f677-4fd4-b51a-1a166740fef0",
      "metadata": {
        "editable": true,
        "tags": [],
        "id": "8748da64-f677-4fd4-b51a-1a166740fef0",
        "outputId": "ac7a2640-0c62-48cc-f0e0-eb2ccd3d5baa"
      },
      "outputs": [
        {
          "name": "stdout",
          "output_type": "stream",
          "text": [
            "2 raised to the 4th power is:\n",
            "16\n"
          ]
        }
      ],
      "source": [
        "def show_exponent(num1, num2):\n",
        "    result = num1**num2\n",
        "    print(result)\n",
        "\n",
        "def main():\n",
        "    print(\"2 raised to the 4th power is:\")\n",
        "    show_exponent(2,4)\n",
        "\n",
        "main()"
      ]
    },
    {
      "cell_type": "markdown",
      "id": "3417a140-89b5-4932-bd73-b5e983d31a38",
      "metadata": {
        "editable": true,
        "jp-MarkdownHeadingCollapsed": true,
        "tags": [],
        "id": "3417a140-89b5-4932-bd73-b5e983d31a38"
      },
      "source": [
        "### #4 `greeting()`\n",
        "Define a function called `greeting()`\n",
        "- The function should first prompt the user for their name\n",
        "- The function should then print “hello,” followed by the name that was entered.\n",
        "### #5 `coin_flip()`\n",
        "Create a function called `coin_flip()`\n",
        "Simulate a flip of a coin\n",
        "- 50% of the time it should print “Heads”\n",
        "- 50% of the time it should print “Tails”\n",
        "Use a loop to call `coin_flip()` 10 times\n",
        "### #6 `roll_die()`\n",
        "Create a function called `roll_die`\n",
        "- use a parameter that indicates the number of sides on the die\n",
        "- Simulate the rolling of a 6-sided die and 20-sided die\n"
      ]
    },
    {
      "cell_type": "markdown",
      "id": "61e7b2d1-1d0b-429a-972f-294807e0d765",
      "metadata": {
        "editable": true,
        "id": "61e7b2d1-1d0b-429a-972f-294807e0d765",
        "tags": []
      },
      "source": [
        "# ✨ New Material"
      ]
    },
    {
      "cell_type": "markdown",
      "id": "2f27ab63-172f-4f95-beb2-d1055d074416",
      "metadata": {
        "editable": true,
        "tags": [],
        "id": "2f27ab63-172f-4f95-beb2-d1055d074416"
      },
      "source": [
        "# Challenge #1: `magic_date`\n",
        "\n",
        "Let's warm up by writing a function called `magic_date`. it should have 3 parameters: `month`, `day`, and `year`.\n",
        "\n",
        "If the month*day equasl the year (i.e. 2/11/22), then the date is said to be 'magic'.\n",
        "\n",
        "The output should look like this:\n",
        "``` python\n",
        "magic_date(2,11,22)\n",
        "magic_date(2,12,22)\n",
        "```\n",
        "\n",
        "```zsh\n",
        "2/11/22 is MAGIC!\n",
        "2/12/22 is not magic\n",
        "```"
      ]
    },
    {
      "cell_type": "markdown",
      "id": "c6780661-fe1b-4e63-99b0-7b4dc493f33c",
      "metadata": {
        "editable": true,
        "tags": [],
        "id": "c6780661-fe1b-4e63-99b0-7b4dc493f33c"
      },
      "source": [
        "# Getting data out of funcitons: `return`\n",
        "\n",
        "__Parameters__ and __arguments__: enable passing data _into_ functions.\n",
        "\n",
        "__Return Values__ Enable getting data out of functions.\n",
        "- think of it as the _result_ of the function.\n",
        "\n",
        "![function robot](https://github.com/merriekay/F24_CS65/blob/main/functions.png?raw=1)"
      ]
    },
    {
      "cell_type": "markdown",
      "id": "8e6f7df9-f1d7-4371-9361-8ab736141f63",
      "metadata": {
        "editable": true,
        "tags": [],
        "id": "8e6f7df9-f1d7-4371-9361-8ab736141f63"
      },
      "source": [
        "## Syntax for `return` values\n",
        "\n",
        "To return a value from a function you've defined, put the `return` statmeent at the end of your function (followed by a value or an expression).\n",
        "- whenever the return statement is executed, the corresponding value is returned to the code that called the function."
      ]
    },
    {
      "cell_type": "code",
      "execution_count": null,
      "id": "2c1af500-ef75-4f42-9940-e48d2760d817",
      "metadata": {
        "editable": true,
        "tags": [],
        "id": "2c1af500-ef75-4f42-9940-e48d2760d817",
        "outputId": "ddccbd9b-fa52-42f4-9eef-2b89a56460d8"
      },
      "outputs": [
        {
          "name": "stdout",
          "output_type": "stream",
          "text": [
            "On the moon, I would weigh 29.75652 pounds!\n"
          ]
        }
      ],
      "source": [
        "def weight_on_moon(earth_weight):\n",
        "    result = earth_weight * 0.165314\n",
        "    return result\n",
        "moon_weight = weight_on_moon(180)\n",
        "print(\"On the moon, I would weigh\",moon_weight, \"pounds!\")"
      ]
    },
    {
      "cell_type": "markdown",
      "id": "a32af1d7-83f2-41aa-8d84-04b39d289ebc",
      "metadata": {
        "editable": true,
        "tags": [],
        "id": "a32af1d7-83f2-41aa-8d84-04b39d289ebc"
      },
      "source": [
        "# Challenge #2: `c_to_f`\n",
        "\n",
        "Write a function called `c_to_f` that takes a parameter named celsius and retunrs the Celsius temperature to Fahrenheit temperature. The formula is as follows:\n",
        "\n",
        "$F = \\frac{9}{5}C + 32$\n",
        "\n",
        "Convert 100 degrees Celsius to Fahrenheit\n",
        "\n",
        "```\n",
        ">>> Run Challenge2.py\n",
        "100 degrees Celsius is 212.0 Fahrenheit\n",
        "```\n",
        "\n",
        "Use a loop and the function to output:\n",
        "```\n",
        "0 -- 32.0\n",
        "10 -- 50.0\n",
        "20 -- 68.0\n",
        "30 -- 86.0\n",
        "40 -- 104.0\n",
        "50 -- 122.0\n",
        "60 -- 140.0\n",
        "70 -- 158.0\n",
        "80 -- 176.0\n",
        "90 -- 194.0\n",
        "100 -- 212.0\n",
        "```"
      ]
    },
    {
      "cell_type": "markdown",
      "id": "e6c90650-ef28-441d-90cd-2337aa2322e9",
      "metadata": {
        "editable": true,
        "tags": [],
        "id": "e6c90650-ef28-441d-90cd-2337aa2322e9"
      },
      "source": [
        "# Challenge #3: `convert_to_cm`\n",
        "\n",
        "Define a functio ncalled `convert_to_cm`.\n",
        "\n",
        "The function should have a parameter called `inches`\n",
        "\n",
        "The function should then calculate the parameter multipied by 2.54.\n",
        "\n",
        "Use this function to print out he converstion of 12 inches to centimeters.\n",
        "\n",
        "Prompt the user for an amount of inches and `return` the result.\n",
        "\n",
        "```\n",
        ">>> %Run challenge3.py\n",
        "How many inches? 60\n",
        "60.0 inches converts to 152.4 cm\n",
        "```"
      ]
    },
    {
      "cell_type": "code",
      "execution_count": null,
      "id": "58df99bf-45c5-4d28-a507-682bac0f5245",
      "metadata": {
        "editable": true,
        "tags": [],
        "id": "58df99bf-45c5-4d28-a507-682bac0f5245"
      },
      "outputs": [],
      "source": [
        "# hint:\n",
        "num_inches = float(input(\"How many inches\"))\n",
        "\n",
        "print(num_inches, \"converts to\", convert_to_cm(num_inches), \"cm\")"
      ]
    },
    {
      "cell_type": "markdown",
      "id": "66749439-d9c6-4787-95c6-a3c0de0dc582",
      "metadata": {
        "editable": true,
        "tags": [],
        "id": "66749439-d9c6-4787-95c6-a3c0de0dc582"
      },
      "source": [
        "# `return` is better than `print`.\n",
        "\n",
        "Any ideas why?"
      ]
    },
    {
      "cell_type": "markdown",
      "id": "59fae5cf-b810-4313-b913-a0558d4c11a8",
      "metadata": {
        "editable": true,
        "tags": [],
        "id": "59fae5cf-b810-4313-b913-a0558d4c11a8"
      },
      "source": [
        "Returning values gives you more flexibility in how the function can be used.\n",
        "\n",
        "the function can be seen as a \"black box\"... given some parameter, it returns a value (that you can use however you want)"
      ]
    },
    {
      "cell_type": "markdown",
      "id": "535760db-69b1-4fbf-8f42-2b3bc9bb566d",
      "metadata": {
        "editable": true,
        "tags": [],
        "id": "535760db-69b1-4fbf-8f42-2b3bc9bb566d"
      },
      "source": [
        "# Documenting Functions\n",
        "\n",
        "It is __*always*__ a good idea to comment what a function does, what paraters are and what it will return.\n",
        "\n",
        "To do this, we add what we call a `docstring`, a multiline comment (`\"\"\"`) starting as the first line inside your function.\n",
        "\n",
        "Things typically included in a __docstring__:\n",
        "- a description of what the function does\n",
        "- a list of parameters, as well as a description of each -- so they know what to pass into the function\n",
        "- a description of the return value, if any -- so they know how to use what they get back"
      ]
    },
    {
      "cell_type": "code",
      "execution_count": null,
      "id": "54c02989-941d-4818-91de-ee4ee884cf3f",
      "metadata": {
        "editable": true,
        "tags": [],
        "id": "54c02989-941d-4818-91de-ee4ee884cf3f",
        "outputId": "20a89a55-fdd3-4675-9b07-f077d0463a49"
      },
      "outputs": [
        {
          "name": "stdout",
          "output_type": "stream",
          "text": [
            "212 degrees Fahrenheit is 100.0 degrees Celsius\n"
          ]
        }
      ],
      "source": [
        "def f_to_c(fahrenheit_temp):\n",
        "    \"\"\"\n",
        "    Convert a temp from Fahrenheit to its Celsius equivalent.\n",
        "\n",
        "    Params:\n",
        "    - fahrenheit_temp: a float, the F temp to be converted\n",
        "\n",
        "    Returns:\n",
        "    - a float, the temp converted to Celsius\n",
        "    \"\"\"\n",
        "    celsius_temp=(fahrenheit_temp - 32)*(5/9)\n",
        "    return celsius_temp\n",
        "cel = f_to_c(212)\n",
        "print(\"212 degrees Fahrenheit is\", cel, \"degrees Celsius\")"
      ]
    },
    {
      "cell_type": "markdown",
      "id": "56426249-0d59-4248-a853-ba22af5e8f9c",
      "metadata": {
        "editable": true,
        "tags": [],
        "id": "56426249-0d59-4248-a853-ba22af5e8f9c"
      },
      "source": [
        "## A motivating example\n",
        "\n",
        "Consider the pay calculator:"
      ]
    },
    {
      "cell_type": "code",
      "execution_count": null,
      "id": "f7d1cb96-cc8e-4fe2-ad06-743d6c8e8060",
      "metadata": {
        "editable": true,
        "tags": [],
        "id": "f7d1cb96-cc8e-4fe2-ad06-743d6c8e8060"
      },
      "outputs": [],
      "source": [
        "def calculate_pay(wage, hours):\n",
        "    if hours <=40:\n",
        "        pay= wage*hours\n",
        "    else:\n",
        "        overtime = hours - 40\n",
        "        pay = (wage*40) + (wage*1.5*overtime)\n",
        "    return pay"
      ]
    },
    {
      "cell_type": "markdown",
      "id": "22552361-ef08-4a9a-bb06-cb03fd528f8e",
      "metadata": {
        "editable": true,
        "tags": [],
        "id": "22552361-ef08-4a9a-bb06-cb03fd528f8e"
      },
      "source": [
        "We might want to allow a user to interact with this function to check their pay; or, we might read employee information from a file so that we can process all their paychecks.\n",
        "\n",
        "Writing this function with a `return` rather than printing enables it to be used in either case."
      ]
    },
    {
      "cell_type": "markdown",
      "id": "47728809-5670-4f79-a73e-c92f68affeb5",
      "metadata": {
        "editable": true,
        "tags": [],
        "id": "47728809-5670-4f79-a73e-c92f68affeb5"
      },
      "source": [
        "# Challenge #4: `gallons_of_paint`\n",
        "\n",
        "Write a funciton, called `gallons_of_paint`\n",
        "\n",
        "It should have three parameters:\n",
        "- `width`, `length`, and `height` (to be input in feet)\n",
        "\n",
        "The function shoudl calculate the number of gallons of paint needed to cover the walls of a room (but not the floor or ceiling)\n",
        "\n",
        "Hints:\n",
        "- The total surface area of the walls of the room: `width * height * 2 + length * height * 2`\n",
        "- One gallon of paint will ocver 400 square feet\n",
        "\n",
        "Test your code to make sure it's correct.\n",
        "Add appropriate comments in your function."
      ]
    },
    {
      "cell_type": "markdown",
      "id": "c1a6399a-ebb2-4488-a777-a90cceaa0e1e",
      "metadata": {
        "editable": true,
        "tags": [],
        "id": "c1a6399a-ebb2-4488-a777-a90cceaa0e1e"
      },
      "source": [
        "# ✨ New Concept: Scope"
      ]
    },
    {
      "cell_type": "markdown",
      "id": "b15863c8-80b7-43e8-a695-ddfd3f632591",
      "metadata": {
        "editable": true,
        "tags": [],
        "id": "b15863c8-80b7-43e8-a695-ddfd3f632591"
      },
      "source": [
        "What's wrong with this code?"
      ]
    },
    {
      "cell_type": "code",
      "execution_count": null,
      "id": "f7058962-70e1-4757-83b6-974b3a5b88a9",
      "metadata": {
        "editable": true,
        "tags": [],
        "id": "f7058962-70e1-4757-83b6-974b3a5b88a9"
      },
      "outputs": [],
      "source": [
        "def my_function(add_val):\n",
        "    my_var = 26\n",
        "    result = my_va + add_val\n",
        "    return result\n",
        "\n",
        "my_function(2)\n",
        "print(my_var)"
      ]
    },
    {
      "cell_type": "markdown",
      "id": "27a1d74e-3086-4fdd-a6d1-41bd2d0f9e09",
      "metadata": {
        "editable": true,
        "tags": [],
        "id": "27a1d74e-3086-4fdd-a6d1-41bd2d0f9e09"
      },
      "source": [
        "Another motivating example... what will happen here?"
      ]
    },
    {
      "cell_type": "code",
      "execution_count": null,
      "id": "8d0fbc2c-da34-46c6-8a8e-729189200bda",
      "metadata": {
        "editable": true,
        "tags": [],
        "id": "8d0fbc2c-da34-46c6-8a8e-729189200bda"
      },
      "outputs": [],
      "source": [
        "num_students = 350\n",
        "\n",
        "def first_grade_classroom():\n",
        "    num_students = 30\n",
        "    print(num_students)\n",
        "\n",
        "def second_grade_classroom():\n",
        "    print(num_students)\n",
        "\n",
        "first_grade_classroom()\n",
        "second_grade_classroom()"
      ]
    },
    {
      "cell_type": "markdown",
      "id": "dba67dc8-1ef3-4d9c-bc64-a32bd276f459",
      "metadata": {
        "editable": true,
        "tags": [],
        "id": "dba67dc8-1ef3-4d9c-bc64-a32bd276f459"
      },
      "source": [
        "# Scope\n",
        "A variable's __scope__ is the part of the program that the variable is visible to.\n",
        "\n",
        "In Python, a scope can be __local__ to a function or __global__ (visible everywhere).\n",
        "\n",
        "Thus, if you first declare a variable _inside_ of a function, it's scope is __local__, and it can _only_ be accessed __*inside*__ of the function."
      ]
    },
    {
      "cell_type": "code",
      "execution_count": null,
      "id": "f0bfa569-c8ce-4a3c-91f2-1348a810ac3c",
      "metadata": {
        "editable": true,
        "tags": [],
        "id": "f0bfa569-c8ce-4a3c-91f2-1348a810ac3c",
        "outputId": "b8493146-841f-4261-9ec6-046cbda6bf5b"
      },
      "outputs": [
        {
          "ename": "NameError",
          "evalue": "name 'result' is not defined",
          "output_type": "error",
          "traceback": [
            "\u001b[0;31m---------------------------------------------------------------------------\u001b[0m",
            "\u001b[0;31mNameError\u001b[0m                                 Traceback (most recent call last)",
            "Cell \u001b[0;32mIn[8], line 6\u001b[0m\n\u001b[1;32m      3\u001b[0m     \u001b[38;5;28;01mreturn\u001b[39;00m result\n\u001b[1;32m      5\u001b[0m \u001b[38;5;66;03m# this will break because result is a local variable`\u001b[39;00m\n\u001b[0;32m----> 6\u001b[0m \u001b[38;5;28mprint\u001b[39m(result)\n",
            "\u001b[0;31mNameError\u001b[0m: name 'result' is not defined"
          ]
        }
      ],
      "source": [
        "def weight_on_moon(earth_weight):\n",
        "    result = earth_weight * 0.165314\n",
        "    return result\n",
        "\n",
        "# this will break because result is a local variable`\n",
        "print(result)"
      ]
    },
    {
      "cell_type": "markdown",
      "id": "7734b4a9-a9ef-483a-9dbc-1629af16fa67",
      "metadata": {
        "editable": true,
        "tags": [],
        "id": "7734b4a9-a9ef-483a-9dbc-1629af16fa67"
      },
      "source": [
        "# New keyword unlocked✨🔐: `global`\n",
        "\n",
        "If you really want to change a global variable inside a function, you have to use the `global` keyword."
      ]
    },
    {
      "cell_type": "code",
      "execution_count": null,
      "id": "f7951c7a-8c05-41f4-895c-7cd07d178114",
      "metadata": {
        "editable": true,
        "tags": [],
        "id": "f7951c7a-8c05-41f4-895c-7cd07d178114",
        "outputId": "b57e64c3-bc24-4448-ba1a-1d433acbb397"
      },
      "outputs": [
        {
          "name": "stdout",
          "output_type": "stream",
          "text": [
            "30\n",
            "30\n"
          ]
        }
      ],
      "source": [
        "# experiments with global variables\n",
        "num_students = 350 # this is global bc it's defined outside of a function\n",
        "\n",
        "def first_grade_classroom():\n",
        "    global num_students # here, we tell it to use the global variable\n",
        "    num_students = 30\n",
        "    print(num_students)\n",
        "\n",
        "def second_grade_classroom():\n",
        "    print(num_students)\n",
        "\n",
        "first_grade_classroom()\n",
        "second_grade_classroom()"
      ]
    },
    {
      "cell_type": "markdown",
      "id": "f804bd80-36c8-4533-88e8-9fcee5c76eb4",
      "metadata": {
        "editable": true,
        "tags": [],
        "id": "f804bd80-36c8-4533-88e8-9fcee5c76eb4"
      },
      "source": [
        "# Local v Global Variables\n",
        "\n",
        "In general, we prefer __local__ variables to __global__.\n",
        "\n",
        "Global variables are to be avoided.\n",
        "- keep all of your code (including varaibles) inside of functions -- use local variables.\n",
        "\n",
        "Why?\n",
        "- as programs grow in size, it's difficult to keep all of the global variables in mind.\n",
        "- With a global variable, any function could possible chagne it's value.\n",
        "    - the repercussions could cause other code to break\n",
        "- It makes developing code in teams difficult\n",
        "    - You would need to communicate all of the variable names with your team all the time."
      ]
    },
    {
      "cell_type": "markdown",
      "id": "38e2b619-bc72-4baa-a309-351e1cbef697",
      "metadata": {
        "editable": true,
        "tags": [],
        "id": "38e2b619-bc72-4baa-a309-351e1cbef697"
      },
      "source": [
        "## An example:\n",
        "This example demonstrates the use of a global variable within a function:"
      ]
    },
    {
      "cell_type": "code",
      "execution_count": null,
      "id": "b1723659-cd74-444d-bf6e-46d437e50919",
      "metadata": {
        "editable": true,
        "tags": [],
        "id": "b1723659-cd74-444d-bf6e-46d437e50919",
        "outputId": "06a3ead7-afd2-459d-9c66-046e6905bcaa"
      },
      "outputs": [
        {
          "name": "stdout",
          "output_type": "stream",
          "text": [
            "Added $10 to the cart. Total is now $10\n",
            "Added $25 to the cart. Total is now $35\n",
            "Final total is $35\n"
          ]
        }
      ],
      "source": [
        "cart_total = 0 # global var\n",
        "\n",
        "def add_to_cart(price):\n",
        "    global cart_total\n",
        "    cart_total += price\n",
        "    print(\"Added $\",price,\" to the cart. Total is now $\", cart_total, sep=\"\")\n",
        "\n",
        "def checkout():\n",
        "    print(\"Final total is $\", cart_total,sep=\"\")\n",
        "\n",
        "add_to_cart(10)\n",
        "add_to_cart(25)\n",
        "checkout()"
      ]
    },
    {
      "cell_type": "markdown",
      "id": "52eaecd5-f915-4a76-a797-ce8f75de2c2b",
      "metadata": {
        "editable": true,
        "tags": [],
        "id": "52eaecd5-f915-4a76-a797-ce8f75de2c2b"
      },
      "source": [
        "## Another example:\n",
        "\n",
        "Let's simulate a bank account withdrawal:"
      ]
    },
    {
      "cell_type": "code",
      "execution_count": null,
      "id": "dacc0505-5dee-47a8-95c3-8f7a6187d0c5",
      "metadata": {
        "editable": true,
        "tags": [],
        "id": "dacc0505-5dee-47a8-95c3-8f7a6187d0c5",
        "outputId": "2ca7554f-6c27-46ab-f521-2fcd7c0f7a76"
      },
      "outputs": [
        {
          "name": "stdout",
          "output_type": "stream",
          "text": [
            "Successfully withdrew $30. New balance: $70\n",
            "Account balance after withdrawal: $70\n"
          ]
        }
      ],
      "source": [
        "def withdraw(balance, amount):\n",
        "    if amount <= balance:\n",
        "        balance -= amount\n",
        "        print(\"Successfully withdrew $\", amount,\". New balance: $\", balance, sep=\"\")\n",
        "    else:\n",
        "        print(\"Insufficient funds.\")\n",
        "    return balance\n",
        "\n",
        "account_balance = 100 # global scope\n",
        "\n",
        "account_balance = withdraw(account_balance, 30) #new blance is returned and updated globally\n",
        "print(\"Account balance after withdrawal: $\", account_balance, sep=\"\")"
      ]
    },
    {
      "cell_type": "markdown",
      "id": "c2d3d674-a34f-4467-85bf-c66c2c819d05",
      "metadata": {
        "editable": true,
        "tags": [],
        "id": "c2d3d674-a34f-4467-85bf-c66c2c819d05"
      },
      "source": [
        "# Challenge #5: Point System\n",
        "\n",
        "In this challenge, you'll write two functions: `add_points()` and `subtract_points()`. These functions will modify a global variable, `points`, tha keeps track of a player's points in a game.\n",
        "\n",
        "You will also create a third function `get_points()` which will return the current points total without modifying it.\n",
        "\n",
        "Steps:\n",
        "1. Define a global variable (outside of a function) called `points`.\n",
        "2. Define the `add_points()` function:\n",
        "    - it takes one parameter: `amount`\n",
        "    - Use the `global` keyword to modify the global `points` variable.\n",
        "    - Add the `amount` to `points`\n",
        "    - print the new totla points\n",
        "3. Define the `subtract_points()` function:\n",
        "   - this function shoudl take one parameter: `amount`.\n",
        "   - Use the `global` keyword to modify the global `points` variable.\n",
        "   - Subtract the `amount` from `points`\n",
        "   - Print the new total points.\n",
        "4. Define the `get_points()` function:\n",
        "   - this function shoudl not take any params\n",
        "   - It should return the current value of `points` without modifying it.\n",
        "5. Write the code to test these functions\n",
        "   - add 10 points, then subtract 5 points\n",
        "   - Print the current oints using `get_points()`\n"
      ]
    },
    {
      "cell_type": "markdown",
      "id": "eb645b60-c9ac-4e14-b5e6-ac97ff19ec08",
      "metadata": {
        "editable": true,
        "tags": [],
        "id": "eb645b60-c9ac-4e14-b5e6-ac97ff19ec08"
      },
      "source": [
        "Here's a template to get started:"
      ]
    },
    {
      "cell_type": "code",
      "execution_count": null,
      "id": "f8ac7a5b-0168-4139-afb2-c5874a6a7a0e",
      "metadata": {
        "editable": true,
        "tags": [],
        "id": "f8ac7a5b-0168-4139-afb2-c5874a6a7a0e"
      },
      "outputs": [],
      "source": [
        "# global variable\n",
        "points = 0\n",
        "\n",
        "# define add_points\n",
        "\n",
        "\n",
        "# define subtract points\n",
        "\n",
        "\n",
        "# define get_points()\n",
        "\n",
        "\n",
        "# test the functions\n",
        "add_points(10)\n",
        "subtract_points(5)\n",
        "print(\"Current points total:\", get_points()) #print the current points"
      ]
    },
    {
      "cell_type": "code",
      "execution_count": null,
      "id": "2219034b-d436-4f99-836d-dd3a43733711",
      "metadata": {
        "editable": true,
        "tags": [],
        "id": "2219034b-d436-4f99-836d-dd3a43733711"
      },
      "outputs": [],
      "source": []
    }
  ],
  "metadata": {
    "kernelspec": {
      "display_name": "Python 3 (ipykernel)",
      "language": "python",
      "name": "python3"
    },
    "language_info": {
      "codemirror_mode": {
        "name": "ipython",
        "version": 3
      },
      "file_extension": ".py",
      "mimetype": "text/x-python",
      "name": "python",
      "nbconvert_exporter": "python",
      "pygments_lexer": "ipython3",
      "version": "3.12.4"
    },
    "colab": {
      "provenance": [],
      "include_colab_link": true
    }
  },
  "nbformat": 4,
  "nbformat_minor": 5
}
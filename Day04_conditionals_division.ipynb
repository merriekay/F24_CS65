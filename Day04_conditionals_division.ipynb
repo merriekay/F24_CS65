{
  "cells": [
    {
      "cell_type": "markdown",
      "metadata": {
        "id": "view-in-github",
        "colab_type": "text"
      },
      "source": [
        "<a href=\"https://colab.research.google.com/github/merriekay/F24_CS65/blob/main/Day04_conditionals_division.ipynb\" target=\"_parent\"><img src=\"https://colab.research.google.com/assets/colab-badge.svg\" alt=\"Open In Colab\"/></a>"
      ]
    },
    {
      "cell_type": "markdown",
      "id": "47f10411-f9ea-479c-8397-26ed83d3d7bd",
      "metadata": {
        "editable": true,
        "tags": [],
        "id": "47f10411-f9ea-479c-8397-26ed83d3d7bd"
      },
      "source": [
        "# CS65: Day04\n",
        "\n",
        "## Complex Conditionals and Division Operators\n",
        "\n",
        "### CS65: Introduction to Computer Science I | Fall 2024\n",
        "\n",
        "*September 11th, 2024*\n",
        "\n",
        "### Helpful Resources:\n",
        "[📜 Syllabus](https://docs.google.com/document/d/1nqjmD0yhOOh2gaPwxfjV4EY_dBUIQUur1fvqQ4YPJLA/edit?usp=sharing) | [📬 CodePost Login](https://codepost.io/login) | [📆 Schedule](https://docs.google.com/spreadsheets/d/1Q5-ArPnXwjejKjXSI8WKgF7A2HRAam6Ny3eNA7EHn18/edit?usp=sharing) | [🙋‍♂️ PollEverywhere](https://pollev.com/moore) | [🪴 Office Hour Sign-Up](https://calendly.com/meredith-moore/office-hours)\n",
        "\n",
        "> **Note to self:** Make sure you're recording, silly goose!"
      ]
    },
    {
      "cell_type": "markdown",
      "id": "7eb59fe9-d9a9-4df0-a055-491baa958142",
      "metadata": {
        "editable": true,
        "tags": [],
        "id": "7eb59fe9-d9a9-4df0-a055-491baa958142"
      },
      "source": [
        "# 🙋‍♂️ Attendance Question:"
      ]
    },
    {
      "cell_type": "markdown",
      "id": "39852f6d-8bac-43b1-ba92-0ec716765506",
      "metadata": {
        "editable": true,
        "tags": [],
        "id": "39852f6d-8bac-43b1-ba92-0ec716765506"
      },
      "source": [
        "# Announcments"
      ]
    },
    {
      "cell_type": "markdown",
      "id": "458724a8-e3ac-4e17-8b73-0f444fd162cf",
      "metadata": {
        "editable": true,
        "id": "458724a8-e3ac-4e17-8b73-0f444fd162cf",
        "tags": []
      },
      "source": [
        "You should be working on:\n",
        "- [Lab #2](https://analytics.drake.edu/~moore/CS65-F24/Lab2.html) is due Wednesday, 9/11/24 by 11:59 pm.\n",
        "- [Lab #3](https://analytics.drake.edu/~moore/CS65-F24/Lab3.html) is released today, due Monday 9/16/24 by 11:59 pm.\n",
        "\n",
        "Reading:\n",
        "- [Reading: If Statements](https://www.brianheinold.net/python/python_book.html#chapter_ifstatements)"
      ]
    },
    {
      "cell_type": "markdown",
      "id": "aa6ba772-c5a1-4830-9e1c-477ac23e1ed8",
      "metadata": {
        "editable": true,
        "id": "aa6ba772-c5a1-4830-9e1c-477ac23e1ed8",
        "tags": []
      },
      "source": [
        "# ⏪ Quick Review:"
      ]
    },
    {
      "cell_type": "markdown",
      "id": "b4cd33a4-5ecc-4f7f-88c6-020579659f9d",
      "metadata": {
        "editable": true,
        "id": "b4cd33a4-5ecc-4f7f-88c6-020579659f9d",
        "tags": []
      },
      "source": [
        "## Syntax for `if` statements\n",
        "\n",
        "* keyword `if`\n",
        "* a condition\n",
        "* colon `:`\n",
        "* indented _block_ of code\n",
        "\n",
        "It should look something like this:"
      ]
    },
    {
      "cell_type": "code",
      "execution_count": null,
      "id": "5c3f14da-79c8-4bc0-a70c-2f465e2a34c1",
      "metadata": {
        "editable": true,
        "tags": [],
        "id": "5c3f14da-79c8-4bc0-a70c-2f465e2a34c1",
        "outputId": "3e70984c-905c-41f4-c4bd-6f79ef7889f7"
      },
      "outputs": [
        {
          "name": "stdout",
          "output_type": "stream",
          "text": [
            "0 is less than 5\n"
          ]
        }
      ],
      "source": [
        "num = 0\n",
        "if num < 5: # <-- pay attention to this syntax\n",
        "    print(num, \"is less than 5\")"
      ]
    },
    {
      "cell_type": "markdown",
      "id": "03346908-05b7-48d9-90ee-ca7e2d51a497",
      "metadata": {
        "editable": true,
        "tags": [],
        "id": "03346908-05b7-48d9-90ee-ca7e2d51a497"
      },
      "source": [
        "## An Example"
      ]
    },
    {
      "cell_type": "code",
      "execution_count": null,
      "id": "ef9b8878-7d4d-4bcb-842f-cb51f5b4f81d",
      "metadata": {
        "editable": true,
        "id": "ef9b8878-7d4d-4bcb-842f-cb51f5b4f81d",
        "outputId": "f9e66a66-029f-4ce8-fd09-1ea143845713",
        "scrolled": true,
        "tags": []
      },
      "outputs": [
        {
          "name": "stdin",
          "output_type": "stream",
          "text": [
            "What is your age?  70\n"
          ]
        },
        {
          "name": "stdout",
          "output_type": "stream",
          "text": [
            "\n",
            "Applying 10% senior discount\n",
            "Your total bill is 32.067\n"
          ]
        }
      ],
      "source": [
        "total_bill = 35.63\n",
        "age = float(input(\"What is your age? \"))\n",
        "print() #this isn't necessary for you\n",
        "\n",
        "if age > 65:\n",
        "    # notice the 'if' keyword and the colon ':'\n",
        "    print(\"Applying 10% senior discount\")\n",
        "    total_bill = total_bill * 0.9\n",
        "    #any indented code is only runs\n",
        "    #when the condition is True\n",
        "\n",
        "#un-indented code runs no matter what\n",
        "print(\"Your total bill is\", total_bill)"
      ]
    },
    {
      "cell_type": "markdown",
      "id": "5d9909e8-1617-40da-a57b-73e7098076e9",
      "metadata": {
        "editable": true,
        "id": "5d9909e8-1617-40da-a57b-73e7098076e9",
        "tags": []
      },
      "source": [
        "But, sometimes you need more than just an `if` statement:\n",
        "\n",
        "## Syntax for `if-else` statements\n",
        "\n",
        "* keyword `if`\n",
        "* a condition\n",
        "* colon `:`\n",
        "* indented block of code\n",
        "* keyword `else`\n",
        "* colon `:`\n",
        "* indented block of code"
      ]
    },
    {
      "cell_type": "code",
      "execution_count": null,
      "id": "2c21e8ee-720d-4502-9bac-ca103bd1c207",
      "metadata": {
        "editable": true,
        "tags": [],
        "id": "2c21e8ee-720d-4502-9bac-ca103bd1c207",
        "outputId": "be2a5cf7-04de-49b4-c933-78426e71b662"
      },
      "outputs": [
        {
          "name": "stdout",
          "output_type": "stream",
          "text": [
            "10 is not less than 5\n"
          ]
        }
      ],
      "source": [
        "num = 10\n",
        "if num < 5:\n",
        "    print(num, \"is less than 5\")\n",
        "else:  #<-- pay attention to this syntax\n",
        "    print(num, \"is not less than 5\")"
      ]
    },
    {
      "cell_type": "code",
      "execution_count": null,
      "id": "6b689561-a7b5-4a5a-9fe9-0c091542399a",
      "metadata": {
        "editable": true,
        "id": "6b689561-a7b5-4a5a-9fe9-0c091542399a",
        "outputId": "6009ebe2-d9dc-43c4-972a-6133dbec2b47",
        "tags": []
      },
      "outputs": [
        {
          "name": "stdout",
          "output_type": "stream",
          "text": [
            "Enter your height in inches: 59.9\n",
            "You are not tall enough for this ride.\n",
            "Have fun!\n"
          ]
        }
      ],
      "source": [
        "#if-else example\n",
        "height = float(input(\"Enter your height in inches: \"))\n",
        "\n",
        "if height < 60: # notice the 'if' keyword and the colon ':'\n",
        "    print(\"You are not tall enough for this ride.\")\n",
        "    #indented block of code that runs if the condition is true\n",
        "\n",
        "else: # notice the 'else' keyword and the colon ':'\n",
        "    print(\"You are tall enough for this ride.\")\n",
        "    #indented block of code that runs if the condition is not true\n",
        "\n",
        "print(\"Have fun!\")\n",
        "#notice that the 'if' and 'else' clauses match indentation"
      ]
    },
    {
      "cell_type": "markdown",
      "id": "68263c06-ed26-4bef-8a93-abb1e0b5f568",
      "metadata": {
        "editable": true,
        "id": "68263c06-ed26-4bef-8a93-abb1e0b5f568",
        "tags": []
      },
      "source": [
        "## Boolean type\n",
        "\n",
        "The __Boolean__ type has two possible values: `True` and `False`\n",
        "\n",
        "`type()` of a Boolean variable will read as `bool`\n"
      ]
    },
    {
      "cell_type": "code",
      "execution_count": null,
      "id": "81457572-6710-47f9-a1ee-ec3955707fa1",
      "metadata": {
        "editable": true,
        "tags": [],
        "id": "81457572-6710-47f9-a1ee-ec3955707fa1",
        "outputId": "fd16c392-a616-4527-eb23-e0f0980c14df"
      },
      "outputs": [
        {
          "name": "stdout",
          "output_type": "stream",
          "text": [
            "<class 'bool'>\n",
            "False\n"
          ]
        }
      ],
      "source": [
        "print(type(False))\n",
        "print(48 > 60)"
      ]
    },
    {
      "cell_type": "markdown",
      "id": "35be71ee-a5f4-4cb9-8df4-1df8abaee94d",
      "metadata": {
        "editable": true,
        "id": "35be71ee-a5f4-4cb9-8df4-1df8abaee94d",
        "tags": []
      },
      "source": [
        "## Boolean Expressions\n",
        "\n",
        "A __boolean expression__ is any expression that can be evaluated to a Boolean value (`True` or `False`)\n",
        "\n",
        "Boolean expressions use __boolean operators__ (see on the next slide)"
      ]
    },
    {
      "cell_type": "markdown",
      "id": "26c04af6-7d52-45de-bae6-03b2e730697d",
      "metadata": {
        "editable": true,
        "id": "26c04af6-7d52-45de-bae6-03b2e730697d",
        "tags": []
      },
      "source": [
        "The _condition_ for an `if`/`if-else` statement can be anything that results in a Boolean. An expression, like `height < 60` that results in `True` or `False` (a Boolean) is called a __Boolean expression__."
      ]
    },
    {
      "cell_type": "markdown",
      "id": "9524fc25-1ed6-4d4a-bb9c-32f234bb36bf",
      "metadata": {
        "editable": true,
        "id": "9524fc25-1ed6-4d4a-bb9c-32f234bb36bf",
        "tags": []
      },
      "source": [
        "## Some Boolean Operators\n",
        "\n",
        "> remember our terminology... an __operator__ is the thing that goes between two __operands__ in an __expression__.\n",
        "\n",
        "* `<` less than\n",
        "* `>` greater than\n",
        "* `<=` less than or equal\n",
        "    - note there is no $\\leq$ button on your keyboard\n",
        "* `>=` greater than or equal\n",
        "* `==` equal (comparison)\n",
        "    - note that `=` is used for assignment, they're different operators, don't confuse them!\n",
        "* `!=` not equal"
      ]
    },
    {
      "cell_type": "markdown",
      "id": "6e21cf3e-a262-4ca1-8baa-07ce07d4f21b",
      "metadata": {
        "editable": true,
        "id": "6e21cf3e-a262-4ca1-8baa-07ce07d4f21b",
        "tags": []
      },
      "source": [
        "# ✨ New Material"
      ]
    },
    {
      "cell_type": "markdown",
      "id": "fa87f8a8-152e-474f-8ed2-9d1702d422ac",
      "metadata": {
        "editable": true,
        "id": "fa87f8a8-152e-474f-8ed2-9d1702d422ac",
        "tags": []
      },
      "source": [
        "## Nested If Statements\n",
        "\n",
        "You can include conditional statements _inside_ of other conditional statements\n",
        "\n",
        "Such statements are called __nested__ _if statements_."
      ]
    },
    {
      "cell_type": "code",
      "execution_count": null,
      "id": "995671eb-2166-47aa-812b-a6245f7eb731",
      "metadata": {
        "editable": true,
        "tags": [],
        "id": "995671eb-2166-47aa-812b-a6245f7eb731",
        "outputId": "2f760aa2-1b6f-4c18-c2d4-95e324d53aa9"
      },
      "outputs": [
        {
          "name": "stdout",
          "output_type": "stream",
          "text": [
            "3 is greater than 0 and less than 5\n"
          ]
        }
      ],
      "source": [
        "num = 3\n",
        "if num > 0:\n",
        "    # ---- an if statement inside an if statement ----\n",
        "    if num < 5:\n",
        "        print(num, \"is greater than 0 and less than 5\")\n",
        "    else:\n",
        "        print(num, \"is >= 5\")\n",
        "    # ------whitespace is important... match tabs-----\n",
        "else:\n",
        "    print(num, \"is less than 0.\")"
      ]
    },
    {
      "cell_type": "markdown",
      "id": "4a17a3bb-c193-41fa-907f-ba0c25a57ecc",
      "metadata": {
        "editable": true,
        "id": "4a17a3bb-c193-41fa-907f-ba0c25a57ecc",
        "tags": []
      },
      "source": [
        "## Nested If Statement Example\n",
        "\n",
        "Describe what will happen... take it one line at a time.\n",
        "- what will happen if you type `user000`?\n",
        "- what will happen if you type `user123`, and then `Spring22`?\n",
        "- what will happen if you type `user123`, and `Summer23!`?"
      ]
    },
    {
      "cell_type": "code",
      "execution_count": null,
      "id": "40119564-aa1a-4b2a-acf1-288badf78a99",
      "metadata": {
        "editable": true,
        "id": "40119564-aa1a-4b2a-acf1-288badf78a99",
        "outputId": "b087a8d2-818f-4f0a-d147-052e40cbf2a0",
        "tags": []
      },
      "outputs": [
        {
          "name": "stdin",
          "output_type": "stream",
          "text": [
            "username:  user1\n"
          ]
        },
        {
          "name": "stdout",
          "output_type": "stream",
          "text": [
            "\n",
            "incorrect username\n"
          ]
        }
      ],
      "source": [
        "username = input(\"username: \")\n",
        "print()\n",
        "if username == 'user123':\n",
        "    password = input(\"password: \")\n",
        "    print()\n",
        "    if password == 'Summer23!':\n",
        "        print(\"Access granted.\")\n",
        "    else:\n",
        "        print(\"wrong password\")\n",
        "else:\n",
        "    print(\"incorrect username\")"
      ]
    },
    {
      "cell_type": "markdown",
      "id": "f4e4e969-bbc0-457f-8308-3ba9c98c147e",
      "metadata": {
        "editable": true,
        "id": "f4e4e969-bbc0-457f-8308-3ba9c98c147e",
        "tags": []
      },
      "source": [
        "## Exercise #2:\n",
        "\n",
        "Write the code that will:\n",
        "- Prompt the user for their age\n",
        "- If they are >= 16\n",
        "    - Prompt the user if they've passed the driving exam\n",
        "    - If 'yes', the print \"Congratulations!\"\n",
        "    - otherwise, print \"Sorry, you can't drive\"\n",
        "- Otherwise print \"you aren't old enough to drive\""
      ]
    },
    {
      "cell_type": "markdown",
      "id": "51ced8bf-35b1-4df0-a2de-96c015a33321",
      "metadata": {
        "editable": true,
        "id": "51ced8bf-35b1-4df0-a2de-96c015a33321",
        "tags": []
      },
      "source": [
        "## Exercise #3:\n",
        "\n",
        "Prompt the user for an integer\n",
        "- if the number is greater than 100, print \"DO NOT GO OUTSIDE -- TOO HOT\"\n",
        "- If the number is less than 0, print \"DO NOT GO OUTSIDE -- TOO COLD\"\n",
        "- If the number is between 0 and 100, print \"OK\""
      ]
    },
    {
      "cell_type": "markdown",
      "id": "5a8c6b6b-9c87-49e1-b2d1-2a36b1dc4a12",
      "metadata": {
        "editable": true,
        "id": "5a8c6b6b-9c87-49e1-b2d1-2a36b1dc4a12",
        "tags": []
      },
      "source": [
        "## Example:\n",
        "\n",
        "Imagine a situation where, given an input, the computer had to return a grade:\n",
        "- Prompt user for their score (between 0 and 100)\n",
        "- If score >= 90, print \"you earned an A\"\n",
        "- If score >= 80, print \"you earned a B\"\n",
        "- If score >= 70, print \"you earned a C\"\n",
        "- If score >= 60, print \"you earned a D\"\n",
        "- If score < 60, print \"you earned an F\"\n",
        "\n",
        "Consider this solution:"
      ]
    },
    {
      "cell_type": "code",
      "execution_count": null,
      "id": "ff1e62ab-cd65-4add-a3a5-fca5926e51ff",
      "metadata": {
        "editable": true,
        "id": "ff1e62ab-cd65-4add-a3a5-fca5926e51ff",
        "outputId": "ba8599cd-5f12-4b08-b741-bb9896e83e5e",
        "tags": []
      },
      "outputs": [
        {
          "name": "stdin",
          "output_type": "stream",
          "text": [
            "Enter your score: 80\n"
          ]
        },
        {
          "name": "stdout",
          "output_type": "stream",
          "text": [
            "\n",
            "your earned a B\n",
            "your earned a C\n",
            "your earned a D\n"
          ]
        }
      ],
      "source": [
        "score = int(input('Enter your score:'))\n",
        "print()\n",
        "\n",
        "if score >=90:\n",
        "    print(\"your earned an A\")\n",
        "if score >=80:\n",
        "    print(\"your earned a B\")\n",
        "if score >=70:\n",
        "    print(\"your earned a C\")\n",
        "if score >=60:\n",
        "    print(\"your earned a D\")\n",
        "if score <60:\n",
        "    print(\"your earned an F\")"
      ]
    },
    {
      "cell_type": "markdown",
      "id": "76bc5e6f-111f-48fc-8b62-6a048d9d2a78",
      "metadata": {
        "editable": true,
        "id": "76bc5e6f-111f-48fc-8b62-6a048d9d2a78",
        "tags": []
      },
      "source": [
        "That's not quite how we expected that code to work... Let's fix it:\n",
        "\n",
        "Let's use nested if statments... is this better?"
      ]
    },
    {
      "cell_type": "code",
      "execution_count": null,
      "id": "d27df75d-cf56-41bf-ac18-ca0b2e998f49",
      "metadata": {
        "editable": true,
        "id": "d27df75d-cf56-41bf-ac18-ca0b2e998f49",
        "outputId": "a68fe078-d8d1-4349-dc2a-5e83d4e8aca1",
        "tags": []
      },
      "outputs": [
        {
          "name": "stdin",
          "output_type": "stream",
          "text": [
            "Enter your score: 80\n"
          ]
        },
        {
          "name": "stdout",
          "output_type": "stream",
          "text": [
            "\n",
            "your earned a B\n"
          ]
        }
      ],
      "source": [
        "score = int(input('Enter your score:'))\n",
        "print()\n",
        "\n",
        "if score >=90:\n",
        "    print(\"your earned an A\")\n",
        "else:\n",
        "    if score >=80:\n",
        "        print(\"your earned a B\")\n",
        "    else:\n",
        "        if score >=70:\n",
        "            print(\"your earned a C\")\n",
        "        else:\n",
        "            if score >=60:\n",
        "                print(\"your earned a D\")\n",
        "            else:\n",
        "                if score <60:\n",
        "                    print(\"your earned an F\")"
      ]
    },
    {
      "cell_type": "markdown",
      "id": "c7efed82-0b7c-41c6-b80f-3d5d606c77a0",
      "metadata": {
        "editable": true,
        "id": "c7efed82-0b7c-41c6-b80f-3d5d606c77a0",
        "tags": []
      },
      "source": [
        "# The `if`-`elif`-`else` statement\n",
        "\n",
        "`if`-`elif`-`else`: special version of a decision structure--makes logic of nested decision structures simpler to write.\n",
        "\n",
        "You can include multiple `elif` statements:\n",
        "\n",
        "Syntax:\n",
        "\n",
        "__`if`__ `condition1`:\n",
        "\n",
        "    (insert code here)\n",
        "    \n",
        "__`elif`__ `condition2`:\n",
        "\n",
        "    (insert code here)\n",
        "> you can have as many `elif`'s as you want\n",
        "    \n",
        "    \n",
        "__`else`__:\n",
        "\n",
        "    (insert code here)\n",
        "> an `else` clause isn't strictly necessary, but it's a good catch-all."
      ]
    },
    {
      "cell_type": "code",
      "execution_count": null,
      "id": "a49bd65a-cd98-4c1b-b96a-ea39b2b850d7",
      "metadata": {
        "editable": true,
        "id": "a49bd65a-cd98-4c1b-b96a-ea39b2b850d7",
        "outputId": "6d8db565-c167-4392-8ff5-151e14b4b460",
        "tags": []
      },
      "outputs": [
        {
          "name": "stdin",
          "output_type": "stream",
          "text": [
            "Enter your score: 89\n"
          ]
        },
        {
          "name": "stdout",
          "output_type": "stream",
          "text": [
            "\n",
            "your earned a B\n"
          ]
        }
      ],
      "source": [
        "score = int(input('Enter your score:'))\n",
        "print()\n",
        "\n",
        "if score >=90:\n",
        "    print(\"your earned an A\")\n",
        "elif score >=80:\n",
        "    print(\"your earned a B\")\n",
        "elif score >=70:\n",
        "    print(\"your earned a C\")\n",
        "elif score >=60:\n",
        "    print(\"your earned a D\")\n",
        "else:\n",
        "    print(\"your earned an F\")"
      ]
    },
    {
      "cell_type": "markdown",
      "id": "0528f775-3d98-4c6d-babe-b3483378a523",
      "metadata": {
        "editable": true,
        "id": "0528f775-3d98-4c6d-babe-b3483378a523",
        "tags": []
      },
      "source": [
        "## Exercise #4\n",
        "\n",
        "Prompt the user for the number of hours of sleep they got last night.\n",
        "\n",
        "Use ONLY if-elif-else statments to print out an appropriate response based on the inputted number and following chart:\n",
        "\n",
        "| Hours           | Response                                |\n",
        "|-----------------|-----------------------------------------|\n",
        "| Above 8         | \"You are well-rested!\"                  |\n",
        "| Between 4 and 8 | \"The coffee shop is around the corner.\" |\n",
        "| Between 0 and 4 | \"Are you sure you're awake?\"            |\n",
        "| Less than 0     | \"Input error\"                           |"
      ]
    },
    {
      "cell_type": "markdown",
      "id": "b2cad32e-d621-433e-85af-a9835e40e564",
      "metadata": {
        "editable": true,
        "tags": [],
        "id": "b2cad32e-d621-433e-85af-a9835e40e564"
      },
      "source": [
        "# Let's talk Operators: `+=`, `-=`, `*=`, `/=`, `//`, and `%`"
      ]
    },
    {
      "cell_type": "markdown",
      "id": "7c22635e-8d62-4012-8b0f-36c73db6b322",
      "metadata": {
        "editable": true,
        "id": "7c22635e-8d62-4012-8b0f-36c73db6b322",
        "tags": []
      },
      "source": [
        "# Accumulator Operator:\n",
        "\n",
        "A common task in computer science is to update the value of a variable by 1.\n",
        "\n",
        "Python provides an operator to do just that: `+=`\n",
        "\n",
        "This is often referred to as an __accumulator operator__.\n",
        "\n",
        "The following two expressions do the same thing (they assign x the value of x + 1)"
      ]
    },
    {
      "cell_type": "code",
      "execution_count": null,
      "id": "d6117e5f-6f12-46c2-88fc-07b98236da40",
      "metadata": {
        "id": "d6117e5f-6f12-46c2-88fc-07b98236da40"
      },
      "outputs": [],
      "source": [
        "x = 0 # start with x = 0\n",
        "\n",
        "x = x + 1\n",
        "print(x)\n",
        "\n",
        "x += 5 # x = x + 5\n",
        "print(x)"
      ]
    },
    {
      "cell_type": "markdown",
      "id": "60fc917d-9db0-4955-b47c-3047e631933a",
      "metadata": {
        "editable": true,
        "id": "60fc917d-9db0-4955-b47c-3047e631933a",
        "tags": []
      },
      "source": [
        "## Other Assignment Operators:\n",
        "Python has a built in operator pattern (`+=`, `-=`, `*=`, `/=`) that takes the value of a variable and changes it by adding, subtracting, mulitplying, or dividing the variable by whatever value follows the operator."
      ]
    },
    {
      "cell_type": "code",
      "execution_count": null,
      "id": "b0236ded-a72a-45ca-a8c1-4ffc70575ce4",
      "metadata": {
        "id": "b0236ded-a72a-45ca-a8c1-4ffc70575ce4"
      },
      "outputs": [],
      "source": [
        "x = 5\n",
        "print(x)\n",
        "\n",
        "x += 5  # x = x + 5 -- 5 + 5 = 10\n",
        "print(x)\n",
        "\n",
        "x *= 10 # x = x*10 -- 10*10 = 100\n",
        "print(x)\n",
        "\n",
        "x /= 10 # x = x / 10 -- 100/10 = 10\n",
        "print(x)\n",
        "\n",
        "x -= 5  # x = x - 5 -- 10-5 = 5\n",
        "print(x)"
      ]
    },
    {
      "cell_type": "markdown",
      "id": "f017ed49-8994-4738-876e-c75d02b6a92f",
      "metadata": {
        "editable": true,
        "id": "f017ed49-8994-4738-876e-c75d02b6a92f",
        "tags": []
      },
      "source": [
        "# Let's test our understanding:\n",
        "\n",
        "Re-write the following expressions using the assignment operators we just learned about:\n",
        "1. `x = x + 7`\n",
        "\n",
        "2. `x = x * 5`\n",
        "\n",
        "    \n",
        "3. `x = x / 10`\n",
        "\n",
        "    \n",
        "4. `x = x - 2`\n",
        "\n",
        "    "
      ]
    },
    {
      "cell_type": "markdown",
      "id": "9cb6554c-184f-4433-b5c2-bd7c35c21757",
      "metadata": {
        "editable": true,
        "id": "9cb6554c-184f-4433-b5c2-bd7c35c21757",
        "tags": []
      },
      "source": [
        "# Special Characters in Strings:\n",
        "\n",
        "There are a few special characters that can be included in strings worth mentioning:\n",
        "- `\\n`: this will add a 'newline' to whatever text you want to print:"
      ]
    },
    {
      "cell_type": "code",
      "execution_count": null,
      "id": "23f24ad5-de1f-4ded-bbdb-73aa733e5b58",
      "metadata": {
        "id": "23f24ad5-de1f-4ded-bbdb-73aa733e5b58"
      },
      "outputs": [],
      "source": [
        "print(\"a \\nb \\nc \\nd\")"
      ]
    },
    {
      "cell_type": "markdown",
      "id": "b38f2857-0730-4b43-8a53-757d51881117",
      "metadata": {
        "id": "b38f2857-0730-4b43-8a53-757d51881117"
      },
      "source": [
        "- `\\t`: this will add a 'tab' to whatever you're printing out"
      ]
    },
    {
      "cell_type": "code",
      "execution_count": null,
      "id": "59b2f38c-4e90-4aeb-94fe-bc91403c4ba6",
      "metadata": {
        "id": "59b2f38c-4e90-4aeb-94fe-bc91403c4ba6"
      },
      "outputs": [],
      "source": [
        "print(\"a \\t b \\t c\")\n",
        "print(\"apple \\t b \\t c\")"
      ]
    },
    {
      "cell_type": "markdown",
      "id": "3526787c-525c-47c3-ad2c-fefec6ff6a15",
      "metadata": {
        "editable": true,
        "id": "3526787c-525c-47c3-ad2c-fefec6ff6a15",
        "tags": []
      },
      "source": [
        "## More special characters:"
      ]
    },
    {
      "cell_type": "markdown",
      "id": "bc60df91-8eb4-4eba-8189-e4abd22708e7",
      "metadata": {
        "id": "bc60df91-8eb4-4eba-8189-e4abd22708e7"
      },
      "source": [
        "- `\\\"`: this will print a single double-quote (`\"`)"
      ]
    },
    {
      "cell_type": "code",
      "execution_count": null,
      "id": "9d882c55-396b-439f-9bb6-eaca9a59c843",
      "metadata": {
        "id": "9d882c55-396b-439f-9bb6-eaca9a59c843"
      },
      "outputs": [],
      "source": [
        "print(\"\\\"To be or not to be, that is the question.\\\"\")"
      ]
    },
    {
      "cell_type": "markdown",
      "id": "0f71c940-fd7d-439b-82be-e4d386402360",
      "metadata": {
        "id": "0f71c940-fd7d-439b-82be-e4d386402360"
      },
      "source": [
        "- `\\\\`: this will print a single backslash `\\`"
      ]
    },
    {
      "cell_type": "code",
      "execution_count": null,
      "id": "3a086aba-8cae-4fe5-b703-0be551683495",
      "metadata": {
        "id": "3a086aba-8cae-4fe5-b703-0be551683495"
      },
      "outputs": [],
      "source": [
        "print(\"\\\\\")"
      ]
    },
    {
      "cell_type": "markdown",
      "id": "6984a3d9-4c34-43d5-8d7b-649d473a851b",
      "metadata": {
        "editable": true,
        "id": "6984a3d9-4c34-43d5-8d7b-649d473a851b",
        "tags": []
      },
      "source": [
        "### A Tricky question...\n",
        "What do you think will happen here?"
      ]
    },
    {
      "cell_type": "code",
      "execution_count": null,
      "id": "c196a9ee-7aa6-488d-8438-f16f66a1158d",
      "metadata": {
        "id": "c196a9ee-7aa6-488d-8438-f16f66a1158d",
        "outputId": "54268af4-a7f2-4928-e34e-da4f6b6e9bff"
      },
      "outputs": [
        {
          "name": "stdout",
          "output_type": "stream",
          "text": [
            "\"\n",
            "\\\n"
          ]
        }
      ],
      "source": [
        "print(\"\\\"\")\n",
        "print(\"\\\\\")"
      ]
    },
    {
      "cell_type": "markdown",
      "id": "82653590-b6af-4b44-a2e7-a3d8e382cbc1",
      "metadata": {
        "editable": true,
        "id": "82653590-b6af-4b44-a2e7-a3d8e382cbc1",
        "tags": []
      },
      "source": [
        "# Division Operators"
      ]
    },
    {
      "cell_type": "markdown",
      "id": "631a914d-731b-400c-9d8d-9597226b4665",
      "metadata": {
        "editable": true,
        "id": "631a914d-731b-400c-9d8d-9597226b4665",
        "tags": []
      },
      "source": [
        "## Floating-point division operator\n",
        "\n",
        "The `/` operator will always give you a _float_ as a result."
      ]
    },
    {
      "cell_type": "code",
      "execution_count": null,
      "id": "a4580367-c8ba-414f-a1e5-4056509605ac",
      "metadata": {
        "id": "a4580367-c8ba-414f-a1e5-4056509605ac",
        "outputId": "8346e143-5b11-4452-adff-7b84c3cae867"
      },
      "outputs": [
        {
          "data": {
            "text/plain": [
              "16.0"
            ]
          },
          "execution_count": 19,
          "metadata": {},
          "output_type": "execute_result"
        }
      ],
      "source": [
        "320 / 20"
      ]
    },
    {
      "cell_type": "code",
      "execution_count": null,
      "id": "0632fa89-fc21-462c-986f-f75f5238acab",
      "metadata": {
        "id": "0632fa89-fc21-462c-986f-f75f5238acab",
        "outputId": "2a59304a-f1d7-45e0-b559-5428ebf4af41"
      },
      "outputs": [
        {
          "data": {
            "text/plain": [
              "16.791666666666668"
            ]
          },
          "execution_count": 20,
          "metadata": {},
          "output_type": "execute_result"
        }
      ],
      "source": [
        "403.0 / 24.0"
      ]
    },
    {
      "cell_type": "code",
      "execution_count": null,
      "id": "32d43a7f-0f92-4391-934a-06fb1daffefa",
      "metadata": {
        "id": "32d43a7f-0f92-4391-934a-06fb1daffefa",
        "outputId": "b22adc0a-2a8c-40e1-f8df-dd86de3b54d8"
      },
      "outputs": [
        {
          "data": {
            "text/plain": [
              "float"
            ]
          },
          "execution_count": 21,
          "metadata": {},
          "output_type": "execute_result"
        }
      ],
      "source": [
        "type(320/20)"
      ]
    },
    {
      "cell_type": "markdown",
      "id": "522d9a6c-b629-4f84-8ca7-e8033925dfca",
      "metadata": {
        "editable": true,
        "id": "522d9a6c-b629-4f84-8ca7-e8033925dfca",
        "tags": []
      },
      "source": [
        "## Integer division operators\n",
        "\n",
        "Sometimes, instead of getting the full floating-point expansion, you might want the quotient and remainder separately.\n",
        "\n",
        "<div>\n",
        "<img src=\"https://github.com/merriekay/CS65-F23/blob/main/images/day02_floor.png?raw=1\"/ width=200>\n",
        "</div>\n",
        "\n",
        "\n",
        "The `//` is the _floor_ division operator - it gives you the quotient and _ignores_ and fractional/remainder part.\n"
      ]
    },
    {
      "cell_type": "code",
      "execution_count": null,
      "id": "3f0965fb-9090-46ce-9b29-e49297b34768",
      "metadata": {
        "id": "3f0965fb-9090-46ce-9b29-e49297b34768",
        "outputId": "c7486978-1076-45b1-c2f2-5b32d6ef73ce"
      },
      "outputs": [
        {
          "data": {
            "text/plain": [
              "int"
            ]
          },
          "execution_count": 23,
          "metadata": {},
          "output_type": "execute_result"
        }
      ],
      "source": [
        "403 // 24 # quotient, w/o remainder"
      ]
    },
    {
      "cell_type": "markdown",
      "id": "6709fbb6-2a7a-4b3c-924c-e329bbecf5f6",
      "metadata": {
        "editable": true,
        "id": "6709fbb6-2a7a-4b3c-924c-e329bbecf5f6",
        "tags": []
      },
      "source": [
        "## Modulo operator\n",
        "\n",
        "The `%` operator is the __modulo__ operator - another word for remainder - it will ignore the quotient and just give you the remainder.\n",
        "\n",
        "<div>\n",
        "<img src=\"https://github.com/merriekay/CS65-F23/blob/main/images/day02_mod.png?raw=1\"/ width=200>\n",
        "</div>"
      ]
    },
    {
      "cell_type": "code",
      "execution_count": null,
      "id": "8c563066-fbdc-42cd-809d-ed8d6aad1bd8",
      "metadata": {
        "id": "8c563066-fbdc-42cd-809d-ed8d6aad1bd8",
        "outputId": "97e10ce7-8b62-4cd1-98e8-0aeb0a521bda"
      },
      "outputs": [
        {
          "data": {
            "text/plain": [
              "19"
            ]
          },
          "execution_count": 26,
          "metadata": {},
          "output_type": "execute_result"
        }
      ],
      "source": [
        "403 %  24 # ignores the quotient, and gives us the remainder."
      ]
    },
    {
      "cell_type": "markdown",
      "id": "8d59ee13-b626-43b9-be9a-2afccdf23517",
      "metadata": {
        "editable": true,
        "id": "8d59ee13-b626-43b9-be9a-2afccdf23517",
        "tags": []
      },
      "source": [
        "## Practice Exercise:\n",
        "\n",
        "Try each of the following in your interactive shell. What pattern do you notice?"
      ]
    },
    {
      "cell_type": "code",
      "execution_count": null,
      "id": "35f31887-a93a-4cf0-b0c3-54fa43418aab",
      "metadata": {
        "id": "35f31887-a93a-4cf0-b0c3-54fa43418aab"
      },
      "outputs": [],
      "source": [
        "0 // 2\n",
        "1 // 2\n",
        "3 // 2\n",
        "4 // 2\n",
        "5 // 2\n",
        "6 // 2\n",
        "20 // 5\n",
        "21 // 5\n",
        "22 // 5\n",
        "23 // 5\n",
        "24 // 5\n",
        "25 // 5"
      ]
    },
    {
      "cell_type": "markdown",
      "id": "1211eb0f-e2ea-4d38-99a5-aa2087baa993",
      "metadata": {
        "id": "1211eb0f-e2ea-4d38-99a5-aa2087baa993"
      },
      "source": [
        "Try each of the following in your interactive shell. What pattern do you notice?"
      ]
    },
    {
      "cell_type": "code",
      "execution_count": null,
      "id": "0ab0aefc-d274-45e5-bb51-1b41277843f8",
      "metadata": {
        "editable": true,
        "id": "0ab0aefc-d274-45e5-bb51-1b41277843f8",
        "tags": []
      },
      "outputs": [],
      "source": [
        "0 % 2\n",
        "1 % 2\n",
        "3 % 2\n",
        "4 % 2\n",
        "5 % 2\n",
        "6 % 2\n",
        "20 % 5\n",
        "21 % 5\n",
        "22 % 5\n",
        "23 % 5\n",
        "24 % 5\n",
        "25 % 5"
      ]
    },
    {
      "cell_type": "markdown",
      "id": "05daae68-3300-4532-bb0f-c1ff277c1cd3",
      "metadata": {
        "editable": true,
        "id": "05daae68-3300-4532-bb0f-c1ff277c1cd3",
        "tags": []
      },
      "source": [
        "Write down in your notes:\n",
        "* What is the difference between `//` and `/`?\n",
        "* What is the difference between `//` and `%`?\n",
        "\n",
        "Try each of the following in your interactive shell."
      ]
    },
    {
      "cell_type": "code",
      "execution_count": null,
      "id": "df9ac6a9-ead9-472a-a27a-8a7b546b589f",
      "metadata": {
        "editable": true,
        "id": "df9ac6a9-ead9-472a-a27a-8a7b546b589f",
        "outputId": "f3323123-27f3-4639-9856-769b1b9db39d",
        "tags": []
      },
      "outputs": [
        {
          "name": "stdout",
          "output_type": "stream",
          "text": [
            "4.0\n"
          ]
        }
      ],
      "source": [
        "print(23 // 5.50)\n",
        "23 / 0\n",
        "23 % 0\n",
        "23 // 0"
      ]
    },
    {
      "cell_type": "markdown",
      "id": "06edfefd-5a91-439a-88b0-2f7f7d046de0",
      "metadata": {
        "editable": true,
        "id": "06edfefd-5a91-439a-88b0-2f7f7d046de0",
        "tags": []
      },
      "source": [
        "Write down in your notes:\n",
        "* What happens when you use a float with the floor division operator?\n",
        "* What happens in Python if you try to divide by 0?\n",
        "* What happens when you do `%0`?\n",
        "* What happens when you do `// 0`?"
      ]
    },
    {
      "cell_type": "markdown",
      "id": "02e81076-49f2-41a8-908d-ad77e5f35891",
      "metadata": {
        "editable": true,
        "id": "02e81076-49f2-41a8-908d-ad77e5f35891",
        "tags": []
      },
      "source": [
        "# Practice Exercises:\n",
        "\n",
        "Take a few minutes and try to answer these questions using Python and the division operators we just talked about:\n",
        "\n",
        "1. There are 100 pieces of candy; there are 8 people at the party; how many pieces of candy does each person get? How much candy is left over?\n",
        "    - `100 // 8`: how many pieces does each person get?\n",
        "    - `100 % 8`: how much candy is leftover.\n",
        "\n",
        "2. I'm programming a super computer with 64 processors to perform 1500 variations of a simulation for a physics experiment, and each of the simulations takes about the same amount of time to run. How many simulations should be given to each processor?\n",
        "    - `1500 // 64`: how many simluations per processor\n",
        "    - `1500 % 64`: how many simulations are leftover\n",
        "\n",
        "3. I have 78 cents, how many quarters should I give in change?\n",
        "    - `78 // 25`: how many quarters\n",
        "    - `78 % 25`: how much is leftover."
      ]
    },
    {
      "cell_type": "markdown",
      "id": "6605f257-278f-4d2f-b1d0-e9b05c051edf",
      "metadata": {
        "editable": true,
        "id": "6605f257-278f-4d2f-b1d0-e9b05c051edf",
        "tags": []
      },
      "source": [
        "## When is this useful?\n",
        "\n",
        "If you want to check if a number is divisible by 4 - say you're checking to see if the year is a presidential election year, Olympic year, leap year, etc., you can see if the result is zero:"
      ]
    },
    {
      "cell_type": "code",
      "execution_count": null,
      "id": "ce8b6805-9123-4b72-bf84-cf6ea1a53ebf",
      "metadata": {
        "id": "ce8b6805-9123-4b72-bf84-cf6ea1a53ebf",
        "outputId": "e9aacaef-9f04-4110-9773-941421c16114"
      },
      "outputs": [
        {
          "data": {
            "text/plain": [
              "0"
            ]
          },
          "execution_count": 32,
          "metadata": {},
          "output_type": "execute_result"
        }
      ],
      "source": [
        "2024 % 4"
      ]
    },
    {
      "cell_type": "markdown",
      "id": "c6235031-1f53-4870-ac00-40f919130f97",
      "metadata": {
        "id": "c6235031-1f53-4870-ac00-40f919130f97"
      },
      "source": [
        "Modulo (`%`) is also good if you need to check if a number is even or odd:"
      ]
    },
    {
      "cell_type": "code",
      "execution_count": null,
      "id": "e85d9c59-ad71-4a32-91e0-369233c58f06",
      "metadata": {
        "editable": true,
        "id": "e85d9c59-ad71-4a32-91e0-369233c58f06",
        "outputId": "7f8d4e9e-63ce-4512-9995-6870dad9d2b2",
        "tags": []
      },
      "outputs": [
        {
          "data": {
            "text/plain": [
              "1"
            ]
          },
          "execution_count": 33,
          "metadata": {},
          "output_type": "execute_result"
        }
      ],
      "source": [
        "253 % 2 # odd numbers have a remainder of 1 when divided by 2"
      ]
    },
    {
      "cell_type": "code",
      "execution_count": null,
      "id": "9538a6ca-501b-408f-b1d4-0b5051368418",
      "metadata": {
        "editable": true,
        "id": "9538a6ca-501b-408f-b1d4-0b5051368418",
        "outputId": "55997d34-1bee-430a-e58a-ee8178364904",
        "tags": []
      },
      "outputs": [
        {
          "data": {
            "text/plain": [
              "0"
            ]
          },
          "execution_count": 34,
          "metadata": {},
          "output_type": "execute_result"
        }
      ],
      "source": [
        "254 % 2 # even numbers have a remainder of 0 when divided by 2"
      ]
    },
    {
      "cell_type": "code",
      "execution_count": null,
      "id": "41dcc05d-287d-4501-8481-5e2e0e5b470f",
      "metadata": {
        "editable": true,
        "id": "41dcc05d-287d-4501-8481-5e2e0e5b470f",
        "outputId": "aa61cd71-8c29-4078-c85b-7412392d12ae",
        "tags": []
      },
      "outputs": [
        {
          "name": "stdout",
          "output_type": "stream",
          "text": [
            "x is divisible by 3\n",
            "x is divisble by 5\n"
          ]
        }
      ],
      "source": [
        "x = 150\n",
        "# is x divisible by 3?\n",
        "if x % 3 == 0:\n",
        "    print(\"x is divisible by 3\")\n",
        "if x % 5 == 0:\n",
        "    print(\"x is divisble by 5\")"
      ]
    },
    {
      "cell_type": "markdown",
      "id": "900cae87-c17b-4269-a51d-4e4d3c89d07c",
      "metadata": {
        "editable": true,
        "id": "900cae87-c17b-4269-a51d-4e4d3c89d07c",
        "tags": []
      },
      "source": [
        "# Try it! 🍕\n",
        "\n",
        "Write a program that will:\n",
        "- prompt the user for the number of slices of pizza;\n",
        "- prompt the user for the number of people\n",
        "- print out how many slices each person can eat (if everyone gets the same number of slices)\n",
        "- print out how many slices will be left over"
      ]
    },
    {
      "cell_type": "code",
      "execution_count": null,
      "id": "28538e6c-460d-4293-8680-bd7f380e01a9",
      "metadata": {
        "editable": true,
        "id": "28538e6c-460d-4293-8680-bd7f380e01a9",
        "outputId": "44995f21-a1b5-4982-eddd-eb74bcf6a80a",
        "tags": []
      },
      "outputs": [
        {
          "name": "stdout",
          "output_type": "stream",
          "text": [
            "How many slices are there? 40\n",
            "How many people are there? 7\n",
            "With 40 slices and 7 people, each person should get 5 slices.\n",
            "There will be 5 slices left over.\n"
          ]
        }
      ],
      "source": [
        "num_slices = int(input(\"How many slices are there? \"))\n",
        "num_people = int(input(\"How many people are there? \"))\n",
        "\n",
        "slices_per_person = num_slices // num_people\n",
        "slices_leftover = num_slices % num_people\n",
        "\n",
        "print(\"With\", num_slices, \"slices and\", num_people, \"people, each person should get\", slices_per_person, \"slices.\")\n",
        "print(\"There will be\", slices_leftover, \"slices left over.\")"
      ]
    },
    {
      "cell_type": "markdown",
      "id": "48eb0970-940b-493f-a386-b0dc0640e50b",
      "metadata": {
        "editable": true,
        "id": "48eb0970-940b-493f-a386-b0dc0640e50b",
        "tags": []
      },
      "source": [
        "You should be working on:\n",
        "- [Lab #2](https://analytics.drake.edu/~moore/CS65-F24/Lab2.html) is due Wednesday, 9/11/24 by 11:59 pm.\n",
        "- [Lab #3](https://analytics.drake.edu/~moore/CS65-F24/Lab3.html) is released today, due Monday 9/16/24 by 11:59 pm.\n",
        "\n",
        "Reading:\n",
        "- [Reading: If Statements](https://www.brianheinold.net/python/python_book.html#chapter_ifstatements)"
      ]
    }
  ],
  "metadata": {
    "kernelspec": {
      "display_name": "Python 3 (ipykernel)",
      "language": "python",
      "name": "python3"
    },
    "language_info": {
      "codemirror_mode": {
        "name": "ipython",
        "version": 3
      },
      "file_extension": ".py",
      "mimetype": "text/x-python",
      "name": "python",
      "nbconvert_exporter": "python",
      "pygments_lexer": "ipython3",
      "version": "3.12.4"
    },
    "colab": {
      "provenance": [],
      "include_colab_link": true
    }
  },
  "nbformat": 4,
  "nbformat_minor": 5
}
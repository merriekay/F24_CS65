{
  "cells": [
    {
      "cell_type": "markdown",
      "metadata": {
        "id": "view-in-github",
        "colab_type": "text"
      },
      "source": [
        "<a href=\"https://colab.research.google.com/github/merriekay/F24_CS65/blob/main/Day14.ipynb\" target=\"_parent\"><img src=\"https://colab.research.google.com/assets/colab-badge.svg\" alt=\"Open In Colab\"/></a>"
      ]
    },
    {
      "cell_type": "markdown",
      "id": "91ed258b-4e2a-4fab-96f6-fb4e8dfbcbcd",
      "metadata": {
        "editable": true,
        "tags": [],
        "id": "91ed258b-4e2a-4fab-96f6-fb4e8dfbcbcd"
      },
      "source": [
        "# CS65: Day 14\n",
        "\n",
        "## Intro to Files\n",
        "### CS65: Introduction to Computer Science I | Fall 2024\n",
        "\n",
        "*Monday, October 21st,2024*\n",
        "\n",
        "### Helpful Resources:\n",
        "[📜 Syllabus](https://docs.google.com/document/d/1nqjmD0yhOOh2gaPwxfjV4EY_dBUIQUur1fvqQ4YPJLA/edit?usp=sharing) | [📬 CodePost Login](https://codepost.io/login) | [📆 Schedule](https://docs.google.com/spreadsheets/d/1Q5-ArPnXwjejKjXSI8WKgF7A2HRAam6Ny3eNA7EHn18/edit?usp=sharing) | [🙋‍♂️ PollEverywhere](https://pollev.com/moore) | [🪴 Office Hour Sign-Up](https://calendly.com/meredith-moore/office-hours)\n",
        "\n",
        "> **Note to self:** Make sure you're recording, silly goose!"
      ]
    },
    {
      "cell_type": "markdown",
      "id": "e8564de5-8b0d-4ceb-a2f5-47919aa53449",
      "metadata": {
        "editable": true,
        "tags": [],
        "id": "e8564de5-8b0d-4ceb-a2f5-47919aa53449"
      },
      "source": [
        "# Announcements"
      ]
    },
    {
      "cell_type": "markdown",
      "id": "dcacf4ae-ae2b-4096-b94c-21a8d5c0bf2b",
      "metadata": {
        "editable": true,
        "tags": [],
        "id": "dcacf4ae-ae2b-4096-b94c-21a8d5c0bf2b"
      },
      "source": [
        "### Registration:\n",
        "\n",
        "Like CS? Consider adding:\n",
        "- [Computer Science major/minor](https://catalog.drake.edu/undergraduate/collegeofartsandsciences/areas/cs/)\n",
        "- [Artificial Intelligence major/minor](https://www.drake.edu/artificial-intelligence/)\n",
        "- [Data Analytics major/minor](https://www.drake.edu/analytics/majorandminor/)\n",
        "- __Bonus__: here's my [CS Advising Checklist](https://docs.google.com/spreadsheets/d/1hJwifa2sSStyz6gKWryZDlGrIkfJQXqcD0bZNQeAobg/edit?usp=sharing)"
      ]
    },
    {
      "cell_type": "markdown",
      "id": "b283674f-e5ce-4108-ab35-ba3e2f5e2ecc",
      "metadata": {
        "editable": true,
        "tags": [],
        "id": "b283674f-e5ce-4108-ab35-ba3e2f5e2ecc"
      },
      "source": [
        "These classes are up next:\n",
        "- __CS66__: Intro to Computer Science II\n",
        "    - Monday / Wednesday 9:30 - 10:45, or 11:00 - 12:15\n",
        "- __CS120__: Human-Computer Interaction\n",
        "    - Monday / Wednesday 2:00 - 3:15"
      ]
    },
    {
      "cell_type": "markdown",
      "id": "88768cf7-76ee-41d3-993f-c30a471c0f32",
      "metadata": {
        "editable": true,
        "tags": [],
        "id": "88768cf7-76ee-41d3-993f-c30a471c0f32"
      },
      "source": [
        "### Grading:\n",
        "Midterm grades are posted\n",
        "- 80% labs, 20% exam #1\n",
        "\n"
      ]
    },
    {
      "cell_type": "markdown",
      "id": "3485f6de-ae89-4414-95f2-2d051c561f2f",
      "metadata": {
        "editable": true,
        "tags": [],
        "id": "3485f6de-ae89-4414-95f2-2d051c561f2f"
      },
      "source": [
        "### Assignments:\n",
        "- [Lab #8](https://analytics.drake.edu/~moore/CS65-F24/Lab8.html) is released today, due Wednesday October 23rd by 11:59pm to codePost"
      ]
    },
    {
      "cell_type": "markdown",
      "id": "b750f896-b21b-46b2-a571-a9eedc1dfcdb",
      "metadata": {
        "editable": true,
        "id": "b750f896-b21b-46b2-a571-a9eedc1dfcdb",
        "tags": []
      },
      "source": [
        "# ⏪ Quick Review:"
      ]
    },
    {
      "cell_type": "markdown",
      "id": "2b7ef012-5e77-4988-8d88-08005159c2c5",
      "metadata": {
        "editable": true,
        "id": "2b7ef012-5e77-4988-8d88-08005159c2c5",
        "tags": []
      },
      "source": [
        "# 🥤Containers\n",
        "\n",
        "Some types in Python are used for storing a collection of values. These types are called __containers__.\n",
        "\n",
        "__List:__ a container type that stores values in a ordered _sequence_"
      ]
    },
    {
      "cell_type": "markdown",
      "id": "2ee2a988-4615-48df-9aad-19bc5eee6eec",
      "metadata": {
        "editable": true,
        "id": "2ee2a988-4615-48df-9aad-19bc5eee6eec",
        "tags": []
      },
      "source": [
        "values in a list are called __items__ or __elements__, e.g., `\"Capaldi\"`, `0.3`\n",
        "\n",
        "__Syntax__: start with `[`, end with `]`, separate with `,`\n",
        "\n",
        "Lists can store different types of data in the same list. See `dates` below."
      ]
    },
    {
      "cell_type": "code",
      "execution_count": null,
      "id": "43bdd909-d849-46aa-b077-c351682529a2",
      "metadata": {
        "editable": true,
        "id": "43bdd909-d849-46aa-b077-c351682529a2",
        "tags": []
      },
      "outputs": [],
      "source": [
        "doctor_who_actors = [\"Tennant\", \"Smith\",\"Capaldi\",\"Whittaker\", \"Gatwa\"]\n",
        "rainfall_amounts = [0.0, 0.3, 0.71, 0.0, 0.32, 1.1, 0.4]\n",
        "dates = [\"March 14, 2020\", 2021, \"4/1\"]\n",
        "empty_list = []"
      ]
    },
    {
      "cell_type": "markdown",
      "id": "578225ee-1d20-480c-9cd0-0c561a1e74fe",
      "metadata": {
        "editable": true,
        "id": "578225ee-1d20-480c-9cd0-0c561a1e74fe",
        "tags": []
      },
      "source": [
        "## Accessing items in a list\n",
        "\n",
        "You can access individual items in a list using their __index__, which is their position in the list:\n",
        "- indices _start at 0_\n",
        "- Use `[ ]` at the end of the list to access the index\n",
        "- Between the brackets, you can put a number or a variable (of type int)\n"
      ]
    },
    {
      "cell_type": "code",
      "execution_count": null,
      "id": "550c5396-3372-4193-bb2e-12782c0e74cd",
      "metadata": {
        "editable": true,
        "id": "550c5396-3372-4193-bb2e-12782c0e74cd",
        "tags": []
      },
      "outputs": [],
      "source": [
        "#           index:       0      1          2        3          4 (notice it doens't go to 5, since we start at 0)\n",
        "doctor_who_actors = [\"Tennant\",\"Smith\",\"Capaldi\",\"Whittaker\", \"Gatwa\"]\n",
        "print(doctor_who_actors[4])"
      ]
    },
    {
      "cell_type": "code",
      "execution_count": null,
      "id": "4d8997c6-9e3c-4527-9860-ce0f758ec225",
      "metadata": {
        "id": "4d8997c6-9e3c-4527-9860-ce0f758ec225"
      },
      "outputs": [],
      "source": [
        "i = 3\n",
        "rainfall_amounts = [0.0, 0.3, 0.71, 0.0, 0.32, 1.1, 0.4]\n",
        "print(rainfall_amounts[5])"
      ]
    },
    {
      "cell_type": "markdown",
      "id": "6b19395e-871f-4cab-9043-fb1a9b44d809",
      "metadata": {
        "editable": true,
        "id": "6b19395e-871f-4cab-9043-fb1a9b44d809",
        "tags": []
      },
      "source": [
        "Using index notation, you can treat an item in a list like any other variable:\n",
        "- you can use it in an expression\n",
        "- you can print it out\n",
        "- or... do whatever else you want with it"
      ]
    },
    {
      "cell_type": "code",
      "execution_count": null,
      "id": "69b43b64-3d5e-45d5-8daa-20e2ab241bad",
      "metadata": {
        "id": "69b43b64-3d5e-45d5-8daa-20e2ab241bad",
        "outputId": "41f1bc94-b872-4336-ad29-e3155f78df2a"
      },
      "outputs": [
        {
          "data": {
            "text/plain": [
              "1.5"
            ]
          },
          "execution_count": 82,
          "metadata": {},
          "output_type": "execute_result"
        }
      ],
      "source": [
        "rainfall_amounts = [0.0, 0.3, 0.71, 0.0, 0.32, 1.1, 0.4]\n",
        "total_weekend_rainfall = rainfall_amounts[5] + rainfall_amounts[6]\n",
        "print(total_weekend_rainfall)"
      ]
    },
    {
      "cell_type": "markdown",
      "id": "b714bb0d-70d1-473d-a986-77277a7ef5d0",
      "metadata": {
        "editable": true,
        "id": "b714bb0d-70d1-473d-a986-77277a7ef5d0",
        "tags": []
      },
      "source": [
        "## Updating items in a list\n",
        "\n",
        "You can also use list notation to change values in a list:\n",
        "- use the index to the position in the list you'd like to change (`rainfall_amounts[2]`) on the right hand side of the assignment operator `=` and the value on the left\n",
        "- `rainfall_amounts[2] = 0.65`"
      ]
    },
    {
      "cell_type": "code",
      "execution_count": null,
      "id": "ee145963-c219-4202-a9b2-ee749fca869f",
      "metadata": {
        "id": "ee145963-c219-4202-a9b2-ee749fca869f",
        "outputId": "a9d1ceb0-42c0-42c7-8c34-6ce1da9c0bbb"
      },
      "outputs": [
        {
          "name": "stdout",
          "output_type": "stream",
          "text": [
            "[0.0, 0.3, 0.65, 0.0, 0.32, 1.1, 0.4]\n"
          ]
        }
      ],
      "source": [
        "rainfall_amounts = [0.0, 0.3, 0.71, 0.0, 0.32, 1.1, 0.4]\n",
        "\n",
        "# change 0.71 to 0.65\n",
        "rainfall_amounts[2] = 0.65\n",
        "print(rainfall_amounts)"
      ]
    },
    {
      "cell_type": "markdown",
      "id": "b0fbb314-5664-4534-af9a-0214b50f0913",
      "metadata": {
        "editable": true,
        "tags": [],
        "id": "b0fbb314-5664-4534-af9a-0214b50f0913"
      },
      "source": [
        "# Looping through lists:\n",
        "\n",
        "You will often have a program that will process all of the elements in a list.\n",
        "\n",
        "Examples:\n",
        "- add up all of the elements\n",
        "- Search for the existense of some feature from all elements\n",
        "- print out all of the elements\n",
        "- do a mathematical operation over all elements.\n"
      ]
    },
    {
      "cell_type": "markdown",
      "id": "0dd09f28-e101-4ffb-ac9f-0ea377f039b4",
      "metadata": {
        "editable": true,
        "tags": [],
        "id": "0dd09f28-e101-4ffb-ac9f-0ea377f039b4"
      },
      "source": [
        "## Ways to Loop\n",
        "\n",
        "There are 2 ways to loop:\n",
        "1. __Element-based Looping__ or \"For-Each\" Looping\n",
        "2. __Index-based Looping__: Using `range(len(my_list))`"
      ]
    },
    {
      "cell_type": "markdown",
      "id": "3a14b841-feec-4fd6-9d54-6ba07234ac47",
      "metadata": {
        "editable": true,
        "tags": [],
        "id": "3a14b841-feec-4fd6-9d54-6ba07234ac47"
      },
      "source": [
        "## Ways to Loop #1: \"For- Each\" Looping\n",
        "\n",
        "This approach involves looping directly over the elements of the list.\n",
        "\n",
        "Things to notice:\n",
        "- for loop with target variable\n",
        "- it automatically grabs each item in the list and assigns the target variable each value in turn."
      ]
    },
    {
      "cell_type": "code",
      "execution_count": null,
      "id": "6be3498c-d802-4a37-9b93-fe028f3a578d",
      "metadata": {
        "editable": true,
        "tags": [],
        "id": "6be3498c-d802-4a37-9b93-fe028f3a578d",
        "outputId": "62eb5f90-646a-4330-d40a-1c88735b2f4c"
      },
      "outputs": [
        {
          "name": "stdout",
          "output_type": "stream",
          "text": [
            "1\n",
            "2\n",
            "3\n",
            "4\n",
            "5\n"
          ]
        }
      ],
      "source": [
        "my_list = [1,2,3,4,5]\n",
        "for element in my_list:\n",
        "    print(element)"
      ]
    },
    {
      "cell_type": "markdown",
      "id": "ec49c6c2-6fba-420b-a560-0ff70d44605c",
      "metadata": {
        "editable": true,
        "tags": [],
        "id": "ec49c6c2-6fba-420b-a560-0ff70d44605c"
      },
      "source": [
        "## Ways to Loop #2: Index-based Looping\n",
        "This approach invovles looping over the indices of the list and then using those indices to access the elements.\n",
        "\n",
        "Example:"
      ]
    },
    {
      "cell_type": "code",
      "execution_count": null,
      "id": "27a37564-5e4a-48be-8340-c1e629d4d76b",
      "metadata": {
        "editable": true,
        "scrolled": true,
        "tags": [],
        "id": "27a37564-5e4a-48be-8340-c1e629d4d76b",
        "outputId": "c3f784bf-6fd8-4907-bb81-b7306a083270"
      },
      "outputs": [
        {
          "name": "stdout",
          "output_type": "stream",
          "text": [
            "index:  0 element:  1\n",
            "index:  1 element:  2\n",
            "index:  2 element:  3\n",
            "index:  3 element:  4\n",
            "index:  4 element:  5\n"
          ]
        }
      ],
      "source": [
        "my_list = [1,2,3,4,5]\n",
        "for ndx in range(len(my_list)):\n",
        "    print(\"index: \", ndx, \"element: \",my_list[ndx])"
      ]
    },
    {
      "cell_type": "markdown",
      "id": "5c7396c5-d26b-40aa-9289-528dcda61162",
      "metadata": {
        "editable": true,
        "id": "5c7396c5-d26b-40aa-9289-528dcda61162",
        "jp-MarkdownHeadingCollapsed": true,
        "tags": []
      },
      "source": [
        "## List Operation Summary:\n",
        "Last class we talked about **lists**\n",
        "\n",
        "| **Code**                     | **Operation**                                           |\n",
        "|:------------------------------|:---------------------------------------------------------|\n",
        "| `list_sum = sum(my_list)`    | Returns the sum of the elements in the list             |\n",
        "| `num_elements= len(my_list)` | returns number of elements in list                      |\n",
        "| `my_list[1] = 3`             | changes element of the list at index 1                  |\n",
        "| `del my_list[3]`             | deletes element of list at index 3                      |\n",
        "| `my_list.append(7)`          | adds the element 7 to the ened of the list              |\n",
        "| `my_list.pop(2)`             | removes the element at index 2 (also returns the value) |\n",
        "| `my_list.sort()`             | Sorts the list in ascending order                       |\n",
        "| `my_list.sort(reverse=True)` | Sorts the list in descending order                      |\n",
        "| `my_list.reverse()`          | reverses the list                                       |"
      ]
    },
    {
      "cell_type": "markdown",
      "id": "0d669b4d-4948-4537-bb97-5be6b6e4fad7",
      "metadata": {
        "editable": true,
        "id": "0d669b4d-4948-4537-bb97-5be6b6e4fad7",
        "tags": []
      },
      "source": [
        "# ✨ New Material"
      ]
    },
    {
      "cell_type": "markdown",
      "id": "8da383e9-e93d-4f5f-85b7-8a58d59443ea",
      "metadata": {
        "editable": true,
        "id": "8da383e9-e93d-4f5f-85b7-8a58d59443ea",
        "tags": []
      },
      "source": [
        "# 🍕 List Slicing:\n",
        "Sometimes you want to work with not just one element, but multiple elements from a list. To do this, we use what is called __list slicing__.\n",
        "\n",
        "A __slice__ of a list is a span of items that are taken from a sequence.\n",
        "- list slicing syntax: `list[ start : end ] `\n",
        "- Span is a list containing copies of elements from `start` up to, but __not including__ `end`\n",
        "- if `start` is not specified, 0 is used for start index\n",
        "- if `end` is not specified, `len(list)` is used for the end index."
      ]
    },
    {
      "cell_type": "code",
      "execution_count": null,
      "id": "90db627a-0568-4af4-bc65-8681ebfd1f28",
      "metadata": {
        "editable": true,
        "id": "90db627a-0568-4af4-bc65-8681ebfd1f28",
        "outputId": "f3005cd6-3c6e-4a28-da3b-32be8747ba3a",
        "scrolled": true,
        "tags": []
      },
      "outputs": [
        {
          "name": "stdout",
          "output_type": "stream",
          "text": [
            "George\n",
            "['Thomas', 'Teddy']\n",
            "['Thomas', 'Teddy', 'Abe']\n",
            "['George', 'Thomas', 'Teddy']\n"
          ]
        }
      ],
      "source": [
        "presidents = [\"George\", \"Thomas\", \"Teddy\", \"Abe\"]\n",
        "print(presidents[0])\n",
        "print(presidents[1:3])\n",
        "print(presidents[1:])\n",
        "print(presidents[:3])"
      ]
    },
    {
      "cell_type": "markdown",
      "id": "d4a89b9b-8245-462e-ad8a-45cd50e080f3",
      "metadata": {
        "editable": true,
        "tags": [],
        "id": "d4a89b9b-8245-462e-ad8a-45cd50e080f3"
      },
      "source": [
        "## Group Exercise\n",
        "\n",
        "Write the line of code that will print out:\n",
        "- the last 2 items in the list\n",
        "- the first 3 items in the list\n",
        "- the middle 2 items in the list\n",
        "- everything except the first item\n",
        "- everything except the last item"
      ]
    },
    {
      "cell_type": "code",
      "execution_count": null,
      "id": "2ae0992b-1ad7-4ad9-b0aa-6a08e994e1ae",
      "metadata": {
        "editable": true,
        "tags": [],
        "id": "2ae0992b-1ad7-4ad9-b0aa-6a08e994e1ae",
        "outputId": "7a91d752-efd6-481f-e036-c3487225323f"
      },
      "outputs": [
        {
          "name": "stdout",
          "output_type": "stream",
          "text": [
            "['Archie', 'Waffles']\n",
            "['Ace', 'Zoey', 'Hopper']\n",
            "['Ridge', 'Scout']\n",
            "['Zoey', 'Hopper', 'Fluffy', 'Princess', 'Ridge', 'Scout', 'Archie', 'Waffles']\n",
            "['Ace', 'Zoey', 'Hopper', 'Fluffy', 'Princess', 'Ridge', 'Scout', 'Archie']\n"
          ]
        }
      ],
      "source": [
        "dog_names = ['Ace', 'Zoey', 'Hopper', 'Fluffy', 'Princess', 'Ridge', 'Scout', 'Archie', 'Waffles']\n",
        "\n",
        "# your code here:\n"
      ]
    },
    {
      "cell_type": "markdown",
      "id": "05e0846e-6c0f-4c06-860d-3465d156f885",
      "metadata": {
        "editable": true,
        "tags": [],
        "id": "05e0846e-6c0f-4c06-860d-3465d156f885"
      },
      "source": [
        "# Strings act like lists:\n",
        "\n",
        "Often times, strings will act like lists. You can think of a string as a list of characters, but remember, in Python you can't change characters in a String."
      ]
    },
    {
      "cell_type": "code",
      "execution_count": null,
      "id": "ee65727c-d770-490c-935e-39cb97b2d080",
      "metadata": {
        "editable": true,
        "tags": [],
        "id": "ee65727c-d770-490c-935e-39cb97b2d080",
        "outputId": "1f466f17-f652-493e-8119-1c7e0ad60a2b"
      },
      "outputs": [
        {
          "name": "stdout",
          "output_type": "stream",
          "text": [
            "e\n",
            "11\n"
          ]
        }
      ],
      "source": [
        "str_variable = \"hello world\"\n",
        "print(str_variable[1])\n",
        "print(len(str_variable))"
      ]
    },
    {
      "cell_type": "markdown",
      "id": "7a885262-c32f-4baa-b8bf-3208742c50fe",
      "metadata": {
        "editable": true,
        "tags": [],
        "id": "7a885262-c32f-4baa-b8bf-3208742c50fe"
      },
      "source": [
        "# Let's talk about memory\n",
        "\n",
        "When your program executes, the memory it uses is __Random Access Memory (RAM)__.\n",
        "- __RAM__ is volatile, which means that it requires power to maintain stored values."
      ]
    },
    {
      "cell_type": "markdown",
      "id": "17d1448e-8b15-40d5-84ed-70b57da2580d",
      "metadata": {
        "editable": true,
        "tags": [],
        "id": "17d1448e-8b15-40d5-84ed-70b57da2580d"
      },
      "source": [
        "For a program to retain data between the times it is run, you must __save the data__.\n",
        "- Data is saved to a __file__, typically on a computer disk (hard drive)\n",
        "    - Hard drives are __*not*__ volatile.\n",
        "- __Saved Data__ can be retrieved and used at a later time."
      ]
    },
    {
      "cell_type": "markdown",
      "id": "7cdd26c4-0729-4e1f-ac53-148e85aadb9d",
      "metadata": {
        "editable": true,
        "tags": [],
        "id": "7cdd26c4-0729-4e1f-ac53-148e85aadb9d"
      },
      "source": [
        "# File Access\n",
        "\n",
        "Two ways to access data stored in a file:\n",
        "1. __Direct (Random) Access__: can jump directly to any piece of data in the file. Main memory uses random access.\n",
        "2. __Sequential Access__: file read sequentially from beginning to end, can't skip ahead. Files use sequential access."
      ]
    },
    {
      "cell_type": "markdown",
      "id": "ff9f7273-08ef-4ba8-aabd-fec3583583d1",
      "metadata": {
        "editable": true,
        "tags": [],
        "id": "ff9f7273-08ef-4ba8-aabd-fec3583583d1"
      },
      "source": [
        "# 🗄️ Files:\n",
        "__Output file__: a file to which data is written\n",
        "\n",
        "__Input file__: a file from which data is read"
      ]
    },
    {
      "cell_type": "markdown",
      "id": "0ebbeb11-db63-4f00-b8e3-04066343e612",
      "metadata": {
        "editable": true,
        "tags": [],
        "id": "0ebbeb11-db63-4f00-b8e3-04066343e612"
      },
      "source": [
        "## Programming with Files\n",
        "\n",
        "__File Object__: a variable associated with a specific file\n",
        "- provides a variable for a program to work with the file on the disk\n"
      ]
    },
    {
      "cell_type": "markdown",
      "id": "f32c3f75-6ce0-46aa-982d-d3ad18c7e74c",
      "metadata": {
        "editable": true,
        "tags": [],
        "id": "f32c3f75-6ce0-46aa-982d-d3ad18c7e74c"
      },
      "source": [
        "## Opening a File: `open`\n",
        "\n",
        "The `open` function is used to open a file.\n",
        "- it creates a file object (variable) and associates it with a file on the disk.\n",
        "```Python\n",
        "file_object = open(filename, mode)\n",
        "```\n",
        "\n",
        "__Mode__: string specifying how the file will be opened.\n",
        "-  `'r'`: reading only\n",
        "-  `'w'`: writing\n",
        "-  `'a'`: appending"
      ]
    },
    {
      "cell_type": "code",
      "execution_count": null,
      "id": "c964be92-7cc5-4743-aa21-a11187ecb90e",
      "metadata": {
        "editable": true,
        "tags": [],
        "id": "c964be92-7cc5-4743-aa21-a11187ecb90e"
      },
      "outputs": [],
      "source": [
        "outfile = open(\"philosophers.txt\",'w')"
      ]
    },
    {
      "cell_type": "markdown",
      "id": "fb143b28-f0a0-4337-ad91-5847b6de6058",
      "metadata": {
        "editable": true,
        "tags": [],
        "id": "fb143b28-f0a0-4337-ad91-5847b6de6058"
      },
      "source": [
        "## Writing to a File\n",
        "\n",
        "1. First, open the file using a file variable:\n",
        "```python\n",
        "file_variable = open(filename, mode)\n",
        "```"
      ]
    },
    {
      "cell_type": "markdown",
      "id": "5b954825-d299-47c9-9db9-9e2344309789",
      "metadata": {
        "editable": true,
        "tags": [],
        "id": "5b954825-d299-47c9-9db9-9e2344309789"
      },
      "source": [
        "2. Use the file object's `write` method to write data to the file.\n",
        "```python\n",
        "file_variable.write(string)\n",
        "```"
      ]
    },
    {
      "cell_type": "markdown",
      "id": "c7acea39-ebb0-491f-bf12-9d625672a756",
      "metadata": {
        "editable": true,
        "tags": [],
        "id": "c7acea39-ebb0-491f-bf12-9d625672a756"
      },
      "source": [
        "3. File should be closed using file object `close` method\n",
        "```python\n",
        "file_variable.close()\n",
        "```"
      ]
    },
    {
      "cell_type": "markdown",
      "id": "b6180be4-0a2e-4ff5-8acc-d83cf073659a",
      "metadata": {
        "editable": true,
        "tags": [],
        "id": "b6180be4-0a2e-4ff5-8acc-d83cf073659a"
      },
      "source": [
        "## Example #1:"
      ]
    },
    {
      "cell_type": "code",
      "execution_count": null,
      "id": "d4c1d957-880e-4116-b98b-d5b6b050f0cf",
      "metadata": {
        "editable": true,
        "tags": [],
        "id": "d4c1d957-880e-4116-b98b-d5b6b050f0cf"
      },
      "outputs": [],
      "source": [
        "def main():\n",
        "    # open a file for writing\n",
        "    outfile = open(\"philosophers.txt\", 'w')\n",
        "\n",
        "    # write these three things to the output file\n",
        "    outfile.write(\"Socrates\")\n",
        "    outfile.write(\"Plato\")\n",
        "    outfile.write(\"Aristotle\")\n",
        "\n",
        "    # close the file\n",
        "    outfile.close()\n",
        "main()"
      ]
    },
    {
      "cell_type": "markdown",
      "id": "6f90fec3-acf9-49ee-832b-3143ecd2c8cd",
      "metadata": {
        "editable": true,
        "tags": [],
        "id": "6f90fec3-acf9-49ee-832b-3143ecd2c8cd"
      },
      "source": [
        "## Special Characters:\n",
        "\n",
        "In most programming languages the `\\` (backslash) is known as the \"escape character\"\n",
        "\n",
        "In conjunction with other letters, the escape character allows programmers to specify special cases:\n",
        "- `\\n`: the newline character\n",
        "- `\\t`: tab\n",
        "- `\\\\`: backslash\n",
        "- `\\'`: single quote\n",
        "- `\\\"`: double quote"
      ]
    },
    {
      "cell_type": "markdown",
      "id": "0373fc60-5be9-470e-9509-c698f52cd1ea",
      "metadata": {
        "editable": true,
        "tags": [],
        "id": "0373fc60-5be9-470e-9509-c698f52cd1ea"
      },
      "source": [
        "## Example #2:"
      ]
    },
    {
      "cell_type": "code",
      "execution_count": null,
      "id": "f2810c86-79ee-4e47-ba7c-1ccb03fc7e70",
      "metadata": {
        "editable": true,
        "tags": [],
        "id": "f2810c86-79ee-4e47-ba7c-1ccb03fc7e70"
      },
      "outputs": [],
      "source": [
        "def main():\n",
        "    # open a file for writing\n",
        "    outfile = open(\"philosophers.txt\", 'w')\n",
        "\n",
        "    # write these three things to the output file\n",
        "    outfile.write(\"Socrates \\n\")\n",
        "    outfile.write(\"Plato \\n\")\n",
        "    outfile.write(\"Aristotle \\n\")\n",
        "\n",
        "    # close the file\n",
        "    outfile.close()\n",
        "main()"
      ]
    },
    {
      "cell_type": "markdown",
      "id": "32aa878c-de19-4ebc-ba85-058b01ccb3b0",
      "metadata": {
        "editable": true,
        "tags": [],
        "id": "32aa878c-de19-4ebc-ba85-058b01ccb3b0"
      },
      "source": [
        "## Writing to a file (alternative)\n",
        "\n",
        "We can also use the print function to write to a file.\n",
        "- Use the print _keyword argument_ `file = <fileobject>`\n",
        "\n",
        "All of the same conventions we have learned for `print` will work when printing values to a file."
      ]
    },
    {
      "cell_type": "code",
      "execution_count": null,
      "id": "3c0c9eac-6e6f-48fc-b435-3dfc1d3fcb24",
      "metadata": {
        "editable": true,
        "tags": [],
        "id": "3c0c9eac-6e6f-48fc-b435-3dfc1d3fcb24"
      },
      "outputs": [],
      "source": [
        "def main():\n",
        "    # open a file for writing\n",
        "    outfile = open(\"philosophers.txt\", 'w')\n",
        "\n",
        "    # write these three things to the output file\n",
        "    print(\"Socrates\", file = outfile)\n",
        "    print(\"Plato\", file = outfile)\n",
        "    print(\"Aristotle\", file = outfile)\n",
        "\n",
        "    # close the file\n",
        "    outfile.close()\n",
        "main()"
      ]
    },
    {
      "cell_type": "markdown",
      "id": "10b80cdf-585d-41d6-bed3-5f8b02658681",
      "metadata": {
        "editable": true,
        "tags": [],
        "id": "10b80cdf-585d-41d6-bed3-5f8b02658681"
      },
      "source": [
        "## Exercise #1:\n",
        "\n",
        "Write a program that will open up a file names `address.txt`\n",
        "\n",
        "Write code that will input your address into the file\n",
        "\n",
        "Close the file."
      ]
    },
    {
      "cell_type": "code",
      "execution_count": null,
      "id": "8d3460b6-397c-4316-88c0-9090b1536e2c",
      "metadata": {
        "editable": true,
        "tags": [],
        "id": "8d3460b6-397c-4316-88c0-9090b1536e2c"
      },
      "outputs": [],
      "source": []
    },
    {
      "cell_type": "markdown",
      "id": "c9d29d7d-c758-4674-a7a0-ce94ecdcafe9",
      "metadata": {
        "editable": true,
        "tags": [],
        "id": "c9d29d7d-c758-4674-a7a0-ce94ecdcafe9"
      },
      "source": [
        "## Reading from a File\n",
        "\n",
        "__Sequential Access__: file read sequentially from beginning to end, can't skip ahead.\n",
        "- files use sequential access\n",
        "\n",
        "![sequential_access.png](https://github.com/merriekay/F24_CS65/blob/main/sequential_access.png?raw=1)"
      ]
    },
    {
      "cell_type": "markdown",
      "id": "02e56058-5a59-4cdf-be06-7a74b4695524",
      "metadata": {
        "editable": true,
        "tags": [],
        "id": "02e56058-5a59-4cdf-be06-7a74b4695524"
      },
      "source": [
        "## Reading from a File\n",
        "\n",
        "__Read position__: marks the location of the next item to be read from a file\n",
        "\n",
        "`readline()` method: file object method that reads a line from the file.\n",
        "- line returned as a string, including `\\n`"
      ]
    },
    {
      "cell_type": "markdown",
      "id": "576016d4-8586-4725-861f-1c25c768a2ee",
      "metadata": {
        "editable": true,
        "tags": [],
        "id": "576016d4-8586-4725-861f-1c25c768a2ee"
      },
      "source": [
        "`read()` method: returns the entire file contents as a string"
      ]
    },
    {
      "cell_type": "markdown",
      "id": "002b07f8-3f29-4e80-bc22-70d3c5562ab1",
      "metadata": {
        "editable": true,
        "tags": [],
        "id": "002b07f8-3f29-4e80-bc22-70d3c5562ab1"
      },
      "source": [
        "`readlines()` method: returns a list of strings where the first element is the contents of the first line, the second element is the contents of the second line, and so on."
      ]
    },
    {
      "cell_type": "markdown",
      "id": "9e1beb5c-f8de-4995-99a5-adc33ff4c313",
      "metadata": {
        "editable": true,
        "tags": [],
        "id": "9e1beb5c-f8de-4995-99a5-adc33ff4c313"
      },
      "source": [
        "## Example #3:"
      ]
    },
    {
      "cell_type": "code",
      "execution_count": null,
      "id": "ae1e4e7e-a88a-4fb4-ae1e-be432483b73c",
      "metadata": {
        "editable": true,
        "tags": [],
        "id": "ae1e4e7e-a88a-4fb4-ae1e-be432483b73c",
        "outputId": "3b65fd80-4ceb-4f85-f00e-38213acc9fea"
      },
      "outputs": [
        {
          "name": "stdout",
          "output_type": "stream",
          "text": [
            "Socrates\n",
            "\n",
            "Plato\n",
            "\n",
            "Aristotle\n",
            "\n"
          ]
        }
      ],
      "source": [
        "def main():\n",
        "    # open a file for reading\n",
        "    infile = open(\"philosophers.txt\", 'r')\n",
        "    line1 = infile.readline()\n",
        "    line2 = infile.readline()\n",
        "    line3 = infile.readline()\n",
        "\n",
        "    # print to the console\n",
        "    print(line1)\n",
        "    print(line2)\n",
        "    print(line3)\n",
        "\n",
        "    # close the file\n",
        "    infile.close()\n",
        "\n",
        "main()"
      ]
    },
    {
      "cell_type": "markdown",
      "id": "4302aa39-4b36-4b39-bf48-d6d6be7372a0",
      "metadata": {
        "editable": true,
        "tags": [],
        "id": "4302aa39-4b36-4b39-bf48-d6d6be7372a0"
      },
      "source": [
        "Why are there two newlines?"
      ]
    },
    {
      "cell_type": "markdown",
      "id": "c43f7a47-b50b-4dca-a0b4-a0c98634ccec",
      "metadata": {
        "editable": true,
        "tags": [],
        "id": "c43f7a47-b50b-4dca-a0b4-a0c98634ccec"
      },
      "source": [
        "## `\\n` characters\n",
        "\n",
        "In many cases we need to remove the `\\n` from a string after it is read from a file.\n",
        "\n",
        "`rstrip()` is a string method that strips 'whitespace characters'(spaces, tabs, newlines, etc) from the end of the string"
      ]
    },
    {
      "cell_type": "code",
      "execution_count": null,
      "id": "fe282241-ec81-41c1-a637-c41ac9bc2ff1",
      "metadata": {
        "editable": true,
        "tags": [],
        "id": "fe282241-ec81-41c1-a637-c41ac9bc2ff1",
        "outputId": "a8946e9a-7e4a-4e31-9714-7bf6903bc01f"
      },
      "outputs": [
        {
          "name": "stdout",
          "output_type": "stream",
          "text": [
            "Socrates\n",
            "Plato\n",
            "Aristotle\n"
          ]
        }
      ],
      "source": [
        "def main():\n",
        "    # open a file for reading\n",
        "    infile = open(\"philosophers.txt\", 'r')\n",
        "    line1 = infile.readline().rstrip('\\n')\n",
        "    line2 = infile.readline().rstrip('\\n')\n",
        "    line3 = infile.readline().rstrip('\\n')\n",
        "\n",
        "    # print to the console\n",
        "    print(line1)\n",
        "    print(line2)\n",
        "    print(line3)\n",
        "\n",
        "    # close the file\n",
        "    infile.close()\n",
        "\n",
        "main()"
      ]
    },
    {
      "cell_type": "markdown",
      "id": "8694df8f-9805-49f8-9fdd-9487c1530561",
      "metadata": {
        "editable": true,
        "tags": [],
        "id": "8694df8f-9805-49f8-9fdd-9487c1530561"
      },
      "source": [
        "## Make sure your files are in the right place\n",
        "\n",
        "Data files shoudl be in the same folder as your .py files/code."
      ]
    },
    {
      "cell_type": "markdown",
      "id": "70a7aa6c-3709-46b5-8b9d-84ac027c896c",
      "metadata": {
        "editable": true,
        "tags": [],
        "id": "70a7aa6c-3709-46b5-8b9d-84ac027c896c"
      },
      "source": [
        "## Exercise #2\n",
        "Write a program that will open up a file named `address.txt`\n",
        "\n",
        "Write code that will read your address from the file\n",
        "\n",
        "Print out the address using print statements\n",
        "\n",
        "Close the file"
      ]
    },
    {
      "cell_type": "code",
      "execution_count": null,
      "id": "e3db67df-f1fa-47d1-88c6-e311e1e58f20",
      "metadata": {
        "editable": true,
        "tags": [],
        "id": "e3db67df-f1fa-47d1-88c6-e311e1e58f20"
      },
      "outputs": [],
      "source": []
    },
    {
      "cell_type": "markdown",
      "id": "e4bb98d4-4c10-46ca-9c53-9a173bf1388a",
      "metadata": {
        "editable": true,
        "tags": [],
        "id": "e4bb98d4-4c10-46ca-9c53-9a173bf1388a"
      },
      "source": [
        "## `with` statements\n",
        "\n",
        "A `with` statement can be used to open a file, execute a block of statements and automatically close the file when complete."
      ]
    },
    {
      "cell_type": "code",
      "execution_count": null,
      "id": "ca72543d-a3ac-4504-bb49-c6e7ec66604e",
      "metadata": {
        "editable": true,
        "tags": [],
        "id": "ca72543d-a3ac-4504-bb49-c6e7ec66604e",
        "outputId": "54cbb1f0-1425-4612-f26c-a426091f0ebb"
      },
      "outputs": [
        {
          "name": "stdout",
          "output_type": "stream",
          "text": [
            "Socrates\n",
            "Plato\n"
          ]
        }
      ],
      "source": [
        "def main():\n",
        "    # open a file named `address.txt` for reading using with clause\n",
        "    with open(\"philosophers.txt\") as infile:\n",
        "        #read lines from file\n",
        "        line1 = infile.readline().rstrip(\"\\n\")\n",
        "        line2 = infile.readline().rstrip(\"\\n\")\n",
        "\n",
        "    # no need to close the file when using with\n",
        "\n",
        "    # print out the lines\n",
        "    print(line1)\n",
        "    print(line2)\n",
        "\n",
        "main()"
      ]
    },
    {
      "cell_type": "markdown",
      "id": "4c63c731-632f-4c5d-9570-801ad6aacbb6",
      "metadata": {
        "editable": true,
        "tags": [],
        "id": "4c63c731-632f-4c5d-9570-801ad6aacbb6"
      },
      "source": [
        "## Reading a List from a File\n",
        "\n",
        "`read()` returns the _entire file contents_ as a string\n",
        "\n",
        "`readlines()` returns a _list of strings_ where the first element is the contents of the first line, the second element is the contents of the second line, and so on."
      ]
    },
    {
      "cell_type": "code",
      "execution_count": null,
      "id": "43680887-1817-4e7f-b9c9-ab94b4f4ac70",
      "metadata": {
        "editable": true,
        "tags": [],
        "id": "43680887-1817-4e7f-b9c9-ab94b4f4ac70",
        "outputId": "14244ab1-303a-41d6-b378-12c3cfec7885"
      },
      "outputs": [
        {
          "name": "stdout",
          "output_type": "stream",
          "text": [
            "1474\n",
            "Four score and seven years ago our fathers brought forth on this continent, a new nation, conceived in Liberty, and dedicated to the proposition that all men are created equal.\n",
            "Now we are engaged in a great civil war, testing whether that nation, or any nation so conceived and so dedicated, can long endure. We are met on a great battle-field of that war. We have come to dedicate a portion of that field, as a final resting place for those who here gave their lives that that nation might live. It is altogether fitting and proper that we should do this.\n",
            "But, in a larger sense, we can not dedicate -- we can not consecrate -- we can not hallow -- this ground. The brave men, living and dead, who struggled here, have consecrated it, far above our poor power to add or detract. The world will little note, nor long remember what we say here, but it can never forget what they did here. It is for us the living, rather, to be dedicated here to the unfinished work which they who fought here have thus far so nobly advanced. It is rather for us to be here dedicated to the great task remaining before us -- that from these honored dead we take increased devotion to that cause for which they gave the last full measure of devotion -- that we here highly resolve that these dead shall not have died in vain -- that this nation, under God, shall have a new birth of freedom -- and that government of the people, by the people, for the people, shall not perish from the earth.\n",
            "\n"
          ]
        }
      ],
      "source": [
        "def main():\n",
        "    # opening the file named \"gettysburg.txt\" for reading usng with clause\n",
        "    with open(\"gettysburg.txt\", \"r\") as infile:\n",
        "        # using .read() which returns the contents of the file in a big string\n",
        "        content = infile.read()\n",
        "\n",
        "    print(len(content))\n",
        "    print(content)\n",
        "\n",
        "main()"
      ]
    },
    {
      "cell_type": "markdown",
      "id": "0149030f-c82c-4879-8ab2-13a990bb1df2",
      "metadata": {
        "editable": true,
        "tags": [],
        "id": "0149030f-c82c-4879-8ab2-13a990bb1df2"
      },
      "source": [
        "## Exercise #3:\n",
        "\n",
        "What do you think will be output?"
      ]
    },
    {
      "cell_type": "code",
      "execution_count": null,
      "id": "393f9aab-da48-4c7f-aff6-4bd468b133f5",
      "metadata": {
        "editable": true,
        "tags": [],
        "id": "393f9aab-da48-4c7f-aff6-4bd468b133f5",
        "outputId": "f1dadca0-0c08-4482-e203-9c6d7ce887dc"
      },
      "outputs": [
        {
          "name": "stdout",
          "output_type": "stream",
          "text": [
            "3\n",
            "Now we are engaged in a great civil war, testing whether that nation, or any nation so conceived and so dedicated, can long endure. We are met on a great battle-field of that war. We have come to dedicate a portion of that field, as a final resting place for those who here gave their lives that that nation might live. It is altogether fitting and proper that we should do this.\n",
            "\n"
          ]
        }
      ],
      "source": [
        "def main():\n",
        "    # open a file name 'gettysburg.txt' for reading using with clause\n",
        "    with open(\"gettysburg.txt\",\"r\") as infile:\n",
        "        # using .readlines() which returns contents of file in a list for each line\n",
        "        content = infile.readlines()\n",
        "    print(len(content))\n",
        "    print(content[1])\n",
        "\n",
        "main()"
      ]
    },
    {
      "cell_type": "markdown",
      "id": "f6251f0d-230d-4505-adac-cbe585c44818",
      "metadata": {
        "editable": true,
        "tags": [],
        "id": "f6251f0d-230d-4505-adac-cbe585c44818"
      },
      "source": [
        "## Splitlines\n",
        "\n",
        "An alternative to using `readlines()` to process the elements of a file is to use `read().splitlines()`\n",
        "\n",
        "What's the difference?"
      ]
    },
    {
      "cell_type": "code",
      "execution_count": null,
      "id": "52c69c3f-6f8f-4296-a57b-45fc6c92d02a",
      "metadata": {
        "editable": true,
        "tags": [],
        "id": "52c69c3f-6f8f-4296-a57b-45fc6c92d02a",
        "outputId": "26710c4d-53e6-45e4-e340-c621beb6415f"
      },
      "outputs": [
        {
          "name": "stdout",
          "output_type": "stream",
          "text": [
            "['This is one line', ' and this is another, ', \" here's one more\"]\n"
          ]
        }
      ],
      "source": [
        "text = \"This is one line\\n and this is another, \\n here's one more\"\n",
        "split = text.splitlines()\n",
        "print(split)"
      ]
    },
    {
      "cell_type": "markdown",
      "id": "6d0b0861-bcbe-4b2a-aed1-00dd6ff0c615",
      "metadata": {
        "editable": true,
        "tags": [],
        "id": "6d0b0861-bcbe-4b2a-aed1-00dd6ff0c615"
      },
      "source": [
        "# Practice Exercises:"
      ]
    },
    {
      "cell_type": "markdown",
      "id": "f060ae65-d3ae-4e0a-8cb5-58c307c16557",
      "metadata": {
        "editable": true,
        "tags": [],
        "id": "f060ae65-d3ae-4e0a-8cb5-58c307c16557"
      },
      "source": [
        "## Analyzing Baby Names Example\n",
        "\n",
        "Let's say we want to analyze baby name popularity and we ahve a file with data from [this list](https://www.ssa.gov/oact/babynames/decades/names2010s.html)\n",
        "> you can find `top_male_baby_names_2010s.txt` on Blackboard"
      ]
    },
    {
      "cell_type": "code",
      "execution_count": null,
      "id": "79a37c74-7cd2-476d-812d-647cf8755f6b",
      "metadata": {
        "editable": true,
        "tags": [],
        "id": "79a37c74-7cd2-476d-812d-647cf8755f6b",
        "outputId": "b0edc744-5538-4b17-a855-5debbdca5655"
      },
      "outputs": [
        {
          "name": "stdout",
          "output_type": "stream",
          "text": [
            "['Noah\\n', 'Liam\\n', 'Jacob\\n', 'William\\n', 'Mason\\n', 'Ethan\\n', 'Michael\\n', 'Alexander\\n', 'James\\n', 'Elijah\\n', 'Benjamin\\n', 'Daniel\\n', 'Aiden\\n', 'Logan\\n', 'Jayden\\n', 'Matthew\\n', 'Lucas\\n', 'David\\n', 'Jackson\\n', 'Joseph\\n', 'Anthony\\n', 'Samuel\\n', 'Joshua\\n', 'Gabriel\\n', 'Andrew\\n', 'John\\n', 'Christopher\\n', 'Oliver\\n', 'Dylan\\n', 'Carter\\n', 'Isaac\\n', 'Luke\\n', 'Henry\\n', 'Owen\\n', 'Ryan\\n', 'Nathan\\n', 'Wyatt\\n', 'Caleb\\n', 'Sebastian\\n', 'Jack\\n', 'Christian\\n', 'Jonathan\\n', 'Julian\\n', 'Landon\\n', 'Levi\\n', 'Isaiah\\n', 'Hunter\\n', 'Aaron\\n', 'Charles\\n', 'Thomas\\n', 'Eli\\n', 'Jaxon\\n', 'Connor\\n', 'Nicholas\\n', 'Jeremiah\\n', 'Grayson\\n', 'Cameron\\n', 'Brayden\\n', 'Adrian\\n', 'Evan\\n', 'Jordan\\n', 'Josiah\\n', 'Angel\\n', 'Robert\\n', 'Gavin\\n', 'Tyler\\n', 'Austin\\n', 'Colton\\n', 'Jose\\n', 'Dominic\\n', 'Brandon\\n', 'Ian\\n', 'Lincoln\\n', 'Hudson\\n', 'Kevin\\n', 'Zachary\\n', 'Adam\\n', 'Mateo\\n', 'Jason\\n', 'Chase\\n', 'Nolan\\n', 'Ayden\\n', 'Cooper\\n', 'Parker\\n', 'Xavier\\n', 'Asher\\n', 'Carson\\n', 'Jace\\n', 'Easton\\n', 'Justin\\n', 'Leo\\n', 'Bentley\\n', 'Jaxson\\n', 'Nathaniel\\n', 'Blake\\n', 'Elias\\n', 'Theodore\\n', 'Kayden\\n', 'Luis\\n', 'Tristan\\n', 'Ezra\\n', 'Bryson\\n', 'Juan\\n', 'Brody\\n', 'Vincent\\n', 'Micah\\n', 'Miles\\n', 'Santiago\\n', 'Cole\\n', 'Ryder\\n', 'Carlos\\n', 'Damian\\n', 'Leonardo\\n', 'Roman\\n', 'Max\\n', 'Sawyer\\n', 'Jesus\\n', 'Diego\\n', 'Greyson\\n', 'Alex\\n', 'Maxwell\\n', 'Axel\\n', 'Eric\\n', 'Wesley\\n', 'Declan\\n', 'Giovanni\\n', 'Ezekiel\\n', 'Braxton\\n', 'Ashton\\n', 'Ivan\\n', 'Hayden\\n', 'Camden\\n', 'Silas\\n', 'Bryce\\n', 'Weston\\n', 'Harrison\\n', 'Jameson\\n', 'George\\n', 'Antonio\\n', 'Timothy\\n', 'Kaiden\\n', 'Jonah\\n', 'Everett\\n', 'Miguel\\n', 'Steven\\n', 'Richard\\n', 'Emmett\\n', 'Victor\\n', 'Kaleb\\n', 'Kai\\n', 'Maverick\\n', 'Joel\\n', 'Bryan\\n', 'Maddox\\n', 'Kingston\\n', 'Aidan\\n', 'Patrick\\n', 'Edward\\n', 'Emmanuel\\n', 'Jude\\n', 'Alejandro\\n', 'Preston\\n', 'Luca\\n', 'Bennett\\n', 'Jesse\\n', 'Colin\\n', 'Jaden\\n', 'Malachi\\n', 'Kaden\\n', 'Jayce\\n', 'Alan\\n', 'Kyle\\n', 'Marcus\\n', 'Brian\\n', 'Ryker\\n', 'Grant\\n', 'Jeremy\\n', 'Abel\\n', 'Riley\\n', 'Calvin\\n', 'Brantley\\n', 'Caden\\n', 'Oscar\\n', 'Abraham\\n', 'Brady\\n', 'Sean\\n', 'Jake\\n', 'Tucker\\n', 'Nicolas\\n', 'Mark\\n', 'Amir\\n', 'Avery\\n', 'King\\n', 'Gael\\n', 'Kenneth\\n', 'Bradley\\n', 'Cayden\\n', 'Xander\\n', 'Graham\\n', 'Rowan']\n"
          ]
        }
      ],
      "source": [
        "with open(\"top_male_baby_names_2010s.txt\") as male_names_file:\n",
        "    male_names = male_names_file.readlines()\n",
        "print(male_names)"
      ]
    },
    {
      "cell_type": "code",
      "execution_count": null,
      "id": "c4f0648a-f89c-4cfb-975d-53f013d727e0",
      "metadata": {
        "editable": true,
        "tags": [],
        "id": "c4f0648a-f89c-4cfb-975d-53f013d727e0",
        "outputId": "429d9d89-3507-4c85-daac-0acde550143d"
      },
      "outputs": [
        {
          "name": "stdout",
          "output_type": "stream",
          "text": [
            "['Noah', 'Liam', 'Jacob', 'William', 'Mason', 'Ethan', 'Michael', 'Alexander', 'James', 'Elijah', 'Benjamin', 'Daniel', 'Aiden', 'Logan', 'Jayden', 'Matthew', 'Lucas', 'David', 'Jackson', 'Joseph', 'Anthony', 'Samuel', 'Joshua', 'Gabriel', 'Andrew', 'John', 'Christopher', 'Oliver', 'Dylan', 'Carter', 'Isaac', 'Luke', 'Henry', 'Owen', 'Ryan', 'Nathan', 'Wyatt', 'Caleb', 'Sebastian', 'Jack', 'Christian', 'Jonathan', 'Julian', 'Landon', 'Levi', 'Isaiah', 'Hunter', 'Aaron', 'Charles', 'Thomas', 'Eli', 'Jaxon', 'Connor', 'Nicholas', 'Jeremiah', 'Grayson', 'Cameron', 'Brayden', 'Adrian', 'Evan', 'Jordan', 'Josiah', 'Angel', 'Robert', 'Gavin', 'Tyler', 'Austin', 'Colton', 'Jose', 'Dominic', 'Brandon', 'Ian', 'Lincoln', 'Hudson', 'Kevin', 'Zachary', 'Adam', 'Mateo', 'Jason', 'Chase', 'Nolan', 'Ayden', 'Cooper', 'Parker', 'Xavier', 'Asher', 'Carson', 'Jace', 'Easton', 'Justin', 'Leo', 'Bentley', 'Jaxson', 'Nathaniel', 'Blake', 'Elias', 'Theodore', 'Kayden', 'Luis', 'Tristan', 'Ezra', 'Bryson', 'Juan', 'Brody', 'Vincent', 'Micah', 'Miles', 'Santiago', 'Cole', 'Ryder', 'Carlos', 'Damian', 'Leonardo', 'Roman', 'Max', 'Sawyer', 'Jesus', 'Diego', 'Greyson', 'Alex', 'Maxwell', 'Axel', 'Eric', 'Wesley', 'Declan', 'Giovanni', 'Ezekiel', 'Braxton', 'Ashton', 'Ivan', 'Hayden', 'Camden', 'Silas', 'Bryce', 'Weston', 'Harrison', 'Jameson', 'George', 'Antonio', 'Timothy', 'Kaiden', 'Jonah', 'Everett', 'Miguel', 'Steven', 'Richard', 'Emmett', 'Victor', 'Kaleb', 'Kai', 'Maverick', 'Joel', 'Bryan', 'Maddox', 'Kingston', 'Aidan', 'Patrick', 'Edward', 'Emmanuel', 'Jude', 'Alejandro', 'Preston', 'Luca', 'Bennett', 'Jesse', 'Colin', 'Jaden', 'Malachi', 'Kaden', 'Jayce', 'Alan', 'Kyle', 'Marcus', 'Brian', 'Ryker', 'Grant', 'Jeremy', 'Abel', 'Riley', 'Calvin', 'Brantley', 'Caden', 'Oscar', 'Abraham', 'Brady', 'Sean', 'Jake', 'Tucker', 'Nicolas', 'Mark', 'Amir', 'Avery', 'King', 'Gael', 'Kenneth', 'Bradley', 'Cayden', 'Xander', 'Graham', 'Rowan']\n"
          ]
        }
      ],
      "source": [
        "with open(\"top_male_baby_names_2010s.txt\") as male_names_file:\n",
        "    male_names = male_names_file.read().splitlines()\n",
        "print(male_names)"
      ]
    },
    {
      "cell_type": "markdown",
      "id": "1d3b40f5-79fe-4c6b-8e21-e661192dc1e1",
      "metadata": {
        "editable": true,
        "tags": [],
        "id": "1d3b40f5-79fe-4c6b-8e21-e661192dc1e1"
      },
      "source": [
        "## Now we can use Python to ask interesting questions about our data\n",
        "\n",
        "But what is wrong with this?"
      ]
    },
    {
      "cell_type": "code",
      "execution_count": null,
      "id": "e159f282-eb59-4d68-86d0-f04965b6c503",
      "metadata": {
        "editable": true,
        "tags": [],
        "id": "e159f282-eb59-4d68-86d0-f04965b6c503"
      },
      "outputs": [],
      "source": [
        "# something is wrong with the code below... can you fix it?\n",
        "\n",
        "with open(\"top_male_baby_names_2010s.txt\") as male_names_file:\n",
        "    male_names = male_names_file.read().splitlines()\n",
        "\n",
        "name_to_search = input(\"Enter a name: \")\n",
        "\n",
        "if name_to_search in male_names:\n",
        "    position = male_names.index(name_to_search)\n",
        "    print(name_to_search,\"was number\", position, \"most popular male name in the 2010s.\")\n",
        "else:\n",
        "    print(name_to_seach, \"was not a popular name in the 2010s\")"
      ]
    },
    {
      "cell_type": "markdown",
      "id": "32339ccc-5f7c-447c-8e29-521c53676df3",
      "metadata": {
        "editable": true,
        "tags": [],
        "id": "32339ccc-5f7c-447c-8e29-521c53676df3"
      },
      "source": [
        "## Reading a file into a list and looping through all elements\n",
        "\n",
        "Suppose we had a list of data stored in a file\n",
        "\n",
        "We wanted toa sk questions about this data..."
      ]
    },
    {
      "cell_type": "code",
      "execution_count": null,
      "id": "34ff94d3-faa8-4e86-bdcb-b35464dd2fdb",
      "metadata": {
        "editable": true,
        "tags": [],
        "id": "34ff94d3-faa8-4e86-bdcb-b35464dd2fdb"
      },
      "outputs": [],
      "source": [
        "infile = open(\"Filename.txt\", 'r')\n",
        "list_of_things = infile.read().splitlines()\n",
        "\n",
        "for element in list_of_things:\n",
        "    if element == \"thing worth searching for\":\n",
        "        # found it"
      ]
    },
    {
      "cell_type": "markdown",
      "id": "444d81c5-1cd2-44ac-9e73-082c0d981b86",
      "metadata": {
        "editable": true,
        "tags": [],
        "id": "444d81c5-1cd2-44ac-9e73-082c0d981b86"
      },
      "source": [
        "## Exercise #4: `world_series_champs(name)`\n",
        "\n",
        "The file `WorldSeriesWinners.txt` is available on Blackboard.\n",
        "\n",
        "Copy it/Download it and put it on your computer where your .py files are located.\n",
        "\n",
        "build afunction called `world_series_champs` that will return the _number of times a given team has won the World Series_.\n",
        "\n",
        "The function shoudl take, as a parameter, the name of a team (a string), e.g. New York Mets\n",
        "\n",
        "The function should return thenumber of times the input team has won the world series."
      ]
    },
    {
      "cell_type": "code",
      "execution_count": null,
      "id": "f2da13d0-cb5a-421b-9c99-635f581ae463",
      "metadata": {
        "editable": true,
        "tags": [],
        "id": "f2da13d0-cb5a-421b-9c99-635f581ae463"
      },
      "outputs": [],
      "source": [
        "# world_series_champs function testing code\n",
        "input_team = input(\"Enter a baseball team: \")\n",
        "num_championships = world_series_champs(input_team)\n",
        "print(\"The\", input_team, \"have won\", num_championships, \"championship(s).\")"
      ]
    },
    {
      "cell_type": "markdown",
      "id": "2c8475b1-bbe5-4955-89db-4e6d1b47954c",
      "metadata": {
        "editable": true,
        "tags": [],
        "id": "2c8475b1-bbe5-4955-89db-4e6d1b47954c"
      },
      "source": [
        "## Exercise #5: `num_bad_passwords()`\n",
        "\n",
        "The files, `passwords1.txt` and `passwords2.txt` are available on Blackboard.\n",
        "\n",
        "Build a function, called `num_bad_passwords` that will return the _number of times the password \"Spring2023!\" in a given file.\n",
        "\n",
        "The functionshoudl take, as a parameter, the name ofa file (a string), e.g. `passwords1.txt`\n",
        "\n",
        "The function shoudl return the number of times the input file has the password \"Spring 2023!\"\n",
        "\n",
        "```python\n",
        "filename = input(\"Enter a filename: \")\n",
        "value = num_bad_passwords(filename)\n",
        "print(\"The file\", filename, \"contains\", value, \"passwrods that are 'Spring2023'\")\n",
        "```\n",
        "```\n",
        "Enter a filename: passwords1.txt\n",
        "The file passwords1.txt contains 2 passwords that are 'Spring2023!'\n",
        "```"
      ]
    },
    {
      "cell_type": "markdown",
      "id": "ec08023a-917e-485b-88d9-e2657c2edbd9",
      "metadata": {
        "editable": true,
        "tags": [],
        "id": "ec08023a-917e-485b-88d9-e2657c2edbd9"
      },
      "source": [
        "## 🔮 Mystery Function\n",
        "\n",
        "Here's a myster function (with not great variable names to obscure the purpose):"
      ]
    },
    {
      "cell_type": "code",
      "execution_count": null,
      "id": "43e93fee-f9bf-4590-ab5c-470b00a44557",
      "metadata": {
        "editable": true,
        "tags": [],
        "id": "43e93fee-f9bf-4590-ab5c-470b00a44557"
      },
      "outputs": [],
      "source": [
        "def mystery_function(input_string):\n",
        "    for i in ragne(len(input_string)):\n",
        "        if input_string[i] != input_string[len(input_string)-i -1]:\n",
        "            return False\n",
        "    return True"
      ]
    },
    {
      "cell_type": "markdown",
      "id": "aa6e9e59-a42c-46a1-acee-881fa93ee771",
      "metadata": {
        "editable": true,
        "tags": [],
        "id": "aa6e9e59-a42c-46a1-acee-881fa93ee771"
      },
      "source": [
        "> __Hint__: give these a try: `mystery_function(\"racecar\")`, `mystery_function(\"dog\")`, `mystery_function(\"civic\")`"
      ]
    },
    {
      "cell_type": "markdown",
      "id": "40297dfa-f631-45a3-9f75-d3412dba6b51",
      "metadata": {
        "editable": true,
        "tags": [],
        "id": "40297dfa-f631-45a3-9f75-d3412dba6b51"
      },
      "source": [
        "## Exercise #6: `list_of_palindromes`\n",
        "\n",
        "The file `dictionary.txt` is available on Blackboard.\n",
        "\n",
        "Build a funciton, called `list_of_palindromes` that will return a _list of palindromes_ that is in a given input file.\n",
        "\n",
        "The function shoudl take, as a paramter, he name of a file (a string) e.g. `dictionary.txt` and return a list that contains all of the palindromes."
      ]
    },
    {
      "cell_type": "code",
      "execution_count": null,
      "id": "95fec96d-0ebf-4849-b2df-71e0150b46d3",
      "metadata": {
        "editable": true,
        "tags": [],
        "id": "95fec96d-0ebf-4849-b2df-71e0150b46d3"
      },
      "outputs": [],
      "source": [
        "# list_of_palindromes testing code\n",
        "palindromes = list_of_palindromes(\"dictionary.txt\")\n",
        "print(palindromes)"
      ]
    },
    {
      "cell_type": "markdown",
      "id": "8adf9997-2be6-4f27-b08a-ae57b67b991e",
      "metadata": {
        "editable": true,
        "tags": [],
        "id": "8adf9997-2be6-4f27-b08a-ae57b67b991e"
      },
      "source": [
        "## Exercise #6: `baby_girl_names`\n",
        "\n",
        "The file `top_female_baby_names_2010s.txt` is available on Blackboard.\n",
        "\n",
        "Build a functino called `baby_girl_names` that will returna _list of names_ that is a specific number of characters.\n",
        "\n",
        "The function should take, as a parameter, a length of the desired names and returns a list that contains all of the appropriate female names.\n",
        "\n",
        "__Testing Code__:\n",
        "```python\n",
        "baby_names = baby_girl_names(3)\n",
        "print(baby_names)\n",
        "```\n",
        "```\n",
        "['Ava', 'Mia', 'zoe', 'Eva', 'Ivy', 'Mya', 'Amy']\n",
        "```"
      ]
    },
    {
      "cell_type": "code",
      "execution_count": null,
      "id": "07a1b1c7-5a02-4909-9a50-c431b64eff95",
      "metadata": {
        "editable": true,
        "tags": [],
        "id": "07a1b1c7-5a02-4909-9a50-c431b64eff95"
      },
      "outputs": [],
      "source": []
    },
    {
      "cell_type": "markdown",
      "id": "f2917c8b-922b-40c7-b21b-a67464cb58c4",
      "metadata": {
        "editable": true,
        "id": "f2917c8b-922b-40c7-b21b-a67464cb58c4",
        "tags": []
      },
      "source": [
        "# Admin Stuff"
      ]
    },
    {
      "cell_type": "markdown",
      "id": "51428ba7-3edc-489f-b895-70c1f57c39c0",
      "metadata": {
        "editable": true,
        "tags": [],
        "id": "51428ba7-3edc-489f-b895-70c1f57c39c0"
      },
      "source": [
        "### Registration:\n",
        "\n",
        "Like CS? Consider adding:\n",
        "- [Computer Science major/minor](https://catalog.drake.edu/undergraduate/collegeofartsandsciences/areas/cs/)\n",
        "- [Artificial Intelligence major/minor](https://www.drake.edu/artificial-intelligence/)\n",
        "- [Data Analytics major/minor](https://www.drake.edu/analytics/majorandminor/)\n",
        "- __Bonus__: here's my [CS Advising Checklist](https://docs.google.com/spreadsheets/d/1hJwifa2sSStyz6gKWryZDlGrIkfJQXqcD0bZNQeAobg/edit?usp=sharing)"
      ]
    },
    {
      "cell_type": "markdown",
      "id": "b957120b-076f-4457-bd50-c31b09e9f4f4",
      "metadata": {
        "editable": true,
        "tags": [],
        "id": "b957120b-076f-4457-bd50-c31b09e9f4f4"
      },
      "source": [
        "These classes are up next:\n",
        "- __CS66__: Intro to Computer Science II\n",
        "    - Monday / Wednesday 9:30 - 10:45, or 11:00 - 12:15\n",
        "- __CS120__: Human-Computer Interaction\n",
        "    - Monday / Wednesday 2:00 - 3:15"
      ]
    },
    {
      "cell_type": "markdown",
      "id": "3372901c-2345-4ff6-855b-40f51d38b8c2",
      "metadata": {
        "editable": true,
        "tags": [],
        "id": "3372901c-2345-4ff6-855b-40f51d38b8c2"
      },
      "source": [
        "### Grading:\n",
        "Midterm grades are posted\n",
        "- 80% labs, 20% exam #1\n",
        "\n"
      ]
    },
    {
      "cell_type": "markdown",
      "id": "1c5fc9b1-366c-4491-ace0-4964c5b90b04",
      "metadata": {
        "editable": true,
        "tags": [],
        "id": "1c5fc9b1-366c-4491-ace0-4964c5b90b04"
      },
      "source": [
        "### Assignments:\n",
        "- [Lab #8](https://analytics.drake.edu/~moore/CS65-F24/Lab8.html) is released today, due Wednesday October 23rd by 11:59pm to codePost"
      ]
    }
  ],
  "metadata": {
    "kernelspec": {
      "display_name": "Python 3 (ipykernel)",
      "language": "python",
      "name": "python3"
    },
    "language_info": {
      "codemirror_mode": {
        "name": "ipython",
        "version": 3
      },
      "file_extension": ".py",
      "mimetype": "text/x-python",
      "name": "python",
      "nbconvert_exporter": "python",
      "pygments_lexer": "ipython3",
      "version": "3.12.4"
    },
    "colab": {
      "provenance": [],
      "include_colab_link": true
    }
  },
  "nbformat": 4,
  "nbformat_minor": 5
}